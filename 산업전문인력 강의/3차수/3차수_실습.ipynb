{
 "cells": [
  {
   "cell_type": "markdown",
   "id": "a273f6a0",
   "metadata": {},
   "source": [
    "# [실습3] 금속분말 생성공정 최적화를 위한 머신러닝 기법 (정답)\n"
   ]
  },
  {
   "cell_type": "markdown",
   "id": "4b8308dd",
   "metadata": {},
   "source": [
    "---"
   ]
  },
  {
   "cell_type": "markdown",
   "id": "3e470631",
   "metadata": {},
   "source": [
    "## 실습 목표\n",
    "---\n",
    "- 회귀 모델에 적용할 수 있도록 데이터셋을 불러오고 활용해봅니다.\n",
    "- 회귀 모델을 구현하여, 학습과 테스트 및 평가해봅니다."
   ]
  },
  {
   "cell_type": "markdown",
   "id": "d2710c62",
   "metadata": {},
   "source": [
    "## 실습 목차\n",
    "---\n",
    "1. **회귀 모델 실습:** 회귀 모델을 사용하여 학습 수행, 평가 및 예측 수행\n",
    "\n",
    "2. **데이터 읽기:** 금속분말 데이터를 불러오고 데이터 이해\n",
    "\n",
    "3. **회귀 모델 수행:** 금속분말 데이터셋을 이용하여 회귀모델 학습"
   ]
  },
  {
   "cell_type": "markdown",
   "id": "958a7b3b",
   "metadata": {},
   "source": [
    "## 실습 개요\n",
    "---\n",
    "\n",
    "이번 실습에서는 금속분말 데이터를 이용하여 회귀 머신러닝 모델을 학습하고, 예측 및 평가해봅니다. "
   ]
  },
  {
   "cell_type": "markdown",
   "id": "ebe58149",
   "metadata": {},
   "source": [
    "## 1. 회귀 모델 실습\n",
    "---\n",
    "다양한 회귀 모델의 실습을 해보겠습니다.\n"
   ]
  },
  {
   "cell_type": "markdown",
   "id": "4d486a84",
   "metadata": {},
   "source": [
    "### 1.1 단변량 단일 선형 회귀"
   ]
  },
  {
   "cell_type": "markdown",
   "id": "d7c5ffd5",
   "metadata": {},
   "source": [
    "### 1.1.1 라이브러리 불러오기"
   ]
  },
  {
   "cell_type": "code",
   "execution_count": null,
   "id": "04a2c843",
   "metadata": {},
   "outputs": [],
   "source": [
    "import numpy as np\n",
    "from matplotlib import pyplot as plt\n",
    "%matplotlib inline\n",
    "import sklearn"
   ]
  },
  {
   "cell_type": "markdown",
   "id": "3c63708b",
   "metadata": {},
   "source": [
    "### 1.1.2 데이터 생성\n",
    "\n",
    "독립변수가 1개이고, 종속변수도 1개인 데이터를 생성해보겠습니다."
   ]
  },
  {
   "cell_type": "code",
   "execution_count": null,
   "id": "e89ceb16",
   "metadata": {},
   "outputs": [],
   "source": [
    "X = np.random.normal(size = (1000))\n",
    "beta_1 = 3\n",
    "beta_0 = 2\n",
    "y = X * beta_1 + beta_0 + np.random.normal(scale = 0.8, size = (1000))"
   ]
  },
  {
   "cell_type": "code",
   "execution_count": null,
   "id": "8cc21fb3",
   "metadata": {},
   "outputs": [],
   "source": [
    "plt.scatter(X, y, s = 3)\n",
    "plt.show()"
   ]
  },
  {
   "cell_type": "markdown",
   "id": "9ed2cf34",
   "metadata": {},
   "source": [
    "### 1.1.3 데이터 분할"
   ]
  },
  {
   "cell_type": "code",
   "execution_count": null,
   "id": "55c40840",
   "metadata": {},
   "outputs": [],
   "source": [
    "train_ratio = 0.8\n",
    "train_X = X[:int(len(X) * train_ratio)].reshape(-1, 1)\n",
    "train_y = y[:int(len(X) * train_ratio)].reshape(-1, 1)\n",
    "test_X = X[int(len(X) * train_ratio):].reshape(-1, 1)\n",
    "test_y = y[int(len(X) * train_ratio):].reshape(-1, 1)"
   ]
  },
  {
   "cell_type": "markdown",
   "id": "25569e20",
   "metadata": {},
   "source": [
    "### 1.1.4 최소 제곱 선형 회귀 모델 학습"
   ]
  },
  {
   "cell_type": "code",
   "execution_count": null,
   "id": "77da8d97",
   "metadata": {},
   "outputs": [],
   "source": [
    "from sklearn.linear_model import LinearRegression"
   ]
  },
  {
   "cell_type": "code",
   "execution_count": null,
   "id": "2088140b",
   "metadata": {},
   "outputs": [],
   "source": [
    "fitter = LinearRegression()\n",
    "fitter"
   ]
  },
  {
   "cell_type": "code",
   "execution_count": null,
   "id": "2a20cb59",
   "metadata": {
    "scrolled": true
   },
   "outputs": [],
   "source": [
    "fitter.fit(train_X, train_y)"
   ]
  },
  {
   "cell_type": "code",
   "execution_count": null,
   "id": "24381f59",
   "metadata": {},
   "outputs": [],
   "source": [
    "pred_beta_1 = fitter.coef_\n",
    "pred_beta_0 = fitter.intercept_\n",
    "print('실제 식: y = %f X + %f'%(beta_1, beta_0))\n",
    "print('예측 식: y = %f X + %f'%(pred_beta_1, pred_beta_0))"
   ]
  },
  {
   "cell_type": "markdown",
   "id": "1d27dbdb",
   "metadata": {},
   "source": [
    "### 1.1.5 최소 제곱 선형 회귀 모델 예측"
   ]
  },
  {
   "cell_type": "code",
   "execution_count": null,
   "id": "28d25ab3",
   "metadata": {},
   "outputs": [],
   "source": [
    "pred = fitter.predict(test_X)"
   ]
  },
  {
   "cell_type": "code",
   "execution_count": null,
   "id": "be31e775",
   "metadata": {},
   "outputs": [],
   "source": [
    "plt.scatter(test_X, pred, s = 3, c = 'red', label = 'Pred')\n",
    "plt.scatter(test_X, test_y, s = 3, c = 'blue', label = 'GT')\n",
    "plt.legend()\n",
    "plt.show()"
   ]
  },
  {
   "cell_type": "markdown",
   "id": "6a84fb99",
   "metadata": {},
   "source": [
    "### 1.1.6 최소 제곱 선형 회귀 모델 평가"
   ]
  },
  {
   "cell_type": "code",
   "execution_count": null,
   "id": "85051464",
   "metadata": {},
   "outputs": [],
   "source": [
    "from sklearn.metrics import mean_absolute_error, mean_squared_error"
   ]
  },
  {
   "cell_type": "code",
   "execution_count": null,
   "id": "1fc39b6b",
   "metadata": {},
   "outputs": [],
   "source": [
    "def RSS(gt, pred):\n",
    "    return ( (gt - pred) ** 2 ).sum()\n",
    "\n",
    "rss = RSS(test_y, pred)\n",
    "print(\"RSS: %f\"%rss)"
   ]
  },
  {
   "cell_type": "code",
   "execution_count": null,
   "id": "242c3cbb",
   "metadata": {},
   "outputs": [],
   "source": [
    "def MSE(gt, pred):\n",
    "    return ( (gt - pred) ** 2 ).sum() / len(pred)\n",
    "\n",
    "mse = MSE(test_y, pred)\n",
    "print(\"MSE: %f\"%mse)\n",
    "print(mean_squared_error(test_y, pred))"
   ]
  },
  {
   "cell_type": "code",
   "execution_count": null,
   "id": "f9675fc6",
   "metadata": {},
   "outputs": [],
   "source": [
    "def MAE(gt, pred):\n",
    "    return ( np.abs(gt - pred) ).sum() / len(pred)\n",
    "\n",
    "mae = MAE(test_y, pred)\n",
    "print(\"MAE: %f\"%mae)\n",
    "print(mean_absolute_error(test_y, pred))"
   ]
  },
  {
   "cell_type": "code",
   "execution_count": null,
   "id": "5e82bed5",
   "metadata": {},
   "outputs": [],
   "source": [
    "r2 = sklearn.metrics.r2_score(test_y, pred)\n",
    "print(\"R2 score: %f\"%r2)"
   ]
  },
  {
   "cell_type": "markdown",
   "id": "9b4d95b9",
   "metadata": {},
   "source": [
    "### 1.2 단변량 다중 선형 회귀"
   ]
  },
  {
   "cell_type": "markdown",
   "id": "3841ada2",
   "metadata": {},
   "source": [
    "### 1.2.1 데이터 생성\n",
    "1.2.1 독립변수가 2개 이상이고, 종속변수가 1개인 데이터를 생성합니다."
   ]
  },
  {
   "cell_type": "code",
   "execution_count": null,
   "id": "4ca6f60c",
   "metadata": {},
   "outputs": [],
   "source": [
    "# loc: 평균, scale: 표준편차, size: 임의의 행렬\n",
    "X1 = np.random.normal(loc = 0, scale = 1, size = (1000, 1))\n",
    "X2 = np.random.normal(loc = 2, scale = 0.5, size = (1000, 1))\n",
    "X3 = np.random.normal(loc = 1, scale = 1, size = (1000, 1))\n",
    "X4 = X1 * 2 + np.random.normal(scale = 0.1, size = (1000, 1))\n",
    "\n",
    "# beta_0: 절편\n",
    "# beta_1 ~ beta_4: 계수\n",
    "beta_0 = 2\n",
    "beta_1 = 1\n",
    "beta_2 = 3\n",
    "beta_3 = 0\n",
    "beta_4 = 1\n",
    "\n",
    "\n",
    "X = np.concatenate([X1, X2, X3, X4], axis = 1)\n",
    "y = beta_0 + beta_1 * X1 + beta_2 * X2 + beta_3 * X3 + beta_4 * X4 + np.random.normal(size = (1000, 1)) * 0.5"
   ]
  },
  {
   "cell_type": "code",
   "execution_count": null,
   "id": "c2351605",
   "metadata": {},
   "outputs": [],
   "source": [
    "X.shape"
   ]
  },
  {
   "cell_type": "code",
   "execution_count": null,
   "id": "d3fbb7f9",
   "metadata": {},
   "outputs": [],
   "source": [
    "y.shape"
   ]
  },
  {
   "cell_type": "markdown",
   "id": "d8bd1a01",
   "metadata": {},
   "source": [
    "### 1.2.2 상관분석"
   ]
  },
  {
   "cell_type": "code",
   "execution_count": null,
   "id": "a5553fbe",
   "metadata": {
    "scrolled": false
   },
   "outputs": [],
   "source": [
    "# fig: figure의 약자 (데이터가 담기는 프레임 사이즈)\n",
    "# ax: 데이터가 그려지는 캔버스\n",
    "fig, ax = plt.subplots(2, 2, figsize = (10, 10))\n",
    "fig.suptitle('Correlations')\n",
    "\n",
    "# 첫번째 그래프\n",
    "ax[0, 0].scatter(X1[:, 0], y[:, 0], s = 3)\n",
    "ax[0, 0].set_title('X1: %.2f'%np.corrcoef(X1[:, 0], y[:, 0])[0, 1])\n",
    "\n",
    "# 두번째 그래프\n",
    "ax[0, 1].scatter(X2[:, 0], y[:, 0], s = 3)\n",
    "ax[0, 1].set_title('X2: %.2f'%np.corrcoef(X2[:, 0], y[:, 0])[0, 1])\n",
    "\n",
    "# 세번째 그래프\n",
    "ax[1, 0].scatter(X3[:, 0], y[:, 0], s = 3)\n",
    "ax[1, 0].set_title('X3: %.2f'%np.corrcoef(X3[:, 0], y[:, 0])[0, 1])\n",
    "\n",
    "# 네번째 그래프\n",
    "ax[1, 1].scatter(X4[:, 0], y[:, 0], s = 3)\n",
    "ax[1, 1].set_title('X4: %.2f'%np.corrcoef(X4[:, 0], y[:, 0])[0, 1])\n",
    "\n",
    "# 전체를 다 보여주게하는 함수\n",
    "plt.show()"
   ]
  },
  {
   "cell_type": "markdown",
   "id": "80767664",
   "metadata": {},
   "source": [
    "X3 은 종속변수와 상관관계가 매우 낮으므로 제거해줍니다."
   ]
  },
  {
   "cell_type": "code",
   "execution_count": null,
   "id": "c9b7c870",
   "metadata": {},
   "outputs": [],
   "source": [
    "X = X[:, [0, 1, 3]]"
   ]
  },
  {
   "cell_type": "code",
   "execution_count": null,
   "id": "87a90a38",
   "metadata": {},
   "outputs": [],
   "source": [
    "fig, ax = plt.subplots(3, 3, figsize = (10, 10))\n",
    "fig.suptitle('Correlations')\n",
    "X_labels = ['X1', 'X2', 'X4']\n",
    "\n",
    "# i: 행\n",
    "for i in range(3):\n",
    "    # t: 열\n",
    "    for t in range(3):\n",
    "        ax[i, t].scatter(X[:, i], X[:, t], s = 3)\n",
    "        ax[i, t].set_title('%s and %s: %.2f'%(X_labels[i], X_labels[t], np.corrcoef(X[:, i], X[:, t])[0, 1]))\n",
    "plt.show()"
   ]
  },
  {
   "cell_type": "markdown",
   "id": "637a463f",
   "metadata": {},
   "source": [
    "X1 과 X4 의 상관관계가 매우 높으므로 X4를 제거해줍니다."
   ]
  },
  {
   "cell_type": "code",
   "execution_count": null,
   "id": "436dbe20",
   "metadata": {},
   "outputs": [],
   "source": [
    "# X1, X2만 가지고 Y를 예측하겠다.\n",
    "X = X[:, [0, 1]]"
   ]
  },
  {
   "cell_type": "markdown",
   "id": "fdb9593f",
   "metadata": {},
   "source": [
    "### 1.2.3 데이터 분할"
   ]
  },
  {
   "cell_type": "code",
   "execution_count": null,
   "id": "c3fbe0e5",
   "metadata": {},
   "outputs": [],
   "source": [
    "X.shape"
   ]
  },
  {
   "cell_type": "code",
   "execution_count": null,
   "id": "4c506ec1",
   "metadata": {},
   "outputs": [],
   "source": [
    "train_ratio = 0.8\n",
    "train_X = X[:int(len(X)*train_ratio)]\n",
    "train_y = y[:int(len(X)*train_ratio)]\n",
    "test_X = X[int(len(X)*train_ratio):]\n",
    "test_y = y[int(len(X)*train_ratio):]\n",
    "print(train_X.shape, train_y.shape)\n",
    "print(test_X.shape, test_y.shape)"
   ]
  },
  {
   "cell_type": "markdown",
   "id": "9bfa478d",
   "metadata": {},
   "source": [
    "### 1.2.4 최소 제곱 선형 회귀 모델 학습"
   ]
  },
  {
   "cell_type": "code",
   "execution_count": null,
   "id": "d0cf371c",
   "metadata": {},
   "outputs": [],
   "source": [
    "fitter = sklearn.linear_model.LinearRegression()\n",
    "fitter"
   ]
  },
  {
   "cell_type": "code",
   "execution_count": null,
   "id": "77abc957",
   "metadata": {},
   "outputs": [],
   "source": [
    "fitter.fit(train_X, train_y)"
   ]
  },
  {
   "cell_type": "code",
   "execution_count": null,
   "id": "e145f2de",
   "metadata": {},
   "outputs": [],
   "source": [
    "pred_beta_1, pred_beta_2 = fitter.coef_[0]\n",
    "pred_beta_0 = fitter.intercept_\n",
    "print('실제 식: y = %f + %f X1 + %f X2 + %f X3 + %f X4'%(beta_0, beta_1, beta_2, beta_3, beta_4))\n",
    "print('예측 식: y = %f + %f X1 + %f X2'%(pred_beta_0, pred_beta_1, pred_beta_2))"
   ]
  },
  {
   "cell_type": "markdown",
   "id": "c6ce43ba",
   "metadata": {},
   "source": [
    "### 1.2.5 최소 제곱 선형 회귀 모델 예측"
   ]
  },
  {
   "cell_type": "code",
   "execution_count": null,
   "id": "3e00d20a",
   "metadata": {},
   "outputs": [],
   "source": [
    "pred = fitter.predict(test_X)"
   ]
  },
  {
   "cell_type": "code",
   "execution_count": null,
   "id": "804f5fcb",
   "metadata": {},
   "outputs": [],
   "source": [
    "plt.scatter(test_X[:, 0], pred.reshape(-1), s = 3, c = 'red', label = 'Pred')\n",
    "plt.scatter(test_X[:, 0], test_y.reshape(-1), s = 3, c = 'blue', label = 'GT')\n",
    "plt.xlabel('X1')\n",
    "plt.ylabel('y')\n",
    "plt.legend()\n",
    "plt.show()"
   ]
  },
  {
   "cell_type": "code",
   "execution_count": null,
   "id": "34310f3a",
   "metadata": {},
   "outputs": [],
   "source": [
    "plt.scatter(test_X[:, 1], pred.reshape(-1), s = 3, c = 'red', label = 'Pred')\n",
    "plt.scatter(test_X[:, 1], test_y.reshape(-1), s = 3, c = 'blue', label = 'GT')\n",
    "plt.xlabel('X2')\n",
    "plt.ylabel('y')\n",
    "plt.legend()\n",
    "plt.show()"
   ]
  },
  {
   "cell_type": "markdown",
   "id": "2912d7f6",
   "metadata": {},
   "source": [
    "### 1.2.6 최소 제곱 선형 회귀 모델 평가"
   ]
  },
  {
   "cell_type": "code",
   "execution_count": null,
   "id": "54ec69b1",
   "metadata": {},
   "outputs": [],
   "source": [
    "# Residual Sum of Squared\n",
    "def RSS(gt, pred):\n",
    "    return ((gt - pred) ** 2).sum()\n",
    "\n",
    "\n",
    "rss = RSS(test_y, pred)\n",
    "print(\"RSS: %f\"%rss)"
   ]
  },
  {
   "cell_type": "code",
   "execution_count": null,
   "id": "6a84e6a9",
   "metadata": {},
   "outputs": [],
   "source": [
    "# Mean Squared Error\n",
    "def MSE(gt, pred):\n",
    "    return ((gt - pred) ** 2).sum() / len(pred)\n",
    "\n",
    "mse = MSE(test_y, pred)\n",
    "print(\"MSE: %f\"%mse)"
   ]
  },
  {
   "cell_type": "code",
   "execution_count": null,
   "id": "0d70d5bc",
   "metadata": {},
   "outputs": [],
   "source": [
    "# Mean Absolute Error\n",
    "def MAE(gt, pred):\n",
    "    return np.abs(gt - pred).sum() / len(pred)\n",
    "\n",
    "mae = MAE(test_y, pred)\n",
    "print(\"MAE: %f\"%mae)"
   ]
  },
  {
   "cell_type": "code",
   "execution_count": null,
   "id": "f39a177f",
   "metadata": {},
   "outputs": [],
   "source": [
    "r2 = sklearn.metrics.r2_score(test_y, pred)\n",
    "print(\"R2 socre: %f\"%r2)"
   ]
  },
  {
   "cell_type": "markdown",
   "id": "73387223",
   "metadata": {},
   "source": [
    "### 1.3 다변량 다중 선형 회귀"
   ]
  },
  {
   "cell_type": "markdown",
   "id": "661c108f",
   "metadata": {},
   "source": [
    "### 1.3.1 데이터 생성\n",
    "독립변수와 종속변수가 모두 2개 이상인 데이터를 생성해보겠습니다."
   ]
  },
  {
   "cell_type": "code",
   "execution_count": null,
   "id": "3a46671e",
   "metadata": {},
   "outputs": [],
   "source": [
    "# 1000행 3열 무작위 행렬을 정규분포에서 추출\n",
    "X = np.random.normal(size = (1000, 3)) # 3개 독립변수, 1000개의 데이터\n",
    "\n",
    "# y1 = X1 + X2 + 난수\n",
    "y1 = X[:, 0] + X[:, 1] + np.random.normal(size = (1000)) * 0.3\n",
    "\n",
    "# y2 = X1 * 2 + X2 + X3 + 난수\n",
    "y2 = X[:, 0] * 2 + X[:, 1] + X[:, 2] * 0.1 + np.random.normal(size = (1000)) * 0.3\n",
    "\n",
    "\n",
    "y = np.concatenate([y1.reshape(-1, 1), y2.reshape(-1, 1)], axis = 1) # 2개의 종속 변수"
   ]
  },
  {
   "cell_type": "code",
   "execution_count": null,
   "id": "7b388327",
   "metadata": {},
   "outputs": [],
   "source": [
    "print(X.shape)\n",
    "print(y.shape)"
   ]
  },
  {
   "cell_type": "markdown",
   "id": "e918636c",
   "metadata": {},
   "source": [
    "### 1.3.2 데이터 시각화"
   ]
  },
  {
   "cell_type": "code",
   "execution_count": null,
   "id": "54573457",
   "metadata": {},
   "outputs": [],
   "source": [
    "fig, ax = plt.subplots(2, 3, figsize = (15, 10))\n",
    "fig.suptitle('X and Y')\n",
    "\n",
    "# 행 기준\n",
    "for i in range(2):\n",
    "    # 열 기준\n",
    "    for t in range(3):\n",
    "        ax[i, t].scatter(X[:, t], y[:, i], s = 3)\n",
    "        ax[i, t].set_title('X%d, y%s'%(t+1, i+1))\n",
    "plt.show()"
   ]
  },
  {
   "cell_type": "markdown",
   "id": "3f6cab58",
   "metadata": {},
   "source": [
    "### 1.3.3 데이터 분할"
   ]
  },
  {
   "cell_type": "code",
   "execution_count": null,
   "id": "8b565fc4",
   "metadata": {},
   "outputs": [],
   "source": [
    "train_ratio = 0.8\n",
    "\n",
    "train_X = X[:int((len(X) * train_ratio))]\n",
    "train_y = y[:int((len(X) * train_ratio))]\n",
    "test_X = X[int((len(X) * train_ratio)):]\n",
    "test_y = y[int((len(X) * train_ratio)):]"
   ]
  },
  {
   "cell_type": "code",
   "execution_count": null,
   "id": "e0a96e53",
   "metadata": {},
   "outputs": [],
   "source": [
    "print(train_X.shape, train_y.shape)\n",
    "print(test_X.shape, test_y.shape)"
   ]
  },
  {
   "cell_type": "markdown",
   "id": "885b7161",
   "metadata": {},
   "source": [
    "### 1.3.4 최소 제곱 선형 회귀 모델 학습"
   ]
  },
  {
   "cell_type": "code",
   "execution_count": null,
   "id": "0d19bf4a",
   "metadata": {},
   "outputs": [],
   "source": [
    "fitter = LinearRegression()\n",
    "fitter"
   ]
  },
  {
   "cell_type": "code",
   "execution_count": null,
   "id": "dac41619",
   "metadata": {},
   "outputs": [],
   "source": [
    "fitter.fit(train_X, train_y)"
   ]
  },
  {
   "cell_type": "markdown",
   "id": "554c05ae",
   "metadata": {},
   "source": [
    "### 1.3.5 최소 제곱 선형 회귀 모델 예측"
   ]
  },
  {
   "cell_type": "code",
   "execution_count": null,
   "id": "a81a2ed9",
   "metadata": {},
   "outputs": [],
   "source": [
    "pred = fitter.predict(test_X)"
   ]
  },
  {
   "cell_type": "code",
   "execution_count": null,
   "id": "cfeaba8e",
   "metadata": {},
   "outputs": [],
   "source": [
    "fig, ax = plt.subplots(2, 3, figsize = (15, 10))\n",
    "fig.suptitle('X and Y')\n",
    "\n",
    "for i in range(2):\n",
    "    for t in range(3):\n",
    "        ax[i, t].scatter(test_X[:, t], test_y[:, i], s = 3, c = 'red', label = 'GT')\n",
    "        ax[i, t].scatter(test_X[:, t], pred[:, i], s = 3, c = 'blue', label = 'GT')\n",
    "        ax[i, t].set_title('X%d, y%s'%(t+1, i+1))\n",
    "        ax[i, t].legend()\n",
    "plt.show()"
   ]
  },
  {
   "cell_type": "markdown",
   "id": "254da57a",
   "metadata": {},
   "source": [
    "### 1.3.6 최소 제곱 선형 회귀 모델 평가"
   ]
  },
  {
   "cell_type": "code",
   "execution_count": null,
   "id": "6be44b19",
   "metadata": {},
   "outputs": [],
   "source": [
    "def RSS(gt, pred):\n",
    "    return ((gt - pred) ** 2).sum()\n",
    "\n",
    "rss = RSS(test_y, pred)\n",
    "print(\"RSS: %f\"%rss)"
   ]
  },
  {
   "cell_type": "code",
   "execution_count": null,
   "id": "086eceac",
   "metadata": {},
   "outputs": [],
   "source": [
    "def MSE(gt, pred):\n",
    "    return np.mean(np.mean((gt-pred)**2, axis=0))\n",
    "\n",
    "mse = MSE(test_y, pred)\n",
    "print(\"MSE: %f\"%mse)\n",
    "print(mean_squared_error(test_y, pred))"
   ]
  },
  {
   "cell_type": "code",
   "execution_count": null,
   "id": "95dd0272",
   "metadata": {},
   "outputs": [],
   "source": [
    "def MAE(gt, pred):\n",
    "    return np.mean(np.mean(np.abs(gt-pred), axis=0))\n",
    "\n",
    "mae = MAE(test_y, pred)\n",
    "print(\"MAE: %f\"%mae)\n",
    "print(mean_absolute_error(test_y, pred))"
   ]
  },
  {
   "cell_type": "code",
   "execution_count": null,
   "id": "9b2fa529",
   "metadata": {},
   "outputs": [],
   "source": [
    "def R2_Score(gt, pred):\n",
    "    rss = np.sum( (gt - pred) ** 2, axis=0 )\n",
    "    tss = np.sum((gt - np.mean(gt, axis=0)) ** 2, axis=0)\n",
    "\n",
    "    return np.mean(1-(rss/tss))\n",
    "\n",
    "r2 = sklearn.metrics.r2_score(test_y, pred)\n",
    "print(\"R2 score: %f\"%r2)\n",
    "print(R2_Score(test_y, pred))"
   ]
  },
  {
   "cell_type": "markdown",
   "id": "ff58eb4a",
   "metadata": {},
   "source": [
    "### 1.4 피쳐 선택의 중요성"
   ]
  },
  {
   "cell_type": "markdown",
   "id": "491acc8e",
   "metadata": {},
   "source": [
    "### 1.4.1 데이터 생성"
   ]
  },
  {
   "cell_type": "code",
   "execution_count": null,
   "id": "ab6b9244",
   "metadata": {},
   "outputs": [],
   "source": [
    "np.random.seed(0) # 랜덤 시드 고정"
   ]
  },
  {
   "cell_type": "code",
   "execution_count": null,
   "id": "6b80db65",
   "metadata": {},
   "outputs": [],
   "source": [
    "X = np.random.normal(loc = 0, scale = 1, size = (1000, 100)) # 100 개 변수\n",
    "y = 1 + 2 * X[:, 0:1] + 3 * X[:, 1:2] + np.random.normal(size = (1000, 1)) # 그 중 2개 변수만 y에 영향을 미침\n",
    "\n",
    "X_pp = X[:, :2] # 상관 분석을 통해 2개 변수만 피쳐로 사용"
   ]
  },
  {
   "cell_type": "markdown",
   "id": "ee9ab6df",
   "metadata": {},
   "source": [
    "### 1.4.2 데이터 시각화"
   ]
  },
  {
   "cell_type": "code",
   "execution_count": null,
   "id": "3616a58f",
   "metadata": {},
   "outputs": [],
   "source": [
    "fig, ax = plt.subplots(1, 6, figsize = (18, 3))\n",
    "fig.suptitle('Correlations')\n",
    "\n",
    "ax[0].scatter(X[:, 0], y[:, 0], s = 3)\n",
    "ax[0].set_title('X1: %.2f'%np.corrcoef(X[:, 0], y[:, 0])[0, 1])\n",
    "\n",
    "ax[1].scatter(X[:, 1], y[:, 0], s = 3)\n",
    "ax[1].set_title('X2: %.2f'%np.corrcoef(X[:, 1], y[:, 0])[0, 1])\n",
    "\n",
    "ax[2].scatter(X[:, 2], y[:, 0], s = 3)\n",
    "ax[2].set_title('X3: %.2f'%np.corrcoef(X[:, 2], y[:, 0])[0, 1])\n",
    "\n",
    "ax[3].scatter(X[:, 3], y[:, 0], s = 3)\n",
    "ax[3].set_title('X4: %.2f'%np.corrcoef(X[:, 3], y[:, 0])[0, 1])\n",
    "\n",
    "ax[4].scatter(X[:, 4], y[:, 0], s = 3)\n",
    "ax[4].set_title('X5: %.2f'%np.corrcoef(X[:, 4], y[:, 0])[0, 1])\n",
    "\n",
    "ax[5].scatter(X[:, 5], y[:, 0], s = 3)\n",
    "ax[5].set_title('X6: %.2f'%np.corrcoef(X[:, 5], y[:, 0])[0, 1])\n",
    "plt.show()"
   ]
  },
  {
   "cell_type": "markdown",
   "id": "20253103",
   "metadata": {},
   "source": [
    "### 1.4.3 데이터 분할"
   ]
  },
  {
   "cell_type": "code",
   "execution_count": null,
   "id": "9f4c3fb7",
   "metadata": {},
   "outputs": [],
   "source": [
    "train_ratio = 0.8\n",
    "train_X_pp = X_pp[:int(len(X) * train_ratio)]\n",
    "train_X = X[:int(len(X) * train_ratio)]\n",
    "train_y = y[:int(len(X) * train_ratio)]\n",
    "test_X_pp = X_pp[int(len(X) * train_ratio):]\n",
    "test_X = X[int(len(X) * train_ratio):]\n",
    "test_y = y[int(len(X) * train_ratio):]"
   ]
  },
  {
   "cell_type": "markdown",
   "id": "278755a4",
   "metadata": {},
   "source": [
    "### 1.4.4 선형회귀 모델 적용"
   ]
  },
  {
   "cell_type": "code",
   "execution_count": null,
   "id": "99556cd8",
   "metadata": {},
   "outputs": [],
   "source": [
    "# 모든 X 변수를 사용해서 모델을 훈련시켰을 때 결과\n",
    "fitter = sklearn.linear_model.LinearRegression()\n",
    "fitter.fit(train_X, train_y)\n",
    "pred = fitter.predict(test_X)\n",
    "r2 = sklearn.metrics.r2_score(test_y, pred)\n",
    "print(\"R2 score: %f\"%r2)"
   ]
  },
  {
   "cell_type": "code",
   "execution_count": null,
   "id": "c64429a3",
   "metadata": {
    "scrolled": true
   },
   "outputs": [],
   "source": [
    "fitter.coef_"
   ]
  },
  {
   "cell_type": "code",
   "execution_count": null,
   "id": "dbcfe4c1",
   "metadata": {},
   "outputs": [],
   "source": [
    "# 상관관계가 높았던 X1, X2만 가지고 훈련시켰을 떄 결과. 즉, 피쳐 선택한 후 모델을 돌렸을 때의 결과\n",
    "fitter = sklearn.linear_model.LinearRegression()\n",
    "fitter.fit(train_X_pp, train_y)\n",
    "pred = fitter.predict(test_X_pp)\n",
    "r2 = sklearn.metrics.r2_score(test_y, pred)\n",
    "print(\"R2 score: %f\"%r2)"
   ]
  },
  {
   "cell_type": "code",
   "execution_count": null,
   "id": "0468ee68",
   "metadata": {},
   "outputs": [],
   "source": [
    "fitter.coef_"
   ]
  },
  {
   "cell_type": "markdown",
   "id": "51e64664",
   "metadata": {},
   "source": [
    "적절한 피쳐를 선택하여 모델을 학습하였을 때, 모델의 계수도 더 적으면서 (효율적) 더 좋은 설명력을 가지는 것을 확인할 수 있습니다."
   ]
  },
  {
   "cell_type": "markdown",
   "id": "bd105f61",
   "metadata": {},
   "source": [
    "### 1.5 피쳐 선택 자동화"
   ]
  },
  {
   "cell_type": "markdown",
   "id": "802be17c",
   "metadata": {},
   "source": [
    "### 1.5.1 라이브러리 불러오기"
   ]
  },
  {
   "cell_type": "code",
   "execution_count": null,
   "id": "00685907",
   "metadata": {},
   "outputs": [],
   "source": [
    "from sklearn.feature_selection import SelectFromModel"
   ]
  },
  {
   "cell_type": "markdown",
   "id": "fd991dc0",
   "metadata": {},
   "source": [
    "### 1.5.2 피쳐 선택"
   ]
  },
  {
   "cell_type": "code",
   "execution_count": null,
   "id": "0397e315",
   "metadata": {},
   "outputs": [],
   "source": [
    "fitter = sklearn.linear_model.LinearRegression()"
   ]
  },
  {
   "cell_type": "code",
   "execution_count": null,
   "id": "1edaa58d",
   "metadata": {},
   "outputs": [],
   "source": [
    "X_new = train_X\n",
    "# 보통은 이렇게 피쳐선택을 하지 않는다.\n",
    "# threshold를 부여해서 특성을 줄인다.\n",
    "for i in range(2):\n",
    "    fitter.fit(X_new, train_y)\n",
    "    model = SelectFromModel(fitter, prefit=True)\n",
    "    X_new = model.transform(X_new)"
   ]
  },
  {
   "cell_type": "markdown",
   "id": "227bb066",
   "metadata": {},
   "source": [
    "### 1.5.3 결과 확인"
   ]
  },
  {
   "cell_type": "code",
   "execution_count": null,
   "id": "406ce5da",
   "metadata": {},
   "outputs": [],
   "source": [
    "X_new.shape"
   ]
  },
  {
   "cell_type": "code",
   "execution_count": null,
   "id": "d041f16c",
   "metadata": {},
   "outputs": [],
   "source": [
    "(X_new == train_X_pp).all()"
   ]
  },
  {
   "cell_type": "markdown",
   "id": "456866f9",
   "metadata": {},
   "source": [
    "## 2. 데이터 읽기\n",
    "---\n",
    "금속분말 데이터를 불러오고 정제한 후 전처리합니다.\n"
   ]
  },
  {
   "cell_type": "markdown",
   "id": "ccf44a5f",
   "metadata": {},
   "source": [
    "### 2.1 라이브러리 불러오기"
   ]
  },
  {
   "cell_type": "code",
   "execution_count": null,
   "id": "55e05843",
   "metadata": {},
   "outputs": [],
   "source": [
    "import numpy as np\n",
    "import json"
   ]
  },
  {
   "cell_type": "markdown",
   "id": "31e71e57",
   "metadata": {},
   "source": [
    "### 2.2 학습용, 검증용, 테스트용 데이터 읽어오기"
   ]
  },
  {
   "cell_type": "code",
   "execution_count": null,
   "id": "4e5e0617",
   "metadata": {},
   "outputs": [],
   "source": [
    "stage1 = {\n",
    "    'train_X': np.load('./Data/train_data_stage1_X.npy'),\n",
    "    'train_y': np.load('./Data/train_data_stage1_y.npy'),\n",
    "    'valid_X': np.load('./Data/valid_data_stage1_X.npy'),\n",
    "    'valid_y': np.load('./Data/valid_data_stage1_y.npy'),\n",
    "    'test_X': np.load('./Data/test_data_stage1_X.npy'),\n",
    "    'test_y': np.load('./Data/test_data_stage1_y.npy'),\n",
    "}\n",
    "\n",
    "stage2 = {\n",
    "    'train_X': np.load('./Data/train_data_stage2_X.npy'),\n",
    "    'train_y': np.load('./Data/train_data_stage2_y.npy'),\n",
    "    'valid_X': np.load('./Data/valid_data_stage2_X.npy'),\n",
    "    'valid_y': np.load('./Data/valid_data_stage2_y.npy'),\n",
    "    'test_X': np.load('./Data/test_data_stage2_X.npy'),\n",
    "    'test_y': np.load('./Data/test_data_stage2_y.npy'),\n",
    "}\n",
    "\n",
    "columns = json.load(open('./Data/valid_columns.json', 'r'))"
   ]
  },
  {
   "cell_type": "code",
   "execution_count": null,
   "id": "1e1ef443",
   "metadata": {},
   "outputs": [],
   "source": [
    "columns['stage2_output']"
   ]
  },
  {
   "cell_type": "code",
   "execution_count": null,
   "id": "bcb8a922",
   "metadata": {},
   "outputs": [],
   "source": [
    "columns['stage2_output'] = [i.replace('Stage1','Stage2') for i in columns['stage2_output']]\n",
    "columns['stage2_output']"
   ]
  },
  {
   "cell_type": "markdown",
   "id": "84bc4fc4",
   "metadata": {},
   "source": [
    "### 2.3 stage1 데이터 시각화하기"
   ]
  },
  {
   "cell_type": "code",
   "execution_count": null,
   "id": "d636069f",
   "metadata": {},
   "outputs": [],
   "source": [
    "print('학습데이터 입력값 차원:', stage1['train_X'].shape)\n",
    "print('학습데이터 출력값 차원:', stage1['train_y'].shape)"
   ]
  },
  {
   "cell_type": "markdown",
   "id": "d2bdb133",
   "metadata": {},
   "source": [
    "입력 변수 5개와 출력 변수 5개를 시각화해보겠습니다."
   ]
  },
  {
   "cell_type": "code",
   "execution_count": null,
   "id": "d5f38557",
   "metadata": {
    "scrolled": true
   },
   "outputs": [],
   "source": [
    "fig, ax = plt.subplots(5, 5, figsize = (20, 20))\n",
    "fig.suptitle('Stage1', y= 0.9, size = 20)\n",
    "\n",
    "# 5x5로 시각화를 해주는 것을 의미\n",
    "# ::10 -> x축을 10개 단위로 건너뛰면서 보여준다. (e.g., 10, 20, 30, 40)\n",
    "\n",
    "# 행\n",
    "for i in range(5):\n",
    "    # 열\n",
    "    for t in range(5):\n",
    "        # 첫번째 열에 해당하는 그래프에만 y축 이름을 부여하겠다.\n",
    "        if t == 0:\n",
    "            ax[i, t].set(ylabel = columns['stage1_input'][i])\n",
    "        \n",
    "        # 마지막 행에 해당하는 그래프에만 x축 이름을 부여하겠다.\n",
    "        if i == len(ax[0]) - 1:\n",
    "            ax[i, t].set(xlabel = columns['stage1_output'][t])\n",
    "        ax[i, t].scatter(stage1['train_y'][::10, i], stage1['train_X'][::10, t], s = 10)\n",
    "plt.show()"
   ]
  },
  {
   "cell_type": "markdown",
   "id": "2d370335",
   "metadata": {},
   "source": [
    "### 2.4 stage1 데이터 표준화하기"
   ]
  },
  {
   "cell_type": "markdown",
   "id": "f064e9f6",
   "metadata": {},
   "source": [
    "학습용 데이터의 평균과 표준편차를 이용하여 데이터를 표준화해줍니다. "
   ]
  },
  {
   "cell_type": "code",
   "execution_count": null,
   "id": "94685f66",
   "metadata": {},
   "outputs": [],
   "source": [
    "stage1_X_mean = stage1['train_X'].mean(axis = 0)\n",
    "stage1_y_mean = stage1['train_y'].mean(axis = 0)\n",
    "print('입력값 평균:', stage1_X_mean)\n",
    "print('출력값 평균:', stage1_y_mean)"
   ]
  },
  {
   "cell_type": "code",
   "execution_count": null,
   "id": "9e491416",
   "metadata": {},
   "outputs": [],
   "source": [
    "stage1_X_std = stage1['train_X'].std(axis = 0)\n",
    "stage1_y_std = stage1['train_y'].std(axis = 0)\n",
    "print('입력값 표준편차:', stage1_X_std)\n",
    "print('출력값 표준편차:', stage1_y_std)"
   ]
  },
  {
   "cell_type": "code",
   "execution_count": null,
   "id": "7702e849",
   "metadata": {},
   "outputs": [],
   "source": [
    "# 학습 데이터 표준화\n",
    "stage1['train_X'] = (stage1['train_X'] - stage1_X_mean) / stage1_X_std\n",
    "stage1['train_y'] = (stage1['train_y'] - stage1_y_mean) / stage1_y_std"
   ]
  },
  {
   "cell_type": "code",
   "execution_count": null,
   "id": "7503dbb0",
   "metadata": {},
   "outputs": [],
   "source": [
    "# 여기서부터 문제가 발생할 수 있음"
   ]
  },
  {
   "cell_type": "code",
   "execution_count": null,
   "id": "763dbd0f",
   "metadata": {},
   "outputs": [],
   "source": [
    "# 검증용 데이터 표준화\n",
    "stage1['valid_X'] = (stage1['valid_X'] - stage1_X_mean) / stage1_X_std\n",
    "stage1['valid_y'] = (stage1['valid_y'] - stage1_y_mean) / stage1_y_std"
   ]
  },
  {
   "cell_type": "code",
   "execution_count": null,
   "id": "38b343cd",
   "metadata": {},
   "outputs": [],
   "source": [
    "# 테스트 데이터 표준화\n",
    "stage1['test_X'] = (stage1['test_X'] - stage1_X_mean) / stage1_X_std\n",
    "stage1['test_y'] = (stage1['test_y'] - stage1_y_mean) / stage1_y_std"
   ]
  },
  {
   "cell_type": "code",
   "execution_count": null,
   "id": "2cc59b4f",
   "metadata": {},
   "outputs": [],
   "source": [
    "stage1_X_mean = stage1['train_X'].mean(axis = 0)\n",
    "stage1_y_mean = stage1['train_y'].mean(axis = 0)\n",
    "print('입력값 평균:', stage1_X_mean)\n",
    "print('출력값 평균:', stage1_y_mean)\n",
    "stage1_X_std = stage1['train_X'].std(axis = 0)\n",
    "stage1_y_std = stage1['train_y'].std(axis = 0)\n",
    "print('입력값 표준편차:', stage1_X_std)\n",
    "print('출력값 표준편차:', stage1_y_std)"
   ]
  },
  {
   "cell_type": "code",
   "execution_count": null,
   "id": "48747c55",
   "metadata": {
    "scrolled": true
   },
   "outputs": [],
   "source": [
    "stage1_X_mean = stage1['valid_X'].mean(axis = 0)\n",
    "stage1_y_mean = stage1['valid_y'].mean(axis = 0)\n",
    "print('입력값 평균:', stage1_X_mean)\n",
    "print('출력값 평균:', stage1_y_mean)\n",
    "stage1_X_std = stage1['valid_X'].std(axis = 0)\n",
    "stage1_y_std = stage1['valid_y'].std(axis = 0)\n",
    "print('입력값 표준편차:', stage1_X_std)\n",
    "print('출력값 표준편차:', stage1_y_std)"
   ]
  },
  {
   "cell_type": "markdown",
   "id": "2f19383b",
   "metadata": {},
   "source": [
    "### 2.4 stage2 데이터 시각화하기"
   ]
  },
  {
   "cell_type": "code",
   "execution_count": null,
   "id": "12dc6be0",
   "metadata": {},
   "outputs": [],
   "source": [
    "print('학습데이터 입력값 차원:', stage2['train_X'].shape)\n",
    "print('학습데이터 출력값 차원:', stage2['train_y'].shape)"
   ]
  },
  {
   "cell_type": "markdown",
   "id": "65c3bc80",
   "metadata": {},
   "source": [
    "마찬가지로, 입력변수 5개, 출력변수 5개에 대하여 시각화해봅니다."
   ]
  },
  {
   "cell_type": "code",
   "execution_count": null,
   "id": "c39423bc",
   "metadata": {
    "scrolled": true
   },
   "outputs": [],
   "source": [
    "fig, ax = plt.subplots(5, 5, figsize = (20, 20))\n",
    "fig.suptitle('Stage2', y= 0.9, size = 20)\n",
    "\n",
    "for i in range(5):\n",
    "    for t in range(5):\n",
    "        if t == 0:\n",
    "            ax[i, t].set(ylabel = columns['stage2_input'][i])\n",
    "        if i == len(ax[0]) - 1:\n",
    "            ax[i, t].set(xlabel = columns['stage2_output'][t])\n",
    "        ax[i, t].scatter(stage2['train_y'][::10, i], stage2['train_X'][::10, t], s = 10)\n",
    "plt.show()"
   ]
  },
  {
   "cell_type": "markdown",
   "id": "8fc41126",
   "metadata": {},
   "source": [
    "### 2.5 stage2 데이터 표준화하기"
   ]
  },
  {
   "cell_type": "code",
   "execution_count": null,
   "id": "6b4539b3",
   "metadata": {},
   "outputs": [],
   "source": [
    "stage2_X_mean = stage2['train_X'].mean(axis = 0)\n",
    "stage2_y_mean = stage2['train_y'].mean(axis = 0)\n",
    "print('입력값 평균:', stage2_X_mean)\n",
    "print('출력값 평균:', stage2_y_mean)"
   ]
  },
  {
   "cell_type": "code",
   "execution_count": null,
   "id": "a835c6f2",
   "metadata": {},
   "outputs": [],
   "source": [
    "stage2_X_std = stage2['train_X'].std(axis = 0)\n",
    "stage2_y_std = stage2['train_y'].std(axis = 0)\n",
    "print('입력값 표준편차:', stage2_X_std)\n",
    "print('출력값 표준편차:', stage2_y_std)"
   ]
  },
  {
   "cell_type": "code",
   "execution_count": null,
   "id": "c06a227e",
   "metadata": {},
   "outputs": [],
   "source": [
    "# 학습 데이터 표준화\n",
    "stage2['train_X'] = (stage2['train_X'] - stage2_X_mean) / stage2_X_std\n",
    "stage2['train_y'] = (stage2['train_y'] - stage2_y_mean) / stage2_y_std\n",
    "\n",
    "# 검증용 데이터 표준화\n",
    "stage2['valid_X'] = (stage2['valid_X'] - stage2_X_mean) / stage2_X_std\n",
    "stage2['valid_y'] = (stage2['valid_y'] - stage2_y_mean) / stage2_y_std\n",
    "\n",
    "# 테스트 데이터 표준화\n",
    "stage2['test_X'] = (stage2['test_X'] - stage2_X_mean) / stage2_X_std\n",
    "stage2['test_y'] = (stage2['test_y'] - stage2_y_mean) / stage2_y_std"
   ]
  },
  {
   "cell_type": "markdown",
   "id": "87fbed1f",
   "metadata": {},
   "source": [
    "## 3. 선형 회귀 모델 수행\n",
    "---\n",
    "읽어온 금속분말 데이터셋을 이용하여 선형 회귀 모델에 적용해보겠습니다."
   ]
  },
  {
   "cell_type": "markdown",
   "id": "917a4dc6",
   "metadata": {},
   "source": [
    "### 3.1 Stage 1"
   ]
  },
  {
   "cell_type": "markdown",
   "id": "7304410b",
   "metadata": {},
   "source": [
    "### 3.1.1 선형 회귀 모델 학습, 예측, 평가"
   ]
  },
  {
   "cell_type": "code",
   "execution_count": null,
   "id": "6ed7ce93",
   "metadata": {},
   "outputs": [],
   "source": [
    "fitter = sklearn.linear_model.LinearRegression()"
   ]
  },
  {
   "cell_type": "code",
   "execution_count": null,
   "id": "c8f14a55",
   "metadata": {},
   "outputs": [],
   "source": [
    "fitter.fit(stage1['train_X'], stage1['train_y'])"
   ]
  },
  {
   "cell_type": "code",
   "execution_count": null,
   "id": "4b5fae73",
   "metadata": {},
   "outputs": [],
   "source": [
    "pred_train = fitter.predict(stage1['train_X'])"
   ]
  },
  {
   "cell_type": "code",
   "execution_count": null,
   "id": "55a2f95a",
   "metadata": {},
   "outputs": [],
   "source": [
    "r2 = sklearn.metrics.r2_score(stage1['train_y'], pred_train)\n",
    "print(\"R2 score (학습 데이터): %f\"%r2)"
   ]
  },
  {
   "cell_type": "code",
   "execution_count": null,
   "id": "40d1a128",
   "metadata": {},
   "outputs": [],
   "source": [
    "pred = fitter.predict(stage1['test_X'])"
   ]
  },
  {
   "cell_type": "code",
   "execution_count": null,
   "id": "688a0768",
   "metadata": {},
   "outputs": [],
   "source": [
    "r2 = sklearn.metrics.r2_score(stage1['test_y'], pred)\n",
    "print(\"R2 score (테스트 데이터): %f\"%r2)"
   ]
  },
  {
   "cell_type": "markdown",
   "id": "6c5f7323",
   "metadata": {},
   "source": [
    "### 3.1.2 피쳐 선택"
   ]
  },
  {
   "cell_type": "code",
   "execution_count": null,
   "id": "93af432f",
   "metadata": {},
   "outputs": [],
   "source": [
    "model = SelectFromModel(fitter, prefit=True, threshold = 1e-1)\n",
    "X_new = model.transform(stage1['train_X'])"
   ]
  },
  {
   "cell_type": "code",
   "execution_count": null,
   "id": "ef5c5d4d",
   "metadata": {
    "scrolled": true
   },
   "outputs": [],
   "source": [
    "print('피쳐 선택 전의 변수 수:', stage1['train_X'].shape[1])\n",
    "print('피쳐 선택 전의 변수 수:', X_new.shape[1])"
   ]
  },
  {
   "cell_type": "code",
   "execution_count": null,
   "id": "5b60f5f4",
   "metadata": {},
   "outputs": [],
   "source": [
    "fitter = sklearn.linear_model.LinearRegression()\n",
    "fitter.fit(X_new, stage1['train_y'])"
   ]
  },
  {
   "cell_type": "code",
   "execution_count": null,
   "id": "11200b53",
   "metadata": {},
   "outputs": [],
   "source": [
    "pred_train = fitter.predict(X_new)"
   ]
  },
  {
   "cell_type": "code",
   "execution_count": null,
   "id": "277f3bc6",
   "metadata": {},
   "outputs": [],
   "source": [
    "r2 = sklearn.metrics.r2_score(stage1['train_y'], pred_train)\n",
    "print(\"R2 score (학습 데이터): %f\"%r2)"
   ]
  },
  {
   "cell_type": "code",
   "execution_count": null,
   "id": "f7aec509",
   "metadata": {},
   "outputs": [],
   "source": [
    "pred = fitter.predict(model.transform(stage1['test_X']))"
   ]
  },
  {
   "cell_type": "code",
   "execution_count": null,
   "id": "7d9004f3",
   "metadata": {},
   "outputs": [],
   "source": [
    "r2 = sklearn.metrics.r2_score(stage1['test_y'], pred)\n",
    "print(\"R2 score (테스트 데이터): %f\"%r2)"
   ]
  },
  {
   "cell_type": "code",
   "execution_count": null,
   "id": "be207ac9",
   "metadata": {},
   "outputs": [],
   "source": [
    "stage1['test_y']"
   ]
  },
  {
   "cell_type": "markdown",
   "id": "72951d20",
   "metadata": {},
   "source": [
    "변수를 2개 제거해주니 R2 지표가 살짝 떨어졌습니다. 메모리 효율성이 중요하다면, 정확도가 조금 떨어지더라도, 변수를 제거해주는 것이 좋겠지만, 지금은 모든 변수를 활용해보도록 하겠습니다."
   ]
  },
  {
   "cell_type": "markdown",
   "id": "e1666b7d",
   "metadata": {},
   "source": [
    "### 3.1.3 다양한 선형회귀 모델 비교"
   ]
  },
  {
   "cell_type": "markdown",
   "id": "92a93ad2",
   "metadata": {},
   "source": [
    "최소 제곱 선형 회귀 모델과 Ridge, Lasso 모델의 성능을 비교해보겠습니다."
   ]
  },
  {
   "cell_type": "code",
   "execution_count": null,
   "id": "7d902d12",
   "metadata": {},
   "outputs": [],
   "source": [
    "from sklearn.linear_model import Ridge, Lasso"
   ]
  },
  {
   "cell_type": "code",
   "execution_count": null,
   "id": "8b491336",
   "metadata": {},
   "outputs": [],
   "source": [
    "leastSquare = LinearRegression()\n",
    "ridge = Ridge()\n",
    "lasso = Lasso()"
   ]
  },
  {
   "cell_type": "code",
   "execution_count": null,
   "id": "d8033ffa",
   "metadata": {},
   "outputs": [],
   "source": [
    "leastSquare.fit(stage1['train_X'], stage1['train_y'])\n",
    "ridge.fit(stage1['train_X'], stage1['train_y'])\n",
    "lasso.fit(stage1['train_X'], stage1['train_y'])"
   ]
  },
  {
   "cell_type": "code",
   "execution_count": null,
   "id": "4c2eda83",
   "metadata": {},
   "outputs": [],
   "source": [
    "pred_leastSquare = leastSquare.predict(stage1['test_X'])\n",
    "pred_ridge = ridge.predict(stage1['test_X'])\n",
    "pred_lasso = lasso.predict(stage1['test_X'])"
   ]
  },
  {
   "cell_type": "code",
   "execution_count": null,
   "id": "3c05f7b8",
   "metadata": {},
   "outputs": [],
   "source": [
    "r2_leastSquare = sklearn.metrics.r2_score(stage1['test_y'], pred_leastSquare)\n",
    "r2_ridge = sklearn.metrics.r2_score(stage1['test_y'], pred_ridge)\n",
    "r2_lasso = sklearn.metrics.r2_score(stage1['test_y'], pred_lasso)\n",
    "print(\"R2 score (최소제곱선형회귀): %f\"%r2_leastSquare)\n",
    "print(\"R2 score (Ridge): %f\"%r2_ridge)\n",
    "print(\"R2 score (Lasso): %f\"%r2_lasso)"
   ]
  },
  {
   "cell_type": "markdown",
   "id": "3d8a3916",
   "metadata": {},
   "source": [
    "### 3.2 Stage2"
   ]
  },
  {
   "cell_type": "markdown",
   "id": "43eac17a",
   "metadata": {},
   "source": [
    "### 3.2.1 선형 회귀 모델 학습, 예측, 평가"
   ]
  },
  {
   "cell_type": "code",
   "execution_count": null,
   "id": "1f932aae",
   "metadata": {},
   "outputs": [],
   "source": [
    "fitter = sklearn.linear_model.LinearRegression()"
   ]
  },
  {
   "cell_type": "code",
   "execution_count": null,
   "id": "5558d3ac",
   "metadata": {},
   "outputs": [],
   "source": [
    "fitter.fit(stage2['train_X'], stage2['train_y'])"
   ]
  },
  {
   "cell_type": "code",
   "execution_count": null,
   "id": "32584e93",
   "metadata": {},
   "outputs": [],
   "source": [
    "pred_train = fitter.predict(stage2['train_X'])"
   ]
  },
  {
   "cell_type": "code",
   "execution_count": null,
   "id": "1b66da4b",
   "metadata": {},
   "outputs": [],
   "source": [
    "r2 = sklearn.metrics.r2_score(stage2['train_y'], pred_train)\n",
    "print(\"R2 score (학습 데이터): %f\"%r2)"
   ]
  },
  {
   "cell_type": "code",
   "execution_count": null,
   "id": "2cf724cc",
   "metadata": {},
   "outputs": [],
   "source": [
    "pred = fitter.predict(stage2['test_X'])"
   ]
  },
  {
   "cell_type": "code",
   "execution_count": null,
   "id": "731dad9e",
   "metadata": {},
   "outputs": [],
   "source": [
    "r2 = sklearn.metrics.r2_score(stage2['test_y'], pred)\n",
    "print(\"R2 score (테스트 데이터): %f\"%r2)"
   ]
  },
  {
   "cell_type": "markdown",
   "id": "a3818e1f",
   "metadata": {},
   "source": [
    "### 3.2.2 피쳐 선택"
   ]
  },
  {
   "cell_type": "code",
   "execution_count": null,
   "id": "b5de2d5c",
   "metadata": {},
   "outputs": [],
   "source": [
    "model = SelectFromModel(fitter, prefit=True, threshold = 5e-1)\n",
    "X_new = model.transform(stage2['train_X'])"
   ]
  },
  {
   "cell_type": "code",
   "execution_count": null,
   "id": "4af9894b",
   "metadata": {},
   "outputs": [],
   "source": [
    "print('피쳐 선택 전의 변수 수:', stage2['train_X'].shape[1])\n",
    "print('피쳐 선택 전의 변수 수:', X_new.shape[1])"
   ]
  },
  {
   "cell_type": "code",
   "execution_count": null,
   "id": "17722eb4",
   "metadata": {},
   "outputs": [],
   "source": [
    "fitter = sklearn.linear_model.LinearRegression()\n",
    "fitter.fit(X_new, stage2['train_y'])"
   ]
  },
  {
   "cell_type": "code",
   "execution_count": null,
   "id": "6bb2ebd6",
   "metadata": {},
   "outputs": [],
   "source": [
    "pred_train = fitter.predict(X_new)"
   ]
  },
  {
   "cell_type": "code",
   "execution_count": null,
   "id": "166d968b",
   "metadata": {},
   "outputs": [],
   "source": [
    "r2 = sklearn.metrics.r2_score(stage2['train_y'], pred_train)\n",
    "print(\"R2 score (학습 데이터): %f\"%r2)"
   ]
  },
  {
   "cell_type": "code",
   "execution_count": null,
   "id": "34f9270a",
   "metadata": {},
   "outputs": [],
   "source": [
    "pred = fitter.predict(model.transform(stage2['test_X']))"
   ]
  },
  {
   "cell_type": "code",
   "execution_count": null,
   "id": "8e8ec4d2",
   "metadata": {},
   "outputs": [],
   "source": [
    "r2 = sklearn.metrics.r2_score(stage2['test_y'], pred)\n",
    "print(\"R2 score (테스트 데이터): %f\"%r2)"
   ]
  },
  {
   "cell_type": "markdown",
   "id": "aec1af7b",
   "metadata": {},
   "source": [
    "6개의 피쳐를 제거하니, 모델의 설명력이 조금 줄었습니다. 어떤 피쳐들이 제거되었는지 확인해보겠습니다."
   ]
  },
  {
   "cell_type": "code",
   "execution_count": null,
   "id": "5d2a46ce",
   "metadata": {},
   "outputs": [],
   "source": [
    "important_features = [column for column, is_good_feature in zip(columns['stage2_input'], model.get_support()) if is_good_feature]\n",
    "not_important_features = [column for column, is_good_feature in zip(columns['stage2_input'], model.get_support()) if not is_good_feature]"
   ]
  },
  {
   "cell_type": "code",
   "execution_count": null,
   "id": "98101d9a",
   "metadata": {},
   "outputs": [],
   "source": [
    "print('중요한 피쳐들:')\n",
    "for feature in important_features:\n",
    "    print('    - %s'%feature)\n",
    "print('덜 중요한 피쳐들:')\n",
    "for feature in not_important_features:\n",
    "    print('    - %s'%feature)"
   ]
  },
  {
   "cell_type": "markdown",
   "id": "225f7a90",
   "metadata": {},
   "source": [
    "종속변수에 따른 모델에 설명력을 확인해봅니다."
   ]
  },
  {
   "cell_type": "code",
   "execution_count": null,
   "id": "0bca0b59",
   "metadata": {
    "scrolled": true
   },
   "outputs": [],
   "source": [
    "for i in range(13):\n",
    "    r2 = sklearn.metrics.r2_score(stage2['test_y'][:, i], pred[:, i])\n",
    "    print(\"R2 score: %f\"%r2)"
   ]
  },
  {
   "cell_type": "markdown",
   "id": "a1760102",
   "metadata": {},
   "source": [
    "### 3.3.3 다양한 선형 회귀 모델 적용하기"
   ]
  },
  {
   "cell_type": "markdown",
   "id": "3b8e14ec",
   "metadata": {},
   "source": [
    "최소 제곱 선형 회귀 모델과 Ridge, Lasso 모델의 성능을 비교해보겠습니다."
   ]
  },
  {
   "cell_type": "code",
   "execution_count": null,
   "id": "4a132571",
   "metadata": {},
   "outputs": [],
   "source": [
    "leastSquare = LinearRegression()\n",
    "ridge = Ridge()\n",
    "lasso = Lasso()"
   ]
  },
  {
   "cell_type": "code",
   "execution_count": null,
   "id": "3cdcaa3e",
   "metadata": {},
   "outputs": [],
   "source": [
    "leastSquare.fit(stage2['train_X'], stage2['train_y'])\n",
    "ridge.fit(stage2['train_X'], stage2['train_y'])\n",
    "lasso.fit(stage2['train_X'], stage2['train_y'])"
   ]
  },
  {
   "cell_type": "code",
   "execution_count": null,
   "id": "bae6bb52",
   "metadata": {},
   "outputs": [],
   "source": [
    "pred_leastSquare = leastSquare.predict(stage2['test_X'])\n",
    "pred_ridge = ridge.predict(stage2['test_X'])\n",
    "pred_lasso = lasso.predict(stage2['test_X'])"
   ]
  },
  {
   "cell_type": "code",
   "execution_count": null,
   "id": "058da266",
   "metadata": {},
   "outputs": [],
   "source": [
    "r2_leastSquare = sklearn.metrics.r2_score(stage2['test_y'], pred_leastSquare)\n",
    "r2_ridge = sklearn.metrics.r2_score(stage2['test_y'], pred_ridge)\n",
    "r2_lasso = sklearn.metrics.r2_score(stage2['test_y'], pred_lasso)\n",
    "print(\"R2 score (최소제곱선형회귀): %f\"%r2_leastSquare)\n",
    "print(\"R2 score (Ridge): %f\"%r2_ridge)\n",
    "print(\"R2 score (Lasso): %f\"%r2_lasso)"
   ]
  },
  {
   "cell_type": "markdown",
   "id": "76630069",
   "metadata": {},
   "source": [
    "<span style=\"color:rgb(120, 120, 120)\">본 학습 자료를 포함한 사이트 내 모든 자료의 저작권은 엘리스에 있으며 외부로의 무단 복제, 배포 및 전송을 불허합니다.\n",
    "\n",
    "Copyright @ elice all rights reserved</span>"
   ]
  },
  {
   "cell_type": "code",
   "execution_count": null,
   "id": "fed45b8a",
   "metadata": {},
   "outputs": [],
   "source": []
  }
 ],
 "metadata": {
  "kernelspec": {
   "display_name": "Python 3",
   "language": "python",
   "name": "python3"
  },
  "language_info": {
   "codemirror_mode": {
    "name": "ipython",
    "version": 3
   },
   "file_extension": ".py",
   "mimetype": "text/x-python",
   "name": "python",
   "nbconvert_exporter": "python",
   "pygments_lexer": "ipython3",
   "version": "3.8.8"
  }
 },
 "nbformat": 4,
 "nbformat_minor": 5
}
