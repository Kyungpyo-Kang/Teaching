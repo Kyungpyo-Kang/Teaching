{
 "cells": [
  {
   "cell_type": "markdown",
   "id": "65b32fcb",
   "metadata": {},
   "source": [
    "# [프로젝트6] AI 기법 성능 향상 방법론\n"
   ]
  },
  {
   "cell_type": "markdown",
   "id": "26f194c3",
   "metadata": {},
   "source": [
    "---"
   ]
  },
  {
   "cell_type": "markdown",
   "id": "d0ccbb9f",
   "metadata": {},
   "source": [
    "## 프로젝트 목표\n",
    "---\n",
    "- 하이퍼 매개변수 튜닝에 대해 배워봅니다.\n",
    "- K-fold 교차 검증을 수행해봅니다.\n",
    "- Residual network를 구현해봅니다.\n",
    "- Positional encoding을 구현해봅니다.\n",
    "- 금속분말 데이터셋에 대한 최적의 머신러닝 모델을 구현해봅니다."
   ]
  },
  {
   "cell_type": "markdown",
   "id": "00fef0b8",
   "metadata": {},
   "source": [
    "## 프로젝트 목차\n",
    "---\n",
    "1. **Hyper-parameter 튜닝:** 하이퍼 매개변수 튜닝을 수행해봅니다.\n",
    "\n",
    "2. **K-fold 교차검증:** K-fold 교차검증으로 모델을 평가해봅니다.\n",
    "\n",
    "3. **Residual network:** Residual network를 구현해봅니다.\n",
    "\n",
    "4. **Positional encoding:** Positional encoding을 구현해봅니다.\n",
    "\n",
    "5. **최적의 모델 구현:** 여태까지 배웠던 것들을 종합하여 최적의 머신러닝 모델을 만들어봅니다."
   ]
  },
  {
   "cell_type": "markdown",
   "id": "d4c8235a",
   "metadata": {},
   "source": [
    "## 프로젝트 개요\n",
    "---\n",
    "\n",
    "이번 프로젝트에서는 AI 모델의 성능 향상을 위한 다양한 기법을 수행해봅니다."
   ]
  },
  {
   "cell_type": "markdown",
   "id": "37930840",
   "metadata": {},
   "source": [
    "## 1. Hyper-parameter 튜닝\n",
    "---\n",
    "금속분말 데이터셋을 이용하여 하이퍼 매개변수 튜닝을 수행해보겠습니다.\n"
   ]
  },
  {
   "cell_type": "markdown",
   "id": "0ca09853",
   "metadata": {},
   "source": [
    "### 1.1 라이브러리 불러오기"
   ]
  },
  {
   "cell_type": "code",
   "execution_count": 1,
   "id": "a25ede2d",
   "metadata": {},
   "outputs": [],
   "source": [
    "import numpy as np\n",
    "import random\n",
    "from matplotlib import pyplot as plt\n",
    "%matplotlib inline\n",
    "import tensorflow as tf\n",
    "import json\n",
    "import sklearn.metrics"
   ]
  },
  {
   "cell_type": "markdown",
   "id": "a665f13d",
   "metadata": {},
   "source": [
    "### 1.2 데이터셋 읽어오기"
   ]
  },
  {
   "cell_type": "code",
   "execution_count": 2,
   "id": "61f42f03",
   "metadata": {},
   "outputs": [],
   "source": [
    "stage1 = {\n",
    "    'train_X': np.load('./Data/train_data_stage1_X.npy'),\n",
    "    'train_y': np.load('./Data/train_data_stage1_y.npy'),\n",
    "    'valid_X': np.load('./Data/valid_data_stage1_X.npy'),\n",
    "    'valid_y': np.load('./Data/valid_data_stage1_y.npy'),\n",
    "    'test_X': np.load('./Data/test_data_stage1_X.npy'),\n",
    "    'test_y': np.load('./Data/test_data_stage1_y.npy'),\n",
    "}\n",
    "\n",
    "stage2 = {\n",
    "    'train_X': np.load('./Data/train_data_stage2_X.npy'),\n",
    "    'train_y': np.load('./Data/train_data_stage2_y.npy'),\n",
    "    'valid_X': np.load('./Data/valid_data_stage2_X.npy'),\n",
    "    'valid_y': np.load('./Data/valid_data_stage2_y.npy'),\n",
    "    'test_X': np.load('./Data/test_data_stage2_X.npy'),\n",
    "    'test_y': np.load('./Data/test_data_stage2_y.npy'),\n",
    "}\n",
    "\n",
    "columns = json.load(open('./Data/valid_columns.json', 'r'))"
   ]
  },
  {
   "cell_type": "markdown",
   "id": "59b60d91",
   "metadata": {},
   "source": [
    "### 1.3 데이터 표준화하기"
   ]
  },
  {
   "cell_type": "markdown",
   "id": "77b18ac4",
   "metadata": {},
   "source": [
    "### 1.3.1 Stage1 데이터 표준화하기"
   ]
  },
  {
   "cell_type": "code",
   "execution_count": 3,
   "id": "0efb105e",
   "metadata": {},
   "outputs": [
    {
     "name": "stdout",
     "output_type": "stream",
     "text": [
      "입력값 평균: [  11.85294587  205.74478705  951.00255435 1242.437388     72.01273285\n",
      "   72.01162996   70.34571071   11.07603585  408.95062376   81.47648118\n",
      "   75.96962985   12.79330524  566.38390195  202.65058918   68.99620414\n",
      "   69.10054828   73.3958155    13.89662164  226.12474952   76.81680896\n",
      "   59.99898793    9.08815439  205.71384206  425.06943434  202.26546402\n",
      "   78.00841235   78.00453278  345.11532917   13.26721071  246.73680272\n",
      "   74.14375402   65.00868711  108.96768422   84.98831262   80.00354672\n",
      "   15.32405834   23.84402174]\n",
      "출력값 평균: [12.89768652 13.69662267  8.00480187 11.36113325 21.31940678 32.87843839\n",
      "  0.12721732  1.34725458  1.09990652 19.8051213   7.68305334  1.4919701\n",
      "  1.20588607  2.89104562 10.02515553]\n"
     ]
    }
   ],
   "source": [
    "stage1_X_mean = stage1['train_X'].mean(axis = 0)\n",
    "stage1_y_mean = stage1['train_y'].mean(axis = 0)\n",
    "print('입력값 평균:', stage1_X_mean)\n",
    "print('출력값 평균:', stage1_y_mean)"
   ]
  },
  {
   "cell_type": "code",
   "execution_count": 4,
   "id": "fa8d9dc6",
   "metadata": {},
   "outputs": [
    {
     "name": "stdout",
     "output_type": "stream",
     "text": [
      "입력값 표준편차: [5.10993143e-01 1.16806618e+01 1.27620111e+02 9.77321235e+01\n",
      " 6.23396785e-02 4.06238919e-01 5.49867530e+00 6.36170724e-01\n",
      " 2.05368437e+01 9.21642493e-01 2.06429784e+00 1.07360805e-01\n",
      " 1.83380514e+01 1.48381842e+01 5.44970706e-02 1.06721153e-01\n",
      " 3.94100055e-01 2.91335938e-02 3.06908107e+00 8.30358591e-01\n",
      " 1.61971729e-01 3.95092636e-01 1.63223059e+01 9.53699574e+00\n",
      " 1.58921785e+01 7.73526529e-02 1.14547773e-01 9.05396328e+00\n",
      " 4.34061012e-01 6.10492128e+00 2.05042127e+00 6.27961350e-02\n",
      " 5.59761035e+00 1.85637963e+01 1.18126539e-01 1.18770739e+00\n",
      " 3.72221796e-01]\n",
      "출력값 표준편차: [0.9270819  0.85503751 6.90580271 1.03664992 2.14313701 3.882343\n",
      " 0.57606676 1.13060617 1.41265541 4.68687927 1.07824517 2.54294205\n",
      " 0.66114934 0.92884134 7.38778856]\n"
     ]
    }
   ],
   "source": [
    "stage1_X_std = stage1['train_X'].std(axis = 0)\n",
    "stage1_y_std = stage1['train_y'].std(axis = 0)\n",
    "print('입력값 표준편차:', stage1_X_std)\n",
    "print('출력값 표준편차:', stage1_y_std)"
   ]
  },
  {
   "cell_type": "code",
   "execution_count": 5,
   "id": "e1ea5c46",
   "metadata": {},
   "outputs": [],
   "source": [
    "# 학습 데이터 표준화\n",
    "stage1['train_X'] = (stage1['train_X'] - stage1_X_mean) / stage1_X_std\n",
    "stage1['train_y'] = (stage1['train_y'] - stage1_y_mean) / stage1_y_std\n",
    "# 검증용 데이터 표준화\n",
    "stage1['valid_X'] = (stage1['valid_X'] - stage1_X_mean) / stage1_X_std\n",
    "stage1['valid_y'] = (stage1['valid_y'] - stage1_y_mean) / stage1_y_std\n",
    "# 테스트 데이터 표준화\n",
    "stage1['test_X'] = (stage1['test_X'] - stage1_X_mean) / stage1_X_std\n",
    "stage1['test_y'] = (stage1['test_y'] - stage1_y_mean) / stage1_y_std"
   ]
  },
  {
   "cell_type": "markdown",
   "id": "f71a76e1",
   "metadata": {},
   "source": [
    "### 1.3.2 Stage2 데이터 표준화하기"
   ]
  },
  {
   "cell_type": "code",
   "execution_count": 6,
   "id": "49489d9e",
   "metadata": {},
   "outputs": [
    {
     "name": "stdout",
     "output_type": "stream",
     "text": [
      "입력값 평균: [1.28976865e+01 1.36966227e+01 8.00480187e+00 1.13611333e+01\n",
      " 2.13194068e+01 3.28784384e+01 1.27217323e-01 1.34725458e+00\n",
      " 1.09990652e+00 1.98051213e+01 7.68305334e+00 1.49197010e+00\n",
      " 1.20588607e+00 2.89104562e+00 1.00251555e+01 3.60122933e+02\n",
      " 3.60136275e+02 1.72294333e+01 3.22627969e+02 3.09786854e+02\n",
      " 1.87200947e+02 3.09998282e+02 2.89997582e+02 2.69681649e+02\n",
      " 2.42661246e+02 2.44994629e+02 6.34195390e+01 1.54046742e+02\n",
      " 1.53240583e+01 2.38440217e+01]\n",
      "출력값 평균: [11.69212911  6.25614828 10.2499656  19.33555126  2.87697932  2.7475277\n",
      "  0.53310706  2.91750962 18.38898671 11.61424043  7.53420311  3.54181714\n",
      "  7.51699723]\n"
     ]
    }
   ],
   "source": [
    "stage2_X_mean = stage2['train_X'].mean(axis = 0)\n",
    "stage2_y_mean = stage2['train_y'].mean(axis = 0)\n",
    "print('입력값 평균:', stage2_X_mean)\n",
    "print('출력값 평균:', stage2_y_mean)"
   ]
  },
  {
   "cell_type": "code",
   "execution_count": 7,
   "id": "9e85be7b",
   "metadata": {},
   "outputs": [
    {
     "name": "stdout",
     "output_type": "stream",
     "text": [
      "입력값 표준편차: [ 0.9270819   0.85503751  6.90580271  1.03664992  2.14313701  3.882343\n",
      "  0.57606676  1.13060617  1.41265541  4.68687927  1.07824517  2.54294205\n",
      "  0.66114934  0.92884134  7.38778856  1.9209727   2.64895901  0.94209921\n",
      "  3.61537985  2.74078134 23.41676809  0.03961971  0.05202987  1.01853204\n",
      "  1.59098238  0.10771334  0.39587306  9.90869048  1.18770739  0.3722218 ]\n",
      "출력값 표준편차: [3.62230517 1.60057596 2.30753588 4.62537631 9.09270122 0.37574164\n",
      " 0.20467783 0.49744294 4.97294003 7.62127826 1.64901449 0.45450424\n",
      " 2.0723342 ]\n"
     ]
    }
   ],
   "source": [
    "stage2_X_std = stage2['train_X'].std(axis = 0)\n",
    "stage2_y_std = stage2['train_y'].std(axis = 0)\n",
    "print('입력값 표준편차:', stage2_X_std)\n",
    "print('출력값 표준편차:', stage2_y_std)"
   ]
  },
  {
   "cell_type": "code",
   "execution_count": 8,
   "id": "3c4ff3f1",
   "metadata": {},
   "outputs": [],
   "source": [
    "# 학습 데이터 표준화\n",
    "stage2['train_X'] = (stage2['train_X'] - stage2_X_mean) / stage2_X_std\n",
    "stage2['train_y'] = (stage2['train_y'] - stage2_y_mean) / stage2_y_std\n",
    "\n",
    "# 검증용 데이터 표준화\n",
    "stage2['valid_X'] = (stage2['valid_X'] - stage2_X_mean) / stage2_X_std\n",
    "stage2['valid_y'] = (stage2['valid_y'] - stage2_y_mean) / stage2_y_std\n",
    "\n",
    "# 테스트 데이터 표준화\n",
    "stage2['test_X'] = (stage2['test_X'] - stage2_X_mean) / stage2_X_std\n",
    "stage2['test_y'] = (stage2['test_y'] - stage2_y_mean) / stage2_y_std"
   ]
  },
  {
   "cell_type": "markdown",
   "id": "e104b40f",
   "metadata": {},
   "source": [
    "### 1.4 Hyper-parameter 범위 설정하기"
   ]
  },
  {
   "cell_type": "markdown",
   "id": "c89e55ae",
   "metadata": {},
   "source": [
    "랜덤 서치를 이용한 하이퍼패러미터 설정을 해봅니다. 이때 실습 시간을 고려하여, 학습데이터 중 1000개만 사용해봅니다."
   ]
  },
  {
   "cell_type": "code",
   "execution_count": 9,
   "id": "7523f292",
   "metadata": {},
   "outputs": [],
   "source": [
    "learning_rate = [0.005, 0.03]\n",
    "dropout_rate = [0.0, 0.2]\n",
    "trials = 10"
   ]
  },
  {
   "cell_type": "code",
   "execution_count": 10,
   "id": "4cbbc0b8",
   "metadata": {},
   "outputs": [],
   "source": [
    "def sampling(parameter_range):\n",
    "    min_value, max_value = parameter_range\n",
    "    random_value = np.random.random()\n",
    "    return random_value * (max_value - min_value) + min_value"
   ]
  },
  {
   "cell_type": "code",
   "execution_count": 11,
   "id": "357a7e7b",
   "metadata": {},
   "outputs": [
    {
     "name": "stdout",
     "output_type": "stream",
     "text": [
      "1 번째 시도 - 학습률: 0.019, dropout rate: 0.143\n",
      "    -> R2 score: 0.309394\n",
      "2 번째 시도 - 학습률: 0.015, dropout rate: 0.144\n",
      "    -> R2 score: 0.296470\n",
      "3 번째 시도 - 학습률: 0.016, dropout rate: 0.005\n",
      "    -> R2 score: 0.301790\n",
      "4 번째 시도 - 학습률: 0.019, dropout rate: 0.142\n",
      "    -> R2 score: 0.309891\n",
      "5 번째 시도 - 학습률: 0.029, dropout rate: 0.109\n",
      "    -> R2 score: 0.332541\n",
      "6 번째 시도 - 학습률: 0.011, dropout rate: 0.174\n",
      "    -> R2 score: 0.270235\n",
      "7 번째 시도 - 학습률: 0.027, dropout rate: 0.066\n",
      "    -> R2 score: 0.325144\n",
      "8 번째 시도 - 학습률: 0.007, dropout rate: 0.156\n",
      "    -> R2 score: 0.247721\n",
      "9 번째 시도 - 학습률: 0.027, dropout rate: 0.194\n",
      "    -> R2 score: 0.321677\n",
      "10 번째 시도 - 학습률: 0.005, dropout rate: 0.100\n",
      "    -> R2 score: 0.239465\n"
     ]
    }
   ],
   "source": [
    "lrs = []\n",
    "drs = []\n",
    "r2s = []\n",
    "for try_ in range(trials):\n",
    "    np.random.seed(try_)\n",
    "    lr = sampling(learning_rate)\n",
    "    dr = sampling(dropout_rate)\n",
    "    print('%d 번째 시도 - 학습률: %.3f, dropout rate: %.3f'%(try_ + 1, lr, dr))\n",
    "    \n",
    "    # 모델 정의\n",
    "    np.random.seed(0)\n",
    "    random.seed(0)\n",
    "    tf.random.set_seed(0)\n",
    "    MLP_model = tf.keras.Sequential([\n",
    "        tf.keras.layers.Dense(64, activation = 'relu'),\n",
    "        tf.keras.layers.Dropout(rate=dr), \n",
    "        tf.keras.layers.Dense(32, activation = 'relu'),\n",
    "        tf.keras.layers.Dropout(rate=dr), \n",
    "        tf.keras.layers.Dense(stage1['train_y'].shape[1])\n",
    "    ])\n",
    "    # 모델 컴파일\n",
    "    MLP_model.compile(loss = 'mse',\n",
    "              optimizer = tf.keras.optimizers.SGD(learning_rate = lr),\n",
    "              metrics = ['mse'])\n",
    "    # 모델 학습\n",
    "    history = MLP_model.fit(stage1['train_X'][:1000], stage1['train_y'][:1000], epochs = 50, batch_size = 16, verbose = 0)\n",
    "    # 모델 예측\n",
    "    pred = MLP_model.predict(stage1['test_X'])\n",
    "    # 모델 평가\n",
    "    r2 = sklearn.metrics.r2_score(stage1['test_y'], pred)\n",
    "    print(\"    -> R2 score: %f\"%r2)\n",
    "    lrs.append(lr)\n",
    "    drs.append(dr)\n",
    "    r2s.append(r2)\n",
    "    "
   ]
  },
  {
   "cell_type": "code",
   "execution_count": 12,
   "id": "248b76c9",
   "metadata": {},
   "outputs": [
    {
     "data": {
      "image/png": "[encoded data removed]",
      "text/plain": [
       "<Figure size 432x288 with 1 Axes>"
      ]
     },
     "metadata": {
      "needs_background": "light"
     },
     "output_type": "display_data"
    }
   ],
   "source": [
    "plt.scatter(lrs, r2s)\n",
    "plt.xlabel('learning rate')\n",
    "plt.ylabel('r2 score')\n",
    "plt.show()"
   ]
  },
  {
   "cell_type": "code",
   "execution_count": 13,
   "id": "e27c454e",
   "metadata": {},
   "outputs": [
    {
     "data": {
      "image/png": "[encoded data removed]",
      "text/plain": [
       "<Figure size 432x288 with 1 Axes>"
      ]
     },
     "metadata": {
      "needs_background": "light"
     },
     "output_type": "display_data"
    }
   ],
   "source": [
    "plt.scatter(drs, r2s)\n",
    "plt.xlabel('dropout rate')\n",
    "plt.ylabel('r2 score')\n",
    "plt.show()"
   ]
  },
  {
   "cell_type": "code",
   "execution_count": 14,
   "id": "cbe7f10e",
   "metadata": {},
   "outputs": [
    {
     "data": {
      "text/plain": [
       "0.9595704772888924"
      ]
     },
     "execution_count": 14,
     "metadata": {},
     "output_type": "execute_result"
    }
   ],
   "source": [
    "np.corrcoef(lrs, r2s)[1,0]"
   ]
  },
  {
   "cell_type": "code",
   "execution_count": 15,
   "id": "281139f0",
   "metadata": {},
   "outputs": [
    {
     "data": {
      "text/plain": [
       "-0.13015050370379325"
      ]
     },
     "execution_count": 15,
     "metadata": {},
     "output_type": "execute_result"
    }
   ],
   "source": [
    "np.corrcoef(drs, r2s)[1,0]"
   ]
  },
  {
   "cell_type": "markdown",
   "id": "b0e2cdf6",
   "metadata": {},
   "source": [
    "학습률은 모델의 성능과 상관 관계가 큰 반면, dropout rate는 비교적 상관 관계가 약한 것을 확인할 수 있습니다."
   ]
  },
  {
   "cell_type": "markdown",
   "id": "8002a574",
   "metadata": {},
   "source": [
    "**[TODO] Stage 2 데이터에 대해 hyper-parameter 튜닝을 수행해보세요.**"
   ]
  },
  {
   "cell_type": "code",
   "execution_count": 16,
   "id": "ddd89a05",
   "metadata": {},
   "outputs": [
    {
     "name": "stdout",
     "output_type": "stream",
     "text": [
      "1 번째 시도 - 학습률: 0.019, dropout rate: 0.143\n",
      "    -> R2 score: 0.498043\n",
      "2 번째 시도 - 학습률: 0.015, dropout rate: 0.144\n",
      "    -> R2 score: 0.489687\n",
      "3 번째 시도 - 학습률: 0.016, dropout rate: 0.005\n",
      "    -> R2 score: 0.494187\n",
      "4 번째 시도 - 학습률: 0.019, dropout rate: 0.142\n",
      "    -> R2 score: 0.498524\n",
      "5 번째 시도 - 학습률: 0.029, dropout rate: 0.109\n",
      "    -> R2 score: 0.521597\n",
      "6 번째 시도 - 학습률: 0.011, dropout rate: 0.174\n",
      "    -> R2 score: 0.471398\n",
      "7 번째 시도 - 학습률: 0.027, dropout rate: 0.066\n",
      "    -> R2 score: 0.521226\n",
      "8 번째 시도 - 학습률: 0.007, dropout rate: 0.156\n",
      "    -> R2 score: 0.458098\n",
      "9 번째 시도 - 학습률: 0.027, dropout rate: 0.194\n",
      "    -> R2 score: 0.499725\n",
      "10 번째 시도 - 학습률: 0.005, dropout rate: 0.100\n",
      "    -> R2 score: 0.451818\n"
     ]
    }
   ],
   "source": [
    "lrs = []\n",
    "drs = []\n",
    "r2s = []\n",
    "for try_ in range(trials):\n",
    "    np.random.seed(try_)\n",
    "    lr = sampling(learning_rate)\n",
    "    dr = sampling(dropout_rate)\n",
    "    print('%d 번째 시도 - 학습률: %.3f, dropout rate: %.3f'%(try_ + 1, lr, dr))\n",
    "    \n",
    "    # 모델 정의\n",
    "    np.random.seed(0)\n",
    "    random.seed(0)\n",
    "    tf.random.set_seed(0)\n",
    "    MLP_model = tf.keras.Sequential([\n",
    "        tf.keras.layers.Dense(64, activation = 'relu'),\n",
    "        tf.keras.layers.Dropout(rate=dr), \n",
    "        tf.keras.layers.Dense(32, activation = 'relu'),\n",
    "        tf.keras.layers.Dropout(rate=dr), \n",
    "        tf.keras.layers.Dense(stage2['train_y'].shape[1])\n",
    "    ])\n",
    "    # 모델 컴파일\n",
    "    MLP_model.compile(loss = 'mse',\n",
    "              optimizer = tf.keras.optimizers.SGD(learning_rate = lr),\n",
    "              metrics = ['mse'])\n",
    "    # 모델 학습\n",
    "    history = MLP_model.fit(stage2['train_X'][:1000], stage2['train_y'][:1000], epochs = 50, batch_size = 16, verbose = 0)\n",
    "    # 모델 예측\n",
    "    pred = MLP_model.predict(stage2['test_X'])\n",
    "    # 모델 평가\n",
    "    r2 = sklearn.metrics.r2_score(stage2['test_y'], pred)\n",
    "    print(\"    -> R2 score: %f\"%r2)\n",
    "    lrs.append(lr)\n",
    "    drs.append(dr)\n",
    "    r2s.append(r2)\n",
    "    "
   ]
  },
  {
   "cell_type": "code",
   "execution_count": 17,
   "id": "d921e756",
   "metadata": {},
   "outputs": [
    {
     "data": {
      "image/png": "[encoded data removed]",
      "text/plain": [
       "<Figure size 432x288 with 1 Axes>"
      ]
     },
     "metadata": {
      "needs_background": "light"
     },
     "output_type": "display_data"
    }
   ],
   "source": [
    "plt.scatter(lrs, r2s)\n",
    "plt.xlabel('learning rate')\n",
    "plt.ylabel('r2 score')\n",
    "plt.show()"
   ]
  },
  {
   "cell_type": "code",
   "execution_count": 18,
   "id": "8421d8cf",
   "metadata": {},
   "outputs": [
    {
     "data": {
      "image/png": "[encoded data removed]",
      "text/plain": [
       "<Figure size 432x288 with 1 Axes>"
      ]
     },
     "metadata": {
      "needs_background": "light"
     },
     "output_type": "display_data"
    }
   ],
   "source": [
    "plt.scatter(drs, r2s)\n",
    "plt.xlabel('dropout rate')\n",
    "plt.ylabel('r2 score')\n",
    "plt.show()"
   ]
  },
  {
   "cell_type": "code",
   "execution_count": 19,
   "id": "6a85a732",
   "metadata": {},
   "outputs": [
    {
     "data": {
      "text/plain": [
       "0.9548047389481391"
      ]
     },
     "execution_count": 19,
     "metadata": {},
     "output_type": "execute_result"
    }
   ],
   "source": [
    "np.corrcoef(lrs, r2s)[1,0]"
   ]
  },
  {
   "cell_type": "code",
   "execution_count": 20,
   "id": "640724e8",
   "metadata": {},
   "outputs": [
    {
     "data": {
      "text/plain": [
       "-0.2395229232249606"
      ]
     },
     "execution_count": 20,
     "metadata": {},
     "output_type": "execute_result"
    }
   ],
   "source": [
    "np.corrcoef(drs, r2s)[1,0]"
   ]
  },
  {
   "cell_type": "markdown",
   "id": "a2cf72e0",
   "metadata": {},
   "source": [
    "Stage2 에서도 마찬가지로 학습률이 전체 성능에 큰 영향을 미치는 것을 확인할 수 있습니다."
   ]
  },
  {
   "cell_type": "markdown",
   "id": "6067ef8c",
   "metadata": {},
   "source": [
    "## 2. K-fold 교차 검증"
   ]
  },
  {
   "cell_type": "markdown",
   "id": "e625dd72",
   "metadata": {},
   "source": [
    "### 2.1 데이터 합치기"
   ]
  },
  {
   "cell_type": "code",
   "execution_count": 21,
   "id": "640ddcfd",
   "metadata": {},
   "outputs": [],
   "source": [
    "X_stage1 = np.concatenate([stage1['train_X'], stage1['valid_X']])\n",
    "y_stage1 = np.concatenate([stage1['train_y'], stage1['valid_y']])"
   ]
  },
  {
   "cell_type": "code",
   "execution_count": 22,
   "id": "c02dfac0",
   "metadata": {},
   "outputs": [],
   "source": [
    "def get_K_fold_dataset(X, y, K):\n",
    "    dataset = {}\n",
    "    len_data = len(X)\n",
    "    idxs = np.arange(len_data)\n",
    "    for k in range(K):\n",
    "        training_idxs = np.concatenate([idxs[:int(len_data * k/K)], idxs[int(len_data * (k+1)/K):]])\n",
    "        valid_idxs = idxs[int(len_data * k/K) : int(len_data * (k+1)/K)]\n",
    "        dataset['%d-fold'%(k+1)] = {\n",
    "            'train_X': X[training_idxs],\n",
    "            'valid_X': X[valid_idxs],\n",
    "            'train_y': y[training_idxs],\n",
    "            'valid_y': y[valid_idxs]\n",
    "        }\n",
    "    return dataset"
   ]
  },
  {
   "cell_type": "markdown",
   "id": "a767cb85",
   "metadata": {},
   "source": [
    "데이터를 K 개의 학습-테스트 셋으로 분리하는 함수를 정의합니다."
   ]
  },
  {
   "cell_type": "code",
   "execution_count": 23,
   "id": "bfcdf235",
   "metadata": {},
   "outputs": [],
   "source": [
    "K_fold = get_K_fold_dataset(X_stage1, y_stage1, 5)"
   ]
  },
  {
   "cell_type": "code",
   "execution_count": 24,
   "id": "777ef98f",
   "metadata": {},
   "outputs": [
    {
     "name": "stdout",
     "output_type": "stream",
     "text": [
      "1-fold\n",
      "    -> R2 score: 0.485120\n",
      "2-fold\n",
      "    -> R2 score: 0.558948\n",
      "3-fold\n",
      "    -> R2 score: 0.488304\n",
      "4-fold\n",
      "    -> R2 score: 0.535690\n",
      "5-fold\n",
      "    -> R2 score: 0.493803\n"
     ]
    }
   ],
   "source": [
    "r2s = []\n",
    "for K in K_fold.keys():\n",
    "    dataset = K_fold[K]\n",
    "    print('%s'%K)\n",
    "    # 모델 정의\n",
    "    np.random.seed(0)\n",
    "    random.seed(0)\n",
    "    tf.random.set_seed(0)\n",
    "    MLP_model = tf.keras.Sequential([\n",
    "        tf.keras.layers.Dense(64, activation = 'relu'),\n",
    "        tf.keras.layers.Dense(32, activation = 'relu'),\n",
    "        tf.keras.layers.Dense(stage1['train_y'].shape[1])\n",
    "    ])\n",
    "    # 모델 컴파일\n",
    "    MLP_model.compile(loss = 'mse',\n",
    "              optimizer = tf.keras.optimizers.SGD(),\n",
    "              metrics = ['mse'])\n",
    "    # 모델 학습\n",
    "    history = MLP_model.fit(dataset['train_X'], dataset['train_y'], epochs = 50, batch_size = 16, verbose = 0)\n",
    "    # 모델 예측\n",
    "    pred = MLP_model.predict(dataset['valid_X'])\n",
    "    # 모델 평가\n",
    "    r2 = sklearn.metrics.r2_score(dataset['valid_y'], pred)\n",
    "    print(\"    -> R2 score: %f\"%r2)\n",
    "    r2s.append(r2)"
   ]
  },
  {
   "cell_type": "code",
   "execution_count": 25,
   "id": "ec026f14",
   "metadata": {},
   "outputs": [
    {
     "name": "stdout",
     "output_type": "stream",
     "text": [
      "Average R2 score: 0.512373\n"
     ]
    }
   ],
   "source": [
    "Average_r2 = np.mean(r2s)\n",
    "print(\"Average R2 score: %f\"%Average_r2)"
   ]
  },
  {
   "cell_type": "markdown",
   "id": "33eeec6a",
   "metadata": {},
   "source": [
    "모델의 최종 성능을 평가할 때에는, K개의 fold에서 나온 성능의 평균을 취합니다."
   ]
  },
  {
   "cell_type": "markdown",
   "id": "a8f69ef0",
   "metadata": {},
   "source": [
    "**[TODO] Stage2 데이터에 대해 K-fold 교차검증을 수행해보세요.**"
   ]
  },
  {
   "cell_type": "code",
   "execution_count": 26,
   "id": "f21aafb4",
   "metadata": {},
   "outputs": [],
   "source": [
    "X_stage2 = np.concatenate([stage2['train_X'], stage2['valid_X']])\n",
    "y_stage2 = np.concatenate([stage2['train_y'], stage2['valid_y']])"
   ]
  },
  {
   "cell_type": "code",
   "execution_count": 27,
   "id": "92a09f70",
   "metadata": {},
   "outputs": [],
   "source": [
    "K_fold = get_K_fold_dataset(X_stage2, y_stage2, 5)"
   ]
  },
  {
   "cell_type": "code",
   "execution_count": 28,
   "id": "0b5b126c",
   "metadata": {},
   "outputs": [
    {
     "name": "stdout",
     "output_type": "stream",
     "text": [
      "1-fold\n",
      "    -> R2 score: 0.649753\n",
      "2-fold\n",
      "    -> R2 score: 0.625548\n",
      "3-fold\n",
      "    -> R2 score: 0.670080\n",
      "4-fold\n",
      "    -> R2 score: 0.631091\n",
      "5-fold\n",
      "    -> R2 score: 0.665096\n"
     ]
    }
   ],
   "source": [
    "r2s = []\n",
    "for K in K_fold.keys():\n",
    "    dataset = K_fold[K]\n",
    "    print('%s'%K)\n",
    "    # 모델 정의\n",
    "    np.random.seed(0)\n",
    "    random.seed(0)\n",
    "    tf.random.set_seed(0)\n",
    "    MLP_model = tf.keras.Sequential([\n",
    "        tf.keras.layers.Dense(64, activation = 'relu'),\n",
    "        tf.keras.layers.Dense(32, activation = 'relu'),\n",
    "        tf.keras.layers.Dense(stage2['train_y'].shape[1])\n",
    "    ])\n",
    "    # 모델 컴파일\n",
    "    MLP_model.compile(loss = 'mse',\n",
    "              optimizer = tf.keras.optimizers.SGD(),\n",
    "              metrics = ['mse'])\n",
    "    # 모델 학습\n",
    "    history = MLP_model.fit(dataset['train_X'], dataset['train_y'], epochs = 50, batch_size = 16, verbose = 0)\n",
    "    # 모델 예측\n",
    "    pred = MLP_model.predict(dataset['valid_X'])\n",
    "    # 모델 평가\n",
    "    r2 = sklearn.metrics.r2_score(dataset['valid_y'], pred)\n",
    "    print(\"    -> R2 score: %f\"%r2)\n",
    "    r2s.append(r2)"
   ]
  },
  {
   "cell_type": "code",
   "execution_count": 29,
   "id": "d944a460",
   "metadata": {},
   "outputs": [
    {
     "name": "stdout",
     "output_type": "stream",
     "text": [
      "Average R2 score: 0.648313\n"
     ]
    }
   ],
   "source": [
    "Average_r2 = np.mean(r2s)\n",
    "print(\"Average R2 score: %f\"%Average_r2)"
   ]
  },
  {
   "cell_type": "markdown",
   "id": "33bb35f0",
   "metadata": {},
   "source": [
    "## 3. Residual network"
   ]
  },
  {
   "cell_type": "markdown",
   "id": "9d2948a9",
   "metadata": {},
   "source": [
    "### 3.1 Residual network 정의"
   ]
  },
  {
   "cell_type": "code",
   "execution_count": 30,
   "id": "39598ae7",
   "metadata": {},
   "outputs": [],
   "source": [
    "class ResidualMLP(tf.keras.Model):\n",
    "    def __init__(self, out_dim, use_residual):\n",
    "        super(ResidualMLP, self).__init__()\n",
    "        self.use_residual = use_residual\n",
    "\n",
    "        self.fc1 = tf.keras.layers.Dense(16, activation = 'relu')\n",
    "        self.fc2 = tf.keras.layers.Dense(16, activation = 'relu')\n",
    "        self.fc3 = tf.keras.layers.Dense(16, activation = 'relu')\n",
    "        self.fc4 = tf.keras.layers.Dense(16, activation = 'relu')\n",
    "        self.fc5 = tf.keras.layers.Dense(16, activation = 'relu')\n",
    "        self.fc6 = tf.keras.layers.Dense(16, activation = 'relu')\n",
    "        self.fc7 = tf.keras.layers.Dense(16, activation = 'relu')\n",
    "        self.fc8 = tf.keras.layers.Dense(16, activation = 'relu')\n",
    "        self.fc9 = tf.keras.layers.Dense(out_dim)\n",
    "\n",
    "    def call(self, x):\n",
    "        if self.use_residual:\n",
    "            h = self.fc1(x)\n",
    "            h = self.fc2(h) + h\n",
    "            h = self.fc3(h) + h\n",
    "            h = self.fc4(h) + h\n",
    "            h = self.fc5(h) + h\n",
    "            h = self.fc6(h) + h\n",
    "            h = self.fc7(h) + h\n",
    "            h = self.fc8(h) + h\n",
    "            h = self.fc9(h)\n",
    "        else:\n",
    "            h = self.fc1(x)\n",
    "            h = self.fc2(h)\n",
    "            h = self.fc3(h)\n",
    "            h = self.fc4(h)\n",
    "            h = self.fc5(h)\n",
    "            h = self.fc6(h)\n",
    "            h = self.fc7(h)\n",
    "            h = self.fc8(h)\n",
    "            h = self.fc9(h)\n",
    "        return h"
   ]
  },
  {
   "cell_type": "markdown",
   "id": "d7f3a433",
   "metadata": {},
   "source": [
    "Resiudal network 같이 복잡한 네트워크를 정의하기 위해서는 Sequential 보다 위 처럼 직접 class 를 정의하는 것이 편리합니다."
   ]
  },
  {
   "cell_type": "code",
   "execution_count": 31,
   "id": "bb7a3d05",
   "metadata": {},
   "outputs": [],
   "source": [
    "np.random.seed(0)\n",
    "random.seed(0)\n",
    "tf.random.set_seed(0)\n",
    "MLP_model_residual = ResidualMLP(stage1['train_y'].shape[1], use_residual = True)"
   ]
  },
  {
   "cell_type": "markdown",
   "id": "5e5dc4bd",
   "metadata": {},
   "source": [
    "### 3.2 Residual network 컴파일"
   ]
  },
  {
   "cell_type": "code",
   "execution_count": 32,
   "id": "305baee2",
   "metadata": {},
   "outputs": [],
   "source": [
    "MLP_model_residual.compile(loss = 'mse',\n",
    "              optimizer = tf.keras.optimizers.SGD(),\n",
    "              metrics = ['mse'])"
   ]
  },
  {
   "cell_type": "markdown",
   "id": "02a96979",
   "metadata": {},
   "source": [
    "### 3.3 Residual network 학습"
   ]
  },
  {
   "cell_type": "code",
   "execution_count": 33,
   "id": "d30d36d3",
   "metadata": {
    "scrolled": true
   },
   "outputs": [
    {
     "name": "stdout",
     "output_type": "stream",
     "text": [
      "Epoch 1/50\n",
      "564/564 - 1s - loss: 1.1554 - mse: 1.1554\n",
      "Epoch 2/50\n",
      "564/564 - 1s - loss: 0.8017 - mse: 0.8017\n",
      "Epoch 3/50\n",
      "564/564 - 1s - loss: 0.7440 - mse: 0.7440\n",
      "Epoch 4/50\n",
      "564/564 - 1s - loss: 0.7030 - mse: 0.7030\n",
      "Epoch 5/50\n",
      "564/564 - 1s - loss: 0.6750 - mse: 0.6750\n",
      "Epoch 6/50\n",
      "564/564 - 1s - loss: 0.6579 - mse: 0.6579\n",
      "Epoch 7/50\n",
      "564/564 - 1s - loss: 0.6428 - mse: 0.6428\n",
      "Epoch 8/50\n",
      "564/564 - 1s - loss: 0.6276 - mse: 0.6276\n",
      "Epoch 9/50\n",
      "564/564 - 1s - loss: 0.6121 - mse: 0.6121\n",
      "Epoch 10/50\n",
      "564/564 - 1s - loss: 0.5988 - mse: 0.5988\n",
      "Epoch 11/50\n",
      "564/564 - 1s - loss: 0.5861 - mse: 0.5861\n",
      "Epoch 12/50\n",
      "564/564 - 1s - loss: 0.5740 - mse: 0.5740\n",
      "Epoch 13/50\n",
      "564/564 - 1s - loss: 0.5600 - mse: 0.5600\n",
      "Epoch 14/50\n",
      "564/564 - 1s - loss: 0.5462 - mse: 0.5462\n",
      "Epoch 15/50\n",
      "564/564 - 1s - loss: 0.5387 - mse: 0.5387\n",
      "Epoch 16/50\n",
      "564/564 - 1s - loss: 0.5211 - mse: 0.5211\n",
      "Epoch 17/50\n",
      "564/564 - 1s - loss: 0.5260 - mse: 0.5260\n",
      "Epoch 18/50\n",
      "564/564 - 1s - loss: 0.5154 - mse: 0.5154\n",
      "Epoch 19/50\n",
      "564/564 - 1s - loss: 0.4965 - mse: 0.4965\n",
      "Epoch 20/50\n",
      "564/564 - 1s - loss: 0.5088 - mse: 0.5088\n",
      "Epoch 21/50\n",
      "564/564 - 1s - loss: 0.4901 - mse: 0.4901\n",
      "Epoch 22/50\n",
      "564/564 - 1s - loss: 0.4814 - mse: 0.4814\n",
      "Epoch 23/50\n",
      "564/564 - 1s - loss: 0.4899 - mse: 0.4899\n",
      "Epoch 24/50\n",
      "564/564 - 1s - loss: 0.4749 - mse: 0.4749\n",
      "Epoch 25/50\n",
      "564/564 - 1s - loss: 0.4654 - mse: 0.4654\n",
      "Epoch 26/50\n",
      "564/564 - 1s - loss: 0.4604 - mse: 0.4604\n",
      "Epoch 27/50\n",
      "564/564 - 1s - loss: 0.4650 - mse: 0.4650\n",
      "Epoch 28/50\n",
      "564/564 - 1s - loss: 0.4546 - mse: 0.4546\n",
      "Epoch 29/50\n",
      "564/564 - 1s - loss: 0.4489 - mse: 0.4489\n",
      "Epoch 30/50\n",
      "564/564 - 1s - loss: 0.4364 - mse: 0.4364\n",
      "Epoch 31/50\n",
      "564/564 - 1s - loss: 0.4381 - mse: 0.4381\n",
      "Epoch 32/50\n",
      "564/564 - 1s - loss: 0.4507 - mse: 0.4507\n",
      "Epoch 33/50\n",
      "564/564 - 1s - loss: 0.4155 - mse: 0.4155\n",
      "Epoch 34/50\n",
      "564/564 - 1s - loss: 0.4295 - mse: 0.4295\n",
      "Epoch 35/50\n",
      "564/564 - 0s - loss: 0.4254 - mse: 0.4254\n",
      "Epoch 36/50\n",
      "564/564 - 1s - loss: 0.4478 - mse: 0.4478\n",
      "Epoch 37/50\n",
      "564/564 - 1s - loss: 0.4578 - mse: 0.4578\n",
      "Epoch 38/50\n",
      "564/564 - 1s - loss: 0.4340 - mse: 0.4340\n",
      "Epoch 39/50\n",
      "564/564 - 1s - loss: 0.4451 - mse: 0.4451\n",
      "Epoch 40/50\n",
      "564/564 - 1s - loss: 0.4045 - mse: 0.4045\n",
      "Epoch 41/50\n",
      "564/564 - 1s - loss: 0.4116 - mse: 0.4116\n",
      "Epoch 42/50\n",
      "564/564 - 1s - loss: 0.4163 - mse: 0.4163\n",
      "Epoch 43/50\n",
      "564/564 - 1s - loss: 0.4050 - mse: 0.4050\n",
      "Epoch 44/50\n",
      "564/564 - 1s - loss: 0.3991 - mse: 0.3991\n",
      "Epoch 45/50\n",
      "564/564 - 1s - loss: 0.3947 - mse: 0.3947\n",
      "Epoch 46/50\n",
      "564/564 - 1s - loss: 0.3859 - mse: 0.3859\n",
      "Epoch 47/50\n",
      "564/564 - 1s - loss: 0.4422 - mse: 0.4422\n",
      "Epoch 48/50\n",
      "564/564 - 1s - loss: 0.4300 - mse: 0.4300\n",
      "Epoch 49/50\n",
      "564/564 - 1s - loss: 0.3929 - mse: 0.3929\n",
      "Epoch 50/50\n",
      "564/564 - 1s - loss: 0.3806 - mse: 0.3806\n"
     ]
    }
   ],
   "source": [
    "history = MLP_model_residual.fit(stage1['train_X'], stage1['train_y'], epochs = 50, batch_size = 16, verbose = 2)"
   ]
  },
  {
   "cell_type": "markdown",
   "id": "cbb77741",
   "metadata": {},
   "source": [
    "### 3.4 Residual network 예측 및 평가"
   ]
  },
  {
   "cell_type": "code",
   "execution_count": 34,
   "id": "fee3eb36",
   "metadata": {},
   "outputs": [],
   "source": [
    "pred = MLP_model_residual.predict(stage1['test_X'])"
   ]
  },
  {
   "cell_type": "code",
   "execution_count": 35,
   "id": "ea46812d",
   "metadata": {},
   "outputs": [
    {
     "name": "stdout",
     "output_type": "stream",
     "text": [
      "R2 score: 0.595793\n"
     ]
    }
   ],
   "source": [
    "r2 = sklearn.metrics.r2_score(stage1['test_y'], pred)\n",
    "print(\"R2 score: %f\"%r2)"
   ]
  },
  {
   "cell_type": "markdown",
   "id": "1c1f0c47",
   "metadata": {},
   "source": [
    "### 3.5 일반 MLP 와의 성능 비교"
   ]
  },
  {
   "cell_type": "code",
   "execution_count": 36,
   "id": "da4d44ec",
   "metadata": {},
   "outputs": [],
   "source": [
    "# 모델 정의\n",
    "np.random.seed(0)\n",
    "random.seed(0)\n",
    "tf.random.set_seed(0)\n",
    "MLP_model = ResidualMLP(stage1['train_y'].shape[1], use_residual = False)"
   ]
  },
  {
   "cell_type": "markdown",
   "id": "5288485d",
   "metadata": {},
   "source": [
    "use_residual 을 False로 설정하여 일반 MLP 네트워크를 정의합니다."
   ]
  },
  {
   "cell_type": "code",
   "execution_count": 37,
   "id": "a223f230",
   "metadata": {},
   "outputs": [],
   "source": [
    "# 모델 컴파일\n",
    "MLP_model.compile(loss = 'mse',\n",
    "              optimizer = tf.keras.optimizers.SGD(),\n",
    "              metrics = ['mse'])"
   ]
  },
  {
   "cell_type": "code",
   "execution_count": 38,
   "id": "53eb1e12",
   "metadata": {
    "scrolled": true
   },
   "outputs": [
    {
     "name": "stdout",
     "output_type": "stream",
     "text": [
      "Epoch 1/50\n",
      "564/564 - 1s - loss: 0.9989 - mse: 0.9989\n",
      "Epoch 2/50\n",
      "564/564 - 0s - loss: 0.9883 - mse: 0.9883\n",
      "Epoch 3/50\n",
      "564/564 - 0s - loss: 0.9532 - mse: 0.9532\n",
      "Epoch 4/50\n",
      "564/564 - 0s - loss: 0.8913 - mse: 0.8913\n",
      "Epoch 5/50\n",
      "564/564 - 0s - loss: 0.8536 - mse: 0.8536\n",
      "Epoch 6/50\n",
      "564/564 - 0s - loss: 0.8333 - mse: 0.8333\n",
      "Epoch 7/50\n",
      "564/564 - 0s - loss: 0.8171 - mse: 0.8171\n",
      "Epoch 8/50\n",
      "564/564 - 0s - loss: 0.8006 - mse: 0.8006\n",
      "Epoch 9/50\n",
      "564/564 - 0s - loss: 0.7834 - mse: 0.7834\n",
      "Epoch 10/50\n",
      "564/564 - 1s - loss: 0.7641 - mse: 0.7641\n",
      "Epoch 11/50\n",
      "564/564 - 1s - loss: 0.7450 - mse: 0.7450\n",
      "Epoch 12/50\n",
      "564/564 - 0s - loss: 0.7278 - mse: 0.7278\n",
      "Epoch 13/50\n",
      "564/564 - 0s - loss: 0.7129 - mse: 0.7129\n",
      "Epoch 14/50\n",
      "564/564 - 0s - loss: 0.6995 - mse: 0.6995\n",
      "Epoch 15/50\n",
      "564/564 - 0s - loss: 0.6880 - mse: 0.6880\n",
      "Epoch 16/50\n",
      "564/564 - 0s - loss: 0.6788 - mse: 0.6788\n",
      "Epoch 17/50\n",
      "564/564 - 0s - loss: 0.6704 - mse: 0.6704\n",
      "Epoch 18/50\n",
      "564/564 - 0s - loss: 0.6635 - mse: 0.6635\n",
      "Epoch 19/50\n",
      "564/564 - 0s - loss: 0.6564 - mse: 0.6564\n",
      "Epoch 20/50\n",
      "564/564 - 0s - loss: 0.6506 - mse: 0.6506\n",
      "Epoch 21/50\n",
      "564/564 - 0s - loss: 0.6463 - mse: 0.6463\n",
      "Epoch 22/50\n",
      "564/564 - 0s - loss: 0.6398 - mse: 0.6398\n",
      "Epoch 23/50\n",
      "564/564 - 0s - loss: 0.6365 - mse: 0.6365\n",
      "Epoch 24/50\n",
      "564/564 - 0s - loss: 0.6314 - mse: 0.6314\n",
      "Epoch 25/50\n",
      "564/564 - 0s - loss: 0.6316 - mse: 0.6316\n",
      "Epoch 26/50\n",
      "564/564 - 0s - loss: 0.6234 - mse: 0.6234\n",
      "Epoch 27/50\n",
      "564/564 - 0s - loss: 0.6215 - mse: 0.6215\n",
      "Epoch 28/50\n",
      "564/564 - 0s - loss: 0.6195 - mse: 0.6195\n",
      "Epoch 29/50\n",
      "564/564 - 1s - loss: 0.6158 - mse: 0.6158\n",
      "Epoch 30/50\n",
      "564/564 - 0s - loss: 0.6104 - mse: 0.6104\n",
      "Epoch 31/50\n",
      "564/564 - 0s - loss: 0.6097 - mse: 0.6097\n",
      "Epoch 32/50\n",
      "564/564 - 0s - loss: 0.6053 - mse: 0.6053\n",
      "Epoch 33/50\n",
      "564/564 - 0s - loss: 0.6000 - mse: 0.6000\n",
      "Epoch 34/50\n",
      "564/564 - 0s - loss: 0.5985 - mse: 0.5985\n",
      "Epoch 35/50\n",
      "564/564 - 0s - loss: 0.5941 - mse: 0.5941\n",
      "Epoch 36/50\n",
      "564/564 - 1s - loss: 0.5979 - mse: 0.5979\n",
      "Epoch 37/50\n",
      "564/564 - 0s - loss: 0.5824 - mse: 0.5824\n",
      "Epoch 38/50\n",
      "564/564 - 1s - loss: 0.5906 - mse: 0.5906\n",
      "Epoch 39/50\n",
      "564/564 - 0s - loss: 0.5886 - mse: 0.5886\n",
      "Epoch 40/50\n",
      "564/564 - 0s - loss: 0.5737 - mse: 0.5737\n",
      "Epoch 41/50\n",
      "564/564 - 0s - loss: 0.5773 - mse: 0.5773\n",
      "Epoch 42/50\n",
      "564/564 - 0s - loss: 0.5676 - mse: 0.5676\n",
      "Epoch 43/50\n",
      "564/564 - 0s - loss: 0.5646 - mse: 0.5646\n",
      "Epoch 44/50\n",
      "564/564 - 0s - loss: 0.5438 - mse: 0.5438\n",
      "Epoch 45/50\n",
      "564/564 - 0s - loss: 0.5509 - mse: 0.5509\n",
      "Epoch 46/50\n",
      "564/564 - 0s - loss: 0.5422 - mse: 0.5422\n",
      "Epoch 47/50\n",
      "564/564 - 0s - loss: 0.5478 - mse: 0.5478\n",
      "Epoch 48/50\n",
      "564/564 - 0s - loss: 0.5244 - mse: 0.5244\n",
      "Epoch 49/50\n",
      "564/564 - 0s - loss: 0.5087 - mse: 0.5087\n",
      "Epoch 50/50\n",
      "564/564 - 0s - loss: 0.5269 - mse: 0.5269\n"
     ]
    }
   ],
   "source": [
    "# 모델 학습\n",
    "history = MLP_model.fit(stage1['train_X'], stage1['train_y'], epochs = 50, batch_size = 16, verbose = 2)"
   ]
  },
  {
   "cell_type": "code",
   "execution_count": 39,
   "id": "35c148c5",
   "metadata": {},
   "outputs": [],
   "source": [
    "# 모델 예측\n",
    "pred = MLP_model.predict(stage1['test_X'])"
   ]
  },
  {
   "cell_type": "code",
   "execution_count": 40,
   "id": "7b9910b8",
   "metadata": {},
   "outputs": [
    {
     "name": "stdout",
     "output_type": "stream",
     "text": [
      "R2 score: 0.410394\n"
     ]
    }
   ],
   "source": [
    "# 모델 평가\n",
    "r2 = sklearn.metrics.r2_score(stage1['test_y'], pred)\n",
    "print(\"R2 score: %f\"%r2)"
   ]
  },
  {
   "cell_type": "markdown",
   "id": "7f63d019",
   "metadata": {},
   "source": [
    "Residual network 가 더 성능이 좋은 것을 확인할 수 있습니다."
   ]
  },
  {
   "cell_type": "markdown",
   "id": "c218b3a0",
   "metadata": {},
   "source": [
    "**[TODO] Stage2 데이터에 대해 Residual network 를 학습해보세요.**"
   ]
  },
  {
   "cell_type": "code",
   "execution_count": 41,
   "id": "30d1a902",
   "metadata": {},
   "outputs": [],
   "source": [
    "# resiudal network 모델 정의\n",
    "np.random.seed(0)\n",
    "random.seed(0)\n",
    "tf.random.set_seed(0)\n",
    "MLP_model_residual = ResidualMLP(stage2['train_y'].shape[1], use_residual = True)\n",
    "\n",
    "# resiudal network 사용하지 않는 모델 정의\n",
    "np.random.seed(0)\n",
    "random.seed(0)\n",
    "tf.random.set_seed(0)\n",
    "MLP_model = ResidualMLP(stage2['train_y'].shape[1], use_residual = False)"
   ]
  },
  {
   "cell_type": "code",
   "execution_count": 42,
   "id": "2996db5e",
   "metadata": {},
   "outputs": [],
   "source": [
    "# 모델 컴파일\n",
    "MLP_model_residual.compile(loss = 'mse',\n",
    "              optimizer = tf.keras.optimizers.SGD(),\n",
    "              metrics = ['mse'])\n",
    "MLP_model.compile(loss = 'mse',\n",
    "              optimizer = tf.keras.optimizers.SGD(),\n",
    "              metrics = ['mse'])"
   ]
  },
  {
   "cell_type": "code",
   "execution_count": 43,
   "id": "9e506682",
   "metadata": {
    "scrolled": true
   },
   "outputs": [
    {
     "name": "stdout",
     "output_type": "stream",
     "text": [
      "Epoch 1/50\n",
      "564/564 - 1s - loss: 1.1114 - mse: 1.1114\n",
      "Epoch 2/50\n",
      "564/564 - 1s - loss: 0.5810 - mse: 0.5810\n",
      "Epoch 3/50\n",
      "564/564 - 0s - loss: 0.5183 - mse: 0.5183\n",
      "Epoch 4/50\n",
      "564/564 - 1s - loss: 0.4848 - mse: 0.4848\n",
      "Epoch 5/50\n",
      "564/564 - 1s - loss: 0.4677 - mse: 0.4677\n",
      "Epoch 6/50\n",
      "564/564 - 1s - loss: 0.4565 - mse: 0.4565\n",
      "Epoch 7/50\n",
      "564/564 - 1s - loss: 0.4483 - mse: 0.4483\n",
      "Epoch 8/50\n",
      "564/564 - 1s - loss: 0.4412 - mse: 0.4412\n",
      "Epoch 9/50\n",
      "564/564 - 1s - loss: 0.4346 - mse: 0.4346\n",
      "Epoch 10/50\n",
      "564/564 - 1s - loss: 0.4279 - mse: 0.4279\n",
      "Epoch 11/50\n",
      "564/564 - 0s - loss: 0.4218 - mse: 0.4218\n",
      "Epoch 12/50\n",
      "564/564 - 0s - loss: 0.4168 - mse: 0.4168\n",
      "Epoch 13/50\n",
      "564/564 - 1s - loss: 0.4119 - mse: 0.4119\n",
      "Epoch 14/50\n",
      "564/564 - 1s - loss: 0.4071 - mse: 0.4071\n",
      "Epoch 15/50\n",
      "564/564 - 1s - loss: 0.4026 - mse: 0.4026\n",
      "Epoch 16/50\n",
      "564/564 - 1s - loss: 0.3977 - mse: 0.3977\n",
      "Epoch 17/50\n",
      "564/564 - 1s - loss: 0.3919 - mse: 0.3919\n",
      "Epoch 18/50\n",
      "564/564 - 1s - loss: 0.3885 - mse: 0.3885\n",
      "Epoch 19/50\n",
      "564/564 - 1s - loss: 0.3846 - mse: 0.3846\n",
      "Epoch 20/50\n",
      "564/564 - 1s - loss: 0.3808 - mse: 0.3808\n",
      "Epoch 21/50\n",
      "564/564 - 1s - loss: 0.3775 - mse: 0.3775\n",
      "Epoch 22/50\n",
      "564/564 - 1s - loss: 0.3735 - mse: 0.3735\n",
      "Epoch 23/50\n",
      "564/564 - 1s - loss: 0.3715 - mse: 0.3715\n",
      "Epoch 24/50\n",
      "564/564 - 1s - loss: 0.3681 - mse: 0.3681\n",
      "Epoch 25/50\n",
      "564/564 - 1s - loss: 0.3652 - mse: 0.3652\n",
      "Epoch 26/50\n",
      "564/564 - 0s - loss: 0.3622 - mse: 0.3622\n",
      "Epoch 27/50\n",
      "564/564 - 1s - loss: 0.3608 - mse: 0.3608\n",
      "Epoch 28/50\n",
      "564/564 - 1s - loss: 0.3578 - mse: 0.3578\n",
      "Epoch 29/50\n",
      "564/564 - 1s - loss: 0.3556 - mse: 0.3556\n",
      "Epoch 30/50\n",
      "564/564 - 1s - loss: 0.3539 - mse: 0.3539\n",
      "Epoch 31/50\n",
      "564/564 - 1s - loss: 0.3523 - mse: 0.3523\n",
      "Epoch 32/50\n",
      "564/564 - 1s - loss: 0.3504 - mse: 0.3504\n",
      "Epoch 33/50\n",
      "564/564 - 1s - loss: 0.3491 - mse: 0.3491\n",
      "Epoch 34/50\n",
      "564/564 - 1s - loss: 0.3479 - mse: 0.3479\n",
      "Epoch 35/50\n",
      "564/564 - 0s - loss: 0.3463 - mse: 0.3463\n",
      "Epoch 36/50\n",
      "564/564 - 1s - loss: 0.3455 - mse: 0.3455\n",
      "Epoch 37/50\n",
      "564/564 - 1s - loss: 0.3441 - mse: 0.3441\n",
      "Epoch 38/50\n",
      "564/564 - 1s - loss: 0.3431 - mse: 0.3431\n",
      "Epoch 39/50\n",
      "564/564 - 1s - loss: 0.3423 - mse: 0.3423\n",
      "Epoch 40/50\n",
      "564/564 - 1s - loss: 0.3410 - mse: 0.3410\n",
      "Epoch 41/50\n",
      "564/564 - 1s - loss: 0.3399 - mse: 0.3399\n",
      "Epoch 42/50\n",
      "564/564 - 1s - loss: 0.3397 - mse: 0.3397\n",
      "Epoch 43/50\n",
      "564/564 - 1s - loss: 0.3387 - mse: 0.3387\n",
      "Epoch 44/50\n",
      "564/564 - 1s - loss: 0.3379 - mse: 0.3379\n",
      "Epoch 45/50\n",
      "564/564 - 1s - loss: 0.3369 - mse: 0.3369\n",
      "Epoch 46/50\n",
      "564/564 - 1s - loss: 0.3362 - mse: 0.3362\n",
      "Epoch 47/50\n",
      "564/564 - 1s - loss: 0.3358 - mse: 0.3358\n",
      "Epoch 48/50\n",
      "564/564 - 1s - loss: 0.3349 - mse: 0.3349\n",
      "Epoch 49/50\n",
      "564/564 - 1s - loss: 0.3333 - mse: 0.3333\n",
      "Epoch 50/50\n",
      "564/564 - 1s - loss: 0.3332 - mse: 0.3332\n"
     ]
    },
    {
     "data": {
      "text/plain": [
       "<tensorflow.python.keras.callbacks.History at 0x7f55b8687eb0>"
      ]
     },
     "execution_count": 43,
     "metadata": {},
     "output_type": "execute_result"
    }
   ],
   "source": [
    "# residual 모델 학습\n",
    "MLP_model_residual.fit(stage2['train_X'], stage2['train_y'], epochs = 50, batch_size = 16, verbose = 2)"
   ]
  },
  {
   "cell_type": "code",
   "execution_count": 44,
   "id": "c5a81bdd",
   "metadata": {
    "scrolled": true
   },
   "outputs": [
    {
     "name": "stdout",
     "output_type": "stream",
     "text": [
      "Epoch 1/50\n",
      "564/564 - 1s - loss: 0.9889 - mse: 0.9889\n",
      "Epoch 2/50\n",
      "564/564 - 0s - loss: 0.8115 - mse: 0.8115\n",
      "Epoch 3/50\n",
      "564/564 - 0s - loss: 0.6353 - mse: 0.6353\n",
      "Epoch 4/50\n",
      "564/564 - 0s - loss: 0.6166 - mse: 0.6166\n",
      "Epoch 5/50\n",
      "564/564 - 0s - loss: 0.5992 - mse: 0.5992\n",
      "Epoch 6/50\n",
      "564/564 - 0s - loss: 0.5780 - mse: 0.5780\n",
      "Epoch 7/50\n",
      "564/564 - 0s - loss: 0.5562 - mse: 0.5562\n",
      "Epoch 8/50\n",
      "564/564 - 0s - loss: 0.5357 - mse: 0.5357\n",
      "Epoch 9/50\n",
      "564/564 - 0s - loss: 0.5174 - mse: 0.5174\n",
      "Epoch 10/50\n",
      "564/564 - 0s - loss: 0.5026 - mse: 0.5026\n",
      "Epoch 11/50\n",
      "564/564 - 0s - loss: 0.4900 - mse: 0.4900\n",
      "Epoch 12/50\n",
      "564/564 - 0s - loss: 0.4805 - mse: 0.4805\n",
      "Epoch 13/50\n",
      "564/564 - 0s - loss: 0.4731 - mse: 0.4731\n",
      "Epoch 14/50\n",
      "564/564 - 0s - loss: 0.4647 - mse: 0.4647\n",
      "Epoch 15/50\n",
      "564/564 - 0s - loss: 0.4579 - mse: 0.4579\n",
      "Epoch 16/50\n",
      "564/564 - 0s - loss: 0.4475 - mse: 0.4475\n",
      "Epoch 17/50\n",
      "564/564 - 0s - loss: 0.4348 - mse: 0.4348\n",
      "Epoch 18/50\n",
      "564/564 - 0s - loss: 0.4253 - mse: 0.4253\n",
      "Epoch 19/50\n",
      "564/564 - 0s - loss: 0.4197 - mse: 0.4197\n",
      "Epoch 20/50\n",
      "564/564 - 0s - loss: 0.4145 - mse: 0.4145\n",
      "Epoch 21/50\n",
      "564/564 - 0s - loss: 0.4109 - mse: 0.4109\n",
      "Epoch 22/50\n",
      "564/564 - 0s - loss: 0.4073 - mse: 0.4073\n",
      "Epoch 23/50\n",
      "564/564 - 0s - loss: 0.4043 - mse: 0.4043\n",
      "Epoch 24/50\n",
      "564/564 - 0s - loss: 0.4010 - mse: 0.4010\n",
      "Epoch 25/50\n",
      "564/564 - 0s - loss: 0.3957 - mse: 0.3957\n",
      "Epoch 26/50\n",
      "564/564 - 0s - loss: 0.3906 - mse: 0.3906\n",
      "Epoch 27/50\n",
      "564/564 - 0s - loss: 0.3884 - mse: 0.3884\n",
      "Epoch 28/50\n",
      "564/564 - 0s - loss: 0.3826 - mse: 0.3826\n",
      "Epoch 29/50\n",
      "564/564 - 0s - loss: 0.3796 - mse: 0.3796\n",
      "Epoch 30/50\n",
      "564/564 - 0s - loss: 0.3771 - mse: 0.3771\n",
      "Epoch 31/50\n",
      "564/564 - 0s - loss: 0.3730 - mse: 0.3730\n",
      "Epoch 32/50\n",
      "564/564 - 0s - loss: 0.3687 - mse: 0.3687\n",
      "Epoch 33/50\n",
      "564/564 - 0s - loss: 0.3682 - mse: 0.3682\n",
      "Epoch 34/50\n",
      "564/564 - 0s - loss: 0.3637 - mse: 0.3637\n",
      "Epoch 35/50\n",
      "564/564 - 0s - loss: 0.3629 - mse: 0.3629\n",
      "Epoch 36/50\n",
      "564/564 - 0s - loss: 0.3624 - mse: 0.3624\n",
      "Epoch 37/50\n",
      "564/564 - 0s - loss: 0.3598 - mse: 0.3598\n",
      "Epoch 38/50\n",
      "564/564 - 0s - loss: 0.3582 - mse: 0.3582\n",
      "Epoch 39/50\n",
      "564/564 - 0s - loss: 0.3575 - mse: 0.3575\n",
      "Epoch 40/50\n",
      "564/564 - 0s - loss: 0.3558 - mse: 0.3558\n",
      "Epoch 41/50\n",
      "564/564 - 0s - loss: 0.3529 - mse: 0.3529\n",
      "Epoch 42/50\n",
      "564/564 - 0s - loss: 0.3510 - mse: 0.3510\n",
      "Epoch 43/50\n",
      "564/564 - 0s - loss: 0.3523 - mse: 0.3523\n",
      "Epoch 44/50\n",
      "564/564 - 0s - loss: 0.3502 - mse: 0.3502\n",
      "Epoch 45/50\n",
      "564/564 - 0s - loss: 0.3498 - mse: 0.3498\n",
      "Epoch 46/50\n",
      "564/564 - 0s - loss: 0.3484 - mse: 0.3484\n",
      "Epoch 47/50\n",
      "564/564 - 0s - loss: 0.3471 - mse: 0.3471\n",
      "Epoch 48/50\n",
      "564/564 - 0s - loss: 0.3448 - mse: 0.3448\n",
      "Epoch 49/50\n",
      "564/564 - 0s - loss: 0.3433 - mse: 0.3433\n",
      "Epoch 50/50\n",
      "564/564 - 0s - loss: 0.3442 - mse: 0.3442\n"
     ]
    },
    {
     "data": {
      "text/plain": [
       "<tensorflow.python.keras.callbacks.History at 0x7f55e01fe160>"
      ]
     },
     "execution_count": 44,
     "metadata": {},
     "output_type": "execute_result"
    }
   ],
   "source": [
    "# 일반 MLP 모델 학습\n",
    "MLP_model.fit(stage2['train_X'], stage2['train_y'], epochs = 50, batch_size = 16, verbose = 2)"
   ]
  },
  {
   "cell_type": "code",
   "execution_count": 63,
   "id": "03df3bb3",
   "metadata": {},
   "outputs": [],
   "source": [
    "# Residual 모델 예측\n",
    "pred = MLP_model_residual.predict(stage2['test_X'])"
   ]
  },
  {
   "cell_type": "code",
   "execution_count": 64,
   "id": "0e725911",
   "metadata": {},
   "outputs": [
    {
     "name": "stdout",
     "output_type": "stream",
     "text": [
      "R2 score: 0.660308\n"
     ]
    }
   ],
   "source": [
    "# Residual 모델 평가\n",
    "r2 = sklearn.metrics.r2_score(stage2['test_y'], pred)\n",
    "print(\"R2 score: %f\"%r2)"
   ]
  },
  {
   "cell_type": "code",
   "execution_count": 47,
   "id": "e11f3cff",
   "metadata": {},
   "outputs": [],
   "source": [
    "# 일반 MLP 모델 예측\n",
    "pred = MLP_model.predict(stage2['test_X'])"
   ]
  },
  {
   "cell_type": "code",
   "execution_count": 48,
   "id": "ef668bb8",
   "metadata": {},
   "outputs": [
    {
     "name": "stdout",
     "output_type": "stream",
     "text": [
      "R2 score: 0.638714\n"
     ]
    }
   ],
   "source": [
    "# 일반 MLP 모델 평가\n",
    "r2 = sklearn.metrics.r2_score(stage2['test_y'], pred)\n",
    "print(\"R2 score: %f\"%r2)"
   ]
  },
  {
   "cell_type": "markdown",
   "id": "8eb2bf50",
   "metadata": {},
   "source": [
    "## 4. Positional encoding"
   ]
  },
  {
   "cell_type": "code",
   "execution_count": 49,
   "id": "558159ac",
   "metadata": {},
   "outputs": [],
   "source": [
    "def positional_encoding(X, L):\n",
    "    Xs = []\n",
    "    for l in range(L):\n",
    "        Xs.append(np.sin(2 ** l * np.pi * X))\n",
    "        Xs.append(np.cos(2 ** l * np.pi * X))        \n",
    "    return np.concatenate(Xs, axis = -1)"
   ]
  },
  {
   "cell_type": "markdown",
   "id": "43a59548",
   "metadata": {},
   "source": [
    "입력 데이터를 L개의 frequency를 가진 데이터로 변환하는 함수를 정의합니다."
   ]
  },
  {
   "cell_type": "code",
   "execution_count": 50,
   "id": "365497ee",
   "metadata": {},
   "outputs": [],
   "source": [
    "train_X = positional_encoding(stage1['train_X'], 5)\n",
    "test_X = positional_encoding(stage1['test_X'], 5)"
   ]
  },
  {
   "cell_type": "code",
   "execution_count": 51,
   "id": "f4c33484",
   "metadata": {},
   "outputs": [
    {
     "data": {
      "text/plain": [
       "(9016, 370)"
      ]
     },
     "execution_count": 51,
     "metadata": {},
     "output_type": "execute_result"
    }
   ],
   "source": [
    "train_X.shape"
   ]
  },
  {
   "cell_type": "code",
   "execution_count": 52,
   "id": "37ae3836",
   "metadata": {},
   "outputs": [],
   "source": [
    "np.random.seed(0)\n",
    "random.seed(0)\n",
    "tf.random.set_seed(0)\n",
    "MLP_model_pe = ResidualMLP(stage1['train_y'].shape[1], use_residual = True)"
   ]
  },
  {
   "cell_type": "code",
   "execution_count": 53,
   "id": "23ee48f1",
   "metadata": {},
   "outputs": [],
   "source": [
    "MLP_model_pe.compile(loss = 'mse',\n",
    "              optimizer = tf.keras.optimizers.SGD(),\n",
    "              metrics = ['mse'])"
   ]
  },
  {
   "cell_type": "code",
   "execution_count": 54,
   "id": "bc8bf990",
   "metadata": {
    "scrolled": true
   },
   "outputs": [
    {
     "name": "stdout",
     "output_type": "stream",
     "text": [
      "Epoch 1/50\n",
      "564/564 - 1s - loss: 0.9860 - mse: 0.9860\n",
      "Epoch 2/50\n",
      "564/564 - 1s - loss: 0.7869 - mse: 0.7869\n",
      "Epoch 3/50\n",
      "564/564 - 1s - loss: 0.7251 - mse: 0.7251\n",
      "Epoch 4/50\n",
      "564/564 - 1s - loss: 0.6654 - mse: 0.6654\n",
      "Epoch 5/50\n",
      "564/564 - 1s - loss: 0.6307 - mse: 0.6307\n",
      "Epoch 6/50\n",
      "564/564 - 1s - loss: 0.6077 - mse: 0.6077\n",
      "Epoch 7/50\n",
      "564/564 - 1s - loss: 0.5850 - mse: 0.5850\n",
      "Epoch 8/50\n",
      "564/564 - 1s - loss: 0.5548 - mse: 0.5548\n",
      "Epoch 9/50\n",
      "564/564 - 1s - loss: 0.5220 - mse: 0.5220\n",
      "Epoch 10/50\n",
      "564/564 - 1s - loss: 0.4918 - mse: 0.4918\n",
      "Epoch 11/50\n",
      "564/564 - 1s - loss: 0.4750 - mse: 0.4750\n",
      "Epoch 12/50\n",
      "564/564 - 1s - loss: 0.4494 - mse: 0.4494\n",
      "Epoch 13/50\n",
      "564/564 - 1s - loss: 0.4307 - mse: 0.4307\n",
      "Epoch 14/50\n",
      "564/564 - 1s - loss: 0.4168 - mse: 0.4168\n",
      "Epoch 15/50\n",
      "564/564 - 1s - loss: 0.4058 - mse: 0.4058\n",
      "Epoch 16/50\n",
      "564/564 - 1s - loss: 0.3917 - mse: 0.3917\n",
      "Epoch 17/50\n",
      "564/564 - 1s - loss: 0.3935 - mse: 0.3935\n",
      "Epoch 18/50\n",
      "564/564 - 1s - loss: 0.3991 - mse: 0.3991\n",
      "Epoch 19/50\n",
      "564/564 - 1s - loss: 0.3859 - mse: 0.3859\n",
      "Epoch 20/50\n",
      "564/564 - 1s - loss: 0.3765 - mse: 0.3765\n",
      "Epoch 21/50\n",
      "564/564 - 1s - loss: 0.3698 - mse: 0.3698\n",
      "Epoch 22/50\n",
      "564/564 - 1s - loss: 0.3955 - mse: 0.3955\n",
      "Epoch 23/50\n",
      "564/564 - 1s - loss: 0.3946 - mse: 0.3946\n",
      "Epoch 24/50\n",
      "564/564 - 1s - loss: 0.3739 - mse: 0.3739\n",
      "Epoch 25/50\n",
      "564/564 - 1s - loss: 0.3612 - mse: 0.3612\n",
      "Epoch 26/50\n",
      "564/564 - 1s - loss: 0.3550 - mse: 0.3550\n",
      "Epoch 27/50\n",
      "564/564 - 1s - loss: 0.3508 - mse: 0.3508\n",
      "Epoch 28/50\n",
      "564/564 - 1s - loss: 0.3473 - mse: 0.3473\n",
      "Epoch 29/50\n",
      "564/564 - 1s - loss: 0.3460 - mse: 0.3460\n",
      "Epoch 30/50\n",
      "564/564 - 1s - loss: 0.3474 - mse: 0.3474\n",
      "Epoch 31/50\n",
      "564/564 - 1s - loss: 0.3418 - mse: 0.3418\n",
      "Epoch 32/50\n",
      "564/564 - 1s - loss: 0.3401 - mse: 0.3401\n",
      "Epoch 33/50\n",
      "564/564 - 1s - loss: 0.3394 - mse: 0.3394\n",
      "Epoch 34/50\n",
      "564/564 - 1s - loss: 0.3453 - mse: 0.3453\n",
      "Epoch 35/50\n",
      "564/564 - 1s - loss: 0.3679 - mse: 0.3679\n",
      "Epoch 36/50\n",
      "564/564 - 1s - loss: 0.3631 - mse: 0.3631\n",
      "Epoch 37/50\n",
      "564/564 - 1s - loss: 0.3596 - mse: 0.3596\n",
      "Epoch 38/50\n",
      "564/564 - 1s - loss: 0.3467 - mse: 0.3467\n",
      "Epoch 39/50\n",
      "564/564 - 1s - loss: 0.3340 - mse: 0.3340\n",
      "Epoch 40/50\n",
      "564/564 - 1s - loss: 0.3364 - mse: 0.3364\n",
      "Epoch 41/50\n",
      "564/564 - 1s - loss: 0.3306 - mse: 0.3306\n",
      "Epoch 42/50\n",
      "564/564 - 1s - loss: 0.3263 - mse: 0.3263\n",
      "Epoch 43/50\n",
      "564/564 - 1s - loss: 0.3230 - mse: 0.3230\n",
      "Epoch 44/50\n",
      "564/564 - 1s - loss: 0.3203 - mse: 0.3203\n",
      "Epoch 45/50\n",
      "564/564 - 1s - loss: 0.3170 - mse: 0.3170\n",
      "Epoch 46/50\n",
      "564/564 - 1s - loss: 0.3165 - mse: 0.3165\n",
      "Epoch 47/50\n",
      "564/564 - 1s - loss: 0.3139 - mse: 0.3139\n",
      "Epoch 48/50\n",
      "564/564 - 1s - loss: 0.3645 - mse: 0.3645\n",
      "Epoch 49/50\n",
      "564/564 - 1s - loss: 0.3229 - mse: 0.3229\n",
      "Epoch 50/50\n",
      "564/564 - 1s - loss: 0.3323 - mse: 0.3323\n"
     ]
    }
   ],
   "source": [
    "history = MLP_model_pe.fit(train_X, stage1['train_y'], epochs = 50, batch_size = 16, verbose = 2)"
   ]
  },
  {
   "cell_type": "code",
   "execution_count": 55,
   "id": "76bcf626",
   "metadata": {},
   "outputs": [],
   "source": [
    "pred = MLP_model_pe.predict(test_X)"
   ]
  },
  {
   "cell_type": "code",
   "execution_count": 56,
   "id": "4ff0d366",
   "metadata": {},
   "outputs": [
    {
     "name": "stdout",
     "output_type": "stream",
     "text": [
      "R2 score: 0.599138\n"
     ]
    }
   ],
   "source": [
    "r2 = sklearn.metrics.r2_score(stage1['test_y'], pred)\n",
    "print(\"R2 score: %f\"%r2)"
   ]
  },
  {
   "cell_type": "markdown",
   "id": "2cf0d1a3",
   "metadata": {},
   "source": [
    "**[TODO] Stage2 데이터에 대해 positional encoding 적용해보기**"
   ]
  },
  {
   "cell_type": "code",
   "execution_count": 57,
   "id": "d0e78ca6",
   "metadata": {},
   "outputs": [],
   "source": [
    "train_X = positional_encoding(stage2['train_X'], 5)\n",
    "test_X = positional_encoding(stage2['test_X'], 5)"
   ]
  },
  {
   "cell_type": "code",
   "execution_count": 58,
   "id": "d5b985f4",
   "metadata": {},
   "outputs": [],
   "source": [
    "np.random.seed(0)\n",
    "random.seed(0)\n",
    "tf.random.set_seed(0)\n",
    "MLP_model_pe = ResidualMLP(stage2['train_y'].shape[1], use_residual = True)"
   ]
  },
  {
   "cell_type": "code",
   "execution_count": 59,
   "id": "aa1b35ec",
   "metadata": {},
   "outputs": [],
   "source": [
    "MLP_model_pe.compile(loss = 'mse',\n",
    "              optimizer = tf.keras.optimizers.SGD(),\n",
    "              metrics = ['mse'])"
   ]
  },
  {
   "cell_type": "code",
   "execution_count": 60,
   "id": "2866834c",
   "metadata": {
    "scrolled": true
   },
   "outputs": [
    {
     "name": "stdout",
     "output_type": "stream",
     "text": [
      "Epoch 1/50\n",
      "564/564 - 1s - loss: 0.8095 - mse: 0.8095\n",
      "Epoch 2/50\n",
      "564/564 - 1s - loss: 0.5806 - mse: 0.5806\n",
      "Epoch 3/50\n",
      "564/564 - 1s - loss: 0.5197 - mse: 0.5197\n",
      "Epoch 4/50\n",
      "564/564 - 1s - loss: 0.4760 - mse: 0.4760\n",
      "Epoch 5/50\n",
      "564/564 - 1s - loss: 0.4564 - mse: 0.4564\n",
      "Epoch 6/50\n",
      "564/564 - 1s - loss: 0.4457 - mse: 0.4457\n",
      "Epoch 7/50\n",
      "564/564 - 1s - loss: 0.4380 - mse: 0.4380\n",
      "Epoch 8/50\n",
      "564/564 - 1s - loss: 0.4315 - mse: 0.4315\n",
      "Epoch 9/50\n",
      "564/564 - 1s - loss: 0.4273 - mse: 0.4273\n",
      "Epoch 10/50\n",
      "564/564 - 1s - loss: 0.4226 - mse: 0.4226\n",
      "Epoch 11/50\n",
      "564/564 - 1s - loss: 0.4099 - mse: 0.4099\n",
      "Epoch 12/50\n",
      "564/564 - 1s - loss: 0.3824 - mse: 0.3824\n",
      "Epoch 13/50\n",
      "564/564 - 1s - loss: 0.3616 - mse: 0.3616\n",
      "Epoch 14/50\n",
      "564/564 - 1s - loss: 0.3534 - mse: 0.3534\n",
      "Epoch 15/50\n",
      "564/564 - 1s - loss: 0.3477 - mse: 0.3477\n",
      "Epoch 16/50\n",
      "564/564 - 1s - loss: 0.3446 - mse: 0.3446\n",
      "Epoch 17/50\n",
      "564/564 - 1s - loss: 0.3416 - mse: 0.3416\n",
      "Epoch 18/50\n",
      "564/564 - 1s - loss: 0.3386 - mse: 0.3386\n",
      "Epoch 19/50\n",
      "564/564 - 1s - loss: 0.3359 - mse: 0.3359\n",
      "Epoch 20/50\n",
      "564/564 - 1s - loss: 0.3334 - mse: 0.3334\n",
      "Epoch 21/50\n",
      "564/564 - 1s - loss: 0.3287 - mse: 0.3287\n",
      "Epoch 22/50\n",
      "564/564 - 1s - loss: 0.3265 - mse: 0.3265\n",
      "Epoch 23/50\n",
      "564/564 - 1s - loss: 0.3231 - mse: 0.3231\n",
      "Epoch 24/50\n",
      "564/564 - 1s - loss: 0.3218 - mse: 0.3218\n",
      "Epoch 25/50\n",
      "564/564 - 1s - loss: 0.3192 - mse: 0.3192\n",
      "Epoch 26/50\n",
      "564/564 - 1s - loss: 0.3184 - mse: 0.3184\n",
      "Epoch 27/50\n",
      "564/564 - 1s - loss: 0.3170 - mse: 0.3170\n",
      "Epoch 28/50\n",
      "564/564 - 1s - loss: 0.3152 - mse: 0.3152\n",
      "Epoch 29/50\n",
      "564/564 - 1s - loss: 0.3143 - mse: 0.3143\n",
      "Epoch 30/50\n",
      "564/564 - 1s - loss: 0.3145 - mse: 0.3145\n",
      "Epoch 31/50\n",
      "564/564 - 1s - loss: 0.3126 - mse: 0.3126\n",
      "Epoch 32/50\n",
      "564/564 - 1s - loss: 0.3123 - mse: 0.3123\n",
      "Epoch 33/50\n",
      "564/564 - 1s - loss: 0.3111 - mse: 0.3111\n",
      "Epoch 34/50\n",
      "564/564 - 1s - loss: 0.3103 - mse: 0.3103\n",
      "Epoch 35/50\n",
      "564/564 - 1s - loss: 0.3106 - mse: 0.3106\n",
      "Epoch 36/50\n",
      "564/564 - 1s - loss: 0.3093 - mse: 0.3093\n",
      "Epoch 37/50\n",
      "564/564 - 1s - loss: 0.3092 - mse: 0.3092\n",
      "Epoch 38/50\n",
      "564/564 - 1s - loss: 0.3083 - mse: 0.3083\n",
      "Epoch 39/50\n",
      "564/564 - 1s - loss: 0.3080 - mse: 0.3080\n",
      "Epoch 40/50\n",
      "564/564 - 1s - loss: 0.3070 - mse: 0.3070\n",
      "Epoch 41/50\n",
      "564/564 - 1s - loss: 0.3067 - mse: 0.3067\n",
      "Epoch 42/50\n",
      "564/564 - 1s - loss: 0.3063 - mse: 0.3063\n",
      "Epoch 43/50\n",
      "564/564 - 1s - loss: 0.3059 - mse: 0.3059\n",
      "Epoch 44/50\n",
      "564/564 - 1s - loss: 0.3053 - mse: 0.3053\n",
      "Epoch 45/50\n",
      "564/564 - 1s - loss: 0.3049 - mse: 0.3049\n",
      "Epoch 46/50\n",
      "564/564 - 1s - loss: 0.3045 - mse: 0.3045\n",
      "Epoch 47/50\n",
      "564/564 - 1s - loss: 0.3040 - mse: 0.3040\n",
      "Epoch 48/50\n",
      "564/564 - 1s - loss: 0.3043 - mse: 0.3043\n",
      "Epoch 49/50\n",
      "564/564 - 1s - loss: 0.3030 - mse: 0.3030\n",
      "Epoch 50/50\n",
      "564/564 - 1s - loss: 0.3030 - mse: 0.3030\n"
     ]
    }
   ],
   "source": [
    "history = MLP_model_pe.fit(train_X, stage2['train_y'], epochs = 50, batch_size = 16, verbose = 2)"
   ]
  },
  {
   "cell_type": "code",
   "execution_count": 61,
   "id": "9f376aad",
   "metadata": {},
   "outputs": [],
   "source": [
    "pred = MLP_model_pe.predict(test_X)"
   ]
  },
  {
   "cell_type": "code",
   "execution_count": 62,
   "id": "eaff939a",
   "metadata": {},
   "outputs": [
    {
     "name": "stdout",
     "output_type": "stream",
     "text": [
      "R2 score: 0.672677\n"
     ]
    }
   ],
   "source": [
    "r2 = sklearn.metrics.r2_score(stage2['test_y'], pred)\n",
    "print(\"R2 score: %f\"%r2)"
   ]
  },
  {
   "cell_type": "markdown",
   "id": "835a8e1a",
   "metadata": {},
   "source": [
    "## 5. 최적의 머신러닝 모델 구현"
   ]
  },
  {
   "cell_type": "markdown",
   "id": "5a12c945",
   "metadata": {},
   "source": [
    "여태까지 배운 머신러닝 방법론을 종합하여 금속분말 데이터셋에 대해 최고 성능을 발휘하는 최적의 모델을 만들어보세요."
   ]
  },
  {
   "cell_type": "markdown",
   "id": "b0eda877",
   "metadata": {},
   "source": [
    "<span style=\"color:rgb(120, 120, 120)\">본 학습 자료를 포함한 사이트 내 모든 자료의 저작권은 엘리스에 있으며 외부로의 무단 복제, 배포 및 전송을 불허합니다.\n",
    "\n",
    "Copyright @ elice all rights reserved</span>"
   ]
  }
 ],
 "metadata": {
  "kernelspec": {
   "display_name": "Python 3 (ipykernel)",
   "language": "python",
   "name": "python3"
  },
  "language_info": {
   "codemirror_mode": {
    "name": "ipython",
    "version": 3
   },
   "file_extension": ".py",
   "mimetype": "text/x-python",
   "name": "python",
   "nbconvert_exporter": "python",
   "pygments_lexer": "ipython3",
   "version": "3.9.13"
  }
 },
 "nbformat": 4,
 "nbformat_minor": 5
}
