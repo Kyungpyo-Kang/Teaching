{
 "cells": [
  {
   "cell_type": "markdown",
   "id": "32b375f6",
   "metadata": {},
   "source": [
    "# [실습4] 금속분말 생성공정 최적화를 위한 비선형회귀 기법\n"
   ]
  },
  {
   "cell_type": "markdown",
   "id": "54719ff7",
   "metadata": {},
   "source": [
    "---"
   ]
  },
  {
   "cell_type": "markdown",
   "id": "b55a96e8",
   "metadata": {},
   "source": [
    "## 실습 목표\n",
    "---\n",
    "- 다항회귀 분석을 수행해봅니다.\n",
    "- MLP 모델을 구현해봅니다.\n",
    "- 다양한 학습률을 비교해봅니다.\n",
    "- 다양한 최적화 함수를 비교해봅니다.\n",
    "- 금속분말 데이터를 MLP 모델에 적용해봅니다."
   ]
  },
  {
   "cell_type": "markdown",
   "id": "9455be8b",
   "metadata": {},
   "source": [
    "## 실습 목차\n",
    "---\n",
    "1. **다항 회귀 분석 수행:** 다항 회귀 분석 모델을 학습, 예측, 평가해봅니다.\n",
    "\n",
    "2. **MLP 모델의 구현:** Keras 를 이용한 MLP 구현\n",
    "\n",
    "3. **회귀 모델 수행:** 금속분말 데이터셋을 이용하여 회귀모델 학습"
   ]
  },
  {
   "cell_type": "markdown",
   "id": "a447d7a2",
   "metadata": {},
   "source": [
    "## 실습 개요\n",
    "---\n",
    "\n",
    "이번 실습에서는 다항 회귀 분석을 수행해보고, 비선형 데이터를 다룰 수 있는 MLP 모델에 대해 배워봅니다."
   ]
  },
  {
   "cell_type": "markdown",
   "id": "588c5f25",
   "metadata": {},
   "source": [
    "## 1. 다항회귀 분석 수행\n",
    "---\n",
    "다항 회귀 분석 모델을 구현해보고, 성능을 비교해봅니다.\n"
   ]
  },
  {
   "cell_type": "markdown",
   "id": "c6e4c52e",
   "metadata": {},
   "source": [
    "### 1.1 라이브러리 불러오기"
   ]
  },
  {
   "cell_type": "code",
   "execution_count": 1,
   "id": "fcd88fed",
   "metadata": {},
   "outputs": [],
   "source": [
    "import numpy as np\n",
    "from matplotlib import pyplot as plt\n",
    "%matplotlib inline\n",
    "import sklearn\n",
    "from tensorflow.keras.layers import Dense, Input"
   ]
  },
  {
   "cell_type": "markdown",
   "id": "b53d8368",
   "metadata": {},
   "source": [
    "### 1.2 데이터 생성"
   ]
  },
  {
   "cell_type": "code",
   "execution_count": 2,
   "id": "e07fc498",
   "metadata": {},
   "outputs": [],
   "source": [
    "# 마땅한 데이터셋이 없어서 임의로 생성\n",
    "np.random.seed(0)\n",
    "X = np.random.normal(size = (1000, 1)) \n",
    "y = X ** 3 * 3 + X ** 2 * 2 + X - 2 + np.random.normal(size = (1000, 1)) * 3"
   ]
  },
  {
   "cell_type": "code",
   "execution_count": 3,
   "id": "80c7a8ed",
   "metadata": {},
   "outputs": [
    {
     "data": {
      "image/png": "[encoded data removed]",
      "text/plain": [
       "<Figure size 432x288 with 1 Axes>"
      ]
     },
     "metadata": {
      "needs_background": "light"
     },
     "output_type": "display_data"
    }
   ],
   "source": [
    "plt.scatter(X, y, s = 3)\n",
    "plt.show()"
   ]
  },
  {
   "cell_type": "markdown",
   "id": "e583d43c",
   "metadata": {},
   "source": [
    "### 1.3 데이터 분할"
   ]
  },
  {
   "cell_type": "code",
   "execution_count": 4,
   "id": "cc6765e7",
   "metadata": {},
   "outputs": [],
   "source": [
    "train_ratio = 0.8\n",
    "train_X = X[:int(len(X) * train_ratio)].reshape(-1, 1)\n",
    "train_y = y[:int(len(X) * train_ratio)].reshape(-1, 1)\n",
    "test_X = X[int(len(X) * train_ratio):].reshape(-1, 1)\n",
    "test_y = y[int(len(X) * train_ratio):].reshape(-1, 1)"
   ]
  },
  {
   "cell_type": "markdown",
   "id": "d83d2bc2",
   "metadata": {},
   "source": [
    "### 1.4 선형 회귀 모델"
   ]
  },
  {
   "cell_type": "markdown",
   "id": "d89baaec",
   "metadata": {},
   "source": [
    "### 1.4.1 최소제곱 선형 회귀 모델 학습"
   ]
  },
  {
   "cell_type": "code",
   "execution_count": 5,
   "id": "bafb7408",
   "metadata": {},
   "outputs": [],
   "source": [
    "from sklearn.linear_model import LinearRegression"
   ]
  },
  {
   "cell_type": "code",
   "execution_count": 6,
   "id": "092738f6",
   "metadata": {},
   "outputs": [
    {
     "data": {
      "text/plain": [
       "LinearRegression()"
      ]
     },
     "execution_count": 6,
     "metadata": {},
     "output_type": "execute_result"
    }
   ],
   "source": [
    "fitter = LinearRegression()\n",
    "fitter"
   ]
  },
  {
   "cell_type": "code",
   "execution_count": 7,
   "id": "2ba6aaa8",
   "metadata": {},
   "outputs": [
    {
     "data": {
      "text/plain": [
       "LinearRegression()"
      ]
     },
     "execution_count": 7,
     "metadata": {},
     "output_type": "execute_result"
    }
   ],
   "source": [
    "fitter.fit(train_X, train_y)"
   ]
  },
  {
   "cell_type": "markdown",
   "id": "c5261927",
   "metadata": {},
   "source": [
    "### 1.4.2 최소제곱 선형 회귀 모델 예측"
   ]
  },
  {
   "cell_type": "code",
   "execution_count": 8,
   "id": "e0d27de7",
   "metadata": {},
   "outputs": [],
   "source": [
    "pred = fitter.predict(test_X)"
   ]
  },
  {
   "cell_type": "code",
   "execution_count": 9,
   "id": "b76f686f",
   "metadata": {},
   "outputs": [
    {
     "data": {
      "image/png": "[encoded data removed]",
      "text/plain": [
       "<Figure size 432x288 with 1 Axes>"
      ]
     },
     "metadata": {
      "needs_background": "light"
     },
     "output_type": "display_data"
    }
   ],
   "source": [
    "plt.scatter(test_X, test_y, s = 3, c = 'blue', label = 'GT')\n",
    "plt.plot(test_X, pred, c = 'red')\n",
    "plt.legend()\n",
    "plt.show()"
   ]
  },
  {
   "cell_type": "markdown",
   "id": "18ad8e01",
   "metadata": {},
   "source": [
    "### 1.4.3 최소제곱 선형 회귀 모델 평가"
   ]
  },
  {
   "cell_type": "code",
   "execution_count": 10,
   "id": "099d8dd1",
   "metadata": {},
   "outputs": [
    {
     "name": "stdout",
     "output_type": "stream",
     "text": [
      "R2 score: 0.584614\n"
     ]
    }
   ],
   "source": [
    "r2 = sklearn.metrics.r2_score(test_y, pred)\n",
    "print(\"R2 score: %f\"%r2)"
   ]
  },
  {
   "cell_type": "markdown",
   "id": "ccd290b3",
   "metadata": {},
   "source": [
    "### 1.5 다항 회귀 모델"
   ]
  },
  {
   "cell_type": "markdown",
   "id": "3adf8899",
   "metadata": {},
   "source": [
    "### 1.5.1 데이터 전처리"
   ]
  },
  {
   "cell_type": "code",
   "execution_count": 11,
   "id": "4aaf0e8a",
   "metadata": {},
   "outputs": [],
   "source": [
    "train_Xs = np.concatenate([train_X ** 3, train_X ** 2, train_X], axis=1)\n",
    "test_Xs = np.concatenate([test_X ** 3, test_X ** 2, test_X], axis=1)"
   ]
  },
  {
   "cell_type": "markdown",
   "id": "9f00f675",
   "metadata": {},
   "source": [
    "### 1.5.2 최소제곱 선형 회귀 모델 학습"
   ]
  },
  {
   "cell_type": "code",
   "execution_count": 12,
   "id": "32726789",
   "metadata": {},
   "outputs": [
    {
     "data": {
      "text/plain": [
       "LinearRegression()"
      ]
     },
     "execution_count": 12,
     "metadata": {},
     "output_type": "execute_result"
    }
   ],
   "source": [
    "fitter = LinearRegression()\n",
    "fitter"
   ]
  },
  {
   "cell_type": "code",
   "execution_count": 13,
   "id": "940fcf44",
   "metadata": {},
   "outputs": [
    {
     "data": {
      "text/plain": [
       "LinearRegression()"
      ]
     },
     "execution_count": 13,
     "metadata": {},
     "output_type": "execute_result"
    }
   ],
   "source": [
    "fitter.fit(train_Xs, train_y)"
   ]
  },
  {
   "cell_type": "markdown",
   "id": "06035be6",
   "metadata": {},
   "source": [
    "### 1.5.3 최소제곱 선형 회귀 모델 예측"
   ]
  },
  {
   "cell_type": "code",
   "execution_count": 14,
   "id": "5a68e023",
   "metadata": {},
   "outputs": [],
   "source": [
    "pred = fitter.predict(test_Xs)"
   ]
  },
  {
   "cell_type": "code",
   "execution_count": 17,
   "id": "fda32e79",
   "metadata": {},
   "outputs": [
    {
     "data": {
      "image/png": "[encoded data removed]",
      "text/plain": [
       "<Figure size 432x288 with 1 Axes>"
      ]
     },
     "metadata": {
      "needs_background": "light"
     },
     "output_type": "display_data"
    }
   ],
   "source": [
    "plt.scatter(test_X, test_y, s = 3, c = 'blue', label = 'GT')\n",
    "plt.scatter(test_X, pred, s = 3, c = 'red', label = 'Pred')\n",
    "plt.legend()\n",
    "plt.show()"
   ]
  },
  {
   "cell_type": "markdown",
   "id": "159f9d69",
   "metadata": {},
   "source": [
    "### 1.5.4 최소제곱 선형 회귀 모델 평가"
   ]
  },
  {
   "cell_type": "code",
   "execution_count": 18,
   "id": "cfcd3a69",
   "metadata": {},
   "outputs": [
    {
     "name": "stdout",
     "output_type": "stream",
     "text": [
      "R2 score: 0.949834\n"
     ]
    }
   ],
   "source": [
    "r2 = sklearn.metrics.r2_score(test_y, pred)\n",
    "print(\"R2 score: %f\"%r2)"
   ]
  },
  {
   "cell_type": "markdown",
   "id": "9b3e61ef",
   "metadata": {},
   "source": [
    "### 1.6 다항 피쳐 선택에 따른 모델 성능 비교"
   ]
  },
  {
   "cell_type": "markdown",
   "id": "7c593d87",
   "metadata": {},
   "source": [
    "2제곱에서 24제곱까지의 다항 피쳐를 사용하였을 때 성능을 비교해보겠습니다."
   ]
  },
  {
   "cell_type": "code",
   "execution_count": 20,
   "id": "f1dcd53f",
   "metadata": {},
   "outputs": [
    {
     "name": "stdout",
     "output_type": "stream",
     "text": [
      "[ 2  3  4  5  6  7  8  9 10 11 12 13 14 15 16 17 18 19 20 21 22 23 24]\n"
     ]
    }
   ],
   "source": [
    "degrees = np.arange(2, 25)\n",
    "print(degrees)"
   ]
  },
  {
   "cell_type": "code",
   "execution_count": 22,
   "id": "7fa74c56",
   "metadata": {
    "scrolled": true
   },
   "outputs": [
    {
     "name": "stdout",
     "output_type": "stream",
     "text": [
      "Degree: 2 -> R2 score: 0.652474\n",
      "Degree: 3 -> R2 score: 0.949834\n",
      "Degree: 4 -> R2 score: 0.949863\n",
      "Degree: 5 -> R2 score: 0.949525\n",
      "Degree: 6 -> R2 score: 0.948715\n",
      "Degree: 7 -> R2 score: 0.948016\n",
      "Degree: 8 -> R2 score: 0.948088\n",
      "Degree: 9 -> R2 score: 0.948196\n",
      "Degree: 10 -> R2 score: 0.947491\n",
      "Degree: 11 -> R2 score: 0.946404\n",
      "Degree: 12 -> R2 score: 0.945894\n",
      "Degree: 13 -> R2 score: 0.948829\n",
      "Degree: 14 -> R2 score: 0.948599\n",
      "Degree: 15 -> R2 score: 0.937195\n",
      "Degree: 16 -> R2 score: 0.922179\n",
      "Degree: 17 -> R2 score: 0.922574\n",
      "Degree: 18 -> R2 score: 0.883105\n",
      "Degree: 19 -> R2 score: 0.735307\n",
      "Degree: 20 -> R2 score: 0.937408\n",
      "Degree: 21 -> R2 score: 0.935197\n",
      "Degree: 22 -> R2 score: -0.652393\n",
      "Degree: 23 -> R2 score: -0.352344\n",
      "Degree: 24 -> R2 score: -4.219458\n"
     ]
    }
   ],
   "source": [
    "r2s = []\n",
    "# 2제곱 피쳐부터 24제곱 피쳐까지 반복하며 총 23개 모델 생성\n",
    "for degree in degrees:\n",
    "    train_Xs = np.concatenate([train_X ** i for i in range(degree + 1)], axis=1)\n",
    "    test_Xs = np.concatenate([test_X ** i for i in range(degree + 1)], axis=1)\n",
    "    fitter = LinearRegression()\n",
    "    fitter.fit(train_Xs, train_y)\n",
    "    pred = fitter.predict(test_Xs)\n",
    "    r2 = sklearn.metrics.r2_score(test_y, pred)\n",
    "    print(\"Degree: %d -> R2 score: %f\"%(degree, r2))\n",
    "    r2s.append(r2)"
   ]
  },
  {
   "cell_type": "code",
   "execution_count": 23,
   "id": "403c3f4a",
   "metadata": {},
   "outputs": [
    {
     "data": {
      "image/png": "[encoded data removed]",
      "text/plain": [
       "<Figure size 432x288 with 1 Axes>"
      ]
     },
     "metadata": {
      "needs_background": "light"
     },
     "output_type": "display_data"
    }
   ],
   "source": [
    "plt.plot(degrees, r2s)\n",
    "plt.title('Polynomial Features')\n",
    "plt.xlabel('Degree')\n",
    "plt.ylabel('r2 score')\n",
    "plt.show()"
   ]
  },
  {
   "cell_type": "markdown",
   "id": "d27fe1d6",
   "metadata": {},
   "source": [
    "피쳐를 과도하게 많이 사용하면 오히려 모델의 성능이 떨어지는 것을 확인할 수 있습니다. 적절한 degree를 찾아 설정해주는 것이 중요하겠습니다."
   ]
  },
  {
   "cell_type": "markdown",
   "id": "5da6d852",
   "metadata": {},
   "source": [
    "## 2. MLP 모델의 구현\n",
    "---\n",
    "다음으로, 비선형 데이터를 잘 다룰 수 있는 다층 퍼셉트론 모델 (Multi-layer perceptron; MLP) 을 구현해보겠습니다."
   ]
  },
  {
   "cell_type": "markdown",
   "id": "343f954f",
   "metadata": {},
   "source": [
    "### 2.1 라이브러리 불러오기"
   ]
  },
  {
   "cell_type": "code",
   "execution_count": 24,
   "id": "2ee62403",
   "metadata": {},
   "outputs": [],
   "source": [
    "import tensorflow as tf"
   ]
  },
  {
   "cell_type": "markdown",
   "id": "d47a5f10",
   "metadata": {},
   "source": [
    "### 2.2 비선형 데이터 생성"
   ]
  },
  {
   "cell_type": "code",
   "execution_count": 25,
   "id": "8f6562ac",
   "metadata": {},
   "outputs": [],
   "source": [
    "np.random.seed(0)\n",
    "X = np.random.normal(size = (1000, 1)) \n",
    "y = np.e ** X + np.random.normal(size = (1000, 1)) * 1"
   ]
  },
  {
   "cell_type": "code",
   "execution_count": 26,
   "id": "1dff2693",
   "metadata": {},
   "outputs": [
    {
     "data": {
      "image/png": "[encoded data removed]",
      "text/plain": [
       "<Figure size 432x288 with 1 Axes>"
      ]
     },
     "metadata": {
      "needs_background": "light"
     },
     "output_type": "display_data"
    }
   ],
   "source": [
    "plt.scatter(X, y, s = 3)\n",
    "plt.show()"
   ]
  },
  {
   "cell_type": "markdown",
   "id": "7d55d5ad",
   "metadata": {},
   "source": [
    "### 2.3 데이터 분할"
   ]
  },
  {
   "cell_type": "code",
   "execution_count": 156,
   "id": "2e192e60",
   "metadata": {},
   "outputs": [
    {
     "ename": "NameError",
     "evalue": "name 'trai_ratio' is not defined",
     "output_type": "error",
     "traceback": [
      "\u001b[0;31m---------------------------------------------------------------------------\u001b[0m",
      "\u001b[0;31mNameError\u001b[0m                                 Traceback (most recent call last)",
      "\u001b[0;32m<ipython-input-156-c067a9ba01de>\u001b[0m in \u001b[0;36m<module>\u001b[0;34m\u001b[0m\n\u001b[1;32m      3\u001b[0m \u001b[0mtrain_y\u001b[0m \u001b[0;34m=\u001b[0m \u001b[0my\u001b[0m\u001b[0;34m[\u001b[0m\u001b[0;34m:\u001b[0m\u001b[0mint\u001b[0m\u001b[0;34m(\u001b[0m\u001b[0mlen\u001b[0m\u001b[0;34m(\u001b[0m\u001b[0mX\u001b[0m\u001b[0;34m)\u001b[0m \u001b[0;34m*\u001b[0m \u001b[0mtrain_ratio\u001b[0m\u001b[0;34m)\u001b[0m\u001b[0;34m]\u001b[0m\u001b[0;34m.\u001b[0m\u001b[0mreshape\u001b[0m\u001b[0;34m(\u001b[0m\u001b[0;34m-\u001b[0m\u001b[0;36m1\u001b[0m\u001b[0;34m,\u001b[0m \u001b[0;36m1\u001b[0m\u001b[0;34m)\u001b[0m\u001b[0;34m\u001b[0m\u001b[0;34m\u001b[0m\u001b[0m\n\u001b[1;32m      4\u001b[0m \u001b[0mtest_X\u001b[0m \u001b[0;34m=\u001b[0m \u001b[0mX\u001b[0m\u001b[0;34m[\u001b[0m\u001b[0mint\u001b[0m\u001b[0;34m(\u001b[0m\u001b[0mlen\u001b[0m\u001b[0;34m(\u001b[0m\u001b[0mX\u001b[0m\u001b[0;34m)\u001b[0m \u001b[0;34m*\u001b[0m \u001b[0mtrain_ratio\u001b[0m\u001b[0;34m)\u001b[0m\u001b[0;34m:\u001b[0m\u001b[0;34m]\u001b[0m\u001b[0;34m.\u001b[0m\u001b[0mreshape\u001b[0m\u001b[0;34m(\u001b[0m\u001b[0;34m-\u001b[0m\u001b[0;36m1\u001b[0m\u001b[0;34m,\u001b[0m \u001b[0;36m1\u001b[0m\u001b[0;34m)\u001b[0m\u001b[0;34m\u001b[0m\u001b[0;34m\u001b[0m\u001b[0m\n\u001b[0;32m----> 5\u001b[0;31m \u001b[0mtest_y\u001b[0m \u001b[0;34m=\u001b[0m \u001b[0my\u001b[0m\u001b[0;34m[\u001b[0m\u001b[0mint\u001b[0m\u001b[0;34m(\u001b[0m\u001b[0mlen\u001b[0m\u001b[0;34m(\u001b[0m\u001b[0mX\u001b[0m\u001b[0;34m)\u001b[0m \u001b[0;34m*\u001b[0m \u001b[0mtrai_ratio\u001b[0m\u001b[0;34m)\u001b[0m\u001b[0;34m:\u001b[0m\u001b[0;34m]\u001b[0m\u001b[0;34m.\u001b[0m\u001b[0mreshape\u001b[0m\u001b[0;34m(\u001b[0m\u001b[0;34m-\u001b[0m\u001b[0;36m1\u001b[0m\u001b[0;34m,\u001b[0m \u001b[0;36m1\u001b[0m\u001b[0;34m)\u001b[0m\u001b[0;34m\u001b[0m\u001b[0;34m\u001b[0m\u001b[0m\n\u001b[0m",
      "\u001b[0;31mNameError\u001b[0m: name 'trai_ratio' is not defined"
     ]
    }
   ],
   "source": [
    "train_ratio = 0.8\n",
    "train_X = X[:int(len(X) * train_ratio)].reshape(-1, 1)\n",
    "train_y = y[:int(len(X) * train_ratio)].reshape(-1, 1)\n",
    "test_X = X[int(len(X) * train_ratio):].reshape(-1, 1)\n",
    "test_y = y[int(len(X) * trai_ratio):].reshape(-1, 1)"
   ]
  },
  {
   "cell_type": "markdown",
   "id": "7acc2ad0",
   "metadata": {},
   "source": [
    "### 2.4 MLP 모델 설정"
   ]
  },
  {
   "cell_type": "code",
   "execution_count": null,
   "id": "f0e4d9e6",
   "metadata": {},
   "outputs": [],
   "source": [
    "# MLP 모델을 설정합니다.\n",
    "MLP_model = tf.keras.Sequential([\n",
    "    Input(shape=train_X.shape[1]),\n",
    "    tf.keras.layers.Dense(64, activation = 'relu'),\n",
    "    tf.keras.layers.Dense(32, activation = 'relu'),\n",
    "    tf.keras.layers.Dense(1)\n",
    "])"
   ]
  },
  {
   "cell_type": "markdown",
   "id": "69914ba2",
   "metadata": {},
   "source": [
    "### 2.5 학습 방법 설정"
   ]
  },
  {
   "cell_type": "code",
   "execution_count": 157,
   "id": "3e944025",
   "metadata": {},
   "outputs": [],
   "source": [
    "MLP_model.compile(loss = 'mse',\n",
    "                  optimizer = tf.keras.optimizers.Adam(learning_rate=0.01),\n",
    "                  metrics=['mse']\n",
    ")"
   ]
  },
  {
   "cell_type": "markdown",
   "id": "de01c2e9",
   "metadata": {},
   "source": [
    "### 2.6 모델 학습"
   ]
  },
  {
   "cell_type": "code",
   "execution_count": 158,
   "id": "ce9b3d4a",
   "metadata": {
    "scrolled": false
   },
   "outputs": [
    {
     "name": "stdout",
     "output_type": "stream",
     "text": [
      "Epoch 1/10\n",
      "50/50 - 0s - loss: 1.5344 - mse: 1.5344 - 251ms/epoch - 5ms/step\n",
      "Epoch 2/10\n",
      "50/50 - 0s - loss: 1.2355 - mse: 1.2355 - 39ms/epoch - 780us/step\n",
      "Epoch 3/10\n",
      "50/50 - 0s - loss: 1.0742 - mse: 1.0742 - 35ms/epoch - 703us/step\n",
      "Epoch 4/10\n",
      "50/50 - 0s - loss: 1.0567 - mse: 1.0567 - 39ms/epoch - 777us/step\n",
      "Epoch 5/10\n",
      "50/50 - 0s - loss: 0.9947 - mse: 0.9947 - 39ms/epoch - 786us/step\n",
      "Epoch 6/10\n",
      "50/50 - 0s - loss: 0.9857 - mse: 0.9857 - 36ms/epoch - 712us/step\n",
      "Epoch 7/10\n",
      "50/50 - 0s - loss: 0.9927 - mse: 0.9927 - 40ms/epoch - 793us/step\n",
      "Epoch 8/10\n",
      "50/50 - 0s - loss: 1.0165 - mse: 1.0165 - 41ms/epoch - 826us/step\n",
      "Epoch 9/10\n",
      "50/50 - 0s - loss: 1.0068 - mse: 1.0068 - 38ms/epoch - 762us/step\n",
      "Epoch 10/10\n",
      "50/50 - 0s - loss: 1.0236 - mse: 1.0236 - 47ms/epoch - 940us/step\n"
     ]
    }
   ],
   "source": [
    "# verbose = 0 : 훈련과정이 나오지 않음\n",
    "# verbose = 1 : 학습되는 과정이 출력됨 (default)\n",
    "# verbose = 2 : loss, metrics 값만 출력됨\n",
    "# verbose = 3 : epoch 값만 출력됨\n",
    "history = MLP_model.fit(train_X, train_y, epochs = 10, batch_size = 16, verbose = 2)"
   ]
  },
  {
   "cell_type": "code",
   "execution_count": 41,
   "id": "c35122d7",
   "metadata": {},
   "outputs": [
    {
     "data": {
      "image/png": "[encoded data removed]",
      "text/plain": [
       "<Figure size 432x288 with 1 Axes>"
      ]
     },
     "metadata": {
      "needs_background": "light"
     },
     "output_type": "display_data"
    }
   ],
   "source": [
    "plt.plot(history.epoch, history.history['loss'])\n",
    "plt.xlabel('epoch')\n",
    "plt.ylabel('loss')\n",
    "plt.show()"
   ]
  },
  {
   "cell_type": "markdown",
   "id": "b9dcf920",
   "metadata": {},
   "source": [
    "### 2.7 모델 예측"
   ]
  },
  {
   "cell_type": "code",
   "execution_count": 130,
   "id": "cf45f1f7",
   "metadata": {},
   "outputs": [
    {
     "name": "stdout",
     "output_type": "stream",
     "text": [
      "7/7 [==============================] - 0s 957us/step\n"
     ]
    }
   ],
   "source": [
    "pred = MLP_model.predict(test_X)"
   ]
  },
  {
   "cell_type": "code",
   "execution_count": 131,
   "id": "ae2230b2",
   "metadata": {},
   "outputs": [
    {
     "data": {
      "image/png": "[encoded data removed]",
      "text/plain": [
       "<Figure size 432x288 with 1 Axes>"
      ]
     },
     "metadata": {
      "needs_background": "light"
     },
     "output_type": "display_data"
    }
   ],
   "source": [
    "plt.scatter(test_X, pred, s = 3, c = 'red', label = 'Pred')\n",
    "plt.scatter(test_X, test_y, s = 3, c = 'blue', label = 'GT')\n",
    "plt.legend()\n",
    "plt.show()"
   ]
  },
  {
   "cell_type": "markdown",
   "id": "4d8bf8b4",
   "metadata": {},
   "source": [
    "### 2.8 모델 평가"
   ]
  },
  {
   "cell_type": "code",
   "execution_count": 132,
   "id": "dbe8d8dd",
   "metadata": {},
   "outputs": [
    {
     "name": "stdout",
     "output_type": "stream",
     "text": [
      "RMSE :  0.9863741345307564\n"
     ]
    }
   ],
   "source": [
    "from sklearn.metrics import mean_squared_error\n",
    "\n",
    "def RMSE(test_y, pred):\n",
    "    return np.sqrt(mean_squared_error(test_y, pred))\n",
    "\n",
    "\n",
    "\n",
    "print('RMSE : ', RMSE(test_y, pred)) "
   ]
  },
  {
   "cell_type": "code",
   "execution_count": 133,
   "id": "d77542c9",
   "metadata": {},
   "outputs": [
    {
     "name": "stdout",
     "output_type": "stream",
     "text": [
      "R2 score: 0.833502\n"
     ]
    }
   ],
   "source": [
    "r2 = sklearn.metrics.r2_score(test_y, pred)\n",
    "print(\"R2 score: %f\"%r2)"
   ]
  },
  {
   "cell_type": "markdown",
   "id": "177ca3e0",
   "metadata": {},
   "source": [
    "이론적으로 R2-score 는 선형 회귀의 설명력에 대한 지표이기 때문에 비선형 회귀에 적용할 수 없습니다. 그러나, 여기서는 통계학적으로 깊이 들어가지는 않을 것이기 때문에 편의를 위해 R2-score를 사용하겠습니다."
   ]
  },
  {
   "cell_type": "markdown",
   "id": "8eef624c",
   "metadata": {},
   "source": [
    "### 2.9 학습률 조정해보기"
   ]
  },
  {
   "cell_type": "markdown",
   "id": "3043cb16",
   "metadata": {},
   "source": [
    "### 2.9.1 학습률이 너무 클 때"
   ]
  },
  {
   "cell_type": "code",
   "execution_count": 134,
   "id": "61dbeb3c",
   "metadata": {},
   "outputs": [],
   "source": [
    "# MLP 모델을 설정합니다.\n",
    "MLP_model = tf.keras.Sequential([\n",
    "    Input(shape=train_X.shape[1]),\n",
    "    tf.keras.layers.Dense(64, activation = 'relu'),\n",
    "    tf.keras.layers.Dense(32, activation = 'relu'),\n",
    "    tf.keras.layers.Dense(1)\n",
    "])"
   ]
  },
  {
   "cell_type": "code",
   "execution_count": 135,
   "id": "5e9b8ec5",
   "metadata": {},
   "outputs": [],
   "source": [
    "MLP_model.compile(loss = 'mse',\n",
    "              optimizer = tf.keras.optimizers.SGD(learning_rate = 0.3),\n",
    ")"
   ]
  },
  {
   "cell_type": "code",
   "execution_count": 136,
   "id": "2fe90f43",
   "metadata": {},
   "outputs": [
    {
     "name": "stdout",
     "output_type": "stream",
     "text": [
      "Epoch 1/10\n",
      "50/50 - 0s - loss: 4.3877 - 201ms/epoch - 4ms/step\n",
      "Epoch 2/10\n",
      "50/50 - 0s - loss: 4.1892 - 33ms/epoch - 654us/step\n",
      "Epoch 3/10\n",
      "50/50 - 0s - loss: 4.0803 - 33ms/epoch - 663us/step\n",
      "Epoch 4/10\n",
      "50/50 - 0s - loss: 4.0486 - 35ms/epoch - 705us/step\n",
      "Epoch 5/10\n",
      "50/50 - 0s - loss: 4.0565 - 32ms/epoch - 632us/step\n",
      "Epoch 6/10\n",
      "50/50 - 0s - loss: 4.0792 - 32ms/epoch - 646us/step\n",
      "Epoch 7/10\n",
      "50/50 - 0s - loss: 4.0057 - 34ms/epoch - 677us/step\n",
      "Epoch 8/10\n",
      "50/50 - 0s - loss: 4.0398 - 34ms/epoch - 671us/step\n",
      "Epoch 9/10\n",
      "50/50 - 0s - loss: 4.0569 - 34ms/epoch - 681us/step\n",
      "Epoch 10/10\n",
      "50/50 - 0s - loss: 4.0592 - 31ms/epoch - 627us/step\n"
     ]
    }
   ],
   "source": [
    "history_toobig = MLP_model.fit(train_X, train_y, epochs = 10, batch_size = 16, verbose = 2)"
   ]
  },
  {
   "cell_type": "code",
   "execution_count": 137,
   "id": "43059e38",
   "metadata": {},
   "outputs": [
    {
     "data": {
      "image/png": "[encoded data removed]",
      "text/plain": [
       "<Figure size 432x288 with 1 Axes>"
      ]
     },
     "metadata": {
      "needs_background": "light"
     },
     "output_type": "display_data"
    }
   ],
   "source": [
    "plt.plot(history_toobig.epoch, history_toobig.history['loss'])\n",
    "plt.xlabel('epoch')\n",
    "plt.ylabel('loss')\n",
    "plt.show()"
   ]
  },
  {
   "cell_type": "code",
   "execution_count": 138,
   "id": "bf8b72e3",
   "metadata": {},
   "outputs": [
    {
     "name": "stdout",
     "output_type": "stream",
     "text": [
      "7/7 [==============================] - 0s 1ms/step\n"
     ]
    }
   ],
   "source": [
    "pred = MLP_model.predict(test_X)"
   ]
  },
  {
   "cell_type": "code",
   "execution_count": 139,
   "id": "60fc77cf",
   "metadata": {},
   "outputs": [
    {
     "name": "stdout",
     "output_type": "stream",
     "text": [
      "RMSE :  2.4189076618375966\n"
     ]
    }
   ],
   "source": [
    "print('RMSE : ', RMSE(test_y, pred)) "
   ]
  },
  {
   "cell_type": "code",
   "execution_count": 140,
   "id": "dcad0aef",
   "metadata": {},
   "outputs": [
    {
     "name": "stdout",
     "output_type": "stream",
     "text": [
      "R2 score: -0.001300\n"
     ]
    }
   ],
   "source": [
    "r2 = sklearn.metrics.r2_score(test_y, pred)\n",
    "print(\"R2 score: %f\"%r2)"
   ]
  },
  {
   "cell_type": "markdown",
   "id": "15b75dcb",
   "metadata": {},
   "source": [
    "### 2.9.2 학습률이 적당할 때"
   ]
  },
  {
   "cell_type": "code",
   "execution_count": 141,
   "id": "49976374",
   "metadata": {},
   "outputs": [],
   "source": [
    "# MLP 모델을 설정합니다.\n",
    "MLP_model = tf.keras.Sequential([\n",
    "    Input(shape=train_X.shape[1]),\n",
    "    tf.keras.layers.Dense(64, activation = 'relu'),\n",
    "    tf.keras.layers.Dense(32, activation = 'relu'),\n",
    "    tf.keras.layers.Dense(1)\n",
    "])"
   ]
  },
  {
   "cell_type": "code",
   "execution_count": 142,
   "id": "e103dabe",
   "metadata": {},
   "outputs": [],
   "source": [
    "MLP_model.compile(loss = 'mse',\n",
    "              optimizer = tf.keras.optimizers.SGD(learning_rate = 0.01),\n",
    ")"
   ]
  },
  {
   "cell_type": "code",
   "execution_count": 143,
   "id": "06eb08bf",
   "metadata": {
    "scrolled": true
   },
   "outputs": [
    {
     "name": "stdout",
     "output_type": "stream",
     "text": [
      "Epoch 1/10\n",
      "50/50 - 0s - loss: 3.1401 - 176ms/epoch - 4ms/step\n",
      "Epoch 2/10\n",
      "50/50 - 0s - loss: 1.4206 - 30ms/epoch - 595us/step\n",
      "Epoch 3/10\n",
      "50/50 - 0s - loss: 1.3030 - 30ms/epoch - 592us/step\n",
      "Epoch 4/10\n",
      "50/50 - 0s - loss: 1.2477 - 32ms/epoch - 634us/step\n",
      "Epoch 5/10\n",
      "50/50 - 0s - loss: 1.2121 - 31ms/epoch - 621us/step\n",
      "Epoch 6/10\n",
      "50/50 - 0s - loss: 1.1682 - 32ms/epoch - 649us/step\n",
      "Epoch 7/10\n",
      "50/50 - 0s - loss: 1.1250 - 31ms/epoch - 615us/step\n",
      "Epoch 8/10\n",
      "50/50 - 0s - loss: 1.0975 - 30ms/epoch - 610us/step\n",
      "Epoch 9/10\n",
      "50/50 - 0s - loss: 1.0615 - 30ms/epoch - 607us/step\n",
      "Epoch 10/10\n",
      "50/50 - 0s - loss: 1.0357 - 32ms/epoch - 648us/step\n"
     ]
    }
   ],
   "source": [
    "history_good = MLP_model.fit(train_X, train_y, epochs = 10, batch_size = 16, verbose = 2)"
   ]
  },
  {
   "cell_type": "code",
   "execution_count": 144,
   "id": "caa9a5ec",
   "metadata": {},
   "outputs": [
    {
     "data": {
      "image/png": "[encoded data removed]",
      "text/plain": [
       "<Figure size 432x288 with 1 Axes>"
      ]
     },
     "metadata": {
      "needs_background": "light"
     },
     "output_type": "display_data"
    }
   ],
   "source": [
    "plt.plot(history_good.epoch, history_good.history['loss'])\n",
    "plt.xlabel('epoch')\n",
    "plt.ylabel('loss')\n",
    "plt.show()"
   ]
  },
  {
   "cell_type": "code",
   "execution_count": 145,
   "id": "aa6c35d5",
   "metadata": {},
   "outputs": [
    {
     "name": "stdout",
     "output_type": "stream",
     "text": [
      "7/7 [==============================] - 0s 749us/step\n"
     ]
    }
   ],
   "source": [
    "pred = MLP_model.predict(test_X)"
   ]
  },
  {
   "cell_type": "code",
   "execution_count": 146,
   "id": "e9d0755a",
   "metadata": {},
   "outputs": [
    {
     "name": "stdout",
     "output_type": "stream",
     "text": [
      "RMSE :  1.0973047266846288\n"
     ]
    }
   ],
   "source": [
    "print('RMSE : ', RMSE(test_y, pred)) "
   ]
  },
  {
   "cell_type": "code",
   "execution_count": 147,
   "id": "c5bbbb81",
   "metadata": {},
   "outputs": [
    {
     "name": "stdout",
     "output_type": "stream",
     "text": [
      "R2 score: 0.793946\n"
     ]
    }
   ],
   "source": [
    "r2 = sklearn.metrics.r2_score(test_y, pred)\n",
    "print(\"R2 score: %f\"%r2)"
   ]
  },
  {
   "cell_type": "markdown",
   "id": "98967fca",
   "metadata": {},
   "source": [
    "### 2.9.3 학습률이 너무 낮을 때"
   ]
  },
  {
   "cell_type": "code",
   "execution_count": 148,
   "id": "501fab11",
   "metadata": {},
   "outputs": [],
   "source": [
    "# MLP 모델을 설정합니다.\n",
    "MLP_model = tf.keras.Sequential([\n",
    "    Input(shape=train_X.shape[1]),\n",
    "    tf.keras.layers.Dense(64, activation = 'relu'),\n",
    "    tf.keras.layers.Dense(32, activation = 'relu'),\n",
    "    tf.keras.layers.Dense(1)\n",
    "])"
   ]
  },
  {
   "cell_type": "code",
   "execution_count": 149,
   "id": "84b4db4d",
   "metadata": {},
   "outputs": [],
   "source": [
    "MLP_model.compile(loss = 'mse',\n",
    "              optimizer = tf.keras.optimizers.SGD(learning_rate = 0.0001),\n",
    ")"
   ]
  },
  {
   "cell_type": "code",
   "execution_count": 150,
   "id": "248acd29",
   "metadata": {},
   "outputs": [
    {
     "name": "stdout",
     "output_type": "stream",
     "text": [
      "Epoch 1/10\n",
      "50/50 - 0s - loss: 5.8623 - 188ms/epoch - 4ms/step\n",
      "Epoch 2/10\n",
      "50/50 - 0s - loss: 5.7025 - 31ms/epoch - 612us/step\n",
      "Epoch 3/10\n",
      "50/50 - 0s - loss: 5.5528 - 29ms/epoch - 589us/step\n",
      "Epoch 4/10\n",
      "50/50 - 0s - loss: 5.4117 - 32ms/epoch - 644us/step\n",
      "Epoch 5/10\n",
      "50/50 - 0s - loss: 5.2764 - 30ms/epoch - 604us/step\n",
      "Epoch 6/10\n",
      "50/50 - 0s - loss: 5.1421 - 31ms/epoch - 617us/step\n",
      "Epoch 7/10\n",
      "50/50 - 0s - loss: 5.0067 - 34ms/epoch - 674us/step\n",
      "Epoch 8/10\n",
      "50/50 - 0s - loss: 4.8748 - 31ms/epoch - 620us/step\n",
      "Epoch 9/10\n",
      "50/50 - 0s - loss: 4.7463 - 34ms/epoch - 672us/step\n",
      "Epoch 10/10\n",
      "50/50 - 0s - loss: 4.6210 - 30ms/epoch - 605us/step\n"
     ]
    }
   ],
   "source": [
    "history_toolow = MLP_model.fit(train_X, train_y, epochs = 10, batch_size = 16, verbose = 2)"
   ]
  },
  {
   "cell_type": "code",
   "execution_count": 151,
   "id": "e815acc0",
   "metadata": {},
   "outputs": [
    {
     "data": {
      "image/png": "[encoded data removed]",
      "text/plain": [
       "<Figure size 432x288 with 1 Axes>"
      ]
     },
     "metadata": {
      "needs_background": "light"
     },
     "output_type": "display_data"
    }
   ],
   "source": [
    "plt.plot(history_toolow.epoch, history_toolow.history['loss'])\n",
    "plt.xlabel('epoch')\n",
    "plt.ylabel('loss')\n",
    "plt.show()"
   ]
  },
  {
   "cell_type": "code",
   "execution_count": 152,
   "id": "34801230",
   "metadata": {},
   "outputs": [
    {
     "name": "stdout",
     "output_type": "stream",
     "text": [
      "7/7 [==============================] - 0s 754us/step\n"
     ]
    }
   ],
   "source": [
    "pred = MLP_model.predict(test_X)"
   ]
  },
  {
   "cell_type": "code",
   "execution_count": 153,
   "id": "d07144b5",
   "metadata": {},
   "outputs": [
    {
     "name": "stdout",
     "output_type": "stream",
     "text": [
      "RMSE :  2.543821708615221\n"
     ]
    }
   ],
   "source": [
    "print('RMSE : ', RMSE(test_y, pred)) "
   ]
  },
  {
   "cell_type": "code",
   "execution_count": 154,
   "id": "782f0195",
   "metadata": {},
   "outputs": [
    {
     "name": "stdout",
     "output_type": "stream",
     "text": [
      "R2 score: -0.107386\n"
     ]
    }
   ],
   "source": [
    "r2 = sklearn.metrics.r2_score(test_y, pred)\n",
    "print(\"R2 score: %f\"%r2)"
   ]
  },
  {
   "cell_type": "markdown",
   "id": "2975432d",
   "metadata": {},
   "source": [
    "### 2.9.4 학습률에 따른 loss 변화 그래프"
   ]
  },
  {
   "cell_type": "code",
   "execution_count": 155,
   "id": "f2feb3ae",
   "metadata": {},
   "outputs": [
    {
     "data": {
      "image/png": "[encoded data removed]",
      "text/plain": [
       "<Figure size 432x288 with 1 Axes>"
      ]
     },
     "metadata": {
      "needs_background": "light"
     },
     "output_type": "display_data"
    }
   ],
   "source": [
    "plt.plot(history_toobig.epoch, history_toobig.history['loss'], label = 'too big')\n",
    "plt.plot(history_good.epoch, history_good.history['loss'], label = 'good')\n",
    "plt.plot(history_toolow.epoch, history_toolow.history['loss'], label = 'too low')\n",
    "plt.xlabel('epoch')\n",
    "plt.ylabel('loss')\n",
    "plt.legend()\n",
    "plt.show()"
   ]
  },
  {
   "cell_type": "markdown",
   "id": "aa3348cb",
   "metadata": {},
   "source": [
    "### 2.10 최적화 방법 (Optimizer) 조정해보기"
   ]
  },
  {
   "cell_type": "markdown",
   "id": "66a6e05c",
   "metadata": {},
   "source": [
    "### 2.10.1 Stochastic Gradient Descent"
   ]
  },
  {
   "cell_type": "code",
   "execution_count": 116,
   "id": "9a116641",
   "metadata": {},
   "outputs": [],
   "source": [
    "# MLP 모델을 설정합니다.\n",
    "MLP_model = tf.keras.Sequential([\n",
    "    Input(shape=train_X.shape[1]),\n",
    "    tf.keras.layers.Dense(64, activation = 'relu'),\n",
    "    tf.keras.layers.Dense(32, activation = 'relu'),\n",
    "    tf.keras.layers.Dense(1)\n",
    "])"
   ]
  },
  {
   "cell_type": "code",
   "execution_count": 117,
   "id": "cc37b859",
   "metadata": {},
   "outputs": [],
   "source": [
    "MLP_model.compile(loss = 'mse',\n",
    "              optimizer = tf.keras.optimizers.SGD(learning_rate=0.01),\n",
    ")"
   ]
  },
  {
   "cell_type": "code",
   "execution_count": 118,
   "id": "777fc5b2",
   "metadata": {
    "scrolled": true
   },
   "outputs": [
    {
     "name": "stdout",
     "output_type": "stream",
     "text": [
      "Epoch 1/10\n",
      "50/50 - 0s - loss: 2.3721 - 199ms/epoch - 4ms/step\n",
      "Epoch 2/10\n",
      "50/50 - 0s - loss: 1.3623 - 34ms/epoch - 684us/step\n",
      "Epoch 3/10\n",
      "50/50 - 0s - loss: 1.2742 - 31ms/epoch - 624us/step\n",
      "Epoch 4/10\n",
      "50/50 - 0s - loss: 1.2330 - 36ms/epoch - 711us/step\n",
      "Epoch 5/10\n",
      "50/50 - 0s - loss: 1.1848 - 31ms/epoch - 615us/step\n",
      "Epoch 6/10\n",
      "50/50 - 0s - loss: 1.1566 - 41ms/epoch - 810us/step\n",
      "Epoch 7/10\n",
      "50/50 - 0s - loss: 1.1285 - 43ms/epoch - 862us/step\n",
      "Epoch 8/10\n",
      "50/50 - 0s - loss: 1.0876 - 34ms/epoch - 676us/step\n",
      "Epoch 9/10\n",
      "50/50 - 0s - loss: 1.0659 - 35ms/epoch - 691us/step\n",
      "Epoch 10/10\n",
      "50/50 - 0s - loss: 1.0385 - 30ms/epoch - 603us/step\n"
     ]
    }
   ],
   "source": [
    "history = MLP_model.fit(train_X, train_y, epochs = 10, batch_size = 16, verbose = 2)"
   ]
  },
  {
   "cell_type": "code",
   "execution_count": 119,
   "id": "e5d63fc0",
   "metadata": {},
   "outputs": [
    {
     "name": "stdout",
     "output_type": "stream",
     "text": [
      "7/7 [==============================] - 0s 804us/step\n"
     ]
    }
   ],
   "source": [
    "pred = MLP_model.predict(test_X)"
   ]
  },
  {
   "cell_type": "code",
   "execution_count": 120,
   "id": "e26a17f5",
   "metadata": {},
   "outputs": [
    {
     "name": "stdout",
     "output_type": "stream",
     "text": [
      "RMSE :  1.087852744813962\n"
     ]
    }
   ],
   "source": [
    "print('RMSE : ', RMSE(test_y, pred)) "
   ]
  },
  {
   "cell_type": "code",
   "execution_count": 121,
   "id": "a84ed6d2",
   "metadata": {},
   "outputs": [
    {
     "name": "stdout",
     "output_type": "stream",
     "text": [
      "R2 score: 0.797481\n"
     ]
    }
   ],
   "source": [
    "r2 = sklearn.metrics.r2_score(test_y, pred)\n",
    "print(\"R2 score: %f\"%r2)"
   ]
  },
  {
   "cell_type": "markdown",
   "id": "e8525cf4",
   "metadata": {},
   "source": [
    "### 2.10.2 Adagrad"
   ]
  },
  {
   "cell_type": "code",
   "execution_count": 110,
   "id": "6a31598f",
   "metadata": {},
   "outputs": [],
   "source": [
    "# MLP 모델을 설정합니다.\n",
    "MLP_model = tf.keras.Sequential([\n",
    "    Input(shape=train_X.shape[1]),\n",
    "    tf.keras.layers.Dense(64, activation = 'relu'),\n",
    "    tf.keras.layers.Dense(32, activation = 'relu'),\n",
    "    tf.keras.layers.Dense(1)\n",
    "])"
   ]
  },
  {
   "cell_type": "code",
   "execution_count": 111,
   "id": "4bee6f28",
   "metadata": {},
   "outputs": [],
   "source": [
    "MLP_model.compile(loss = 'mse',\n",
    "              optimizer = tf.keras.optimizers.Adagrad(learning_rate=0.01),\n",
    ")"
   ]
  },
  {
   "cell_type": "code",
   "execution_count": 112,
   "id": "73ae8768",
   "metadata": {
    "scrolled": true
   },
   "outputs": [
    {
     "name": "stdout",
     "output_type": "stream",
     "text": [
      "Epoch 1/10\n",
      "50/50 - 0s - loss: 2.4443 - 201ms/epoch - 4ms/step\n",
      "Epoch 2/10\n",
      "50/50 - 0s - loss: 1.3365 - 33ms/epoch - 651us/step\n",
      "Epoch 3/10\n",
      "50/50 - 0s - loss: 1.3077 - 30ms/epoch - 602us/step\n",
      "Epoch 4/10\n",
      "50/50 - 0s - loss: 1.2822 - 38ms/epoch - 763us/step\n",
      "Epoch 5/10\n",
      "50/50 - 0s - loss: 1.2630 - 37ms/epoch - 741us/step\n",
      "Epoch 6/10\n",
      "50/50 - 0s - loss: 1.2390 - 43ms/epoch - 867us/step\n",
      "Epoch 7/10\n",
      "50/50 - 0s - loss: 1.2299 - 35ms/epoch - 698us/step\n",
      "Epoch 8/10\n",
      "50/50 - 0s - loss: 1.2185 - 34ms/epoch - 689us/step\n",
      "Epoch 9/10\n",
      "50/50 - 0s - loss: 1.2010 - 32ms/epoch - 643us/step\n",
      "Epoch 10/10\n",
      "50/50 - 0s - loss: 1.1853 - 30ms/epoch - 599us/step\n"
     ]
    }
   ],
   "source": [
    "history = MLP_model.fit(train_X, train_y, epochs = 10, batch_size = 16, verbose = 2)"
   ]
  },
  {
   "cell_type": "code",
   "execution_count": 113,
   "id": "68eddfb5",
   "metadata": {},
   "outputs": [
    {
     "name": "stdout",
     "output_type": "stream",
     "text": [
      "7/7 [==============================] - 0s 870us/step\n"
     ]
    }
   ],
   "source": [
    "pred = MLP_model.predict(test_X)"
   ]
  },
  {
   "cell_type": "code",
   "execution_count": 114,
   "id": "da0be1a2",
   "metadata": {},
   "outputs": [
    {
     "name": "stdout",
     "output_type": "stream",
     "text": [
      "RMSE :  1.2344927163560608\n"
     ]
    }
   ],
   "source": [
    "print('RMSE : ', RMSE(test_y, pred)) "
   ]
  },
  {
   "cell_type": "code",
   "execution_count": 115,
   "id": "7f62cdaa",
   "metadata": {
    "scrolled": true
   },
   "outputs": [
    {
     "name": "stdout",
     "output_type": "stream",
     "text": [
      "R2 score: 0.739203\n"
     ]
    }
   ],
   "source": [
    "r2 = sklearn.metrics.r2_score(test_y, pred)\n",
    "print(\"R2 score: %f\"%r2)"
   ]
  },
  {
   "cell_type": "markdown",
   "id": "82e669cd",
   "metadata": {},
   "source": [
    "### 2.10.3 Adam"
   ]
  },
  {
   "cell_type": "code",
   "execution_count": 97,
   "id": "4383cc25",
   "metadata": {},
   "outputs": [],
   "source": [
    "# MLP 모델을 설정합니다.\n",
    "MLP_model = tf.keras.Sequential([\n",
    "    Input(shape=train_X.shape[1]),\n",
    "    tf.keras.layers.Dense(64, activation = 'relu'),\n",
    "    tf.keras.layers.Dense(32, activation = 'relu'),\n",
    "    tf.keras.layers.Dense(1)\n",
    "])"
   ]
  },
  {
   "cell_type": "code",
   "execution_count": 99,
   "id": "b0bbb562",
   "metadata": {},
   "outputs": [],
   "source": [
    "MLP_model.compile(loss = 'mse',\n",
    "              optimizer = tf.keras.optimizers.Adam(learning_rate=0.01),\n",
    ")"
   ]
  },
  {
   "cell_type": "code",
   "execution_count": 100,
   "id": "2fb0107e",
   "metadata": {
    "scrolled": true
   },
   "outputs": [
    {
     "name": "stdout",
     "output_type": "stream",
     "text": [
      "Epoch 1/10\n",
      "50/50 - 0s - loss: 1.8867 - 236ms/epoch - 5ms/step\n",
      "Epoch 2/10\n",
      "50/50 - 0s - loss: 1.1172 - 38ms/epoch - 763us/step\n",
      "Epoch 3/10\n",
      "50/50 - 0s - loss: 1.0116 - 35ms/epoch - 704us/step\n",
      "Epoch 4/10\n",
      "50/50 - 0s - loss: 1.0191 - 40ms/epoch - 797us/step\n",
      "Epoch 5/10\n",
      "50/50 - 0s - loss: 1.0035 - 39ms/epoch - 771us/step\n",
      "Epoch 6/10\n",
      "50/50 - 0s - loss: 1.0742 - 34ms/epoch - 671us/step\n",
      "Epoch 7/10\n",
      "50/50 - 0s - loss: 0.9895 - 35ms/epoch - 702us/step\n",
      "Epoch 8/10\n",
      "50/50 - 0s - loss: 1.0166 - 35ms/epoch - 697us/step\n",
      "Epoch 9/10\n",
      "50/50 - 0s - loss: 1.0030 - 39ms/epoch - 778us/step\n",
      "Epoch 10/10\n",
      "50/50 - 0s - loss: 0.9713 - 36ms/epoch - 720us/step\n"
     ]
    }
   ],
   "source": [
    "history = MLP_model.fit(train_X, train_y, epochs = 10, batch_size = 16, verbose = 2)"
   ]
  },
  {
   "cell_type": "code",
   "execution_count": 101,
   "id": "6ddc9ea8",
   "metadata": {},
   "outputs": [
    {
     "name": "stdout",
     "output_type": "stream",
     "text": [
      "7/7 [==============================] - 0s 1ms/step\n"
     ]
    }
   ],
   "source": [
    "pred = MLP_model.predict(test_X)"
   ]
  },
  {
   "cell_type": "code",
   "execution_count": 102,
   "id": "f884d222",
   "metadata": {},
   "outputs": [
    {
     "name": "stdout",
     "output_type": "stream",
     "text": [
      "RMSE :  0.988265603217737\n"
     ]
    }
   ],
   "source": [
    "print('RMSE : ', RMSE(test_y, pred)) "
   ]
  },
  {
   "cell_type": "code",
   "execution_count": 103,
   "id": "1168c972",
   "metadata": {
    "scrolled": true
   },
   "outputs": [
    {
     "name": "stdout",
     "output_type": "stream",
     "text": [
      "R2 score: 0.832863\n"
     ]
    }
   ],
   "source": [
    "r2 = sklearn.metrics.r2_score(test_y, pred)\n",
    "print(\"R2 score: %f\"%r2)"
   ]
  },
  {
   "cell_type": "markdown",
   "id": "057e7e23",
   "metadata": {},
   "source": [
    "실험 결과 SGD 가 가장 높은 성능을 보였으며, Adagrad가 가장 낮은 성능을 보였습니다. 그러나, 데이터에 따라 최적화 방법의 성능은 달라질 수 있으며, 설정 가능한 parameter를 어떻게 설정하는지 역시 중요합니다."
   ]
  },
  {
   "cell_type": "markdown",
   "id": "ff512622",
   "metadata": {},
   "source": [
    "## 3. 회귀 모델 수행\n",
    "---\n",
    "다음으로, 금속분말 데이터를 이용하여 MLP 를 학습해보겠습니다."
   ]
  },
  {
   "cell_type": "markdown",
   "id": "5a167d79",
   "metadata": {},
   "source": [
    "### 3.1 라이브러리 불러오기"
   ]
  },
  {
   "cell_type": "code",
   "execution_count": 64,
   "id": "f74936d0",
   "metadata": {},
   "outputs": [],
   "source": [
    "import numpy as np\n",
    "import json"
   ]
  },
  {
   "cell_type": "markdown",
   "id": "4c4367e3",
   "metadata": {},
   "source": [
    "### 3.2 학습용, 검증용, 테스트용 데이터 읽어오기"
   ]
  },
  {
   "cell_type": "code",
   "execution_count": 65,
   "id": "ddb083a3",
   "metadata": {},
   "outputs": [],
   "source": [
    "stage1 = {\n",
    "    'train_X': np.load('./Data/train_data_stage1_X.npy'),\n",
    "    'train_y': np.load('./Data/train_data_stage1_y.npy'),\n",
    "    'valid_X': np.load('./Data/valid_data_stage1_X.npy'),\n",
    "    'valid_y': np.load('./Data/valid_data_stage1_y.npy'),\n",
    "    'test_X': np.load('./Data/test_data_stage1_X.npy'),\n",
    "    'test_y': np.load('./Data/test_data_stage1_y.npy'),\n",
    "}\n",
    "\n",
    "stage2 = {\n",
    "    'train_X': np.load('./Data/train_data_stage2_X.npy'),\n",
    "    'train_y': np.load('./Data/train_data_stage2_y.npy'),\n",
    "    'valid_X': np.load('./Data/valid_data_stage2_X.npy'),\n",
    "    'valid_y': np.load('./Data/valid_data_stage2_y.npy'),\n",
    "    'test_X': np.load('./Data/test_data_stage2_X.npy'),\n",
    "    'test_y': np.load('./Data/test_data_stage2_y.npy'),\n",
    "}\n",
    "\n",
    "columns = json.load(open('./Data/valid_columns.json', 'r'))\n",
    "columns['stage2_output'] = [i.replace('Stage1','Stage2') for i in columns['stage2_output']]"
   ]
  },
  {
   "cell_type": "markdown",
   "id": "79a28e56",
   "metadata": {},
   "source": [
    "### 3.3 데이터 표준화하기"
   ]
  },
  {
   "cell_type": "markdown",
   "id": "31a0bd0a",
   "metadata": {},
   "source": [
    "### 3.3.1 Stage1 데이터 표준화하기"
   ]
  },
  {
   "cell_type": "code",
   "execution_count": 66,
   "id": "54d00633",
   "metadata": {},
   "outputs": [
    {
     "name": "stdout",
     "output_type": "stream",
     "text": [
      "입력값 평균: [  11.85294587  205.74478705  951.00255435 1242.437388     72.01273285\n",
      "   72.01162996   70.34571071   11.07603585  408.95062376   81.47648118\n",
      "   75.96962985   12.79330524  566.38390195  202.65058918   68.99620414\n",
      "   69.10054828   73.3958155    13.89662164  226.12474952   76.81680896\n",
      "   59.99898793    9.08815439  205.71384206  425.06943434  202.26546402\n",
      "   78.00841235   78.00453278  345.11532917   13.26721071  246.73680272\n",
      "   74.14375402   65.00868711  108.96768422   84.98831262   80.00354672\n",
      "   15.32405834   23.84402174]\n",
      "출력값 평균: [12.89768652 13.69662267  8.00480187 11.36113325 21.31940678 32.87843839\n",
      "  0.12721732  1.34725458  1.09990652 19.8051213   7.68305334  1.4919701\n",
      "  1.20588607  2.89104562 10.02515553]\n"
     ]
    }
   ],
   "source": [
    "stage1_X_mean = stage1['train_X'].mean(axis = 0)\n",
    "stage1_y_mean = stage1['train_y'].mean(axis = 0)\n",
    "print('입력값 평균:', stage1_X_mean)\n",
    "print('출력값 평균:', stage1_y_mean)"
   ]
  },
  {
   "cell_type": "code",
   "execution_count": 67,
   "id": "55946bfc",
   "metadata": {},
   "outputs": [
    {
     "name": "stdout",
     "output_type": "stream",
     "text": [
      "입력값 표준편차: [5.10993143e-01 1.16806618e+01 1.27620111e+02 9.77321235e+01\n",
      " 6.23396785e-02 4.06238919e-01 5.49867530e+00 6.36170724e-01\n",
      " 2.05368437e+01 9.21642493e-01 2.06429784e+00 1.07360805e-01\n",
      " 1.83380514e+01 1.48381842e+01 5.44970706e-02 1.06721153e-01\n",
      " 3.94100055e-01 2.91335938e-02 3.06908107e+00 8.30358591e-01\n",
      " 1.61971729e-01 3.95092636e-01 1.63223059e+01 9.53699574e+00\n",
      " 1.58921785e+01 7.73526529e-02 1.14547773e-01 9.05396328e+00\n",
      " 4.34061012e-01 6.10492128e+00 2.05042127e+00 6.27961350e-02\n",
      " 5.59761035e+00 1.85637963e+01 1.18126539e-01 1.18770739e+00\n",
      " 3.72221796e-01]\n",
      "출력값 표준편차: [0.9270819  0.85503751 6.90580271 1.03664992 2.14313701 3.882343\n",
      " 0.57606676 1.13060617 1.41265541 4.68687927 1.07824517 2.54294205\n",
      " 0.66114934 0.92884134 7.38778856]\n"
     ]
    }
   ],
   "source": [
    "stage1_X_std = stage1['train_X'].std(axis = 0)\n",
    "stage1_y_std = stage1['train_y'].std(axis = 0)\n",
    "print('입력값 표준편차:', stage1_X_std)\n",
    "print('출력값 표준편차:', stage1_y_std)"
   ]
  },
  {
   "cell_type": "code",
   "execution_count": 68,
   "id": "a48ba732",
   "metadata": {},
   "outputs": [],
   "source": [
    "# 학습 데이터 표준화\n",
    "stage1['train_X'] = (stage1['train_X'] - stage1_X_mean) / stage1_X_std\n",
    "stage1['train_y'] = (stage1['train_y'] - stage1_y_mean) / stage1_y_std\n",
    "# 검증용 데이터 표준화\n",
    "stage1['valid_X'] = (stage1['valid_X'] - stage1_X_mean) / stage1_X_std\n",
    "stage1['valid_y'] = (stage1['valid_y'] - stage1_y_mean) / stage1_y_std\n",
    "# 테스트 데이터 표준화\n",
    "stage1['test_X'] = (stage1['test_X'] - stage1_X_mean) / stage1_X_std\n",
    "stage1['test_y'] = (stage1['test_y'] - stage1_y_mean) / stage1_y_std"
   ]
  },
  {
   "cell_type": "markdown",
   "id": "4a4941f1",
   "metadata": {},
   "source": [
    "### 3.3.2 Stage2 데이터 표준화하기"
   ]
  },
  {
   "cell_type": "code",
   "execution_count": 69,
   "id": "8f79e749",
   "metadata": {},
   "outputs": [
    {
     "name": "stdout",
     "output_type": "stream",
     "text": [
      "입력값 평균: [1.28976865e+01 1.36966227e+01 8.00480187e+00 1.13611333e+01\n",
      " 2.13194068e+01 3.28784384e+01 1.27217323e-01 1.34725458e+00\n",
      " 1.09990652e+00 1.98051213e+01 7.68305334e+00 1.49197010e+00\n",
      " 1.20588607e+00 2.89104562e+00 1.00251555e+01 3.60122933e+02\n",
      " 3.60136275e+02 1.72294333e+01 3.22627969e+02 3.09786854e+02\n",
      " 1.87200947e+02 3.09998282e+02 2.89997582e+02 2.69681649e+02\n",
      " 2.42661246e+02 2.44994629e+02 6.34195390e+01 1.54046742e+02\n",
      " 1.53240583e+01 2.38440217e+01]\n",
      "출력값 평균: [11.69212911  6.25614828 10.2499656  19.33555126  2.87697932  2.7475277\n",
      "  0.53310706  2.91750962 18.38898671 11.61424043  7.53420311  3.54181714\n",
      "  7.51699723]\n"
     ]
    }
   ],
   "source": [
    "stage2_X_mean = stage2['train_X'].mean(axis = 0)\n",
    "stage2_y_mean = stage2['train_y'].mean(axis = 0)\n",
    "print('입력값 평균:', stage2_X_mean)\n",
    "print('출력값 평균:', stage2_y_mean)"
   ]
  },
  {
   "cell_type": "code",
   "execution_count": 70,
   "id": "f46e0c4c",
   "metadata": {},
   "outputs": [
    {
     "name": "stdout",
     "output_type": "stream",
     "text": [
      "입력값 표준편차: [ 0.9270819   0.85503751  6.90580271  1.03664992  2.14313701  3.882343\n",
      "  0.57606676  1.13060617  1.41265541  4.68687927  1.07824517  2.54294205\n",
      "  0.66114934  0.92884134  7.38778856  1.9209727   2.64895901  0.94209921\n",
      "  3.61537985  2.74078134 23.41676809  0.03961971  0.05202987  1.01853204\n",
      "  1.59098238  0.10771334  0.39587306  9.90869048  1.18770739  0.3722218 ]\n",
      "출력값 표준편차: [3.62230517 1.60057596 2.30753588 4.62537631 9.09270122 0.37574164\n",
      " 0.20467783 0.49744294 4.97294003 7.62127826 1.64901449 0.45450424\n",
      " 2.0723342 ]\n"
     ]
    }
   ],
   "source": [
    "stage2_X_std = stage2['train_X'].std(axis = 0)\n",
    "stage2_y_std = stage2['train_y'].std(axis = 0)\n",
    "print('입력값 표준편차:', stage2_X_std)\n",
    "print('출력값 표준편차:', stage2_y_std)"
   ]
  },
  {
   "cell_type": "code",
   "execution_count": 71,
   "id": "bf147de1",
   "metadata": {},
   "outputs": [],
   "source": [
    "# 학습 데이터 표준화\n",
    "stage2['train_X'] = (stage2['train_X'] - stage2_X_mean) / stage2_X_std\n",
    "stage2['train_y'] = (stage2['train_y'] - stage2_y_mean) / stage2_y_std\n",
    "\n",
    "# 검증용 데이터 표준화\n",
    "stage2['valid_X'] = (stage2['valid_X'] - stage2_X_mean) / stage2_X_std\n",
    "stage2['valid_y'] = (stage2['valid_y'] - stage2_y_mean) / stage2_y_std\n",
    "\n",
    "# 테스트 데이터 표준화\n",
    "stage2['test_X'] = (stage2['test_X'] - stage2_X_mean) / stage2_X_std\n",
    "stage2['test_y'] = (stage2['test_y'] - stage2_y_mean) / stage2_y_std"
   ]
  },
  {
   "cell_type": "markdown",
   "id": "2687a190",
   "metadata": {},
   "source": [
    "### 3.4 MLP 회귀 모델 수행 (Stage1)"
   ]
  },
  {
   "cell_type": "markdown",
   "id": "5037199a",
   "metadata": {},
   "source": [
    "### 3.4.1 모델 정의"
   ]
  },
  {
   "cell_type": "code",
   "execution_count": 72,
   "id": "7e41ac1b",
   "metadata": {},
   "outputs": [],
   "source": [
    "# MLP 모델을 설정합니다.\n",
    "MLP_model = tf.keras.Sequential([\n",
    "    Input(shape = stage1['train_X'].shape[1]),\n",
    "    tf.keras.layers.Dense(64, activation = 'relu'),\n",
    "    tf.keras.layers.Dense(32, activation = 'relu'),\n",
    "    tf.keras.layers.Dense(stage1['train_y'].shape[1])\n",
    "])"
   ]
  },
  {
   "cell_type": "markdown",
   "id": "81990e14",
   "metadata": {},
   "source": [
    "### 3.4.2 모델 학습 방법 설정"
   ]
  },
  {
   "cell_type": "code",
   "execution_count": 73,
   "id": "7b28aa70",
   "metadata": {},
   "outputs": [],
   "source": [
    "MLP_model.compile(loss = 'mse',\n",
    "              optimizer = tf.keras.optimizers.SGD(),\n",
    ")"
   ]
  },
  {
   "cell_type": "markdown",
   "id": "4ea0d3e6",
   "metadata": {},
   "source": [
    "### 3.4.3 모델 학습"
   ]
  },
  {
   "cell_type": "code",
   "execution_count": 74,
   "id": "43b899c6",
   "metadata": {
    "scrolled": true
   },
   "outputs": [
    {
     "name": "stdout",
     "output_type": "stream",
     "text": [
      "Epoch 1/50\n",
      "564/564 - 1s - loss: 0.9108\n",
      "Epoch 2/50\n",
      "564/564 - 0s - loss: 0.7799\n",
      "Epoch 3/50\n",
      "564/564 - 0s - loss: 0.7435\n",
      "Epoch 4/50\n",
      "564/564 - 0s - loss: 0.7207\n",
      "Epoch 5/50\n",
      "564/564 - 0s - loss: 0.7021\n",
      "Epoch 6/50\n",
      "564/564 - 0s - loss: 0.6868\n",
      "Epoch 7/50\n",
      "564/564 - 0s - loss: 0.6732\n",
      "Epoch 8/50\n",
      "564/564 - 0s - loss: 0.6619\n",
      "Epoch 9/50\n",
      "564/564 - 0s - loss: 0.6515\n",
      "Epoch 10/50\n",
      "564/564 - 0s - loss: 0.6425\n",
      "Epoch 11/50\n",
      "564/564 - 0s - loss: 0.6350\n",
      "Epoch 12/50\n",
      "564/564 - 0s - loss: 0.6279\n",
      "Epoch 13/50\n",
      "564/564 - 0s - loss: 0.6210\n",
      "Epoch 14/50\n",
      "564/564 - 0s - loss: 0.6157\n",
      "Epoch 15/50\n",
      "564/564 - 0s - loss: 0.6099\n",
      "Epoch 16/50\n",
      "564/564 - 0s - loss: 0.6045\n",
      "Epoch 17/50\n",
      "564/564 - 0s - loss: 0.6002\n",
      "Epoch 18/50\n",
      "564/564 - 0s - loss: 0.5945\n",
      "Epoch 19/50\n",
      "564/564 - 0s - loss: 0.5900\n",
      "Epoch 20/50\n",
      "564/564 - 0s - loss: 0.5847\n",
      "Epoch 21/50\n",
      "564/564 - 0s - loss: 0.5802\n",
      "Epoch 22/50\n",
      "564/564 - 0s - loss: 0.5747\n",
      "Epoch 23/50\n",
      "564/564 - 0s - loss: 0.5703\n",
      "Epoch 24/50\n",
      "564/564 - 0s - loss: 0.5657\n",
      "Epoch 25/50\n",
      "564/564 - 0s - loss: 0.5612\n",
      "Epoch 26/50\n",
      "564/564 - 0s - loss: 0.5550\n",
      "Epoch 27/50\n",
      "564/564 - 0s - loss: 0.5505\n",
      "Epoch 28/50\n",
      "564/564 - 0s - loss: 0.5443\n",
      "Epoch 29/50\n",
      "564/564 - 0s - loss: 0.5416\n",
      "Epoch 30/50\n",
      "564/564 - 0s - loss: 0.5352\n",
      "Epoch 31/50\n",
      "564/564 - 0s - loss: 0.5301\n",
      "Epoch 32/50\n",
      "564/564 - 0s - loss: 0.5257\n",
      "Epoch 33/50\n",
      "564/564 - 0s - loss: 0.5205\n",
      "Epoch 34/50\n",
      "564/564 - 0s - loss: 0.5143\n",
      "Epoch 35/50\n",
      "564/564 - 0s - loss: 0.5080\n",
      "Epoch 36/50\n",
      "564/564 - 0s - loss: 0.5040\n",
      "Epoch 37/50\n",
      "564/564 - 0s - loss: 0.4984\n",
      "Epoch 38/50\n",
      "564/564 - 0s - loss: 0.4936\n",
      "Epoch 39/50\n",
      "564/564 - 0s - loss: 0.4864\n",
      "Epoch 40/50\n",
      "564/564 - 0s - loss: 0.4834\n",
      "Epoch 41/50\n",
      "564/564 - 0s - loss: 0.4777\n",
      "Epoch 42/50\n",
      "564/564 - 0s - loss: 0.4744\n",
      "Epoch 43/50\n",
      "564/564 - 0s - loss: 0.4697\n",
      "Epoch 44/50\n",
      "564/564 - 0s - loss: 0.4648\n",
      "Epoch 45/50\n",
      "564/564 - 0s - loss: 0.4591\n",
      "Epoch 46/50\n",
      "564/564 - 0s - loss: 0.4573\n",
      "Epoch 47/50\n",
      "564/564 - 0s - loss: 0.4549\n",
      "Epoch 48/50\n",
      "564/564 - 0s - loss: 0.4485\n",
      "Epoch 49/50\n",
      "564/564 - 0s - loss: 0.4447\n",
      "Epoch 50/50\n",
      "564/564 - 0s - loss: 0.4420\n"
     ]
    }
   ],
   "source": [
    "history = MLP_model.fit(stage1['train_X'], stage1['train_y'], epochs = 50, batch_size = 16, verbose = 2)"
   ]
  },
  {
   "cell_type": "markdown",
   "id": "97685b68",
   "metadata": {},
   "source": [
    "### 3.4.4 모델 예측"
   ]
  },
  {
   "cell_type": "code",
   "execution_count": 75,
   "id": "325d51f2",
   "metadata": {},
   "outputs": [],
   "source": [
    "pred = MLP_model.predict(stage1['test_X'])"
   ]
  },
  {
   "cell_type": "markdown",
   "id": "306837bc",
   "metadata": {},
   "source": [
    "### 3.4.5 모델 평가"
   ]
  },
  {
   "cell_type": "code",
   "execution_count": 76,
   "id": "786837e2",
   "metadata": {
    "scrolled": false
   },
   "outputs": [
    {
     "name": "stdout",
     "output_type": "stream",
     "text": [
      "R2 score: 0.535187\n"
     ]
    }
   ],
   "source": [
    "r2 = sklearn.metrics.r2_score(stage1['test_y'], pred)\n",
    "print(\"R2 score: %f\"%r2)"
   ]
  },
  {
   "cell_type": "markdown",
   "id": "31ddf8b4",
   "metadata": {},
   "source": [
    "### 3.4 MLP 회귀 모델 수행 (Stage2)"
   ]
  },
  {
   "cell_type": "markdown",
   "id": "e90eaed9",
   "metadata": {},
   "source": [
    "### 3.4.1 모델 정의"
   ]
  },
  {
   "cell_type": "code",
   "execution_count": 77,
   "id": "dafdd5b5",
   "metadata": {},
   "outputs": [],
   "source": [
    "# MLP 모델을 설정합니다.\n",
    "MLP_model = tf.keras.Sequential([\n",
    "    Input(shape = stage2['train_X'].shape[1]),\n",
    "    tf.keras.layers.Dense(64, activation = 'relu'),\n",
    "    tf.keras.layers.Dense(32, activation = 'relu'),\n",
    "    tf.keras.layers.Dense(stage2['train_y'].shape[1])\n",
    "])"
   ]
  },
  {
   "cell_type": "markdown",
   "id": "4d635458",
   "metadata": {},
   "source": [
    "### 3.4.2 모델 학습 방법 설정"
   ]
  },
  {
   "cell_type": "code",
   "execution_count": 78,
   "id": "99780ba7",
   "metadata": {},
   "outputs": [],
   "source": [
    "MLP_model.compile(loss = 'mse',\n",
    "              optimizer = tf.keras.optimizers.SGD(),\n",
    ")"
   ]
  },
  {
   "cell_type": "markdown",
   "id": "01d798ce",
   "metadata": {},
   "source": [
    "### 3.4.3 모델 학습"
   ]
  },
  {
   "cell_type": "code",
   "execution_count": 79,
   "id": "52bf7198",
   "metadata": {
    "scrolled": true
   },
   "outputs": [
    {
     "name": "stdout",
     "output_type": "stream",
     "text": [
      "Epoch 1/50\n",
      "564/564 - 1s - loss: 0.6670\n",
      "Epoch 2/50\n",
      "564/564 - 0s - loss: 0.5137\n",
      "Epoch 3/50\n",
      "564/564 - 0s - loss: 0.4838\n",
      "Epoch 4/50\n",
      "564/564 - 0s - loss: 0.4684\n",
      "Epoch 5/50\n",
      "564/564 - 0s - loss: 0.4578\n",
      "Epoch 6/50\n",
      "564/564 - 0s - loss: 0.4498\n",
      "Epoch 7/50\n",
      "564/564 - 0s - loss: 0.4427\n",
      "Epoch 8/50\n",
      "564/564 - 0s - loss: 0.4366\n",
      "Epoch 9/50\n",
      "564/564 - 0s - loss: 0.4314\n",
      "Epoch 10/50\n",
      "564/564 - 0s - loss: 0.4262\n",
      "Epoch 11/50\n",
      "564/564 - 0s - loss: 0.4212\n",
      "Epoch 12/50\n",
      "564/564 - 0s - loss: 0.4168\n",
      "Epoch 13/50\n",
      "564/564 - 0s - loss: 0.4120\n",
      "Epoch 14/50\n",
      "564/564 - 0s - loss: 0.4083\n",
      "Epoch 15/50\n",
      "564/564 - 0s - loss: 0.4038\n",
      "Epoch 16/50\n",
      "564/564 - 0s - loss: 0.3999\n",
      "Epoch 17/50\n",
      "564/564 - 0s - loss: 0.3960\n",
      "Epoch 18/50\n",
      "564/564 - 0s - loss: 0.3923\n",
      "Epoch 19/50\n",
      "564/564 - 0s - loss: 0.3896\n",
      "Epoch 20/50\n",
      "564/564 - 0s - loss: 0.3861\n",
      "Epoch 21/50\n",
      "564/564 - 0s - loss: 0.3833\n",
      "Epoch 22/50\n",
      "564/564 - 0s - loss: 0.3801\n",
      "Epoch 23/50\n",
      "564/564 - 0s - loss: 0.3792\n",
      "Epoch 24/50\n",
      "564/564 - 0s - loss: 0.3767\n",
      "Epoch 25/50\n",
      "564/564 - 0s - loss: 0.3727\n",
      "Epoch 26/50\n",
      "564/564 - 0s - loss: 0.3700\n",
      "Epoch 27/50\n",
      "564/564 - 0s - loss: 0.3681\n",
      "Epoch 28/50\n",
      "564/564 - 0s - loss: 0.3658\n",
      "Epoch 29/50\n",
      "564/564 - 0s - loss: 0.3636\n",
      "Epoch 30/50\n",
      "564/564 - 0s - loss: 0.3617\n",
      "Epoch 31/50\n",
      "564/564 - 0s - loss: 0.3600\n",
      "Epoch 32/50\n",
      "564/564 - 0s - loss: 0.3588\n",
      "Epoch 33/50\n",
      "564/564 - 0s - loss: 0.3568\n",
      "Epoch 34/50\n",
      "564/564 - 0s - loss: 0.3560\n",
      "Epoch 35/50\n",
      "564/564 - 0s - loss: 0.3549\n",
      "Epoch 36/50\n",
      "564/564 - 0s - loss: 0.3534\n",
      "Epoch 37/50\n",
      "564/564 - 0s - loss: 0.3520\n",
      "Epoch 38/50\n",
      "564/564 - 0s - loss: 0.3506\n",
      "Epoch 39/50\n",
      "564/564 - 0s - loss: 0.3495\n",
      "Epoch 40/50\n",
      "564/564 - 0s - loss: 0.3484\n",
      "Epoch 41/50\n",
      "564/564 - 0s - loss: 0.3474\n",
      "Epoch 42/50\n",
      "564/564 - 0s - loss: 0.3470\n",
      "Epoch 43/50\n",
      "564/564 - 0s - loss: 0.3458\n",
      "Epoch 44/50\n",
      "564/564 - 0s - loss: 0.3450\n",
      "Epoch 45/50\n",
      "564/564 - 0s - loss: 0.3439\n",
      "Epoch 46/50\n",
      "564/564 - 0s - loss: 0.3433\n",
      "Epoch 47/50\n",
      "564/564 - 0s - loss: 0.3427\n",
      "Epoch 48/50\n",
      "564/564 - 0s - loss: 0.3414\n",
      "Epoch 49/50\n",
      "564/564 - 0s - loss: 0.3411\n",
      "Epoch 50/50\n",
      "564/564 - 0s - loss: 0.3399\n"
     ]
    }
   ],
   "source": [
    "history = MLP_model.fit(stage2['train_X'], stage2['train_y'], epochs = 50, batch_size = 16, verbose = 2)"
   ]
  },
  {
   "cell_type": "markdown",
   "id": "bedf93ce",
   "metadata": {},
   "source": [
    "### 3.4.4 모델 예측"
   ]
  },
  {
   "cell_type": "code",
   "execution_count": 80,
   "id": "96855bf0",
   "metadata": {},
   "outputs": [],
   "source": [
    "pred = MLP_model.predict(stage2['test_X'])"
   ]
  },
  {
   "cell_type": "markdown",
   "id": "4a549f17",
   "metadata": {},
   "source": [
    "### 3.4.5 모델 평가"
   ]
  },
  {
   "cell_type": "code",
   "execution_count": 81,
   "id": "9442a31d",
   "metadata": {
    "scrolled": true
   },
   "outputs": [
    {
     "name": "stdout",
     "output_type": "stream",
     "text": [
      "R2 score: 0.646388\n"
     ]
    }
   ],
   "source": [
    "r2 = sklearn.metrics.r2_score(stage2['test_y'], pred)\n",
    "print(\"R2 score: %f\"%r2)"
   ]
  },
  {
   "cell_type": "markdown",
   "id": "4dd8fbb1",
   "metadata": {},
   "source": [
    "<span style=\"color:rgb(120, 120, 120)\">본 학습 자료를 포함한 사이트 내 모든 자료의 저작권은 엘리스에 있으며 외부로의 무단 복제, 배포 및 전송을 불허합니다.\n",
    "\n",
    "Copyright @ elice all rights reserved</span>"
   ]
  }
 ],
 "metadata": {
  "kernelspec": {
   "display_name": "Python 3",
   "language": "python",
   "name": "python3"
  },
  "language_info": {
   "codemirror_mode": {
    "name": "ipython",
    "version": 3
   },
   "file_extension": ".py",
   "mimetype": "text/x-python",
   "name": "python",
   "nbconvert_exporter": "python",
   "pygments_lexer": "ipython3",
   "version": "3.8.8"
  }
 },
 "nbformat": 4,
 "nbformat_minor": 5
}
