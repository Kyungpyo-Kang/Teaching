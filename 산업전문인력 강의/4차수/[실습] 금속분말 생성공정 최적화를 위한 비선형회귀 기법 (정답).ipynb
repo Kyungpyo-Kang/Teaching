{
 "cells": [
  {
   "cell_type": "markdown",
   "id": "17ab6b37",
   "metadata": {},
   "source": [
    "# [프로젝트4] 금속분말 생성공정 최적화를 위한 비선형회귀 기법\n"
   ]
  },
  {
   "cell_type": "markdown",
   "id": "247badae",
   "metadata": {},
   "source": [
    "---"
   ]
  },
  {
   "cell_type": "markdown",
   "id": "cdb98206",
   "metadata": {},
   "source": [
    "## 프로젝트 목표\n",
    "---\n",
    "- 다항회귀 분석을 수행해봅니다.\n",
    "- MLP 모델을 구현해봅니다.\n",
    "- 다양한 학습률을 비교해봅니다.\n",
    "- 다양한 최적화 함수를 비교해봅니다.\n",
    "- 금속분말 데이터를 MLP 모델에 적용해봅니다."
   ]
  },
  {
   "cell_type": "markdown",
   "id": "74da0a16",
   "metadata": {},
   "source": [
    "## 프로젝트 목차\n",
    "---\n",
    "1. **다항 회귀 분석 수행:** 다항 회귀 분석 모델을 학습, 예측, 평가해봅니다.\n",
    "\n",
    "2. **MLP 모델의 구현:** Keras 를 이용한 MLP 구현\n",
    "\n",
    "3. **회귀 모델 수행:** 금속분말 데이터셋을 이용하여 회귀모델 학습"
   ]
  },
  {
   "cell_type": "markdown",
   "id": "ed39ce61",
   "metadata": {},
   "source": [
    "## 프로젝트 개요\n",
    "---\n",
    "\n",
    "이번 프로젝트에서는 다항 회귀 분석을 수행해보고, 비선형 데이터를 다룰 수 있는 MLP 모델에 대해 배워봅니다."
   ]
  },
  {
   "cell_type": "markdown",
   "id": "faa4beae",
   "metadata": {},
   "source": [
    "## 1. 다항회귀 분석 수행\n",
    "---\n",
    "다항 회귀 분석 모델을 구현해보고, 성능을 비교해봅니다.\n"
   ]
  },
  {
   "cell_type": "markdown",
   "id": "5676d598",
   "metadata": {},
   "source": [
    "### 1.1 라이브러리 불러오기"
   ]
  },
  {
   "cell_type": "code",
   "execution_count": 3,
   "id": "9f797430",
   "metadata": {},
   "outputs": [],
   "source": [
    "import numpy as np\n",
    "from matplotlib import pyplot as plt\n",
    "%matplotlib inline\n",
    "import sklearn"
   ]
  },
  {
   "cell_type": "markdown",
   "id": "0e8a1ef4",
   "metadata": {},
   "source": [
    "### 1.2 데이터 생성"
   ]
  },
  {
   "cell_type": "code",
   "execution_count": 27,
   "id": "f3a06b5c",
   "metadata": {},
   "outputs": [],
   "source": [
    "np.random.seed(0)\n",
    "X = np.random.normal(size = (1000, 1)) \n",
    "y = X ** 3 * 3 + X ** 2 * 2 + X - 2 + np.random.normal(size = (1000, 1)) * 3"
   ]
  },
  {
   "cell_type": "code",
   "execution_count": 28,
   "id": "c3021328",
   "metadata": {},
   "outputs": [
    {
     "data": {
      "image/png": "[encoded data removed]",
      "text/plain": [
       "<Figure size 432x288 with 1 Axes>"
      ]
     },
     "metadata": {
      "needs_background": "light"
     },
     "output_type": "display_data"
    }
   ],
   "source": [
    "plt.scatter(X, y, s = 3)\n",
    "plt.show()"
   ]
  },
  {
   "cell_type": "markdown",
   "id": "1644ea29",
   "metadata": {},
   "source": [
    "### 1.3 데이터 분할"
   ]
  },
  {
   "cell_type": "code",
   "execution_count": 29,
   "id": "5dcf66d8",
   "metadata": {},
   "outputs": [],
   "source": [
    "train_ratio = 0.8\n",
    "train_X = X[:int(len(X) * train_ratio)].reshape(-1, 1)\n",
    "train_y = y[:int(len(X) * train_ratio)].reshape(-1, 1)\n",
    "test_X = X[int(len(X) * train_ratio):].reshape(-1, 1)\n",
    "test_y = y[int(len(X) * train_ratio):].reshape(-1, 1)"
   ]
  },
  {
   "cell_type": "markdown",
   "id": "f55e8921",
   "metadata": {},
   "source": [
    "### 1.4 선형 회귀 모델"
   ]
  },
  {
   "cell_type": "markdown",
   "id": "2fb322cc",
   "metadata": {},
   "source": [
    "### 1.4.1 최소제곱 선형 회귀 모델 학습"
   ]
  },
  {
   "cell_type": "code",
   "execution_count": 31,
   "id": "0f9d4a6f",
   "metadata": {},
   "outputs": [],
   "source": [
    "from sklearn.linear_model import LinearRegression"
   ]
  },
  {
   "cell_type": "code",
   "execution_count": 32,
   "id": "e594497c",
   "metadata": {},
   "outputs": [
    {
     "data": {
      "text/plain": [
       "LinearRegression()"
      ]
     },
     "execution_count": 32,
     "metadata": {},
     "output_type": "execute_result"
    }
   ],
   "source": [
    "fitter = LinearRegression()\n",
    "fitter"
   ]
  },
  {
   "cell_type": "code",
   "execution_count": 33,
   "id": "73f60361",
   "metadata": {},
   "outputs": [
    {
     "data": {
      "text/plain": [
       "LinearRegression()"
      ]
     },
     "execution_count": 33,
     "metadata": {},
     "output_type": "execute_result"
    }
   ],
   "source": [
    "fitter.fit(train_X, train_y)"
   ]
  },
  {
   "cell_type": "markdown",
   "id": "32f4c9c4",
   "metadata": {},
   "source": [
    "### 1.4.2 최소제곱 선형 회귀 모델 예측"
   ]
  },
  {
   "cell_type": "code",
   "execution_count": 34,
   "id": "ec593d8b",
   "metadata": {},
   "outputs": [],
   "source": [
    "pred = fitter.predict(test_X)"
   ]
  },
  {
   "cell_type": "code",
   "execution_count": 35,
   "id": "2a5f793f",
   "metadata": {},
   "outputs": [
    {
     "data": {
      "image/png": "[encoded data removed]",
      "text/plain": [
       "<Figure size 432x288 with 1 Axes>"
      ]
     },
     "metadata": {
      "needs_background": "light"
     },
     "output_type": "display_data"
    }
   ],
   "source": [
    "plt.scatter(test_X, pred, s = 3, c = 'red', label = 'Pred')\n",
    "plt.scatter(test_X, test_y, s = 3, c = 'blue', label = 'GT')\n",
    "plt.legend()\n",
    "plt.show()"
   ]
  },
  {
   "cell_type": "markdown",
   "id": "50f25464",
   "metadata": {},
   "source": [
    "### 1.4.3 최소제곱 선형 회귀 모델 평가"
   ]
  },
  {
   "cell_type": "code",
   "execution_count": 36,
   "id": "9fb82b9e",
   "metadata": {},
   "outputs": [
    {
     "name": "stdout",
     "output_type": "stream",
     "text": [
      "R2 score: 0.584614\n"
     ]
    }
   ],
   "source": [
    "r2 = sklearn.metrics.r2_score(test_y, pred)\n",
    "print(\"R2 score: %f\"%r2)"
   ]
  },
  {
   "cell_type": "markdown",
   "id": "7f97b4ec",
   "metadata": {},
   "source": [
    "### 1.5 다항 회귀 모델"
   ]
  },
  {
   "cell_type": "markdown",
   "id": "ab72ca26",
   "metadata": {},
   "source": [
    "### 1.5.1 데이터 전처리"
   ]
  },
  {
   "cell_type": "code",
   "execution_count": 39,
   "id": "e4ec3dc0",
   "metadata": {},
   "outputs": [],
   "source": [
    "train_Xs = np.concatenate([train_X ** 3, train_X ** 2, train_X], axis=1)\n",
    "test_Xs = np.concatenate([test_X ** 3, test_X ** 2, test_X], axis=1)"
   ]
  },
  {
   "cell_type": "markdown",
   "id": "efad7683",
   "metadata": {},
   "source": [
    "### 1.5.2 최소제곱 선형 회귀 모델 학습"
   ]
  },
  {
   "cell_type": "code",
   "execution_count": 40,
   "id": "21e462f4",
   "metadata": {},
   "outputs": [
    {
     "data": {
      "text/plain": [
       "LinearRegression()"
      ]
     },
     "execution_count": 40,
     "metadata": {},
     "output_type": "execute_result"
    }
   ],
   "source": [
    "fitter = LinearRegression()\n",
    "fitter"
   ]
  },
  {
   "cell_type": "code",
   "execution_count": 41,
   "id": "c9c4ad45",
   "metadata": {},
   "outputs": [
    {
     "data": {
      "text/plain": [
       "LinearRegression()"
      ]
     },
     "execution_count": 41,
     "metadata": {},
     "output_type": "execute_result"
    }
   ],
   "source": [
    "fitter.fit(train_Xs, train_y)"
   ]
  },
  {
   "cell_type": "markdown",
   "id": "3d97eec5",
   "metadata": {},
   "source": [
    "### 1.5.3 최소제곱 선형 회귀 모델 예측"
   ]
  },
  {
   "cell_type": "code",
   "execution_count": 44,
   "id": "cabbb6ff",
   "metadata": {},
   "outputs": [],
   "source": [
    "pred = fitter.predict(test_Xs)"
   ]
  },
  {
   "cell_type": "code",
   "execution_count": 45,
   "id": "ff62a8ef",
   "metadata": {},
   "outputs": [
    {
     "data": {
      "image/png": "[encoded data removed]",
      "text/plain": [
       "<Figure size 432x288 with 1 Axes>"
      ]
     },
     "metadata": {
      "needs_background": "light"
     },
     "output_type": "display_data"
    }
   ],
   "source": [
    "plt.scatter(test_X, pred, s = 3, c = 'red', label = 'Pred')\n",
    "plt.scatter(test_X, test_y, s = 3, c = 'blue', label = 'GT')\n",
    "plt.legend()\n",
    "plt.show()"
   ]
  },
  {
   "cell_type": "markdown",
   "id": "048437c9",
   "metadata": {},
   "source": [
    "### 1.5.4 최소제곱 선형 회귀 모델 평가"
   ]
  },
  {
   "cell_type": "code",
   "execution_count": 46,
   "id": "2e7d8f67",
   "metadata": {},
   "outputs": [
    {
     "name": "stdout",
     "output_type": "stream",
     "text": [
      "R2 score: 0.949834\n"
     ]
    }
   ],
   "source": [
    "r2 = sklearn.metrics.r2_score(test_y, pred)\n",
    "print(\"R2 score: %f\"%r2)"
   ]
  },
  {
   "cell_type": "markdown",
   "id": "5cc59f9f",
   "metadata": {},
   "source": [
    "### 1.6 다항 피쳐 선택에 따른 모델 성능 비교"
   ]
  },
  {
   "cell_type": "markdown",
   "id": "6eb49770",
   "metadata": {},
   "source": [
    "2제곱에서 24제곱까지의 다항 피쳐를 사용하였을 때 성능을 비교해보겠습니다."
   ]
  },
  {
   "cell_type": "code",
   "execution_count": 60,
   "id": "62605e8e",
   "metadata": {},
   "outputs": [
    {
     "name": "stdout",
     "output_type": "stream",
     "text": [
      "[ 2  3  4  5  6  7  8  9 10 11 12 13 14 15 16 17 18 19 20 21 22 23 24]\n"
     ]
    }
   ],
   "source": [
    "degrees = np.arange(2, 25)\n",
    "print(degrees)"
   ]
  },
  {
   "cell_type": "code",
   "execution_count": 69,
   "id": "b0eee470",
   "metadata": {
    "scrolled": true
   },
   "outputs": [
    {
     "name": "stdout",
     "output_type": "stream",
     "text": [
      "Degree: 2 -> R2 score: 0.652474\n",
      "Degree: 3 -> R2 score: 0.949834\n",
      "Degree: 4 -> R2 score: 0.949863\n",
      "Degree: 5 -> R2 score: 0.949525\n",
      "Degree: 6 -> R2 score: 0.948715\n",
      "Degree: 7 -> R2 score: 0.948016\n",
      "Degree: 8 -> R2 score: 0.948088\n",
      "Degree: 9 -> R2 score: 0.948196\n",
      "Degree: 10 -> R2 score: 0.947491\n",
      "Degree: 11 -> R2 score: 0.946404\n",
      "Degree: 12 -> R2 score: 0.945894\n",
      "Degree: 13 -> R2 score: 0.948829\n",
      "Degree: 14 -> R2 score: 0.948599\n",
      "Degree: 15 -> R2 score: 0.937195\n",
      "Degree: 16 -> R2 score: 0.922179\n",
      "Degree: 17 -> R2 score: 0.922574\n",
      "Degree: 18 -> R2 score: 0.883105\n",
      "Degree: 19 -> R2 score: 0.735307\n",
      "Degree: 20 -> R2 score: 0.937408\n",
      "Degree: 21 -> R2 score: 0.935197\n",
      "Degree: 22 -> R2 score: -0.652393\n",
      "Degree: 23 -> R2 score: -0.352345\n",
      "Degree: 24 -> R2 score: -4.219459\n"
     ]
    }
   ],
   "source": [
    "r2s = []\n",
    "for degree in degrees:\n",
    "    train_Xs = np.concatenate([train_X ** i for i in range(degree + 1)], axis=1)\n",
    "    test_Xs = np.concatenate([test_X ** i for i in range(degree + 1)], axis=1)\n",
    "    fitter = LinearRegression()\n",
    "    fitter.fit(train_Xs, train_y)\n",
    "    pred = fitter.predict(test_Xs)\n",
    "    r2 = sklearn.metrics.r2_score(test_y, pred)\n",
    "    print(\"Degree: %d -> R2 score: %f\"%(degree, r2))\n",
    "    r2s.append(r2)"
   ]
  },
  {
   "cell_type": "code",
   "execution_count": 70,
   "id": "234b8a45",
   "metadata": {},
   "outputs": [
    {
     "data": {
      "image/png": "[encoded data removed]",
      "text/plain": [
       "<Figure size 432x288 with 1 Axes>"
      ]
     },
     "metadata": {
      "needs_background": "light"
     },
     "output_type": "display_data"
    }
   ],
   "source": [
    "plt.plot(degrees, r2s)\n",
    "plt.title('Polynomial Features')\n",
    "plt.xlabel('Degree')\n",
    "plt.ylabel('r2 score')\n",
    "plt.show()"
   ]
  },
  {
   "cell_type": "markdown",
   "id": "a0133f5b",
   "metadata": {},
   "source": [
    "피쳐를 과도하게 많이 사용하면 오히려 모델의 성능이 떨어지는 것을 확인할 수 있습니다. 적절한 degree를 찾아 설정해주는 것이 중요하겠습니다."
   ]
  },
  {
   "cell_type": "markdown",
   "id": "f556f9d3",
   "metadata": {},
   "source": [
    "## 2. MLP 모델의 구현\n",
    "---\n",
    "다음으로, 비선형 데이터를 잘 다룰 수 있는 다층 퍼셉트론 모델 (Multi-layer perceptron; MLP) 을 구현해보겠습니다."
   ]
  },
  {
   "cell_type": "markdown",
   "id": "e1b63eb1",
   "metadata": {},
   "source": [
    "### 2.1 라이브러리 불러오기"
   ]
  },
  {
   "cell_type": "code",
   "execution_count": 74,
   "id": "b14670ae",
   "metadata": {},
   "outputs": [],
   "source": [
    "import tensorflow as tf"
   ]
  },
  {
   "cell_type": "markdown",
   "id": "c3db258e",
   "metadata": {},
   "source": [
    "### 2.2 비선형 데이터 생성"
   ]
  },
  {
   "cell_type": "code",
   "execution_count": 88,
   "id": "3df8674e",
   "metadata": {},
   "outputs": [],
   "source": [
    "np.random.seed(0)\n",
    "X = np.random.normal(size = (1000, 1)) \n",
    "y = np.e ** X + np.random.normal(size = (1000, 1)) * 1"
   ]
  },
  {
   "cell_type": "code",
   "execution_count": 89,
   "id": "95ebd8bc",
   "metadata": {},
   "outputs": [
    {
     "data": {
      "image/png": "[encoded data removed]",
      "text/plain": [
       "<Figure size 432x288 with 1 Axes>"
      ]
     },
     "metadata": {
      "needs_background": "light"
     },
     "output_type": "display_data"
    }
   ],
   "source": [
    "plt.scatter(X, y, s = 3)\n",
    "plt.show()"
   ]
  },
  {
   "cell_type": "markdown",
   "id": "059ed3f3",
   "metadata": {},
   "source": [
    "### 2.3 데이터 분할"
   ]
  },
  {
   "cell_type": "code",
   "execution_count": 95,
   "id": "29aff60e",
   "metadata": {},
   "outputs": [],
   "source": [
    "train_ratio = 0.8\n",
    "train_X = X[:int(len(X) * train_ratio)].reshape(-1, 1)\n",
    "train_y = y[:int(len(X) * train_ratio)].reshape(-1, 1)\n",
    "test_X = X[int(len(X) * train_ratio):].reshape(-1, 1)\n",
    "test_y = y[int(len(X) * train_ratio):].reshape(-1, 1)"
   ]
  },
  {
   "cell_type": "markdown",
   "id": "09d4df14",
   "metadata": {},
   "source": [
    "### 2.4 MLP 모델 설정"
   ]
  },
  {
   "cell_type": "code",
   "execution_count": 96,
   "id": "d7369d1a",
   "metadata": {},
   "outputs": [],
   "source": [
    "# MLP 모델을 설정합니다.\n",
    "MLP_model = tf.keras.Sequential([\n",
    "    tf.keras.layers.Dense(64, activation = 'relu'),\n",
    "    tf.keras.layers.Dense(32, activation = 'relu'),\n",
    "    tf.keras.layers.Dense(1)\n",
    "])"
   ]
  },
  {
   "cell_type": "markdown",
   "id": "8a1c5bdd",
   "metadata": {},
   "source": [
    "### 2.5 학습 방법 설정"
   ]
  },
  {
   "cell_type": "code",
   "execution_count": 102,
   "id": "47c62742",
   "metadata": {},
   "outputs": [],
   "source": [
    "MLP_model.compile(loss = 'mse',\n",
    "              optimizer = 'adam',\n",
    "              metrics = ['mse'])"
   ]
  },
  {
   "cell_type": "markdown",
   "id": "caaff51a",
   "metadata": {},
   "source": [
    "### 2.6 모델 학습"
   ]
  },
  {
   "cell_type": "code",
   "execution_count": 103,
   "id": "94d23a32",
   "metadata": {
    "scrolled": true
   },
   "outputs": [
    {
     "name": "stdout",
     "output_type": "stream",
     "text": [
      "Epoch 1/10\n",
      "50/50 - 0s - loss: 0.9470 - mse: 0.9470\n",
      "Epoch 2/10\n",
      "50/50 - 0s - loss: 0.9518 - mse: 0.9518\n",
      "Epoch 3/10\n",
      "50/50 - 0s - loss: 0.9390 - mse: 0.9390\n",
      "Epoch 4/10\n",
      "50/50 - 0s - loss: 0.9397 - mse: 0.9397\n",
      "Epoch 5/10\n",
      "50/50 - 0s - loss: 0.9452 - mse: 0.9452\n",
      "Epoch 6/10\n",
      "50/50 - 0s - loss: 0.9386 - mse: 0.9386\n",
      "Epoch 7/10\n",
      "50/50 - 0s - loss: 0.9462 - mse: 0.9462\n",
      "Epoch 8/10\n",
      "50/50 - 0s - loss: 0.9456 - mse: 0.9456\n",
      "Epoch 9/10\n",
      "50/50 - 0s - loss: 0.9483 - mse: 0.9483\n",
      "Epoch 10/10\n",
      "50/50 - 0s - loss: 0.9380 - mse: 0.9380\n"
     ]
    }
   ],
   "source": [
    "history = MLP_model.fit(train_X, train_y, epochs = 10, batch_size = 16, verbose = 2)"
   ]
  },
  {
   "cell_type": "markdown",
   "id": "53f6eedc",
   "metadata": {},
   "source": [
    "### 2.7 모델 예측"
   ]
  },
  {
   "cell_type": "code",
   "execution_count": 104,
   "id": "41bc61b2",
   "metadata": {},
   "outputs": [],
   "source": [
    "pred = MLP_model.predict(test_X)"
   ]
  },
  {
   "cell_type": "code",
   "execution_count": 105,
   "id": "cdb6ce21",
   "metadata": {},
   "outputs": [
    {
     "data": {
      "image/png": "[encoded data removed]",
      "text/plain": [
       "<Figure size 432x288 with 1 Axes>"
      ]
     },
     "metadata": {
      "needs_background": "light"
     },
     "output_type": "display_data"
    }
   ],
   "source": [
    "plt.scatter(test_X, pred, s = 3, c = 'red', label = 'Pred')\n",
    "plt.scatter(test_X, test_y, s = 3, c = 'blue', label = 'GT')\n",
    "plt.legend()\n",
    "plt.show()"
   ]
  },
  {
   "cell_type": "markdown",
   "id": "e9b295dd",
   "metadata": {},
   "source": [
    "### 2.8 모델 평가"
   ]
  },
  {
   "cell_type": "code",
   "execution_count": 106,
   "id": "2b8a4dae",
   "metadata": {},
   "outputs": [
    {
     "name": "stdout",
     "output_type": "stream",
     "text": [
      "R2 score: 0.838681\n"
     ]
    }
   ],
   "source": [
    "r2 = sklearn.metrics.r2_score(test_y, pred)\n",
    "print(\"R2 score: %f\"%r2)"
   ]
  },
  {
   "cell_type": "markdown",
   "id": "d0563e12",
   "metadata": {},
   "source": [
    "이론적으로 R2-score 는 선형 회귀의 설명력에 대한 지표이기 때문에 비선형 회귀에 적용할 수 없습니다. 그러나, 여기서는 통계학적으로 깊이 들어가지는 않을 것이기 때문에 편의를 위해 R2-score를 사용하겠습니다."
   ]
  },
  {
   "cell_type": "markdown",
   "id": "92452866",
   "metadata": {},
   "source": [
    "### 2.9 학습률 조정해보기"
   ]
  },
  {
   "cell_type": "markdown",
   "id": "2bde26e8",
   "metadata": {},
   "source": [
    "### 2.9.1 학습률이 너무 클 때"
   ]
  },
  {
   "cell_type": "code",
   "execution_count": 159,
   "id": "9475fcdc",
   "metadata": {},
   "outputs": [],
   "source": [
    "# MLP 모델을 설정합니다.\n",
    "MLP_model = tf.keras.Sequential([\n",
    "    tf.keras.layers.Dense(64, activation = 'relu'),\n",
    "    tf.keras.layers.Dense(32, activation = 'relu'),\n",
    "    tf.keras.layers.Dense(1)\n",
    "])"
   ]
  },
  {
   "cell_type": "code",
   "execution_count": 160,
   "id": "27e4fe4c",
   "metadata": {},
   "outputs": [],
   "source": [
    "MLP_model.compile(loss = 'mse',\n",
    "              optimizer = tf.keras.optimizers.SGD(learning_rate = 0.3),\n",
    "              metrics = ['mse'])"
   ]
  },
  {
   "cell_type": "code",
   "execution_count": 161,
   "id": "46bdae1d",
   "metadata": {},
   "outputs": [
    {
     "name": "stdout",
     "output_type": "stream",
     "text": [
      "Epoch 1/10\n",
      "50/50 - 0s - loss: 4.6129 - mse: 4.6129\n",
      "Epoch 2/10\n",
      "50/50 - 0s - loss: 4.0245 - mse: 4.0245\n",
      "Epoch 3/10\n",
      "50/50 - 0s - loss: 4.0160 - mse: 4.0160\n",
      "Epoch 4/10\n",
      "50/50 - 0s - loss: 4.1577 - mse: 4.1577\n",
      "Epoch 5/10\n",
      "50/50 - 0s - loss: 4.0337 - mse: 4.0337\n",
      "Epoch 6/10\n",
      "50/50 - 0s - loss: 4.0755 - mse: 4.0755\n",
      "Epoch 7/10\n",
      "50/50 - 0s - loss: 4.1126 - mse: 4.1126\n",
      "Epoch 8/10\n",
      "50/50 - 0s - loss: 4.1574 - mse: 4.1574\n",
      "Epoch 9/10\n",
      "50/50 - 0s - loss: 4.1623 - mse: 4.1623\n",
      "Epoch 10/10\n",
      "50/50 - 0s - loss: 4.1233 - mse: 4.1233\n"
     ]
    }
   ],
   "source": [
    "history_toobig = MLP_model.fit(train_X, train_y, epochs = 10, batch_size = 16, verbose = 2)"
   ]
  },
  {
   "cell_type": "code",
   "execution_count": 162,
   "id": "982e6d72",
   "metadata": {},
   "outputs": [
    {
     "data": {
      "image/png": "[encoded data removed]",
      "text/plain": [
       "<Figure size 432x288 with 1 Axes>"
      ]
     },
     "metadata": {
      "needs_background": "light"
     },
     "output_type": "display_data"
    }
   ],
   "source": [
    "plt.plot(history_toobig.epoch, history_toobig.history['loss'])\n",
    "plt.xlabel('epoch')\n",
    "plt.ylabel('loss')\n",
    "plt.show()"
   ]
  },
  {
   "cell_type": "code",
   "execution_count": 163,
   "id": "5800e189",
   "metadata": {},
   "outputs": [],
   "source": [
    "pred = MLP_model.predict(test_X)"
   ]
  },
  {
   "cell_type": "code",
   "execution_count": 164,
   "id": "99f956cb",
   "metadata": {},
   "outputs": [
    {
     "name": "stdout",
     "output_type": "stream",
     "text": [
      "R2 score: -0.029244\n"
     ]
    }
   ],
   "source": [
    "r2 = sklearn.metrics.r2_score(test_y, pred)\n",
    "print(\"R2 score: %f\"%r2)"
   ]
  },
  {
   "cell_type": "markdown",
   "id": "c318f93c",
   "metadata": {},
   "source": [
    "### 2.9.2 학습률이 적당할 때"
   ]
  },
  {
   "cell_type": "code",
   "execution_count": 165,
   "id": "680697f8",
   "metadata": {},
   "outputs": [],
   "source": [
    "# MLP 모델을 설정합니다.\n",
    "MLP_model = tf.keras.Sequential([\n",
    "    tf.keras.layers.Dense(64, activation = 'relu'),\n",
    "    tf.keras.layers.Dense(32, activation = 'relu'),\n",
    "    tf.keras.layers.Dense(1)\n",
    "])"
   ]
  },
  {
   "cell_type": "code",
   "execution_count": 166,
   "id": "f346aa09",
   "metadata": {},
   "outputs": [],
   "source": [
    "MLP_model.compile(loss = 'mse',\n",
    "              optimizer = tf.keras.optimizers.SGD(learning_rate = 0.01),\n",
    "              metrics = ['mse'])"
   ]
  },
  {
   "cell_type": "code",
   "execution_count": 167,
   "id": "3fc7b3af",
   "metadata": {
    "scrolled": true
   },
   "outputs": [
    {
     "name": "stdout",
     "output_type": "stream",
     "text": [
      "Epoch 1/10\n",
      "50/50 - 0s - loss: 3.2425 - mse: 3.2425\n",
      "Epoch 2/10\n",
      "50/50 - 0s - loss: 1.4590 - mse: 1.4590\n",
      "Epoch 3/10\n",
      "50/50 - 0s - loss: 1.3205 - mse: 1.3205\n",
      "Epoch 4/10\n",
      "50/50 - 0s - loss: 1.2331 - mse: 1.2331\n",
      "Epoch 5/10\n",
      "50/50 - 0s - loss: 1.2096 - mse: 1.2096\n",
      "Epoch 6/10\n",
      "50/50 - 0s - loss: 1.1674 - mse: 1.1674\n",
      "Epoch 7/10\n",
      "50/50 - 0s - loss: 1.1509 - mse: 1.1509\n",
      "Epoch 8/10\n",
      "50/50 - 0s - loss: 1.0952 - mse: 1.0952\n",
      "Epoch 9/10\n",
      "50/50 - 0s - loss: 1.0734 - mse: 1.0734\n",
      "Epoch 10/10\n",
      "50/50 - 0s - loss: 1.0471 - mse: 1.0471\n"
     ]
    }
   ],
   "source": [
    "history_good = MLP_model.fit(train_X, train_y, epochs = 10, batch_size = 16, verbose = 2)"
   ]
  },
  {
   "cell_type": "code",
   "execution_count": 168,
   "id": "e27041f8",
   "metadata": {},
   "outputs": [
    {
     "data": {
      "image/png": "[encoded data removed]",
      "text/plain": [
       "<Figure size 432x288 with 1 Axes>"
      ]
     },
     "metadata": {
      "needs_background": "light"
     },
     "output_type": "display_data"
    }
   ],
   "source": [
    "plt.plot(history_good.epoch, history_good.history['loss'])\n",
    "plt.xlabel('epoch')\n",
    "plt.ylabel('loss')\n",
    "plt.show()"
   ]
  },
  {
   "cell_type": "code",
   "execution_count": 169,
   "id": "a6f18261",
   "metadata": {},
   "outputs": [],
   "source": [
    "pred = MLP_model.predict(test_X)"
   ]
  },
  {
   "cell_type": "code",
   "execution_count": 170,
   "id": "eae45cfe",
   "metadata": {},
   "outputs": [
    {
     "name": "stdout",
     "output_type": "stream",
     "text": [
      "R2 score: 0.783061\n"
     ]
    }
   ],
   "source": [
    "r2 = sklearn.metrics.r2_score(test_y, pred)\n",
    "print(\"R2 score: %f\"%r2)"
   ]
  },
  {
   "cell_type": "markdown",
   "id": "a7e37948",
   "metadata": {},
   "source": [
    "### 2.9.3 학습률이 너무 낮을 때"
   ]
  },
  {
   "cell_type": "code",
   "execution_count": 171,
   "id": "1f5c7e70",
   "metadata": {},
   "outputs": [],
   "source": [
    "# MLP 모델을 설정합니다.\n",
    "MLP_model = tf.keras.Sequential([\n",
    "    tf.keras.layers.Dense(64, activation = 'relu'),\n",
    "    tf.keras.layers.Dense(32, activation = 'relu'),\n",
    "    tf.keras.layers.Dense(1)\n",
    "])"
   ]
  },
  {
   "cell_type": "code",
   "execution_count": 172,
   "id": "3977ff2d",
   "metadata": {},
   "outputs": [],
   "source": [
    "MLP_model.compile(loss = 'mse',\n",
    "              optimizer = tf.keras.optimizers.SGD(learning_rate = 0.0001),\n",
    "              metrics = ['mse'])"
   ]
  },
  {
   "cell_type": "code",
   "execution_count": 173,
   "id": "b13ddd29",
   "metadata": {},
   "outputs": [
    {
     "name": "stdout",
     "output_type": "stream",
     "text": [
      "Epoch 1/10\n",
      "50/50 - 0s - loss: 6.5101 - mse: 6.5101\n",
      "Epoch 2/10\n",
      "50/50 - 0s - loss: 6.3648 - mse: 6.3648\n",
      "Epoch 3/10\n",
      "50/50 - 0s - loss: 6.2274 - mse: 6.2274\n",
      "Epoch 4/10\n",
      "50/50 - 0s - loss: 6.0982 - mse: 6.0982\n",
      "Epoch 5/10\n",
      "50/50 - 0s - loss: 5.9765 - mse: 5.9765\n",
      "Epoch 6/10\n",
      "50/50 - 0s - loss: 5.8604 - mse: 5.8604\n",
      "Epoch 7/10\n",
      "50/50 - 0s - loss: 5.7487 - mse: 5.7487\n",
      "Epoch 8/10\n",
      "50/50 - 0s - loss: 5.6404 - mse: 5.6404\n",
      "Epoch 9/10\n",
      "50/50 - 0s - loss: 5.5358 - mse: 5.5358\n",
      "Epoch 10/10\n",
      "50/50 - 0s - loss: 5.4349 - mse: 5.4349\n"
     ]
    }
   ],
   "source": [
    "history_toolow = MLP_model.fit(train_X, train_y, epochs = 10, batch_size = 16, verbose = 2)"
   ]
  },
  {
   "cell_type": "code",
   "execution_count": 174,
   "id": "22339fb0",
   "metadata": {},
   "outputs": [
    {
     "data": {
      "image/png": "[encoded data removed]",
      "text/plain": [
       "<Figure size 432x288 with 1 Axes>"
      ]
     },
     "metadata": {
      "needs_background": "light"
     },
     "output_type": "display_data"
    }
   ],
   "source": [
    "plt.plot(history_toolow.epoch, history_toolow.history['loss'])\n",
    "plt.xlabel('epoch')\n",
    "plt.ylabel('loss')\n",
    "plt.show()"
   ]
  },
  {
   "cell_type": "code",
   "execution_count": 176,
   "id": "eef919a1",
   "metadata": {},
   "outputs": [],
   "source": [
    "pred = MLP_model.predict(test_X)"
   ]
  },
  {
   "cell_type": "code",
   "execution_count": 177,
   "id": "3660f981",
   "metadata": {},
   "outputs": [
    {
     "name": "stdout",
     "output_type": "stream",
     "text": [
      "R2 score: -0.300543\n"
     ]
    }
   ],
   "source": [
    "r2 = sklearn.metrics.r2_score(test_y, pred)\n",
    "print(\"R2 score: %f\"%r2)"
   ]
  },
  {
   "cell_type": "markdown",
   "id": "a05b34e3",
   "metadata": {},
   "source": [
    "### 2.9.4 학습률에 따른 loss 변화 그래프"
   ]
  },
  {
   "cell_type": "code",
   "execution_count": 178,
   "id": "dfb9fbfd",
   "metadata": {},
   "outputs": [
    {
     "data": {
      "image/png": "[encoded data removed]",
      "text/plain": [
       "<Figure size 432x288 with 1 Axes>"
      ]
     },
     "metadata": {
      "needs_background": "light"
     },
     "output_type": "display_data"
    }
   ],
   "source": [
    "plt.plot(history_toobig.epoch, history_toobig.history['loss'], label = 'too big')\n",
    "plt.plot(history_good.epoch, history_good.history['loss'], label = 'good')\n",
    "plt.plot(history_toolow.epoch, history_toolow.history['loss'], label = 'too low')\n",
    "plt.xlabel('epoch')\n",
    "plt.ylabel('loss')\n",
    "plt.legend()\n",
    "plt.show()"
   ]
  },
  {
   "cell_type": "markdown",
   "id": "80564381",
   "metadata": {},
   "source": [
    "### 2.10 최적화 방법 (Optimizer) 조정해보기"
   ]
  },
  {
   "cell_type": "markdown",
   "id": "9d6624ac",
   "metadata": {},
   "source": [
    "### 2.10.1 Stochastic Gradient Descent"
   ]
  },
  {
   "cell_type": "code",
   "execution_count": 179,
   "id": "d006575d",
   "metadata": {},
   "outputs": [],
   "source": [
    "# MLP 모델을 설정합니다.\n",
    "MLP_model = tf.keras.Sequential([\n",
    "    tf.keras.layers.Dense(64, activation = 'relu'),\n",
    "    tf.keras.layers.Dense(32, activation = 'relu'),\n",
    "    tf.keras.layers.Dense(1)\n",
    "])"
   ]
  },
  {
   "cell_type": "code",
   "execution_count": 180,
   "id": "505990b3",
   "metadata": {},
   "outputs": [],
   "source": [
    "MLP_model.compile(loss = 'mse',\n",
    "              optimizer = tf.keras.optimizers.SGD(),\n",
    "              metrics = ['mse'])"
   ]
  },
  {
   "cell_type": "code",
   "execution_count": 181,
   "id": "7e67a128",
   "metadata": {
    "scrolled": true
   },
   "outputs": [
    {
     "name": "stdout",
     "output_type": "stream",
     "text": [
      "Epoch 1/10\n",
      "50/50 - 0s - loss: 2.7456 - mse: 2.7456\n",
      "Epoch 2/10\n",
      "50/50 - 0s - loss: 1.3951 - mse: 1.3951\n",
      "Epoch 3/10\n",
      "50/50 - 0s - loss: 1.2939 - mse: 1.2939\n",
      "Epoch 4/10\n",
      "50/50 - 0s - loss: 1.2347 - mse: 1.2347\n",
      "Epoch 5/10\n",
      "50/50 - 0s - loss: 1.1863 - mse: 1.1863\n",
      "Epoch 6/10\n",
      "50/50 - 0s - loss: 1.1600 - mse: 1.1600\n",
      "Epoch 7/10\n",
      "50/50 - 0s - loss: 1.1213 - mse: 1.1213\n",
      "Epoch 8/10\n",
      "50/50 - 0s - loss: 1.1012 - mse: 1.1012\n",
      "Epoch 9/10\n",
      "50/50 - 0s - loss: 1.0758 - mse: 1.0758\n",
      "Epoch 10/10\n",
      "50/50 - 0s - loss: 1.0508 - mse: 1.0508\n"
     ]
    }
   ],
   "source": [
    "history = MLP_model.fit(train_X, train_y, epochs = 10, batch_size = 16, verbose = 2)"
   ]
  },
  {
   "cell_type": "code",
   "execution_count": 182,
   "id": "979a63eb",
   "metadata": {},
   "outputs": [],
   "source": [
    "pred = MLP_model.predict(test_X)"
   ]
  },
  {
   "cell_type": "code",
   "execution_count": 183,
   "id": "ffa5536c",
   "metadata": {},
   "outputs": [
    {
     "name": "stdout",
     "output_type": "stream",
     "text": [
      "R2 score: 0.795745\n"
     ]
    }
   ],
   "source": [
    "r2 = sklearn.metrics.r2_score(test_y, pred)\n",
    "print(\"R2 score: %f\"%r2)"
   ]
  },
  {
   "cell_type": "markdown",
   "id": "329031fb",
   "metadata": {},
   "source": [
    "### 2.10.2 Adagrad"
   ]
  },
  {
   "cell_type": "code",
   "execution_count": 191,
   "id": "ae1d3395",
   "metadata": {},
   "outputs": [],
   "source": [
    "# MLP 모델을 설정합니다.\n",
    "MLP_model = tf.keras.Sequential([\n",
    "    tf.keras.layers.Dense(64, activation = 'relu'),\n",
    "    tf.keras.layers.Dense(32, activation = 'relu'),\n",
    "    tf.keras.layers.Dense(1)\n",
    "])"
   ]
  },
  {
   "cell_type": "code",
   "execution_count": 192,
   "id": "e2026f23",
   "metadata": {},
   "outputs": [],
   "source": [
    "MLP_model.compile(loss = 'mse',\n",
    "              optimizer = tf.keras.optimizers.Adagrad(),\n",
    "              metrics = ['mse'])"
   ]
  },
  {
   "cell_type": "code",
   "execution_count": 193,
   "id": "a683bb2b",
   "metadata": {
    "scrolled": true
   },
   "outputs": [
    {
     "name": "stdout",
     "output_type": "stream",
     "text": [
      "Epoch 1/10\n",
      "50/50 - 0s - loss: 5.8091 - mse: 5.8091\n",
      "Epoch 2/10\n",
      "50/50 - 0s - loss: 5.2323 - mse: 5.2323\n",
      "Epoch 3/10\n",
      "50/50 - 0s - loss: 4.8299 - mse: 4.8299\n",
      "Epoch 4/10\n",
      "50/50 - 0s - loss: 4.5102 - mse: 4.5102\n",
      "Epoch 5/10\n",
      "50/50 - 0s - loss: 4.2304 - mse: 4.2304\n",
      "Epoch 6/10\n",
      "50/50 - 0s - loss: 3.9961 - mse: 3.9961\n",
      "Epoch 7/10\n",
      "50/50 - 0s - loss: 3.7890 - mse: 3.7890\n",
      "Epoch 8/10\n",
      "50/50 - 0s - loss: 3.6000 - mse: 3.6000\n",
      "Epoch 9/10\n",
      "50/50 - 0s - loss: 3.4261 - mse: 3.4261\n",
      "Epoch 10/10\n",
      "50/50 - 0s - loss: 3.2650 - mse: 3.2650\n"
     ]
    }
   ],
   "source": [
    "history = MLP_model.fit(train_X, train_y, epochs = 10, batch_size = 16, verbose = 2)"
   ]
  },
  {
   "cell_type": "code",
   "execution_count": 194,
   "id": "47fafb85",
   "metadata": {},
   "outputs": [],
   "source": [
    "pred = MLP_model.predict(test_X)"
   ]
  },
  {
   "cell_type": "code",
   "execution_count": 195,
   "id": "d2f65f1d",
   "metadata": {
    "scrolled": true
   },
   "outputs": [
    {
     "name": "stdout",
     "output_type": "stream",
     "text": [
      "R2 score: 0.199000\n"
     ]
    }
   ],
   "source": [
    "r2 = sklearn.metrics.r2_score(test_y, pred)\n",
    "print(\"R2 score: %f\"%r2)"
   ]
  },
  {
   "cell_type": "markdown",
   "id": "9d423cd6",
   "metadata": {},
   "source": [
    "### 2.10.3 Adam"
   ]
  },
  {
   "cell_type": "code",
   "execution_count": 196,
   "id": "a50f56ea",
   "metadata": {},
   "outputs": [],
   "source": [
    "# MLP 모델을 설정합니다.\n",
    "MLP_model = tf.keras.Sequential([\n",
    "    tf.keras.layers.Dense(64, activation = 'relu'),\n",
    "    tf.keras.layers.Dense(32, activation = 'relu'),\n",
    "    tf.keras.layers.Dense(1)\n",
    "])"
   ]
  },
  {
   "cell_type": "code",
   "execution_count": 197,
   "id": "5e266e92",
   "metadata": {},
   "outputs": [],
   "source": [
    "MLP_model.compile(loss = 'mse',\n",
    "              optimizer = tf.keras.optimizers.Adam(),\n",
    "              metrics = ['mse'])"
   ]
  },
  {
   "cell_type": "code",
   "execution_count": 198,
   "id": "11434400",
   "metadata": {
    "scrolled": true
   },
   "outputs": [
    {
     "name": "stdout",
     "output_type": "stream",
     "text": [
      "Epoch 1/10\n",
      "50/50 - 0s - loss: 3.6454 - mse: 3.6454\n",
      "Epoch 2/10\n",
      "50/50 - 0s - loss: 1.4708 - mse: 1.4708\n",
      "Epoch 3/10\n",
      "50/50 - 0s - loss: 1.3338 - mse: 1.3338\n",
      "Epoch 4/10\n",
      "50/50 - 0s - loss: 1.2832 - mse: 1.2832\n",
      "Epoch 5/10\n",
      "50/50 - 0s - loss: 1.2648 - mse: 1.2648\n",
      "Epoch 6/10\n",
      "50/50 - 0s - loss: 1.2296 - mse: 1.2296\n",
      "Epoch 7/10\n",
      "50/50 - 0s - loss: 1.1995 - mse: 1.1995\n",
      "Epoch 8/10\n",
      "50/50 - 0s - loss: 1.1656 - mse: 1.1656\n",
      "Epoch 9/10\n",
      "50/50 - 0s - loss: 1.1439 - mse: 1.1439\n",
      "Epoch 10/10\n",
      "50/50 - 0s - loss: 1.1222 - mse: 1.1222\n"
     ]
    }
   ],
   "source": [
    "history = MLP_model.fit(train_X, train_y, epochs = 10, batch_size = 16, verbose = 2)"
   ]
  },
  {
   "cell_type": "code",
   "execution_count": 199,
   "id": "69c53fc4",
   "metadata": {},
   "outputs": [],
   "source": [
    "pred = MLP_model.predict(test_X)"
   ]
  },
  {
   "cell_type": "code",
   "execution_count": 200,
   "id": "101a53e6",
   "metadata": {
    "scrolled": true
   },
   "outputs": [
    {
     "name": "stdout",
     "output_type": "stream",
     "text": [
      "R2 score: 0.766081\n"
     ]
    }
   ],
   "source": [
    "r2 = sklearn.metrics.r2_score(test_y, pred)\n",
    "print(\"R2 score: %f\"%r2)"
   ]
  },
  {
   "cell_type": "markdown",
   "id": "7f938731",
   "metadata": {},
   "source": [
    "실험 결과 SGD 가 가장 높은 성능을 보였으며, Adagrad가 가장 낮은 성능을 보였습니다. 그러나, 데이터에 따라 최적화 방법의 성능은 달라질 수 있으며, 설정 가능한 parameter를 어떻게 설정하는지 역시 중요합니다."
   ]
  },
  {
   "cell_type": "markdown",
   "id": "92278c9b",
   "metadata": {},
   "source": [
    "## 3. 회귀 모델 수행\n",
    "---\n",
    "다음으로, 금속분말 데이터를 이용하여 MLP 를 학습해보겠습니다."
   ]
  },
  {
   "cell_type": "markdown",
   "id": "43ba6dd1",
   "metadata": {},
   "source": [
    "### 3.1 라이브러리 불러오기"
   ]
  },
  {
   "cell_type": "code",
   "execution_count": 201,
   "id": "815b42af",
   "metadata": {},
   "outputs": [],
   "source": [
    "import numpy as np\n",
    "import json"
   ]
  },
  {
   "cell_type": "markdown",
   "id": "4b0a0621",
   "metadata": {},
   "source": [
    "### 3.2 학습용, 검증용, 테스트용 데이터 읽어오기"
   ]
  },
  {
   "cell_type": "code",
   "execution_count": 202,
   "id": "9ef8b679",
   "metadata": {},
   "outputs": [],
   "source": [
    "stage1 = {\n",
    "    'train_X': np.load('./Data/train_data_stage1_X.npy'),\n",
    "    'train_y': np.load('./Data/train_data_stage1_y.npy'),\n",
    "    'valid_X': np.load('./Data/valid_data_stage1_X.npy'),\n",
    "    'valid_y': np.load('./Data/valid_data_stage1_y.npy'),\n",
    "    'test_X': np.load('./Data/test_data_stage1_X.npy'),\n",
    "    'test_y': np.load('./Data/test_data_stage1_y.npy'),\n",
    "}\n",
    "\n",
    "stage2 = {\n",
    "    'train_X': np.load('./Data/train_data_stage2_X.npy'),\n",
    "    'train_y': np.load('./Data/train_data_stage2_y.npy'),\n",
    "    'valid_X': np.load('./Data/valid_data_stage2_X.npy'),\n",
    "    'valid_y': np.load('./Data/valid_data_stage2_y.npy'),\n",
    "    'test_X': np.load('./Data/test_data_stage2_X.npy'),\n",
    "    'test_y': np.load('./Data/test_data_stage2_y.npy'),\n",
    "}\n",
    "\n",
    "columns = json.load(open('./Data/valid_columns.json', 'r'))"
   ]
  },
  {
   "cell_type": "markdown",
   "id": "cf8da43a",
   "metadata": {},
   "source": [
    "### 3.3 데이터 표준화하기"
   ]
  },
  {
   "cell_type": "markdown",
   "id": "b288933f",
   "metadata": {},
   "source": [
    "### 3.3.1 Stage1 데이터 표준화하기"
   ]
  },
  {
   "cell_type": "code",
   "execution_count": 203,
   "id": "9d8d8fda",
   "metadata": {},
   "outputs": [
    {
     "name": "stdout",
     "output_type": "stream",
     "text": [
      "입력값 평균: [  11.85294587  205.74478705  951.00255435 1242.437388     72.01273285\n",
      "   72.01162996   70.34571071   11.07603585  408.95062376   81.47648118\n",
      "   75.96962985   12.79330524  566.38390195  202.65058918   68.99620414\n",
      "   69.10054828   73.3958155    13.89662164  226.12474952   76.81680896\n",
      "   59.99898793    9.08815439  205.71384206  425.06943434  202.26546402\n",
      "   78.00841235   78.00453278  345.11532917   13.26721071  246.73680272\n",
      "   74.14375402   65.00868711  108.96768422   84.98831262   80.00354672\n",
      "   15.32405834   23.84402174]\n",
      "출력값 평균: [12.89768652 13.69662267  8.00480187 11.36113325 21.31940678 32.87843839\n",
      "  0.12721732  1.34725458  1.09990652 19.8051213   7.68305334  1.4919701\n",
      "  1.20588607  2.89104562 10.02515553]\n"
     ]
    }
   ],
   "source": [
    "stage1_X_mean = stage1['train_X'].mean(axis = 0)\n",
    "stage1_y_mean = stage1['train_y'].mean(axis = 0)\n",
    "print('입력값 평균:', stage1_X_mean)\n",
    "print('출력값 평균:', stage1_y_mean)"
   ]
  },
  {
   "cell_type": "code",
   "execution_count": 204,
   "id": "65de29ae",
   "metadata": {},
   "outputs": [
    {
     "name": "stdout",
     "output_type": "stream",
     "text": [
      "입력값 표준편차: [5.10993143e-01 1.16806618e+01 1.27620111e+02 9.77321235e+01\n",
      " 6.23396785e-02 4.06238919e-01 5.49867530e+00 6.36170724e-01\n",
      " 2.05368437e+01 9.21642493e-01 2.06429784e+00 1.07360805e-01\n",
      " 1.83380514e+01 1.48381842e+01 5.44970706e-02 1.06721153e-01\n",
      " 3.94100055e-01 2.91335938e-02 3.06908107e+00 8.30358591e-01\n",
      " 1.61971729e-01 3.95092636e-01 1.63223059e+01 9.53699574e+00\n",
      " 1.58921785e+01 7.73526529e-02 1.14547773e-01 9.05396328e+00\n",
      " 4.34061012e-01 6.10492128e+00 2.05042127e+00 6.27961350e-02\n",
      " 5.59761035e+00 1.85637963e+01 1.18126539e-01 1.18770739e+00\n",
      " 3.72221796e-01]\n",
      "출력값 표준편차: [0.9270819  0.85503751 6.90580271 1.03664992 2.14313701 3.882343\n",
      " 0.57606676 1.13060617 1.41265541 4.68687927 1.07824517 2.54294205\n",
      " 0.66114934 0.92884134 7.38778856]\n"
     ]
    }
   ],
   "source": [
    "stage1_X_std = stage1['train_X'].std(axis = 0)\n",
    "stage1_y_std = stage1['train_y'].std(axis = 0)\n",
    "print('입력값 표준편차:', stage1_X_std)\n",
    "print('출력값 표준편차:', stage1_y_std)"
   ]
  },
  {
   "cell_type": "code",
   "execution_count": 205,
   "id": "b2ef10f2",
   "metadata": {},
   "outputs": [],
   "source": [
    "# 학습 데이터 표준화\n",
    "stage1['train_X'] = (stage1['train_X'] - stage1_X_mean) / stage1_X_std\n",
    "stage1['train_y'] = (stage1['train_y'] - stage1_y_mean) / stage1_y_std\n",
    "# 검증용 데이터 표준화\n",
    "stage1['valid_X'] = (stage1['valid_X'] - stage1_X_mean) / stage1_X_std\n",
    "stage1['valid_y'] = (stage1['valid_y'] - stage1_y_mean) / stage1_y_std\n",
    "# 테스트 데이터 표준화\n",
    "stage1['test_X'] = (stage1['test_X'] - stage1_X_mean) / stage1_X_std\n",
    "stage1['test_y'] = (stage1['test_y'] - stage1_y_mean) / stage1_y_std"
   ]
  },
  {
   "cell_type": "markdown",
   "id": "21f7dd02",
   "metadata": {},
   "source": [
    "### 3.3.2 Stage2 데이터 표준화하기"
   ]
  },
  {
   "cell_type": "code",
   "execution_count": 206,
   "id": "2b19685e",
   "metadata": {},
   "outputs": [
    {
     "name": "stdout",
     "output_type": "stream",
     "text": [
      "입력값 평균: [1.28976865e+01 1.36966227e+01 8.00480187e+00 1.13611333e+01\n",
      " 2.13194068e+01 3.28784384e+01 1.27217323e-01 1.34725458e+00\n",
      " 1.09990652e+00 1.98051213e+01 7.68305334e+00 1.49197010e+00\n",
      " 1.20588607e+00 2.89104562e+00 1.00251555e+01 3.60122933e+02\n",
      " 3.60136275e+02 1.72294333e+01 3.22627969e+02 3.09786854e+02\n",
      " 1.87200947e+02 3.09998282e+02 2.89997582e+02 2.69681649e+02\n",
      " 2.42661246e+02 2.44994629e+02 6.34195390e+01 1.54046742e+02\n",
      " 1.53240583e+01 2.38440217e+01]\n",
      "출력값 평균: [11.69212911  6.25614828 10.2499656  19.33555126  2.87697932  2.7475277\n",
      "  0.53310706  2.91750962 18.38898671 11.61424043  7.53420311  3.54181714\n",
      "  7.51699723]\n"
     ]
    }
   ],
   "source": [
    "stage2_X_mean = stage2['train_X'].mean(axis = 0)\n",
    "stage2_y_mean = stage2['train_y'].mean(axis = 0)\n",
    "print('입력값 평균:', stage2_X_mean)\n",
    "print('출력값 평균:', stage2_y_mean)"
   ]
  },
  {
   "cell_type": "code",
   "execution_count": 207,
   "id": "5ad4d458",
   "metadata": {},
   "outputs": [
    {
     "name": "stdout",
     "output_type": "stream",
     "text": [
      "입력값 표준편차: [ 0.9270819   0.85503751  6.90580271  1.03664992  2.14313701  3.882343\n",
      "  0.57606676  1.13060617  1.41265541  4.68687927  1.07824517  2.54294205\n",
      "  0.66114934  0.92884134  7.38778856  1.9209727   2.64895901  0.94209921\n",
      "  3.61537985  2.74078134 23.41676809  0.03961971  0.05202987  1.01853204\n",
      "  1.59098238  0.10771334  0.39587306  9.90869048  1.18770739  0.3722218 ]\n",
      "출력값 표준편차: [3.62230517 1.60057596 2.30753588 4.62537631 9.09270122 0.37574164\n",
      " 0.20467783 0.49744294 4.97294003 7.62127826 1.64901449 0.45450424\n",
      " 2.0723342 ]\n"
     ]
    }
   ],
   "source": [
    "stage2_X_std = stage2['train_X'].std(axis = 0)\n",
    "stage2_y_std = stage2['train_y'].std(axis = 0)\n",
    "print('입력값 표준편차:', stage2_X_std)\n",
    "print('출력값 표준편차:', stage2_y_std)"
   ]
  },
  {
   "cell_type": "code",
   "execution_count": 208,
   "id": "dccbccbf",
   "metadata": {},
   "outputs": [],
   "source": [
    "# 학습 데이터 표준화\n",
    "stage2['train_X'] = (stage2['train_X'] - stage2_X_mean) / stage2_X_std\n",
    "stage2['train_y'] = (stage2['train_y'] - stage2_y_mean) / stage2_y_std\n",
    "\n",
    "# 검증용 데이터 표준화\n",
    "stage2['valid_X'] = (stage2['valid_X'] - stage2_X_mean) / stage2_X_std\n",
    "stage2['valid_y'] = (stage2['valid_y'] - stage2_y_mean) / stage2_y_std\n",
    "\n",
    "# 테스트 데이터 표준화\n",
    "stage2['test_X'] = (stage2['test_X'] - stage2_X_mean) / stage2_X_std\n",
    "stage2['test_y'] = (stage2['test_y'] - stage2_y_mean) / stage2_y_std"
   ]
  },
  {
   "cell_type": "markdown",
   "id": "fc0691db",
   "metadata": {},
   "source": [
    "### 3.4 MLP 회귀 모델 수행 (Stage1)"
   ]
  },
  {
   "cell_type": "markdown",
   "id": "d8a680a3",
   "metadata": {},
   "source": [
    "### 3.4.1 모델 정의"
   ]
  },
  {
   "cell_type": "code",
   "execution_count": 215,
   "id": "d7578f11",
   "metadata": {},
   "outputs": [],
   "source": [
    "# MLP 모델을 설정합니다.\n",
    "MLP_model = tf.keras.Sequential([\n",
    "    tf.keras.layers.Dense(64, activation = 'relu'),\n",
    "    tf.keras.layers.Dense(32, activation = 'relu'),\n",
    "    tf.keras.layers.Dense(stage1['train_y'].shape[1])\n",
    "])"
   ]
  },
  {
   "cell_type": "markdown",
   "id": "3b28d247",
   "metadata": {},
   "source": [
    "### 3.4.2 모델 학습 방법 설정"
   ]
  },
  {
   "cell_type": "code",
   "execution_count": 216,
   "id": "ae686d94",
   "metadata": {},
   "outputs": [],
   "source": [
    "MLP_model.compile(loss = 'mse',\n",
    "              optimizer = tf.keras.optimizers.SGD(),\n",
    "              metrics = ['mse'])"
   ]
  },
  {
   "cell_type": "markdown",
   "id": "719e7b63",
   "metadata": {},
   "source": [
    "### 3.4.3 모델 학습"
   ]
  },
  {
   "cell_type": "code",
   "execution_count": 217,
   "id": "476c25f0",
   "metadata": {
    "scrolled": true
   },
   "outputs": [
    {
     "name": "stdout",
     "output_type": "stream",
     "text": [
      "Epoch 1/50\n",
      "564/564 - 0s - loss: 0.9074 - mse: 0.9074\n",
      "Epoch 2/50\n",
      "564/564 - 0s - loss: 0.7903 - mse: 0.7903\n",
      "Epoch 3/50\n",
      "564/564 - 0s - loss: 0.7528 - mse: 0.7528\n",
      "Epoch 4/50\n",
      "564/564 - 0s - loss: 0.7279 - mse: 0.7279\n",
      "Epoch 5/50\n",
      "564/564 - 0s - loss: 0.7099 - mse: 0.7099\n",
      "Epoch 6/50\n",
      "564/564 - 0s - loss: 0.6947 - mse: 0.6947\n",
      "Epoch 7/50\n",
      "564/564 - 0s - loss: 0.6815 - mse: 0.6815\n",
      "Epoch 8/50\n",
      "564/564 - 0s - loss: 0.6693 - mse: 0.6693\n",
      "Epoch 9/50\n",
      "564/564 - 0s - loss: 0.6576 - mse: 0.6576\n",
      "Epoch 10/50\n",
      "564/564 - 0s - loss: 0.6469 - mse: 0.6469\n",
      "Epoch 11/50\n",
      "564/564 - 0s - loss: 0.6367 - mse: 0.6367\n",
      "Epoch 12/50\n",
      "564/564 - 0s - loss: 0.6271 - mse: 0.6271\n",
      "Epoch 13/50\n",
      "564/564 - 0s - loss: 0.6182 - mse: 0.6182\n",
      "Epoch 14/50\n",
      "564/564 - 0s - loss: 0.6101 - mse: 0.6101\n",
      "Epoch 15/50\n",
      "564/564 - 0s - loss: 0.6023 - mse: 0.6023\n",
      "Epoch 16/50\n",
      "564/564 - 0s - loss: 0.5943 - mse: 0.5943\n",
      "Epoch 17/50\n",
      "564/564 - 0s - loss: 0.5850 - mse: 0.5850\n",
      "Epoch 18/50\n",
      "564/564 - 0s - loss: 0.5793 - mse: 0.5793\n",
      "Epoch 19/50\n",
      "564/564 - 0s - loss: 0.5725 - mse: 0.5725\n",
      "Epoch 20/50\n",
      "564/564 - 0s - loss: 0.5643 - mse: 0.5643\n",
      "Epoch 21/50\n",
      "564/564 - 0s - loss: 0.5571 - mse: 0.5571\n",
      "Epoch 22/50\n",
      "564/564 - 0s - loss: 0.5500 - mse: 0.5500\n",
      "Epoch 23/50\n",
      "564/564 - 0s - loss: 0.5413 - mse: 0.5413\n",
      "Epoch 24/50\n",
      "564/564 - 0s - loss: 0.5310 - mse: 0.5310\n",
      "Epoch 25/50\n",
      "564/564 - 0s - loss: 0.5264 - mse: 0.5264\n",
      "Epoch 26/50\n",
      "564/564 - 0s - loss: 0.5197 - mse: 0.5197\n",
      "Epoch 27/50\n",
      "564/564 - 0s - loss: 0.5100 - mse: 0.5100\n",
      "Epoch 28/50\n",
      "564/564 - 0s - loss: 0.5046 - mse: 0.5046\n",
      "Epoch 29/50\n",
      "564/564 - 0s - loss: 0.4983 - mse: 0.4983\n",
      "Epoch 30/50\n",
      "564/564 - 0s - loss: 0.4912 - mse: 0.4912\n",
      "Epoch 31/50\n",
      "564/564 - 0s - loss: 0.4851 - mse: 0.4851\n",
      "Epoch 32/50\n",
      "564/564 - 0s - loss: 0.4828 - mse: 0.4828\n",
      "Epoch 33/50\n",
      "564/564 - 0s - loss: 0.4726 - mse: 0.4726\n",
      "Epoch 34/50\n",
      "564/564 - 0s - loss: 0.4731 - mse: 0.4731\n",
      "Epoch 35/50\n",
      "564/564 - 0s - loss: 0.4665 - mse: 0.4665\n",
      "Epoch 36/50\n",
      "564/564 - 0s - loss: 0.4590 - mse: 0.4590\n",
      "Epoch 37/50\n",
      "564/564 - 0s - loss: 0.4568 - mse: 0.4568\n",
      "Epoch 38/50\n",
      "564/564 - 0s - loss: 0.4507 - mse: 0.4507\n",
      "Epoch 39/50\n",
      "564/564 - 0s - loss: 0.4440 - mse: 0.4440\n",
      "Epoch 40/50\n",
      "564/564 - 0s - loss: 0.4481 - mse: 0.4481\n",
      "Epoch 41/50\n",
      "564/564 - 0s - loss: 0.4419 - mse: 0.4419\n",
      "Epoch 42/50\n",
      "564/564 - 0s - loss: 0.4370 - mse: 0.4370\n",
      "Epoch 43/50\n",
      "564/564 - 0s - loss: 0.4265 - mse: 0.4265\n",
      "Epoch 44/50\n",
      "564/564 - 0s - loss: 0.4262 - mse: 0.4262\n",
      "Epoch 45/50\n",
      "564/564 - 0s - loss: 0.4276 - mse: 0.4276\n",
      "Epoch 46/50\n",
      "564/564 - 0s - loss: 0.4217 - mse: 0.4217\n",
      "Epoch 47/50\n",
      "564/564 - 0s - loss: 0.4193 - mse: 0.4193\n",
      "Epoch 48/50\n",
      "564/564 - 0s - loss: 0.4173 - mse: 0.4173\n",
      "Epoch 49/50\n",
      "564/564 - 0s - loss: 0.4141 - mse: 0.4141\n",
      "Epoch 50/50\n",
      "564/564 - 0s - loss: 0.4121 - mse: 0.4121\n"
     ]
    }
   ],
   "source": [
    "history = MLP_model.fit(stage1['train_X'], stage1['train_y'], epochs = 50, batch_size = 16, verbose = 2)"
   ]
  },
  {
   "cell_type": "markdown",
   "id": "ab49aaa9",
   "metadata": {},
   "source": [
    "### 3.4.4 모델 예측"
   ]
  },
  {
   "cell_type": "code",
   "execution_count": 220,
   "id": "81e72f56",
   "metadata": {},
   "outputs": [],
   "source": [
    "pred = MLP_model.predict(stage1['test_X'])"
   ]
  },
  {
   "cell_type": "markdown",
   "id": "8771101d",
   "metadata": {},
   "source": [
    "### 3.4.5 모델 평가"
   ]
  },
  {
   "cell_type": "code",
   "execution_count": 221,
   "id": "0307149c",
   "metadata": {
    "scrolled": false
   },
   "outputs": [
    {
     "name": "stdout",
     "output_type": "stream",
     "text": [
      "R2 score: 0.562072\n"
     ]
    }
   ],
   "source": [
    "r2 = sklearn.metrics.r2_score(stage1['test_y'], pred)\n",
    "print(\"R2 score: %f\"%r2)"
   ]
  },
  {
   "cell_type": "markdown",
   "id": "90732a7c",
   "metadata": {},
   "source": [
    "### 3.4 MLP 회귀 모델 수행 (Stage2)"
   ]
  },
  {
   "cell_type": "markdown",
   "id": "73e94793",
   "metadata": {},
   "source": [
    "### 3.4.1 모델 정의"
   ]
  },
  {
   "cell_type": "code",
   "execution_count": 222,
   "id": "4f23d2fa",
   "metadata": {},
   "outputs": [],
   "source": [
    "# MLP 모델을 설정합니다.\n",
    "MLP_model = tf.keras.Sequential([\n",
    "    tf.keras.layers.Dense(64, activation = 'relu'),\n",
    "    tf.keras.layers.Dense(32, activation = 'relu'),\n",
    "    tf.keras.layers.Dense(stage2['train_y'].shape[1])\n",
    "])"
   ]
  },
  {
   "cell_type": "markdown",
   "id": "fbbf6bae",
   "metadata": {},
   "source": [
    "### 3.4.2 모델 학습 방법 설정"
   ]
  },
  {
   "cell_type": "code",
   "execution_count": 223,
   "id": "a53ee93c",
   "metadata": {},
   "outputs": [],
   "source": [
    "MLP_model.compile(loss = 'mse',\n",
    "              optimizer = tf.keras.optimizers.SGD(),\n",
    "              metrics = ['mse'])"
   ]
  },
  {
   "cell_type": "markdown",
   "id": "25b47f98",
   "metadata": {},
   "source": [
    "### 3.4.3 모델 학습"
   ]
  },
  {
   "cell_type": "code",
   "execution_count": 224,
   "id": "b40c0b2c",
   "metadata": {
    "scrolled": true
   },
   "outputs": [
    {
     "name": "stdout",
     "output_type": "stream",
     "text": [
      "Epoch 1/50\n",
      "564/564 - 0s - loss: 0.6966 - mse: 0.6966\n",
      "Epoch 2/50\n",
      "564/564 - 0s - loss: 0.5309 - mse: 0.5309\n",
      "Epoch 3/50\n",
      "564/564 - 0s - loss: 0.4941 - mse: 0.4941\n",
      "Epoch 4/50\n",
      "564/564 - 0s - loss: 0.4743 - mse: 0.4743\n",
      "Epoch 5/50\n",
      "564/564 - 0s - loss: 0.4626 - mse: 0.4626\n",
      "Epoch 6/50\n",
      "564/564 - 0s - loss: 0.4538 - mse: 0.4538\n",
      "Epoch 7/50\n",
      "564/564 - 0s - loss: 0.4465 - mse: 0.4465\n",
      "Epoch 8/50\n",
      "564/564 - 0s - loss: 0.4410 - mse: 0.4410\n",
      "Epoch 9/50\n",
      "564/564 - 0s - loss: 0.4354 - mse: 0.4354\n",
      "Epoch 10/50\n",
      "564/564 - 0s - loss: 0.4300 - mse: 0.4300\n",
      "Epoch 11/50\n",
      "564/564 - 0s - loss: 0.4256 - mse: 0.4256\n",
      "Epoch 12/50\n",
      "564/564 - 0s - loss: 0.4208 - mse: 0.4208\n",
      "Epoch 13/50\n",
      "564/564 - 0s - loss: 0.4167 - mse: 0.4167\n",
      "Epoch 14/50\n",
      "564/564 - 0s - loss: 0.4124 - mse: 0.4124\n",
      "Epoch 15/50\n",
      "564/564 - 0s - loss: 0.4082 - mse: 0.4082\n",
      "Epoch 16/50\n",
      "564/564 - 0s - loss: 0.4044 - mse: 0.4044\n",
      "Epoch 17/50\n",
      "564/564 - 0s - loss: 0.4005 - mse: 0.4005\n",
      "Epoch 18/50\n",
      "564/564 - 0s - loss: 0.3966 - mse: 0.3966\n",
      "Epoch 19/50\n",
      "564/564 - 0s - loss: 0.3932 - mse: 0.3932\n",
      "Epoch 20/50\n",
      "564/564 - 0s - loss: 0.3895 - mse: 0.3895\n",
      "Epoch 21/50\n",
      "564/564 - 0s - loss: 0.3859 - mse: 0.3859\n",
      "Epoch 22/50\n",
      "564/564 - 0s - loss: 0.3826 - mse: 0.3826\n",
      "Epoch 23/50\n",
      "564/564 - 0s - loss: 0.3799 - mse: 0.3799\n",
      "Epoch 24/50\n",
      "564/564 - 0s - loss: 0.3767 - mse: 0.3767\n",
      "Epoch 25/50\n",
      "564/564 - 0s - loss: 0.3734 - mse: 0.3734\n",
      "Epoch 26/50\n",
      "564/564 - 0s - loss: 0.3717 - mse: 0.3717\n",
      "Epoch 27/50\n",
      "564/564 - 0s - loss: 0.3681 - mse: 0.3681\n",
      "Epoch 28/50\n",
      "564/564 - 0s - loss: 0.3665 - mse: 0.3665\n",
      "Epoch 29/50\n",
      "564/564 - 0s - loss: 0.3644 - mse: 0.3644\n",
      "Epoch 30/50\n",
      "564/564 - 0s - loss: 0.3621 - mse: 0.3621\n",
      "Epoch 31/50\n",
      "564/564 - 0s - loss: 0.3599 - mse: 0.3599\n",
      "Epoch 32/50\n",
      "564/564 - 0s - loss: 0.3574 - mse: 0.3574\n",
      "Epoch 33/50\n",
      "564/564 - 0s - loss: 0.3561 - mse: 0.3561\n",
      "Epoch 34/50\n",
      "564/564 - 0s - loss: 0.3545 - mse: 0.3545\n",
      "Epoch 35/50\n",
      "564/564 - 0s - loss: 0.3521 - mse: 0.3521\n",
      "Epoch 36/50\n",
      "564/564 - 0s - loss: 0.3509 - mse: 0.3509\n",
      "Epoch 37/50\n",
      "564/564 - 0s - loss: 0.3493 - mse: 0.3493\n",
      "Epoch 38/50\n",
      "564/564 - 0s - loss: 0.3488 - mse: 0.3488\n",
      "Epoch 39/50\n",
      "564/564 - 0s - loss: 0.3469 - mse: 0.3469\n",
      "Epoch 40/50\n",
      "564/564 - 0s - loss: 0.3460 - mse: 0.3460\n",
      "Epoch 41/50\n",
      "564/564 - 0s - loss: 0.3449 - mse: 0.3449\n",
      "Epoch 42/50\n",
      "564/564 - 0s - loss: 0.3431 - mse: 0.3431\n",
      "Epoch 43/50\n",
      "564/564 - 0s - loss: 0.3425 - mse: 0.3425\n",
      "Epoch 44/50\n",
      "564/564 - 0s - loss: 0.3412 - mse: 0.3412\n",
      "Epoch 45/50\n",
      "564/564 - 0s - loss: 0.3397 - mse: 0.3397\n",
      "Epoch 46/50\n",
      "564/564 - 0s - loss: 0.3390 - mse: 0.3390\n",
      "Epoch 47/50\n",
      "564/564 - 0s - loss: 0.3386 - mse: 0.3386\n",
      "Epoch 48/50\n",
      "564/564 - 0s - loss: 0.3377 - mse: 0.3377\n",
      "Epoch 49/50\n",
      "564/564 - 0s - loss: 0.3368 - mse: 0.3368\n",
      "Epoch 50/50\n",
      "564/564 - 0s - loss: 0.3357 - mse: 0.3357\n"
     ]
    }
   ],
   "source": [
    "history = MLP_model.fit(stage2['train_X'], stage2['train_y'], epochs = 50, batch_size = 16, verbose = 2)"
   ]
  },
  {
   "cell_type": "markdown",
   "id": "a12e767d",
   "metadata": {},
   "source": [
    "### 3.4.4 모델 예측"
   ]
  },
  {
   "cell_type": "code",
   "execution_count": 225,
   "id": "4649405b",
   "metadata": {},
   "outputs": [],
   "source": [
    "pred = MLP_model.predict(stage2['test_X'])"
   ]
  },
  {
   "cell_type": "markdown",
   "id": "81e715b2",
   "metadata": {},
   "source": [
    "### 3.4.5 모델 평가"
   ]
  },
  {
   "cell_type": "code",
   "execution_count": 226,
   "id": "313eb9a9",
   "metadata": {
    "scrolled": true
   },
   "outputs": [
    {
     "name": "stdout",
     "output_type": "stream",
     "text": [
      "R2 score: 0.655172\n"
     ]
    }
   ],
   "source": [
    "r2 = sklearn.metrics.r2_score(stage2['test_y'], pred)\n",
    "print(\"R2 score: %f\"%r2)"
   ]
  },
  {
   "cell_type": "markdown",
   "id": "c9fd4851",
   "metadata": {},
   "source": [
    "<span style=\"color:rgb(120, 120, 120)\">본 학습 자료를 포함한 사이트 내 모든 자료의 저작권은 엘리스에 있으며 외부로의 무단 복제, 배포 및 전송을 불허합니다.\n",
    "\n",
    "Copyright @ elice all rights reserved</span>"
   ]
  }
 ],
 "metadata": {
  "kernelspec": {
   "display_name": "Python 3 (ipykernel)",
   "language": "python",
   "name": "python3"
  },
  "language_info": {
   "codemirror_mode": {
    "name": "ipython",
    "version": 3
   },
   "file_extension": ".py",
   "mimetype": "text/x-python",
   "name": "python",
   "nbconvert_exporter": "python",
   "pygments_lexer": "ipython3",
   "version": "3.9.13"
  }
 },
 "nbformat": 4,
 "nbformat_minor": 5
}
