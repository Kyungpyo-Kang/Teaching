{
 "cells": [
  {
   "cell_type": "markdown",
   "id": "2cc8eebe",
   "metadata": {},
   "source": [
    "# [프로젝트1_01] Python Recap\n"
   ]
  },
  {
   "cell_type": "markdown",
   "id": "e9f786ec",
   "metadata": {},
   "source": [
    "---"
   ]
  },
  {
   "cell_type": "markdown",
   "id": "20b8047e",
   "metadata": {},
   "source": [
    "\n",
    "## 프로젝트 목표\n",
    "---\n",
    "- 파이썬의 기본 개념을 점검합니다.\n"
   ]
  },
  {
   "cell_type": "markdown",
   "id": "a54873c3",
   "metadata": {},
   "source": [
    "## 프로젝트 목차\n",
    "---\n",
    "\n",
    "1. **출력:** print() 함수를 이용한 출력문\n",
    "\n",
    "2. **자료형:** 파이썬의 여러 자료형\n",
    "\n",
    "3. **변수:** 변수 할당 및 이용\n",
    "\n",
    "4. **형변환:** 자료형간 변환 방법\n",
    "\n",
    "5. **조건문:** if-elif-else 문\n",
    "\n",
    "6. **반복문:** for 문을 이용한 반복문\n",
    "\n",
    "7. **리스트:** 여러 변수를 함께 저장할 수 있는 list\n",
    "\n",
    "8. **함수:** 빈번한 기능을 미리 저장할 수 있는 함수\n",
    "\n",
    "9. **클래스:** 변수를 효율적으로 관리하기 위한 클래스\n",
    "\n",
    "10. **import:** 외부 라이브러리 불러오기"
   ]
  },
  {
   "cell_type": "markdown",
   "id": "377d4dc3",
   "metadata": {},
   "source": [
    "## 프로젝트 개요\n",
    "---\n",
    "\n",
    "파이썬의 기본 개념과 문법을 점검해봅니다. 각 파트 별로 요구하는 대로 코딩을 직접 수행해봅시다.\n"
   ]
  },
  {
   "cell_type": "markdown",
   "id": "d5bf3c25",
   "metadata": {},
   "source": [
    "## 1. 출력\n",
    "---\n",
    "\n",
    "**[TODO] 아래와 같이 출력하세요.**\n",
    "\n",
    "Hello World!<br>\n",
    "This is \"NIPA project\"!"
   ]
  },
  {
   "cell_type": "code",
   "execution_count": null,
   "id": "083d475c",
   "metadata": {},
   "outputs": [],
   "source": [
    "print(____) # print() 내부를 채우세요. 여러개의 print를 이용할 수 없습니다."
   ]
  },
  {
   "cell_type": "markdown",
   "id": "7dd6c8c9",
   "metadata": {},
   "source": [
    "## 2. 자료형\n",
    "---\n",
    "**[TODO] 각 자료의 타입을 출력해봅니다. 아래와 같이 출력되도록 코드를 작성해보세요.**\n",
    "\n",
    "300 의 자료형은 <class 'int'><br>\n",
    "30.2 의 자료형은 <class 'float'><br>\n",
    "\"NIPA\"의 자료형은 <class 'str'><br>\n",
    "[1,2,\"NIPA\"] 의 자료형은 <class 'list'><br>\n",
    "(1, 2, \"NIPA\") 의 자료형은 <class 'tuple'><br>\n",
    "{\"A\": [1,2,3], \"B\": [4,5,6]} 의 자료형은 <class 'dict'><br>"
   ]
  },
  {
   "cell_type": "code",
   "execution_count": null,
   "id": "92069cea",
   "metadata": {},
   "outputs": [],
   "source": [
    "print('300 의 자료형은', ____)\n",
    "print('30.2 의 자료형은', ____)\n",
    "print('\"NIPA\"의 자료형은', ____)\n",
    "print('[1,2,\"NIPA\"] 의 자료형은', ____)\n",
    "print('(1, 2, \"NIPA\") 의 자료형은', ____)\n",
    "print('{\"A\": [1,2,3], \"B\": [4,5,6]} 의 자료형은', ____)"
   ]
  },
  {
   "cell_type": "markdown",
   "id": "94bb9855",
   "metadata": {},
   "source": [
    "## 3. 변수\n",
    "---\n",
    "**[TODO] 두 변수 a와 b에 각각 \"NIPA\"와 \"Project\"를 할당하여서 아래와 같이 출력되도록 하세요.**\n",
    "\n",
    "NIPA<br>\n",
    "Project<br>\n",
    "NIPA Project"
   ]
  },
  {
   "cell_type": "code",
   "execution_count": null,
   "id": "461cc098",
   "metadata": {},
   "outputs": [],
   "source": [
    "# a와 b에 \"NIPA\"와 \"Project\"를 할당하세요.\n",
    "# 마지막 print의 결과물이 \"NIPA Project\"가 되도록 None값을 올바르게 수정하세요.\n",
    "print(a)\n",
    "print(b)\n",
    "print(_ + _ + _)"
   ]
  },
  {
   "cell_type": "markdown",
   "id": "808da5fc",
   "metadata": {},
   "source": [
    "## 4. 형변환\n",
    "---\n",
    "**[TODO] 아래에서 요구하는대로 코드를 작성해보세요.**\n",
    "\n",
    "a 변수에는 정수형인 3이, b 변수에는 문자열인 \"Three is \"가 할당되어 있습니다.\n",
    "\"Three is 3\" 이라는 문장이 출력될 수 있도록 적절히 형변환하여 a와 b를 더해보세요."
   ]
  },
  {
   "cell_type": "code",
   "execution_count": null,
   "id": "00f9c123",
   "metadata": {},
   "outputs": [],
   "source": [
    "a = 3\n",
    "b = 'Three is '\n",
    "# 아래 출력문을 수정하여 오류가 발생하지 않도록 해보세요.\n",
    "print(b + a)"
   ]
  },
  {
   "cell_type": "markdown",
   "id": "78f87b63",
   "metadata": {},
   "source": [
    "## 5. 조건문\n",
    "---\n",
    "**[TODO] 아래의 조건을 만족하는 가위바위보 프로그램을 완성해보세요.**\n",
    "\n",
    "가위바위보 프로그램을 작성해봅니다. 컴퓨터의 패는 가위입니다. input()을 이용하여 유저의 입력을 받고, 입력이 \"scissors\"일 경우 \"비겼습니다.\"를, 입력이 \"rock\"일 경우 \"이겼습니다.\", 입력이 \"paper\"일 경우 \"졌습니다.\", 입력이 셋 중에 없을 경우 \"올바르지 않은 입력입니다.\"를 출력하는 프로그램을 작성해보세요."
   ]
  },
  {
   "cell_type": "code",
   "execution_count": null,
   "id": "140a8184",
   "metadata": {},
   "outputs": [],
   "source": [
    "computer = 'scissors'\n",
    "user = input()\n",
    "\n"
   ]
  },
  {
   "cell_type": "markdown",
   "id": "638dd32b",
   "metadata": {},
   "source": [
    "## 6. 반복문\n",
    "---\n",
    "**[TODO] 아래와 같은 구구단을 출력하는 프로그램을 작성해보세요.**\n",
    "\n",
    "1X1=1 1X2=2 1X3=3 1X4=4 1X5=5 1X6=6 1X7=7 1X8=8 1X9=9 <br>\n",
    "2X1=2 2X2=4 2X3=6 2X4=8 2X5=10 2X6=12 2X7=14 2X8=16 2X9=18 <br>\n",
    "3X1=3 3X2=6 3X3=9 3X4=12 3X5=15 3X6=18 3X7=21 3X8=24 3X9=27 <br>\n",
    "4X1=4 4X2=8 4X3=12 4X4=16 4X5=20 4X6=24 4X7=28 4X8=32 4X9=36 <br>\n",
    "5X1=5 5X2=10 5X3=15 5X4=20 5X5=25 5X6=30 5X7=35 5X8=40 5X9=45 <br>\n",
    "6X1=6 6X2=12 6X3=18 6X4=24 6X5=30 6X6=36 6X7=42 6X8=48 6X9=54 <br>\n",
    "7X1=7 7X2=14 7X3=21 7X4=28 7X5=35 7X6=42 7X7=49 7X8=56 7X9=63 <br>\n",
    "8X1=8 8X2=16 8X3=24 8X4=32 8X5=40 8X6=48 8X7=56 8X8=64 8X9=72 <br>\n",
    "9X1=9 9X2=18 9X3=27 9X4=36 9X5=45 9X6=54 9X7=63 9X8=72 9X9=81"
   ]
  },
  {
   "cell_type": "code",
   "execution_count": null,
   "id": "85fee18d",
   "metadata": {},
   "outputs": [],
   "source": []
  },
  {
   "cell_type": "markdown",
   "id": "036d476b",
   "metadata": {},
   "source": [
    "## 7. 리스트\n",
    "---\n",
    "**[TODO] 다음의 순서에 따라 list와 관련된 코드를 작성해보세요.**\n",
    "\n",
    "1. 3과 4를 원소로 가지는 리스트를 생성하세요.\n",
    "2. 생성한 list에 새로운 원소 5를 추가하세요.\n",
    "3. 생성한 list에 2를 곱하여 2번 반복되도록 하세요.\n",
    "3. list의 길이를 출력하세요.\n",
    "4. list의 두번째 원소를 출력하세요.\n",
    "5. list의 세번째 원소를 10으로 바꾸세요.\n",
    "6. list의 3번째부터 5번째 까지의 원소를 출력하세요.\n",
    "\n",
    "아래와 같이 출력되어야 합니다.\n",
    "\n",
    "6<br>\n",
    "4<br>\n",
    "[10, 3, 4]"
   ]
  },
  {
   "cell_type": "code",
   "execution_count": null,
   "id": "bbb3933e",
   "metadata": {},
   "outputs": [],
   "source": []
  },
  {
   "cell_type": "markdown",
   "id": "aa251d4e",
   "metadata": {},
   "source": [
    "## 8. 함수\n",
    "---\n",
    "**[TODO] 주어진 정수 N의 팩토리얼 (N * (N-1) * (N-2) * ... * 2 * 1)을 구하는 함수를 작성해보세요.**"
   ]
  },
  {
   "cell_type": "code",
   "execution_count": null,
   "id": "5cc9c670",
   "metadata": {},
   "outputs": [],
   "source": [
    "# 팩토리얼을 계산하여 반환하는 함수 factorial을 정의하세요.\n",
    "\n",
    "print(factorial(10))"
   ]
  },
  {
   "cell_type": "markdown",
   "id": "cb4394e2",
   "metadata": {},
   "source": [
    "## 9. 클래스\n",
    "---\n",
    "**[TODO] 가족을 의미하는 Family class를 정의해보세요.** \n",
    "\n",
    "생성자는 5가지 문자열 변수를 입력받습니다: 엄마, 아빠, 누나, 형, 나의 이름. Family class의 print_family 메소드는 가족 구성원의 이름을 출력합니다. 아래 결과처럼 출력되도록 class를 작성해보세요.\n",
    "\n",
    "엄마: 봉미선<br>\n",
    "아빠: 신영식<br>\n",
    "누나: 짱아<br>\n",
    "형: 짱구<br>\n",
    "나: 영수"
   ]
  },
  {
   "cell_type": "code",
   "execution_count": null,
   "id": "742c3bbe",
   "metadata": {},
   "outputs": [],
   "source": [
    "\n",
    "family = Family('봉미선', '신영식', '짱아', '짱구', '영수')\n",
    "family.print_family()"
   ]
  },
  {
   "cell_type": "markdown",
   "id": "222fd4bb",
   "metadata": {},
   "source": [
    "## 10. import\n",
    "---\n",
    "**[TODO] 가위바위보 프로그램을 만들어보세요.**\n",
    "\n",
    "파이썬의 random 라이브러리는 다양한 분포에 대한 의사 난수 생성기가 구현되어 있습니다. random.randint(0,2) 메소드를 이용하여 0,1,2 가 uniformly random하게 샘플링됩니다. 이를 이용하여 컴퓨터와 가위바위보 게임을 할 수 있도록 구현해보세요."
   ]
  },
  {
   "cell_type": "code",
   "execution_count": null,
   "id": "69f5dd03",
   "metadata": {},
   "outputs": [],
   "source": []
  },
  {
   "cell_type": "markdown",
   "id": "0a55bbc4",
   "metadata": {},
   "source": [
    "<span style=\"color:rgb(120, 120, 120)\">본 학습 자료를 포함한 사이트 내 모든 자료의 저작권은 엘리스에 있으며 외부로의 무단 복제, 배포 및 전송을 불허합니다.\n",
    "\n",
    "Copyright @ elice all rights reserved</span>"
   ]
  },
  {
   "cell_type": "markdown",
   "id": "bc6d0f18",
   "metadata": {},
   "source": [
    "---"
   ]
  }
 ],
 "metadata": {
  "kernelspec": {
   "display_name": "Python 3 (ipykernel)",
   "language": "python",
   "name": "python3"
  },
  "language_info": {
   "codemirror_mode": {
    "name": "ipython",
    "version": 3
   },
   "file_extension": ".py",
   "mimetype": "text/x-python",
   "name": "python",
   "nbconvert_exporter": "python",
   "pygments_lexer": "ipython3",
   "version": "3.9.13"
  }
 },
 "nbformat": 4,
 "nbformat_minor": 5
}
