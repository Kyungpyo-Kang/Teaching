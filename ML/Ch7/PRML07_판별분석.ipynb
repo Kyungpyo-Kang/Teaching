{
  "nbformat": 4,
  "nbformat_minor": 0,
  "metadata": {
    "kernelspec": {
      "display_name": "Python 3",
      "language": "python",
      "name": "python3"
    },
    "language_info": {
      "codemirror_mode": {
        "name": "ipython",
        "version": 3
      },
      "file_extension": ".py",
      "mimetype": "text/x-python",
      "name": "python",
      "nbconvert_exporter": "python",
      "pygments_lexer": "ipython3",
      "version": "3.6.9"
    },
    "colab": {
      "name": "PRML07_판별분석.ipynb",
      "provenance": [],
      "collapsed_sections": []
    }
  },
  "cells": [
    {
      "cell_type": "markdown",
      "source": [
        "# 실습#1 - 데이터 생성\n",
        "- LDA"
      ],
      "metadata": {
        "id": "4FZCnOBp8-XN"
      }
    },
    {
      "cell_type": "code",
      "source": [
        "from scipy.stats import multivariate_normal\n",
        "import numpy as np\n",
        "\n",
        "N = 100 #sample count\n",
        "rv1 = multivariate_normal([ 0, 0], [[0.7, 0.0], [0.0, 0.7]]) #mean, cov\n",
        "rv2 = multivariate_normal([ 1, 1], [[0.8, 0.2], [0.2, 0.8]]) #mean, cov\n",
        "rv3 = multivariate_normal([-1, 1], [[0.8, 0.2], [0.2, 0.8]]) #mean, cov\n",
        "\n",
        "np.random.seed(0) #random seed\n",
        "\n",
        "X1 = rv1.rvs(N) #draw random samples from a multivariate normal distr\n",
        "X2 = rv2.rvs(N)\n",
        "X3 = rv3.rvs(N)\n",
        "\n",
        "y1 = np.zeros(N)  #class: 0\n",
        "y2 = np.ones(N)   #class: 1\n",
        "y3 = 2*np.ones(N) #class: 2\n",
        "X = np.vstack([X1, X2, X3])\n",
        "y = np.hstack([y1, y2, y3])"
      ],
      "metadata": {
        "id": "4zPQqYpjSLAG"
      },
      "execution_count": 1,
      "outputs": []
    },
    {
      "cell_type": "code",
      "source": [
        "import matplotlib.pyplot as plt\n",
        "\n",
        "plt.scatter(X1[:,0], X1[:,1], alpha=0.8, s=50, marker=\"o\", color='r', label=\"class 1\") #alpha: marker의 투명도\n",
        "plt.scatter(X2[:,0], X2[:,1], alpha=0.8, s=50, marker=\"s\", color='g', label=\"class 2\")\n",
        "plt.scatter(X3[:,0], X3[:,1], alpha=0.8, s=50, marker=\"x\", color='b', label=\"class 3\")\n",
        "plt.xlim(-5, 5)\n",
        "plt.ylim(-4, 5)\n",
        "plt.xlabel(\"$x_1$\")\n",
        "plt.ylabel(\"$x_2$\")\n",
        "plt.legend()\n",
        "plt.show()"
      ],
      "metadata": {
        "colab": {
          "base_uri": "https://localhost:8080/",
          "height": 285
        },
        "id": "d9lHLPzsmW_k",
        "outputId": "670c782c-05dd-4bcd-f587-4781ec7d0e78"
      },
      "execution_count": 2,
      "outputs": [
        {
          "output_type": "display_data",
          "data": {
            "text/plain": [
              "<Figure size 432x288 with 1 Axes>"
            ],
            "image/png": "[encoded data removed]"
          },
          "metadata": {
            "needs_background": "light"
          }
        }
      ]
    },
    {
      "cell_type": "code",
      "source": [
        "from sklearn.discriminant_analysis import LinearDiscriminantAnalysis\n",
        "lda = LinearDiscriminantAnalysis(store_covariance=True).fit(X, y)"
      ],
      "metadata": {
        "id": "kLK9Gp9T8e_g"
      },
      "execution_count": 3,
      "outputs": []
    },
    {
      "cell_type": "code",
      "source": [
        "lda.means_"
      ],
      "metadata": {
        "colab": {
          "base_uri": "https://localhost:8080/"
        },
        "id": "dPGRsZou8xoD",
        "outputId": "4b1c27e8-c772-4c68-f533-fa188c9dfb43"
      },
      "execution_count": 4,
      "outputs": [
        {
          "output_type": "execute_result",
          "data": {
            "text/plain": [
              "array([[-8.01254084e-04,  1.19457204e-01],\n",
              "       [ 1.16303727e+00,  1.03930605e+00],\n",
              "       [-8.64060404e-01,  1.02295794e+00]])"
            ]
          },
          "metadata": {},
          "execution_count": 4
        }
      ]
    },
    {
      "cell_type": "code",
      "source": [
        "lda.covariance_"
      ],
      "metadata": {
        "colab": {
          "base_uri": "https://localhost:8080/"
        },
        "id": "2yJEh61v8yx5",
        "outputId": "17a72b09-c14d-44b5-840f-e5998207069b"
      },
      "execution_count": 5,
      "outputs": [
        {
          "output_type": "execute_result",
          "data": {
            "text/plain": [
              "array([[0.7718516 , 0.13942905],\n",
              "       [0.13942905, 0.7620019 ]])"
            ]
          },
          "metadata": {},
          "execution_count": 5
        }
      ]
    },
    {
      "cell_type": "code",
      "source": [
        "import seaborn as sns\n",
        "import matplotlib as mpl\n",
        "\n",
        "x1min, x1max = -5, 5\n",
        "x2min, x2max = -4, 5\n",
        "XX1, XX2 = np.meshgrid(np.arange(x1min, x1max, (x1max-x1min)/1000),\n",
        "                       np.arange(x2min, x2max, (x2max-x2min)/1000))\n",
        "YY = np.reshape(lda.predict(np.array([XX1.ravel(), XX2.ravel()]).T), XX1.shape) \n",
        "cmap = mpl.colors.ListedColormap(sns.color_palette([\"r\", \"g\", \"b\"]).as_hex())\n",
        "plt.contourf(XX1, XX2, YY, cmap=cmap, alpha=0.5)\n",
        "plt.scatter(X1[:, 0], X1[:, 1], alpha=0.8, s=50, marker=\"o\", color='r', label=\"class 1\")\n",
        "plt.scatter(X2[:, 0], X2[:, 1], alpha=0.8, s=50, marker=\"s\", color='g', label=\"class 2\")\n",
        "plt.scatter(X3[:, 0], X3[:, 1], alpha=0.8, s=50, marker=\"x\", color='b', label=\"class 3\")\n",
        "plt.xlim(x1min, x1max)\n",
        "plt.ylim(x2min, x2max)\n",
        "plt.xlabel(\"$x_1$\")\n",
        "plt.ylabel(\"$x_2$\")\n",
        "plt.legend()\n",
        "plt.title(\"LDA Result\")\n",
        "plt.show()"
      ],
      "metadata": {
        "colab": {
          "base_uri": "https://localhost:8080/",
          "height": 297
        },
        "id": "waEvvwEr81fT",
        "outputId": "a56f6f8b-e663-4946-e7b8-9d8e41788a25"
      },
      "execution_count": 6,
      "outputs": [
        {
          "output_type": "display_data",
          "data": {
            "text/plain": [
              "<Figure size 432x288 with 1 Axes>"
            ],
            "image/png": "[encoded data removed]"
          },
          "metadata": {
            "needs_background": "light"
          }
        }
      ]
    },
    {
      "cell_type": "markdown",
      "source": [
        "# 실습#1 - 데이터 생성\n",
        "- QDA"
      ],
      "metadata": {
        "id": "eYMZo7DB836y"
      }
    },
    {
      "cell_type": "code",
      "source": [
        "from sklearn.discriminant_analysis import QuadraticDiscriminantAnalysis\n",
        "qda = QuadraticDiscriminantAnalysis(store_covariance=True).fit(X, y)"
      ],
      "metadata": {
        "id": "1PAVCWye9N0D"
      },
      "execution_count": 7,
      "outputs": []
    },
    {
      "cell_type": "code",
      "source": [
        "qda.priors_"
      ],
      "metadata": {
        "colab": {
          "base_uri": "https://localhost:8080/"
        },
        "id": "wk-SzX4u9Qio",
        "outputId": "4926ec29-520a-418f-e15b-ce5eac16c3b8"
      },
      "execution_count": 8,
      "outputs": [
        {
          "output_type": "execute_result",
          "data": {
            "text/plain": [
              "array([0.33333333, 0.33333333, 0.33333333])"
            ]
          },
          "metadata": {},
          "execution_count": 8
        }
      ]
    },
    {
      "cell_type": "code",
      "source": [
        "qda.means_"
      ],
      "metadata": {
        "colab": {
          "base_uri": "https://localhost:8080/"
        },
        "id": "xMXSJn3G9Q_g",
        "outputId": "d13d88f2-2e79-4de1-9ac5-278e56ea6c6f"
      },
      "execution_count": 9,
      "outputs": [
        {
          "output_type": "execute_result",
          "data": {
            "text/plain": [
              "array([[-8.01254084e-04,  1.19457204e-01],\n",
              "       [ 1.16303727e+00,  1.03930605e+00],\n",
              "       [-8.64060404e-01,  1.02295794e+00]])"
            ]
          },
          "metadata": {},
          "execution_count": 9
        }
      ]
    },
    {
      "cell_type": "code",
      "source": [
        "qda.covariance_"
      ],
      "metadata": {
        "colab": {
          "base_uri": "https://localhost:8080/"
        },
        "id": "5zMUIyLo9S3l",
        "outputId": "80dc1d0d-7d2d-412b-e8d4-225a81362d05"
      },
      "execution_count": 10,
      "outputs": [
        {
          "output_type": "execute_result",
          "data": {
            "text/plain": [
              "[array([[ 0.73846319, -0.01762041],\n",
              "        [-0.01762041,  0.72961278]]), array([[0.66534246, 0.21132313],\n",
              "        [0.21132313, 0.78806006]]), array([[0.9351386 , 0.22880955],\n",
              "        [0.22880955, 0.79142383]])]"
            ]
          },
          "metadata": {},
          "execution_count": 10
        }
      ]
    },
    {
      "cell_type": "code",
      "source": [
        "qda.covariance_[0]"
      ],
      "metadata": {
        "colab": {
          "base_uri": "https://localhost:8080/"
        },
        "id": "P9UWqDbW9TRA",
        "outputId": "ae0b5940-a622-4869-cdc4-9c8c2bf21b5f"
      },
      "execution_count": 11,
      "outputs": [
        {
          "output_type": "execute_result",
          "data": {
            "text/plain": [
              "array([[ 0.73846319, -0.01762041],\n",
              "       [-0.01762041,  0.72961278]])"
            ]
          },
          "metadata": {},
          "execution_count": 11
        }
      ]
    },
    {
      "cell_type": "code",
      "source": [
        "qda.covariance_[1]"
      ],
      "metadata": {
        "colab": {
          "base_uri": "https://localhost:8080/"
        },
        "id": "VUg9QpCa9U46",
        "outputId": "402efe2d-1f2d-4bfa-e5ee-e83e819717d7"
      },
      "execution_count": 12,
      "outputs": [
        {
          "output_type": "execute_result",
          "data": {
            "text/plain": [
              "array([[0.66534246, 0.21132313],\n",
              "       [0.21132313, 0.78806006]])"
            ]
          },
          "metadata": {},
          "execution_count": 12
        }
      ]
    },
    {
      "cell_type": "code",
      "source": [
        "qda.covariance_[2]"
      ],
      "metadata": {
        "colab": {
          "base_uri": "https://localhost:8080/"
        },
        "id": "8gtX5WZq9U72",
        "outputId": "a83f7555-2b4e-469a-8a15-1dab109054f2"
      },
      "execution_count": 13,
      "outputs": [
        {
          "output_type": "execute_result",
          "data": {
            "text/plain": [
              "array([[0.9351386 , 0.22880955],\n",
              "       [0.22880955, 0.79142383]])"
            ]
          },
          "metadata": {},
          "execution_count": 13
        }
      ]
    },
    {
      "cell_type": "code",
      "source": [
        "import seaborn as sns\n",
        "import matplotlib as mpl\n",
        "\n",
        "x1min, x1max = -5, 5\n",
        "x2min, x2max = -4, 5\n",
        "XX1, XX2 = np.meshgrid(np.arange(x1min, x1max, (x1max-x1min)/1000),\n",
        "                       np.arange(x2min, x2max, (x2max-x2min)/1000))\n",
        "YY = np.reshape(qda.predict(np.array([XX1.ravel(), XX2.ravel()]).T), XX1.shape)\n",
        "cmap = mpl.colors.ListedColormap(sns.color_palette([\"r\", \"g\", \"b\"]).as_hex())\n",
        "plt.contourf(XX1, XX2, YY, cmap=cmap, alpha=0.5)\n",
        "plt.scatter(X1[:, 0], X1[:, 1], alpha=0.8, s=50, marker=\"o\", color='r', label=\"class 1\")\n",
        "plt.scatter(X2[:, 0], X2[:, 1], alpha=0.8, s=50, marker=\"s\", color='g', label=\"class 2\")\n",
        "plt.scatter(X3[:, 0], X3[:, 1], alpha=0.8, s=50, marker=\"x\", color='b', label=\"class 3\")\n",
        "plt.xlim(x1min, x1max)\n",
        "plt.ylim(x2min, x2max)\n",
        "plt.xlabel(\"$x_1$\")\n",
        "plt.ylabel(\"$x_2$\")\n",
        "plt.title(\"QDA Result\")\n",
        "plt.legend()\n",
        "plt.show()"
      ],
      "metadata": {
        "colab": {
          "base_uri": "https://localhost:8080/",
          "height": 297
        },
        "id": "KDWNwIdy9U-G",
        "outputId": "1081e793-961d-4d2e-c901-5df5d6c21a63"
      },
      "execution_count": 14,
      "outputs": [
        {
          "output_type": "display_data",
          "data": {
            "text/plain": [
              "<Figure size 432x288 with 1 Axes>"
            ],
            "image/png": "[encoded data removed]"
          },
          "metadata": {
            "needs_background": "light"
          }
        }
      ]
    },
    {
      "cell_type": "markdown",
      "source": [
        "# 실습#2 - Iris Data\n",
        "- LDA"
      ],
      "metadata": {
        "id": "JDP59pnsSB5A"
      }
    },
    {
      "cell_type": "code",
      "source": [
        "#데이터 불러오기\n",
        "import seaborn as sns #seaborn을 불러오고 네임스페이스를 sns로 축약\n",
        "iris = sns.load_dataset('iris')  #iris라는 변수명으로 Iris 데이터셋 download\n",
        "\n",
        "X = iris.drop('species', axis=1) #'species'열을 drop하고 input X를 정의\n",
        "y_ = iris['species']"
      ],
      "metadata": {
        "id": "MrDm5jXlSKu0"
      },
      "execution_count": 15,
      "outputs": []
    },
    {
      "cell_type": "code",
      "source": [
        "#y data를 범주형으로 변환\n",
        "from sklearn.preprocessing import LabelEncoder\n",
        "classle = LabelEncoder() #class label\n",
        "y = classle.fit_transform(iris['species'].values) #species 열의 문자열을 범주형으로 변환"
      ],
      "metadata": {
        "id": "wk3ObiVnSX8I"
      },
      "execution_count": 16,
      "outputs": []
    },
    {
      "cell_type": "code",
      "source": [
        "#전체 데이터를 학습과 테스트 데이터셋으로 분리\n",
        "from sklearn.model_selection import train_test_split\n",
        "\n",
        "#X(입력변수)와 y(종속변수)로 이루어진 데이터를 학습과 테스트 데이터넷으로 각각 70%, 30%의 비율로 나눔\n",
        "X_train,X_test,y_train,y_test=train_test_split(X,y, test_size=0.3, random_state=1, stratify=y) "
      ],
      "metadata": {
        "id": "RNdIgsOyScDU"
      },
      "execution_count": 17,
      "outputs": []
    },
    {
      "cell_type": "code",
      "metadata": {
        "id": "KJhHVIcx9JYB",
        "outputId": "4d407c23-1503-4269-afed-9f4f4d0a1ad8",
        "colab": {
          "base_uri": "https://localhost:8080/",
          "height": 206
        }
      },
      "source": [
        "X.head()"
      ],
      "execution_count": 18,
      "outputs": [
        {
          "output_type": "execute_result",
          "data": {
            "text/plain": [
              "   sepal_length  sepal_width  petal_length  petal_width\n",
              "0           5.1          3.5           1.4          0.2\n",
              "1           4.9          3.0           1.4          0.2\n",
              "2           4.7          3.2           1.3          0.2\n",
              "3           4.6          3.1           1.5          0.2\n",
              "4           5.0          3.6           1.4          0.2"
            ],
            "text/html": [
              "\n",
              "  <div id=\"df-87a9cb10-d250-436a-a764-09df9d06a06b\">\n",
              "    <div class=\"colab-df-container\">\n",
              "      <div>\n",
              "<style scoped>\n",
              "    .dataframe tbody tr th:only-of-type {\n",
              "        vertical-align: middle;\n",
              "    }\n",
              "\n",
              "    .dataframe tbody tr th {\n",
              "        vertical-align: top;\n",
              "    }\n",
              "\n",
              "    .dataframe thead th {\n",
              "        text-align: right;\n",
              "    }\n",
              "</style>\n",
              "<table border=\"1\" class=\"dataframe\">\n",
              "  <thead>\n",
              "    <tr style=\"text-align: right;\">\n",
              "      <th></th>\n",
              "      <th>sepal_length</th>\n",
              "      <th>sepal_width</th>\n",
              "      <th>petal_length</th>\n",
              "      <th>petal_width</th>\n",
              "    </tr>\n",
              "  </thead>\n",
              "  <tbody>\n",
              "    <tr>\n",
              "      <th>0</th>\n",
              "      <td>5.1</td>\n",
              "      <td>3.5</td>\n",
              "      <td>1.4</td>\n",
              "      <td>0.2</td>\n",
              "    </tr>\n",
              "    <tr>\n",
              "      <th>1</th>\n",
              "      <td>4.9</td>\n",
              "      <td>3.0</td>\n",
              "      <td>1.4</td>\n",
              "      <td>0.2</td>\n",
              "    </tr>\n",
              "    <tr>\n",
              "      <th>2</th>\n",
              "      <td>4.7</td>\n",
              "      <td>3.2</td>\n",
              "      <td>1.3</td>\n",
              "      <td>0.2</td>\n",
              "    </tr>\n",
              "    <tr>\n",
              "      <th>3</th>\n",
              "      <td>4.6</td>\n",
              "      <td>3.1</td>\n",
              "      <td>1.5</td>\n",
              "      <td>0.2</td>\n",
              "    </tr>\n",
              "    <tr>\n",
              "      <th>4</th>\n",
              "      <td>5.0</td>\n",
              "      <td>3.6</td>\n",
              "      <td>1.4</td>\n",
              "      <td>0.2</td>\n",
              "    </tr>\n",
              "  </tbody>\n",
              "</table>\n",
              "</div>\n",
              "      <button class=\"colab-df-convert\" onclick=\"convertToInteractive('df-87a9cb10-d250-436a-a764-09df9d06a06b')\"\n",
              "              title=\"Convert this dataframe to an interactive table.\"\n",
              "              style=\"display:none;\">\n",
              "        \n",
              "  <svg xmlns=\"http://www.w3.org/2000/svg\" height=\"24px\"viewBox=\"0 0 24 24\"\n",
              "       width=\"24px\">\n",
              "    <path d=\"M0 0h24v24H0V0z\" fill=\"none\"/>\n",
              "    <path d=\"M18.56 5.44l.94 2.06.94-2.06 2.06-.94-2.06-.94-.94-2.06-.94 2.06-2.06.94zm-11 1L8.5 8.5l.94-2.06 2.06-.94-2.06-.94L8.5 2.5l-.94 2.06-2.06.94zm10 10l.94 2.06.94-2.06 2.06-.94-2.06-.94-.94-2.06-.94 2.06-2.06.94z\"/><path d=\"M17.41 7.96l-1.37-1.37c-.4-.4-.92-.59-1.43-.59-.52 0-1.04.2-1.43.59L10.3 9.45l-7.72 7.72c-.78.78-.78 2.05 0 2.83L4 21.41c.39.39.9.59 1.41.59.51 0 1.02-.2 1.41-.59l7.78-7.78 2.81-2.81c.8-.78.8-2.07 0-2.86zM5.41 20L4 18.59l7.72-7.72 1.47 1.35L5.41 20z\"/>\n",
              "  </svg>\n",
              "      </button>\n",
              "      \n",
              "  <style>\n",
              "    .colab-df-container {\n",
              "      display:flex;\n",
              "      flex-wrap:wrap;\n",
              "      gap: 12px;\n",
              "    }\n",
              "\n",
              "    .colab-df-convert {\n",
              "      background-color: #E8F0FE;\n",
              "      border: none;\n",
              "      border-radius: 50%;\n",
              "      cursor: pointer;\n",
              "      display: none;\n",
              "      fill: #1967D2;\n",
              "      height: 32px;\n",
              "      padding: 0 0 0 0;\n",
              "      width: 32px;\n",
              "    }\n",
              "\n",
              "    .colab-df-convert:hover {\n",
              "      background-color: #E2EBFA;\n",
              "      box-shadow: 0px 1px 2px rgba(60, 64, 67, 0.3), 0px 1px 3px 1px rgba(60, 64, 67, 0.15);\n",
              "      fill: #174EA6;\n",
              "    }\n",
              "\n",
              "    [theme=dark] .colab-df-convert {\n",
              "      background-color: #3B4455;\n",
              "      fill: #D2E3FC;\n",
              "    }\n",
              "\n",
              "    [theme=dark] .colab-df-convert:hover {\n",
              "      background-color: #434B5C;\n",
              "      box-shadow: 0px 1px 3px 1px rgba(0, 0, 0, 0.15);\n",
              "      filter: drop-shadow(0px 1px 2px rgba(0, 0, 0, 0.3));\n",
              "      fill: #FFFFFF;\n",
              "    }\n",
              "  </style>\n",
              "\n",
              "      <script>\n",
              "        const buttonEl =\n",
              "          document.querySelector('#df-87a9cb10-d250-436a-a764-09df9d06a06b button.colab-df-convert');\n",
              "        buttonEl.style.display =\n",
              "          google.colab.kernel.accessAllowed ? 'block' : 'none';\n",
              "\n",
              "        async function convertToInteractive(key) {\n",
              "          const element = document.querySelector('#df-87a9cb10-d250-436a-a764-09df9d06a06b');\n",
              "          const dataTable =\n",
              "            await google.colab.kernel.invokeFunction('convertToInteractive',\n",
              "                                                     [key], {});\n",
              "          if (!dataTable) return;\n",
              "\n",
              "          const docLinkHtml = 'Like what you see? Visit the ' +\n",
              "            '<a target=\"_blank\" href=https://colab.research.google.com/notebooks/data_table.ipynb>data table notebook</a>'\n",
              "            + ' to learn more about interactive tables.';\n",
              "          element.innerHTML = '';\n",
              "          dataTable['output_type'] = 'display_data';\n",
              "          await google.colab.output.renderOutput(dataTable, element);\n",
              "          const docLink = document.createElement('div');\n",
              "          docLink.innerHTML = docLinkHtml;\n",
              "          element.appendChild(docLink);\n",
              "        }\n",
              "      </script>\n",
              "    </div>\n",
              "  </div>\n",
              "  "
            ]
          },
          "metadata": {},
          "execution_count": 18
        }
      ]
    },
    {
      "cell_type": "code",
      "metadata": {
        "id": "sqq1nOzx_mhU",
        "outputId": "765f3506-25d4-4216-ebbd-77e66470053a",
        "colab": {
          "base_uri": "https://localhost:8080/"
        }
      },
      "source": [
        "y_.head()"
      ],
      "execution_count": 19,
      "outputs": [
        {
          "output_type": "execute_result",
          "data": {
            "text/plain": [
              "0    setosa\n",
              "1    setosa\n",
              "2    setosa\n",
              "3    setosa\n",
              "4    setosa\n",
              "Name: species, dtype: object"
            ]
          },
          "metadata": {},
          "execution_count": 19
        }
      ]
    },
    {
      "cell_type": "code",
      "metadata": {
        "id": "r8aoKdes9JYG"
      },
      "source": [
        "#Iris data에 대한 LDA 적합\n",
        "from sklearn.discriminant_analysis import LinearDiscriminantAnalysis\n",
        "lda=LinearDiscriminantAnalysis(store_covariance=True)\n",
        "#lda=LinearDiscriminantAnalysis(n_components=2, store_covariance=True)\n",
        "\n",
        "lda.fit(X_train, y_train) # LDA 적합\n",
        "y_train_pred=lda.predict(X_train)\n",
        "y_test_pred=lda.predict(X_test)"
      ],
      "execution_count": 20,
      "outputs": []
    },
    {
      "cell_type": "code",
      "source": [
        "#Accuracy score\n",
        "from sklearn.metrics import accuracy_score\n",
        "print(accuracy_score(y_train,y_train_pred))  \n",
        "print(accuracy_score(y_test,y_test_pred))    "
      ],
      "metadata": {
        "colab": {
          "base_uri": "https://localhost:8080/"
        },
        "id": "j3oUY9slTBww",
        "outputId": "d2a7621e-7aad-497c-dfa8-fe897cafe369"
      },
      "execution_count": 21,
      "outputs": [
        {
          "output_type": "stream",
          "name": "stdout",
          "text": [
            "0.9809523809523809\n",
            "1.0\n"
          ]
        }
      ]
    },
    {
      "cell_type": "code",
      "metadata": {
        "scrolled": true,
        "id": "JP_9QUw49JYK",
        "outputId": "81652e36-406a-436d-a776-802ec6d2017d",
        "colab": {
          "base_uri": "https://localhost:8080/"
        }
      },
      "source": [
        "#분류 결과\n",
        "from sklearn.metrics import confusion_matrix\n",
        "print(confusion_matrix(y_test, y_test_pred))  #각 행은 setosa, versicolor, virginica"
      ],
      "execution_count": 22,
      "outputs": [
        {
          "output_type": "stream",
          "name": "stdout",
          "text": [
            "[[15  0  0]\n",
            " [ 0 15  0]\n",
            " [ 0  0 15]]\n"
          ]
        }
      ]
    },
    {
      "cell_type": "code",
      "metadata": {
        "id": "voH3buOK9JYP",
        "outputId": "40ffcefb-2bb5-4f5a-8071-b30abe36f5e2",
        "colab": {
          "base_uri": "https://localhost:8080/"
        }
      },
      "source": [
        "print('Means:\\n', lda.means_)\n",
        "print('Xbar:\\n', lda.xbar_)\n",
        "print('Cov:\\n', lda.covariance_)\n",
        "print('Intercept:\\n', lda.intercept_)\n",
        "print('Coef:\\n', lda.coef_)"
      ],
      "execution_count": 23,
      "outputs": [
        {
          "output_type": "stream",
          "name": "stdout",
          "text": [
            "Means:\n",
            " [[5.02285714 3.43428571 1.45714286 0.24285714]\n",
            " [5.87142857 2.78       4.27428571 1.32285714]\n",
            " [6.67714286 2.99428571 5.63714286 2.02571429]]\n",
            "Xbar:\n",
            " [5.85714286 3.06952381 3.78952381 1.19714286]\n",
            "Cov:\n",
            " [[0.23328435 0.0848381  0.15550748 0.03332517]\n",
            " [0.0848381  0.11041633 0.05572245 0.02952109]\n",
            " [0.15550748 0.05572245 0.18527891 0.04515646]\n",
            " [0.03332517 0.02952109 0.04515646 0.04413605]]\n",
            "Intercept:\n",
            " [-14.3197418    0.28081332 -33.12154089]\n",
            "Coef:\n",
            " [[  5.64326572  11.49965842 -16.50799293 -16.06675257]\n",
            " [ -2.16936235  -3.94301018   5.10483869   1.81942664]\n",
            " [ -3.47390337  -7.55664824  11.40315424  14.24732594]]\n"
          ]
        }
      ]
    },
    {
      "cell_type": "code",
      "metadata": {
        "id": "b8LGSlPrNxCC",
        "outputId": "62459ef8-c8ee-4cd3-bb6b-09c98bf434bf",
        "colab": {
          "base_uri": "https://localhost:8080/",
          "height": 281
        }
      },
      "source": [
        "#Scatter plot\n",
        "from sklearn.discriminant_analysis import LinearDiscriminantAnalysis\n",
        "cld=LinearDiscriminantAnalysis()\n",
        "X_lda = cld.fit_transform(X_train, y_train)\n",
        "\n",
        "from matplotlib import pyplot as plt\n",
        "plt.xlabel('LD1')\n",
        "plt.ylabel('LD2')\n",
        "plt.scatter(X_lda[:,0],X_lda[:,1],c=y_train,cmap='rainbow',alpha=0.7,edgecolors='b');"
      ],
      "execution_count": 24,
      "outputs": [
        {
          "output_type": "display_data",
          "data": {
            "text/plain": [
              "<Figure size 432x288 with 1 Axes>"
            ],
            "image/png": "[encoded data removed]"
          },
          "metadata": {
            "needs_background": "light"
          }
        }
      ]
    },
    {
      "cell_type": "markdown",
      "source": [
        "# 실습#2 - Iris Data\n",
        "- QDA"
      ],
      "metadata": {
        "id": "S1cRs8uCT4rH"
      }
    },
    {
      "cell_type": "code",
      "metadata": {
        "id": "-1qfR8V09JYe"
      },
      "source": [
        "from sklearn.discriminant_analysis import QuadraticDiscriminantAnalysis\n",
        "qda = QuadraticDiscriminantAnalysis(store_covariance=True)\n",
        "qda.fit(X_train, y_train) # QDA 적합\n",
        "y_train_pred=qda.predict(X_train)\n",
        "y_test_pred=qda.predict(X_test)"
      ],
      "execution_count": 25,
      "outputs": []
    },
    {
      "cell_type": "code",
      "metadata": {
        "id": "1g7I_IGMOGJ3",
        "outputId": "0a198b4a-5561-4278-eec1-cdebf8aa1201",
        "colab": {
          "base_uri": "https://localhost:8080/"
        }
      },
      "source": [
        "#Accuracy score\n",
        "from sklearn.metrics import accuracy_score\n",
        "print(accuracy_score(y_train, y_train_pred)) # train data에 대한 accuracy\n",
        "print(accuracy_score(y_test, y_test_pred)) # test data에 대한 accuracy"
      ],
      "execution_count": 26,
      "outputs": [
        {
          "output_type": "stream",
          "name": "stdout",
          "text": [
            "0.9809523809523809\n",
            "0.9777777777777777\n"
          ]
        }
      ]
    },
    {
      "cell_type": "code",
      "metadata": {
        "id": "NpafQ8vF9JYk",
        "outputId": "b9b22900-8141-4fcf-f838-eb86534bb520",
        "colab": {
          "base_uri": "https://localhost:8080/"
        }
      },
      "source": [
        "#분류 결과\n",
        "from sklearn.metrics import confusion_matrix\n",
        "print(confusion_matrix(y_test, y_test_pred))"
      ],
      "execution_count": 27,
      "outputs": [
        {
          "output_type": "stream",
          "name": "stdout",
          "text": [
            "[[15  0  0]\n",
            " [ 0 14  1]\n",
            " [ 0  0 15]]\n"
          ]
        }
      ]
    },
    {
      "cell_type": "code",
      "metadata": {
        "id": "v0y3BwN69JYh",
        "outputId": "20b5a58f-1118-4517-aeaf-5c44c5212598",
        "colab": {
          "base_uri": "https://localhost:8080/"
        }
      },
      "source": [
        "print('Means:\\n', qda.means_)\n",
        "print('Cov:\\n', qda.covariance_)"
      ],
      "execution_count": 28,
      "outputs": [
        {
          "output_type": "stream",
          "name": "stdout",
          "text": [
            "Means:\n",
            " [[5.02285714 3.43428571 1.45714286 0.24285714]\n",
            " [5.87142857 2.78       4.27428571 1.32285714]\n",
            " [6.67714286 2.99428571 5.63714286 2.02571429]]\n",
            "Cov:\n",
            " [array([[ 0.13122689,  0.09478151,  0.01983193,  0.00546218],\n",
            "       [ 0.09478151,  0.13584874,  0.01415966, -0.00063025],\n",
            "       [ 0.01983193,  0.01415966,  0.03840336,  0.00659664],\n",
            "       [ 0.00546218, -0.00063025,  0.00659664,  0.00781513]]), array([[0.20739496, 0.07235294, 0.15836134, 0.05243697],\n",
            "       [0.07235294, 0.08929412, 0.07741176, 0.04341176],\n",
            "       [0.15836134, 0.07741176, 0.21020168, 0.07442857],\n",
            "       [0.05243697, 0.04341176, 0.07442857, 0.0429916 ]]), array([[0.38181513, 0.09486555, 0.30205042, 0.04501681],\n",
            "       [0.09486555, 0.11584874, 0.08051261, 0.04838655],\n",
            "       [0.30205042, 0.08051261, 0.32357983, 0.05842857],\n",
            "       [0.04501681, 0.04838655, 0.05842857, 0.0854958 ]])]\n"
          ]
        }
      ]
    }
  ]
}