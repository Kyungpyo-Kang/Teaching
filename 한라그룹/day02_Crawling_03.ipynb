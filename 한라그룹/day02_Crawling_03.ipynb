{
 "cells": [
  {
   "cell_type": "markdown",
   "metadata": {},
   "source": [
    "# 실습3: 멜론 Top100 긁기\n",
    "### 1. 앨범 Title 긁기\n",
    "### 2. 앨범 Artist 긁기\n",
    "### 3. 앨범 이름 긁기\n",
    "### 4. 좋아요 수 긁기 (Rest API 활용)\n",
    "#### 참고: https://www.melon.com/chart/"
   ]
  },
  {
   "cell_type": "code",
   "execution_count": 1,
   "metadata": {
    "executionInfo": {
     "elapsed": 5,
     "status": "ok",
     "timestamp": 1665634076980,
     "user": {
      "displayName": "‍강경표[학생](경영대학 경영학과)",
      "userId": "14702189890012152731"
     },
     "user_tz": -540
    },
    "id": "shGxNPUpgwIa"
   },
   "outputs": [],
   "source": [
    "import requests as req\n",
    "from bs4 import BeautifulSoup as bs\n",
    "import pandas as pd"
   ]
  },
  {
   "cell_type": "code",
   "execution_count": 5,
   "metadata": {
    "colab": {
     "base_uri": "https://localhost:8080/"
    },
    "executionInfo": {
     "elapsed": 1798,
     "status": "ok",
     "timestamp": 1665634387954,
     "user": {
      "displayName": "‍강경표[학생](경영대학 경영학과)",
      "userId": "14702189890012152731"
     },
     "user_tz": -540
    },
    "id": "YdxOUpO7hrSc",
    "outputId": "80ddea61-3353-4e24-a739-6342e76dd724"
   },
   "outputs": [
    {
     "data": {
      "text/plain": [
       "<Response [200]>"
      ]
     },
     "execution_count": 5,
     "metadata": {},
     "output_type": "execute_result"
    }
   ],
   "source": [
    "target_url = 'https://www.melon.com/chart/'\n",
    "\n",
    "# 대부분의 웹사이트는 비정상적인 접근을 허용하지 않는다.\n",
    "# 유저가 웹 브라우저를 통해 접근한 방식을 제외하고는 대부분 비정상적인 접근이다.(크롤링 포함)\n",
    "# 따라서, 내가 누구인지, 어떻게 너희들의 웹페이지에 들어왔는지를 알려주는 정보가 필요하다.\n",
    "# 이 역할을 하는 것이 header.\n",
    "# header에 포함되는 대표적인 요소로 user-agent가 있다. -> 내가 어떤 웹브라우저를 통해 들어왔는지 알려주는 것.\n",
    "# 개발자 탭에서 Network 탭의 Fetch/XHR을 보면 user-agent가 나와있다.\n",
    "# 단순히 웹사이트를 속이기 위함이기 때문에 어떤 user-agent를 사용하든 상관없다. 즉, 구글링을 한 다음 돌아다니는 user-agent를 사용해도 괜찮다.\n",
    "header = {\n",
    "    'User-Agent':'ozilla/5.0 (Windows NT 10.0; Win64; x64) AppleWebKit/537.36 (KHTML, like Gecko) Chrome/105.0.0.0 Safari/537.36'\n",
    "}\n",
    "\n",
    "res = req.get(target_url, headers=header)\n",
    "res"
   ]
  },
  {
   "cell_type": "code",
   "execution_count": 69,
   "metadata": {
    "colab": {
     "base_uri": "https://localhost:8080/",
     "height": 206
    },
    "executionInfo": {
     "elapsed": 969,
     "status": "ok",
     "timestamp": 1665638618761,
     "user": {
      "displayName": "‍강경표[학생](경영대학 경영학과)",
      "userId": "14702189890012152731"
     },
     "user_tz": -540
    },
    "id": "VgqLxgiXjRUp",
    "outputId": "7d3f4bcc-de7a-4068-9b4e-d557c85e0acb"
   },
   "outputs": [
    {
     "data": {
      "text/html": [
       "\n",
       "  <div id=\"df-5a47c905-1857-41fe-a0da-339c99c5ce6b\">\n",
       "    <div class=\"colab-df-container\">\n",
       "      <div>\n",
       "<style scoped>\n",
       "    .dataframe tbody tr th:only-of-type {\n",
       "        vertical-align: middle;\n",
       "    }\n",
       "\n",
       "    .dataframe tbody tr th {\n",
       "        vertical-align: top;\n",
       "    }\n",
       "\n",
       "    .dataframe thead th {\n",
       "        text-align: right;\n",
       "    }\n",
       "</style>\n",
       "<table border=\"1\" class=\"dataframe\">\n",
       "  <thead>\n",
       "    <tr style=\"text-align: right;\">\n",
       "      <th></th>\n",
       "      <th>title</th>\n",
       "      <th>artist</th>\n",
       "      <th>album</th>\n",
       "    </tr>\n",
       "  </thead>\n",
       "  <tbody>\n",
       "    <tr>\n",
       "      <th>0</th>\n",
       "      <td>새삥 (Prod. ZICO) (Feat. 호미들)</td>\n",
       "      <td>지코 (ZICO)</td>\n",
       "      <td>스트릿 맨 파이터(SMF) Original Vol.3 (계급미션)</td>\n",
       "    </tr>\n",
       "    <tr>\n",
       "      <th>1</th>\n",
       "      <td>After LIKE</td>\n",
       "      <td>IVE (아이브)</td>\n",
       "      <td>After LIKE</td>\n",
       "    </tr>\n",
       "    <tr>\n",
       "      <th>2</th>\n",
       "      <td>Hype boy</td>\n",
       "      <td>NewJeans</td>\n",
       "      <td>NewJeans 1st EP 'New Jeans'</td>\n",
       "    </tr>\n",
       "    <tr>\n",
       "      <th>3</th>\n",
       "      <td>Shut Down</td>\n",
       "      <td>BLACKPINK</td>\n",
       "      <td>BORN PINK</td>\n",
       "    </tr>\n",
       "    <tr>\n",
       "      <th>4</th>\n",
       "      <td>Rush Hour (Feat. j-hope of BTS)</td>\n",
       "      <td>Crush</td>\n",
       "      <td>Rush Hour</td>\n",
       "    </tr>\n",
       "  </tbody>\n",
       "</table>\n",
       "</div>\n",
       "      <button class=\"colab-df-convert\" onclick=\"convertToInteractive('df-5a47c905-1857-41fe-a0da-339c99c5ce6b')\"\n",
       "              title=\"Convert this dataframe to an interactive table.\"\n",
       "              style=\"display:none;\">\n",
       "        \n",
       "  <svg xmlns=\"http://www.w3.org/2000/svg\" height=\"24px\"viewBox=\"0 0 24 24\"\n",
       "       width=\"24px\">\n",
       "    <path d=\"M0 0h24v24H0V0z\" fill=\"none\"/>\n",
       "    <path d=\"M18.56 5.44l.94 2.06.94-2.06 2.06-.94-2.06-.94-.94-2.06-.94 2.06-2.06.94zm-11 1L8.5 8.5l.94-2.06 2.06-.94-2.06-.94L8.5 2.5l-.94 2.06-2.06.94zm10 10l.94 2.06.94-2.06 2.06-.94-2.06-.94-.94-2.06-.94 2.06-2.06.94z\"/><path d=\"M17.41 7.96l-1.37-1.37c-.4-.4-.92-.59-1.43-.59-.52 0-1.04.2-1.43.59L10.3 9.45l-7.72 7.72c-.78.78-.78 2.05 0 2.83L4 21.41c.39.39.9.59 1.41.59.51 0 1.02-.2 1.41-.59l7.78-7.78 2.81-2.81c.8-.78.8-2.07 0-2.86zM5.41 20L4 18.59l7.72-7.72 1.47 1.35L5.41 20z\"/>\n",
       "  </svg>\n",
       "      </button>\n",
       "      \n",
       "  <style>\n",
       "    .colab-df-container {\n",
       "      display:flex;\n",
       "      flex-wrap:wrap;\n",
       "      gap: 12px;\n",
       "    }\n",
       "\n",
       "    .colab-df-convert {\n",
       "      background-color: #E8F0FE;\n",
       "      border: none;\n",
       "      border-radius: 50%;\n",
       "      cursor: pointer;\n",
       "      display: none;\n",
       "      fill: #1967D2;\n",
       "      height: 32px;\n",
       "      padding: 0 0 0 0;\n",
       "      width: 32px;\n",
       "    }\n",
       "\n",
       "    .colab-df-convert:hover {\n",
       "      background-color: #E2EBFA;\n",
       "      box-shadow: 0px 1px 2px rgba(60, 64, 67, 0.3), 0px 1px 3px 1px rgba(60, 64, 67, 0.15);\n",
       "      fill: #174EA6;\n",
       "    }\n",
       "\n",
       "    [theme=dark] .colab-df-convert {\n",
       "      background-color: #3B4455;\n",
       "      fill: #D2E3FC;\n",
       "    }\n",
       "\n",
       "    [theme=dark] .colab-df-convert:hover {\n",
       "      background-color: #434B5C;\n",
       "      box-shadow: 0px 1px 3px 1px rgba(0, 0, 0, 0.15);\n",
       "      filter: drop-shadow(0px 1px 2px rgba(0, 0, 0, 0.3));\n",
       "      fill: #FFFFFF;\n",
       "    }\n",
       "  </style>\n",
       "\n",
       "      <script>\n",
       "        const buttonEl =\n",
       "          document.querySelector('#df-5a47c905-1857-41fe-a0da-339c99c5ce6b button.colab-df-convert');\n",
       "        buttonEl.style.display =\n",
       "          google.colab.kernel.accessAllowed ? 'block' : 'none';\n",
       "\n",
       "        async function convertToInteractive(key) {\n",
       "          const element = document.querySelector('#df-5a47c905-1857-41fe-a0da-339c99c5ce6b');\n",
       "          const dataTable =\n",
       "            await google.colab.kernel.invokeFunction('convertToInteractive',\n",
       "                                                     [key], {});\n",
       "          if (!dataTable) return;\n",
       "\n",
       "          const docLinkHtml = 'Like what you see? Visit the ' +\n",
       "            '<a target=\"_blank\" href=https://colab.research.google.com/notebooks/data_table.ipynb>data table notebook</a>'\n",
       "            + ' to learn more about interactive tables.';\n",
       "          element.innerHTML = '';\n",
       "          dataTable['output_type'] = 'display_data';\n",
       "          await google.colab.output.renderOutput(dataTable, element);\n",
       "          const docLink = document.createElement('div');\n",
       "          docLink.innerHTML = docLinkHtml;\n",
       "          element.appendChild(docLink);\n",
       "        }\n",
       "      </script>\n",
       "    </div>\n",
       "  </div>\n",
       "  "
      ],
      "text/plain": [
       "                             title     artist  \\\n",
       "0      새삥 (Prod. ZICO) (Feat. 호미들)  지코 (ZICO)   \n",
       "1                       After LIKE  IVE (아이브)   \n",
       "2                         Hype boy   NewJeans   \n",
       "3                        Shut Down  BLACKPINK   \n",
       "4  Rush Hour (Feat. j-hope of BTS)      Crush   \n",
       "\n",
       "                                  album  \n",
       "0  스트릿 맨 파이터(SMF) Original Vol.3 (계급미션)  \n",
       "1                            After LIKE  \n",
       "2           NewJeans 1st EP 'New Jeans'  \n",
       "3                             BORN PINK  \n",
       "4                             Rush Hour  "
      ]
     },
     "execution_count": 69,
     "metadata": {},
     "output_type": "execute_result"
    }
   ],
   "source": [
    "soup = bs(res.text, 'html.parser')\n",
    "\n",
    "#### 여기서부터 핵심 ####\n",
    "# 크롤링의 핵심은 아래와 같다.\n",
    "# (1) 데이터를 어떻게 구성할 것인가?\n",
    "# (2) 어떤 태그로 접근할 것인가?\n",
    "\n",
    "# (1) 데이터를 어떻게 구성할 것인가?\n",
    "# 데이터를 어떻게 구성할 지 미리 계획을 짜는 것은 크롤링을 함에 있어서 가장 중요한 단계이다.\n",
    "# 데이터를 어떻게 구성할 지 계획 짜는 것은 내가 지금 보고있는 웹사이트에서 컬럼을 어떻게 구성할 것인지, 머릿속으로 엑셀 시트를 상상하는 것이다.\n",
    "# 예를 들면, 본 실습의 경우, 앨범 Title, Artist, 앨범명이 컬럼으로 들어갈 것이다.\n",
    "\n",
    "# 멜론에서 친절하게 Table형태로 보여주어서 우리는 데이터를 어떻게 구성할 지 쉽게 떠올릴 수 있지만, \n",
    "# 모든 웹사이트가 이렇게 친절하게 데이터 형태를 구성해주지는 않는다. 따라서 직접 상상을 통해 미리 계획을 짜두어야 한다.\n",
    "\n",
    "# (2) 어떤 태그로 접근할 것인가?\n",
    "# 가장 어려운 단계.\n",
    "# 태그를 찾기란 쉽지 않다. 너무 broad하지 않고, 그렇다고 또 너무 deep하지 않은 중간 부분의 태그를 찾아야 한다.\n",
    "# 가장 좋은 코드는 규칙성이 한 눈에 보이고 일반화가 가능한 코드이다. \n",
    "\n",
    "song_list = soup.select('tbody > tr')\n",
    "song_list[0].select('.wrap_song_info > div > span')[0].text.replace(\"\\n\", \"\")\n",
    "song_list[0].select('.wrap_song_info > div > span')[1].text.replace(\"\\n\", \"\")\n",
    "song_list[0].select('.wrap_song_info > div > a')[1].text.replace(\"\\n\", \"\")\n",
    "\n",
    "# 윗부분처럼 이것저것 태그를 하나하나 시도해보고, 너무 broad하지 않고, 너무 deep하지도 않은 중간선을 찾았다는 생각이 들 때\n",
    "# 코드를 일반화하여 for문을 반복해준다.\n",
    "title = [row.select('.wrap_song_info > div > span')[0].text.replace(\"\\n\", \"\") for row in song_list]\n",
    "artist = [row.select('.wrap_song_info > div > span')[1].text.replace(\"\\n\", \"\") for row in song_list]\n",
    "album = [row.select('.wrap_song_info > div > a')[1].text.replace(\"\\n\", \"\") for row in song_list]\n",
    "\n",
    "df = pd.DataFrame({\n",
    "    'title':title,\n",
    "    'artist':artist,\n",
    "    'album':album\n",
    "})\n",
    "\n",
    "df.head()"
   ]
  },
  {
   "cell_type": "code",
   "execution_count": 82,
   "metadata": {
    "colab": {
     "base_uri": "https://localhost:8080/",
     "height": 126
    },
    "executionInfo": {
     "elapsed": 1310,
     "status": "ok",
     "timestamp": 1665640220154,
     "user": {
      "displayName": "‍강경표[학생](경영대학 경영학과)",
      "userId": "14702189890012152731"
     },
     "user_tz": -540
    },
    "id": "KVa7_rAK37yV",
    "outputId": "5f31f70a-eac2-49f4-e9ef-48d9336bc3d3"
   },
   "outputs": [
    {
     "data": {
      "application/vnd.google.colaboratory.intrinsic+json": {
       "type": "string"
      },
      "text/plain": [
       "'{\"contsLike\":[{\"CONTSID\":35595136,\"LIKEYN\":\"N\",\"SUMMCNT\":101004},{\"CONTSID\":35546497,\"LIKEYN\":\"N\",\"SUMMCNT\":176554},{\"CONTSID\":35454426,\"LIKEYN\":\"N\",\"SUMMCNT\":144325},{\"CONTSID\":35640077,\"LIKEYN\":\"N\",\"SUMMCNT\":89305},{\"CONTSID\":35665282,\"LIKEYN\":\"N\",\"SUMMCNT\":58262},{\"CONTSID\":35454425,\"LIKEYN\":\"N\",\"SUMMCNT\":170850},{\"CONTSID\":35542908,\"LIKEYN\":\"N\",\"SUMMCNT\":139793},{\"CONTSID\":34847378,\"LIKEYN\":\"N\",\"SUMMCNT\":205850},{\"CONTSID\":35668899,\"LIKEYN\":\"N\",\"SUMMCNT\":61753},{\"CONTSID\":35643794,\"LIKEYN\":\"N\",\"SUMMCNT\":29608},{\"CONTSID\":34061322,\"LIKEYN\":\"N\",\"SUMMCNT\":177894},{\"CONTSID\":35685439,\"LIKEYN\":\"N\",\"SUMMCNT\":31307},{\"CONTSID\":35383397,\"LIKEYN\":\"N\",\"SUMMCNT\":116792},{\"CONTSID\":34908740,\"LIKEYN\":\"N\",\"SUMMCNT\":78415},{\"CONTSID\":35669445,\"LIKEYN\":\"N\",\"SUMMCNT\":35667},{\"CONTSID\":35485544,\"LIKEYN\":\"N\",\"SUMMCNT\":88899},{\"CONTSID\":35361345,\"LIKEYN\":\"N\",\"SUMMCNT\":107315},{\"CONTSID\":35008524,\"LIKEYN\":\"N\",\"SUMMCNT\":62129},{\"CONTSID\":35504734,\"LIKEYN\":\"N\",\"SUMMCNT\":97412},{\"CONTSID\":35595137,\"LIKEYN\":\"N\",\"SUMMCNT\":32502},{\"CONTSID\":35383398,\"LIKEYN\":\"N\",\"SUMMCNT\":116763},{\"CONTSID\":34657844,\"LIKEYN\":\"N\",\"SUMMCNT\":161304},{\"CONTSID\":35252996,\"LIKEYN\":\"N\",\"SUMMCNT\":45722},{\"CONTSID\":34754292,\"LIKEYN\":\"N\",\"SUMMCNT\":216644},{\"CONTSID\":34927767,\"LIKEYN\":\"N\",\"SUMMCNT\":183687},{\"CONTSID\":35008525,\"LIKEYN\":\"N\",\"SUMMCNT\":51239},{\"CONTSID\":32508053,\"LIKEYN\":\"N\",\"SUMMCNT\":160308},{\"CONTSID\":34787226,\"LIKEYN\":\"N\",\"SUMMCNT\":74521},{\"CONTSID\":34943312,\"LIKEYN\":\"N\",\"SUMMCNT\":125993},{\"CONTSID\":35008527,\"LIKEYN\":\"N\",\"SUMMCNT\":43640},{\"CONTSID\":35413033,\"LIKEYN\":\"N\",\"SUMMCNT\":71081},{\"CONTSID\":34997078,\"LIKEYN\":\"N\",\"SUMMCNT\":123148},{\"CONTSID\":34864406,\"LIKEYN\":\"N\",\"SUMMCNT\":120924},{\"CONTSID\":35008528,\"LIKEYN\":\"N\",\"SUMMCNT\":42074},{\"CONTSID\":34349913,\"LIKEYN\":\"N\",\"SUMMCNT\":161455},{\"CONTSID\":35008526,\"LIKEYN\":\"N\",\"SUMMCNT\":40985},{\"CONTSID\":34100776,\"LIKEYN\":\"N\",\"SUMMCNT\":74210},{\"CONTSID\":35009233,\"LIKEYN\":\"N\",\"SUMMCNT\":79269},{\"CONTSID\":35008531,\"LIKEYN\":\"N\",\"SUMMCNT\":41684},{\"CONTSID\":35008534,\"LIKEYN\":\"N\",\"SUMMCNT\":41182},{\"CONTSID\":34431086,\"LIKEYN\":\"N\",\"SUMMCNT\":146273},{\"CONTSID\":4446485,\"LIKEYN\":\"N\",\"SUMMCNT\":236359},{\"CONTSID\":35640751,\"LIKEYN\":\"N\",\"SUMMCNT\":46533},{\"CONTSID\":34819473,\"LIKEYN\":\"N\",\"SUMMCNT\":50818},{\"CONTSID\":34875621,\"LIKEYN\":\"N\",\"SUMMCNT\":119725},{\"CONTSID\":35008532,\"LIKEYN\":\"N\",\"SUMMCNT\":40126},{\"CONTSID\":33496587,\"LIKEYN\":\"N\",\"SUMMCNT\":153515},{\"CONTSID\":35333345,\"LIKEYN\":\"N\",\"SUMMCNT\":85821},{\"CONTSID\":35008529,\"LIKEYN\":\"N\",\"SUMMCNT\":39675},{\"CONTSID\":34930368,\"LIKEYN\":\"N\",\"SUMMCNT\":94213},{\"CONTSID\":35238221,\"LIKEYN\":\"N\",\"SUMMCNT\":73482},{\"CONTSID\":35008530,\"LIKEYN\":\"N\",\"SUMMCNT\":39375},{\"CONTSID\":35008533,\"LIKEYN\":\"N\",\"SUMMCNT\":39430},{\"CONTSID\":32872978,\"LIKEYN\":\"N\",\"SUMMCNT\":441454},{\"CONTSID\":35331586,\"LIKEYN\":\"N\",\"SUMMCNT\":91826},{\"CONTSID\":35484543,\"LIKEYN\":\"N\",\"SUMMCNT\":33095},{\"CONTSID\":34845949,\"LIKEYN\":\"N\",\"SUMMCNT\":284871},{\"CONTSID\":33658563,\"LIKEYN\":\"N\",\"SUMMCNT\":237741},{\"CONTSID\":35505810,\"LIKEYN\":\"N\",\"SUMMCNT\":45514},{\"CONTSID\":35526685,\"LIKEYN\":\"N\",\"SUMMCNT\":31018},{\"CONTSID\":30962526,\"LIKEYN\":\"N\",\"SUMMCNT\":405833},{\"CONTSID\":35391594,\"LIKEYN\":\"N\",\"SUMMCNT\":37592},{\"CONTSID\":33061995,\"LIKEYN\":\"N\",\"SUMMCNT\":205629},{\"CONTSID\":33480898,\"LIKEYN\":\"N\",\"SUMMCNT\":290437},{\"CONTSID\":33507137,\"LIKEYN\":\"N\",\"SUMMCNT\":278046},{\"CONTSID\":35238220,\"LIKEYN\":\"N\",\"SUMMCNT\":62809},{\"CONTSID\":34772475,\"LIKEYN\":\"N\",\"SUMMCNT\":141463},{\"CONTSID\":34101563,\"LIKEYN\":\"N\",\"SUMMCNT\":210241},{\"CONTSID\":35560680,\"LIKEYN\":\"N\",\"SUMMCNT\":35905},{\"CONTSID\":35643842,\"LIKEYN\":\"N\",\"SUMMCNT\":33093},{\"CONTSID\":34626109,\"LIKEYN\":\"N\",\"SUMMCNT\":128172},{\"CONTSID\":34481680,\"LIKEYN\":\"N\",\"SUMMCNT\":163142},{\"CONTSID\":35388184,\"LIKEYN\":\"N\",\"SUMMCNT\":28303},{\"CONTSID\":3414749,\"LIKEYN\":\"N\",\"SUMMCNT\":201833},{\"CONTSID\":35272060,\"LIKEYN\":\"N\",\"SUMMCNT\":115603},{\"CONTSID\":31666417,\"LIKEYN\":\"N\",\"SUMMCNT\":345179},{\"CONTSID\":30244931,\"LIKEYN\":\"N\",\"SUMMCNT\":551376},{\"CONTSID\":35177030,\"LIKEYN\":\"N\",\"SUMMCNT\":50286},{\"CONTSID\":35215215,\"LIKEYN\":\"N\",\"SUMMCNT\":40261},{\"CONTSID\":33487342,\"LIKEYN\":\"N\",\"SUMMCNT\":252696},{\"CONTSID\":34752700,\"LIKEYN\":\"N\",\"SUMMCNT\":124892},{\"CONTSID\":33666269,\"LIKEYN\":\"N\",\"SUMMCNT\":213460},{\"CONTSID\":33359309,\"LIKEYN\":\"N\",\"SUMMCNT\":140989},{\"CONTSID\":35667692,\"LIKEYN\":\"N\",\"SUMMCNT\":13615},{\"CONTSID\":34701627,\"LIKEYN\":\"N\",\"SUMMCNT\":84555},{\"CONTSID\":34754299,\"LIKEYN\":\"N\",\"SUMMCNT\":77456},{\"CONTSID\":34817660,\"LIKEYN\":\"N\",\"SUMMCNT\":76839},{\"CONTSID\":33978183,\"LIKEYN\":\"N\",\"SUMMCNT\":141070},{\"CONTSID\":33655994,\"LIKEYN\":\"N\",\"SUMMCNT\":186164},{\"CONTSID\":34538515,\"LIKEYN\":\"N\",\"SUMMCNT\":132714},{\"CONTSID\":35353251,\"LIKEYN\":\"N\",\"SUMMCNT\":37752},{\"CONTSID\":35640848,\"LIKEYN\":\"N\",\"SUMMCNT\":47202},{\"CONTSID\":35709043,\"LIKEYN\":\"N\",\"SUMMCNT\":4076},{\"CONTSID\":34256568,\"LIKEYN\":\"N\",\"SUMMCNT\":214356},{\"CONTSID\":33239419,\"LIKEYN\":\"N\",\"SUMMCNT\":326147},{\"CONTSID\":35609035,\"LIKEYN\":\"N\",\"SUMMCNT\":14003},{\"CONTSID\":35711701,\"LIKEYN\":\"N\",\"SUMMCNT\":9567},{\"CONTSID\":35690912,\"LIKEYN\":\"N\",\"SUMMCNT\":12519},{\"CONTSID\":32698101,\"LIKEYN\":\"N\",\"SUMMCNT\":196764},{\"CONTSID\":35694868,\"LIKEYN\":\"N\",\"SUMMCNT\":7555}],\"httpDomain\":\"http://www.melon.com\",\"httpsDomain\":\"https://www.melon.com\",\"staticDomain\":\"https://static.melon.co.kr\"}'"
      ]
     },
     "execution_count": 82,
     "metadata": {},
     "output_type": "execute_result"
    }
   ],
   "source": [
    "# 크롤링은 웹페이지에서 눈에 보이는 부분을 긁어올 수도 있지만...\n",
    "\n",
    "# Backend에서 Frontend로 데이터가 전송되는 중간 부분을 Rest API를 통해 긁어올 수도 있다. \n",
    "# 이 경우에는 눈에 보이지 않는 부분을 가져올 수 있을 뿐만 아니라,\n",
    "# 동적 웹페이지까지 가져올 수 있다.\n",
    "\n",
    "# 멜론 Top100의 좋아요 수를 html 태그를 사용해서 가져와보자. \n",
    "# 아마 우리 눈에 보이는 좋아요 수와는 다른 숫자가 긁힐 것이다. -> 페이지가 동적으로 구성되어있기 때문\n",
    "\n",
    "# 이 경우, Rest API를 활용해서 좋아요 수를 가져올 수 있다.\n",
    "# 개발자도구 -> Network탭 -> Fetch/XHR을 클릭해보자\n",
    "# (1) Response를 눌러서 우리가 받을 정보가 어떤 것인지 확인한다. (일일이 하나하나 확인해야 한다. 딕셔너리 형태로 생겼다.)\n",
    "# (2) 만약 찾았으면 Header 및 Payload를 눌러서 요청을 보낼 때 필요한 정보를 확인한다. (request url, parameter, user-agent 등등)\n",
    "\n",
    "\n",
    "tmp_url = 'https://www.melon.com/commonlike/getSongLike.json?contsIds=35595136%2C35546497%2C35454426%2C35640077%2C35665282%2C35454425%2C35542908%2C34847378%2C35668899%2C35643794%2C34061322%2C35685439%2C35383397%2C34908740%2C35669445%2C35485544%2C35361345%2C35008524%2C35504734%2C35595137%2C35383398%2C34657844%2C35252996%2C34754292%2C34927767%2C35008525%2C32508053%2C34787226%2C34943312%2C35008527%2C35413033%2C34997078%2C34864406%2C35008528%2C34349913%2C35008526%2C34100776%2C35009233%2C35008531%2C35008534%2C34431086%2C4446485%2C35640751%2C34819473%2C34875621%2C35008532%2C33496587%2C35333345%2C35008529%2C34930368%2C35238221%2C35008530%2C35008533%2C32872978%2C35331586%2C35484543%2C34845949%2C33658563%2C35505810%2C35526685%2C30962526%2C35391594%2C33061995%2C33480898%2C33507137%2C35238220%2C34772475%2C34101563%2C35560680%2C35643842%2C34626109%2C34481680%2C35388184%2C3414749%2C35272060%2C31666417%2C30244931%2C35177030%2C35215215%2C33487342%2C34752700%2C33666269%2C33359309%2C35667692%2C34701627%2C34754299%2C34817660%2C33978183%2C33655994%2C34538515%2C35353251%2C35640848%2C35709043%2C34256568%2C33239419%2C35609035%2C35711701%2C35690912%2C32698101%2C35694868'\n",
    "res2 = req.get(tmp_url, headers=header)\n",
    "res2.text"
   ]
  },
  {
   "cell_type": "code",
   "execution_count": 88,
   "metadata": {
    "colab": {
     "base_uri": "https://localhost:8080/"
    },
    "executionInfo": {
     "elapsed": 387,
     "status": "ok",
     "timestamp": 1665640692541,
     "user": {
      "displayName": "‍강경표[학생](경영대학 경영학과)",
      "userId": "14702189890012152731"
     },
     "user_tz": -540
    },
    "id": "S2gA_-3u51RT",
    "outputId": "a4d7587b-8f19-4ada-c94c-b06a50387e08"
   },
   "outputs": [
    {
     "data": {
      "text/plain": [
       "[101004,\n",
       " 176554,\n",
       " 144325,\n",
       " 89305,\n",
       " 58262,\n",
       " 170850,\n",
       " 139793,\n",
       " 205850,\n",
       " 61753,\n",
       " 29608,\n",
       " 177894,\n",
       " 31307,\n",
       " 116792,\n",
       " 78415,\n",
       " 35667,\n",
       " 88899,\n",
       " 107315,\n",
       " 62129,\n",
       " 97412,\n",
       " 32502,\n",
       " 116763,\n",
       " 161304,\n",
       " 45722,\n",
       " 216644,\n",
       " 183687,\n",
       " 51239,\n",
       " 160308,\n",
       " 74521,\n",
       " 125993,\n",
       " 43640,\n",
       " 71081,\n",
       " 123148,\n",
       " 120924,\n",
       " 42074,\n",
       " 161455,\n",
       " 40985,\n",
       " 74210,\n",
       " 79269,\n",
       " 41684,\n",
       " 41182,\n",
       " 146273,\n",
       " 236359,\n",
       " 46533,\n",
       " 50818,\n",
       " 119725,\n",
       " 40126,\n",
       " 153515,\n",
       " 85821,\n",
       " 39675,\n",
       " 94213,\n",
       " 73482,\n",
       " 39375,\n",
       " 39430,\n",
       " 441454,\n",
       " 91826,\n",
       " 33095,\n",
       " 284871,\n",
       " 237741,\n",
       " 45514,\n",
       " 31018,\n",
       " 405833,\n",
       " 37592,\n",
       " 205629,\n",
       " 290437,\n",
       " 278046,\n",
       " 62809,\n",
       " 141463,\n",
       " 210241,\n",
       " 35905,\n",
       " 33093,\n",
       " 128172,\n",
       " 163142,\n",
       " 28303,\n",
       " 201833,\n",
       " 115603,\n",
       " 345179,\n",
       " 551376,\n",
       " 50286,\n",
       " 40261,\n",
       " 252696,\n",
       " 124892,\n",
       " 213460,\n",
       " 140989,\n",
       " 13615,\n",
       " 84555,\n",
       " 77456,\n",
       " 76839,\n",
       " 141070,\n",
       " 186164,\n",
       " 132714,\n",
       " 37752,\n",
       " 47202,\n",
       " 4076,\n",
       " 214356,\n",
       " 326147,\n",
       " 14003,\n",
       " 9567,\n",
       " 12519,\n",
       " 196764,\n",
       " 7555]"
      ]
     },
     "execution_count": 88,
     "metadata": {},
     "output_type": "execute_result"
    }
   ],
   "source": [
    "# Rest API를 통해 우리가 가져온 데이터는 딕셔너리가 아니라 JSON이라고 부른다.\n",
    "# 딕셔너리는 파이썬에서 사용되는 자료구조.\n",
    "# JSON은 서버 - 클라이언트 간 데이터 송수신 규격\n",
    "# 하지만, 형태는 유사하다.\n",
    "\n",
    "# 이전 실습에서 우리는 html 태그를 찾기 전, text를 html로 파싱해야 한다고 배웠다.\n",
    "# 사실 엄밀히 따지면, html문서를 파이썬에서 읽을 수 있도록 파싱하는 것이다.\n",
    "\n",
    "# 마찬가지로, Rest API로 받은 json 데이터를 파이썬에서 읽을 수 있도록 해야 한다.\n",
    "# json.loads() 명령어는 json 데이터를 파이썬에서 읽을 수 있게 해준다.\n",
    "# 파싱만 해주면 그 다음 단계는 매우 수월하다는 점에서 html 태그로 찾는 크롤링 방식보다 훨씬 간편하다고 할 수 있다.\n",
    "import json\n",
    "import datetime\n",
    "\n",
    "\n",
    "j = json.loads(res2.text)\n",
    "likes = [i['SUMMCNT'] for i in j['contsLike']]\n",
    "likes"
   ]
  }
 ],
 "metadata": {
  "colab": {
   "authorship_tag": "ABX9TyMcOd9IjbVapC9rkPr+h/s/",
   "collapsed_sections": [],
   "provenance": []
  },
  "kernelspec": {
   "display_name": "Python 3",
   "language": "python",
   "name": "python3"
  },
  "language_info": {
   "codemirror_mode": {
    "name": "ipython",
    "version": 3
   },
   "file_extension": ".py",
   "mimetype": "text/x-python",
   "name": "python",
   "nbconvert_exporter": "python",
   "pygments_lexer": "ipython3",
   "version": "3.8.8"
  }
 },
 "nbformat": 4,
 "nbformat_minor": 1
}
