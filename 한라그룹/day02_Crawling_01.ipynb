{
 "cells": [
  {
   "cell_type": "markdown",
   "metadata": {},
   "source": [
    "# 실습1: Apache 재단에서 관리하는 Service 목록 긁어오기\n",
    "### 1. By Category 하위에 있는 목록 긁기\n",
    "### 2. 각각의 목록에 해당하는 URL주소 긁기\n",
    "#### 참고: https://apache.org/"
   ]
  },
  {
   "cell_type": "markdown",
   "metadata": {},
   "source": [
    "### 필요한 라이브러리들 import\n",
    "\n",
    "- 단순히 기계적으로 import하는 것이 아니라, 내가 무엇을 할 것인지 명확하게 할 것.\n",
    "<br><br>\n",
    "- 예를들어, Rest API가 아니라 html 태그를 통해 크롤링을 한다면\n",
    "- 1. 웹페이지에 요청을 보낸다. -> requests 라이브러리가 필요하겠군.\n",
    "- 2. html 태그를 통해 크롤링을 한다. -> text를 html로 파싱을 해야겠네. -> Beutifulsoup 라이브러리가 필요하겠군.\n",
    "- 3. 크롤링을 완료하면 하나의 데이터프레임으로 만든 다음 csv 파일로 저장해야지. -> pandas 라이브러리가 필요하겠군."
   ]
  },
  {
   "cell_type": "code",
   "execution_count": 1,
   "metadata": {
    "id": "bhki_pnk7HHK"
   },
   "outputs": [],
   "source": [
    "import requests\n",
    "from bs4 import BeautifulSoup as bs\n",
    "import pandas as pd"
   ]
  },
  {
   "cell_type": "code",
   "execution_count": 2,
   "metadata": {
    "colab": {
     "base_uri": "https://localhost:8080/"
    },
    "executionInfo": {
     "elapsed": 302,
     "status": "ok",
     "timestamp": 1665624159021,
     "user": {
      "displayName": "‍강경표[학생](경영대학 경영학과)",
      "userId": "14702189890012152731"
     },
     "user_tz": -540
    },
    "id": "4FEiwE7-4_Vn",
    "outputId": "793426bf-118d-495a-85f2-80c39e708a5b"
   },
   "outputs": [
    {
     "data": {
      "text/plain": [
       "<Response [200]>"
      ]
     },
     "execution_count": 2,
     "metadata": {},
     "output_type": "execute_result"
    }
   ],
   "source": [
    "# 데이터를 긁어올 타겟 웹사이트 url 주소\n",
    "target_url = 'https://www.apache.org/'\n",
    "\n",
    "# target_url이 가지고 있는 데이터를 get 하겠다.\n",
    "res = requests.get(target_url)\n",
    "\n",
    "# 200이 출력되면 성공\n",
    "res"
   ]
  },
  {
   "cell_type": "code",
   "execution_count": 3,
   "metadata": {
    "executionInfo": {
     "elapsed": 343,
     "status": "ok",
     "timestamp": 1665626802873,
     "user": {
      "displayName": "‍강경표[학생](경영대학 경영학과)",
      "userId": "14702189890012152731"
     },
     "user_tz": -540
    },
    "id": "PMfrHdZE68w5"
   },
   "outputs": [],
   "source": [
    "# target_url에서 가져온 데이터는 사실 text에 불과하다.\n",
    "# 따라서 html로 파싱해주어야 한다.\n",
    "# 파싱? --- 데이터의 형태를 변환해주는 것이라고 이해하면 편하다.\n",
    "# (text를 html로 변환한다.)\n",
    "soup = bs(res.text, 'html.parser')\n",
    "\n",
    "\n",
    "#### 여기서부터 본격적으로 태그를 통해 크롤링을 하는 과정 ####\n",
    "\n",
    "# 1. 개발자도구 창 열기 (f12)\n",
    "# 2. 창 상단에 Elements 클릭\n",
    "# 3. Elements 왼쪽에 마우스모양 클릭 -> 마우스 모양을 활성화시키고 페이지 내에서 원하는 정보의 위치를 클릭하면 해당 소스코드를 볼 수 있다.\n",
    "# 4. id는 #으로 접근, class는 .으로 접근\n",
    "# 5. > 꺽쇠를 사용하면 자식 태그로 들어갈 수 있다.\n",
    "# 6. 아래 예시 코드를 확인해보자\n",
    "\n",
    "category_list = soup.select('#by_category > ul > li > a')\n",
    "\n",
    "# Elements 안에 요소를 우클릭 -> Copy -> Copy selecter 클릭하면 아래와같이 자동으로 태그 level을 형성해주기도 함.\n",
    "# category_list = soup.select('#by_category > ul:nth-of-type(2) > li > a')\n",
    "\n",
    "\n",
    "category_list\n",
    "\n",
    "\n",
    "categories = []\n",
    "urls = []\n",
    "\n",
    "for category in category_list:\n",
    "    categories.append(category.text)\n",
    "\n",
    "for category_url in category_list:\n",
    "    \n",
    "    # html 태그 내의 속성을 가져오고 싶을 때에는 .select가 아니라 .attrs['속성이름']을 사용한다.\n",
    "    urls.append(category_url.attrs['href'])\n",
    "\n",
    "tmp_dict = {\n",
    "    'categories':categories,\n",
    "    'urls':urls\n",
    "}\n",
    "\n",
    "df = pd.DataFrame(tmp_dict)"
   ]
  },
  {
   "cell_type": "code",
   "execution_count": 2,
   "metadata": {
    "colab": {
     "base_uri": "https://localhost:8080/"
    },
    "executionInfo": {
     "elapsed": 24810,
     "status": "ok",
     "timestamp": 1665627016536,
     "user": {
      "displayName": "‍강경표[학생](경영대학 경영학과)",
      "userId": "14702189890012152731"
     },
     "user_tz": -540
    },
    "id": "2PEYTYEPGDuy",
    "outputId": "301a3022-0518-425c-8337-4164577f4ea1"
   },
   "outputs": [],
   "source": [
    "import os\n",
    "from google.colab import drive\n",
    "\n",
    "# 크롤링해서 모은 데이터를 csv파일로 저장한 후 drive에 업로드하는 방법\n",
    "# 먼저, drive의 경로를 mount해줘야 한다.\n",
    "# 내가 어디에 저장을 할 것인지 컴퓨터에게 알려주는 작업이다.\n",
    "drive.mount('/content/drive')"
   ]
  },
  {
   "cell_type": "code",
   "execution_count": 44,
   "metadata": {
    "executionInfo": {
     "elapsed": 333,
     "status": "ok",
     "timestamp": 1665627150418,
     "user": {
      "displayName": "‍강경표[학생](경영대학 경영학과)",
      "userId": "14702189890012152731"
     },
     "user_tz": -540
    },
    "id": "QqT7Zs5N7Faf"
   },
   "outputs": [],
   "source": [
    "df.to_csv('./drive/MyDrive/test/test.csv', index=False)"
   ]
  }
 ],
 "metadata": {
  "colab": {
   "authorship_tag": "ABX9TyNYvb+2Tf+9FysRaDBgnARn",
   "collapsed_sections": [],
   "provenance": []
  },
  "kernelspec": {
   "display_name": "Python 3",
   "language": "python",
   "name": "python3"
  },
  "language_info": {
   "codemirror_mode": {
    "name": "ipython",
    "version": 3
   },
   "file_extension": ".py",
   "mimetype": "text/x-python",
   "name": "python",
   "nbconvert_exporter": "python",
   "pygments_lexer": "ipython3",
   "version": "3.8.8"
  }
 },
 "nbformat": 4,
 "nbformat_minor": 1
}
