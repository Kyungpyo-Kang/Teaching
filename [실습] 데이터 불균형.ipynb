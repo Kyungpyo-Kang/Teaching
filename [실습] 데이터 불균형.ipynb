{
 "cells": [
  {
   "cell_type": "code",
   "execution_count": null,
   "id": "c10bb52d",
   "metadata": {},
   "outputs": [],
   "source": [
    "x = wine['quality'].value_counts().index\n",
    "y = wine['quality'].value_counts().values"
   ]
  },
  {
   "cell_type": "code",
   "execution_count": null,
   "id": "fd42771a",
   "metadata": {},
   "outputs": [],
   "source": [
    "import pandas as pd\n",
    "import numpy as np\n",
    "import matplotlib.pyplot as plt\n",
    "from sklearn.model_selection import train_test_split\n",
    "from sklearn.ensemble import RandomForestClassifier\n",
    "\n",
    "from elice_utils import EliceUtils\n",
    "elice_utils = EliceUtils()\n",
    "\n",
    "# 데이터 주소\n",
    "DATA_PATH = 'data/wine.csv'\n",
    "\n",
    "# pandas를 이용하여 데이터를 DataFrame의 형태로 불러오는 load_csv 함수를 설정합니다.\n",
    "def load_csv(path):\n",
    "    data_frame = pd.read_csv(path)\n",
    "    return data_frame\n",
    "\n",
    "# load_csv 함수를 사용하여 데이터를 불러와 저장합니다.\n",
    "train = load_csv(DATA_PATH)\n",
    "\n",
    "# 데이터 전처리\n",
    "def transform_type(text:str):\n",
    "    if text == 'white':\n",
    "        return 0\n",
    "    else :\n",
    "        return 1\n",
    "train['type'] = train['type'].map(transform_type)\n",
    "\n",
    "# 학습 데이터 선언\n",
    "features = train.columns.drop('quality')\n",
    "X = train[features]\n",
    "y = train['quality']\n",
    "\n",
    "# 검증 데이터 분리\n",
    "random_state=42\n",
    "X_train, X_valid, y_train, y_valid = train_test_split(X,y, test_size=0.2, shuffle=True, random_state=random_state)\n",
    "\n",
    "# 모델 선언 및 학습\n",
    "model = RandomForestClassifier()\n",
    "model.fit(X_train, y_train)\n",
    "y_pred = model.predict(X_valid)\n",
    "\n",
    "# 예측값과 실제값을 데이터프레임으로 생성\n",
    "validation = pd.DataFrame({'y_valid':y_valid, 'y_pred':y_pred})\n",
    "validation_count = pd.DataFrame(validation['y_valid'].value_counts().sort_index())\n",
    "validation_count.loc[validation['y_pred'].value_counts().sort_index().index, 'y_pred'] = validation['y_pred'].value_counts().sort_index()\n",
    "validation_count = validation_count.fillna(0)\n",
    "\n",
    "# 예측값과 실제값을 막대그래프로 그리기1\n",
    "# 예측값 시각화\n",
    "\n",
    "x = validation_count.index\n",
    "y = validation_count['y_valid']\n",
    "\n",
    "plt.bar(x,y)\n",
    "plt.show()\n",
    "\n",
    "plt.savefig(\"plot1.png\")\n",
    "elice_utils.send_image(\"plot1.png\")\n",
    "\n",
    "# 예측값과 실제값을 막대그래프로 그리기2\n",
    "# 실제값 시각화\n",
    "x = validation_count.index\n",
    "y = validation_count['y_pred']\n",
    "\n",
    "plt.bar(x,y)\n",
    "plt.show()\n",
    "\n",
    "plt.savefig(\"plot2.png\")\n",
    "elice_utils.send_image(\"plot2.png\")"
   ]
  },
  {
   "cell_type": "code",
   "execution_count": null,
   "id": "84b34f16",
   "metadata": {},
   "outputs": [],
   "source": [
    "# 데이터 증량 시각화\n",
    "less_data = wine[wine['quality'] == 7]\n",
    "wine = pd.concat([wine, less_data], axis=0)"
   ]
  },
  {
   "cell_type": "code",
   "execution_count": null,
   "id": "8a01d6b6",
   "metadata": {},
   "outputs": [],
   "source": [
    "# 데이터 증량\n",
    "sampler = RandomUnderSampler(random_state=42)\n",
    "features = wine.columns.drop('quality')\n",
    "X = wine[features]\n",
    "y = wine['quality']\n",
    "X, y = sampler.fit_resample(X,y)\n",
    "y.value_counts()"
   ]
  },
  {
   "cell_type": "code",
   "execution_count": null,
   "id": "ae53a2b2",
   "metadata": {},
   "outputs": [],
   "source": [
    "# 데이터 증량\n",
    "sampler = TomekLinks()\n",
    "features = wine.columns.drop('quality')\n",
    "X = wine[features]\n",
    "y = wine['quality']\n",
    "X, y = sampler.fit_resample(X,y)"
   ]
  },
  {
   "cell_type": "code",
   "execution_count": null,
   "id": "7766754b",
   "metadata": {},
   "outputs": [],
   "source": [
    "# 데이터 증량\n",
    "sampler = SMOTE(k_neighbors = 4)\n",
    "features = wine.columns.drop('quality')\n",
    "X = wine[features]\n",
    "y = wine['quality']\n",
    "X, y = sampler.fit_resample(X,y)"
   ]
  }
 ],
 "metadata": {
  "kernelspec": {
   "display_name": "Python 3",
   "language": "python",
   "name": "python3"
  },
  "language_info": {
   "codemirror_mode": {
    "name": "ipython",
    "version": 3
   },
   "file_extension": ".py",
   "mimetype": "text/x-python",
   "name": "python",
   "nbconvert_exporter": "python",
   "pygments_lexer": "ipython3",
   "version": "3.8.8"
  }
 },
 "nbformat": 4,
 "nbformat_minor": 5
}
