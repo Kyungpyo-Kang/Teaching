{
 "cells": [
  {
   "cell_type": "markdown",
   "id": "6dae56d0",
   "metadata": {},
   "source": [
    "# [이론6] 자연어처리 분야 도전과제들 (NLP Challenges)"
   ]
  },
  {
   "cell_type": "markdown",
   "id": "9158ecb7",
   "metadata": {},
   "source": [
    "---"
   ]
  },
  {
   "cell_type": "markdown",
   "id": "816f98cc",
   "metadata": {},
   "source": [
    "## 학습 목표\n",
    "- 자연어처리 분야 도전 과제들에 대해 살펴봅시다."
   ]
  },
  {
   "cell_type": "markdown",
   "id": "5c626519",
   "metadata": {},
   "source": [
    "---"
   ]
  },
  {
   "cell_type": "markdown",
   "id": "7591df04",
   "metadata": {},
   "source": [
    "## 목차\n",
    "\n",
    "### [이론6] 자연어처리 분야 도전과제들 (NLP Challenges)\n",
    "1. 소개\n",
    "2. SQuAD\n",
    "3. FEVER\n",
    "4. GLUE"
   ]
  },
  {
   "cell_type": "markdown",
   "id": "efe66653",
   "metadata": {},
   "source": [
    "---"
   ]
  },
  {
   "cell_type": "markdown",
   "id": "a7a7ca10",
   "metadata": {},
   "source": [
    "## [이론6] 자연어처리 분야 도전과제들 (NLP Challenges)"
   ]
  },
  {
   "cell_type": "markdown",
   "id": "4072a45f",
   "metadata": {},
   "source": [
    "### 1. 소개"
   ]
  },
  {
   "cell_type": "markdown",
   "id": "23f46af4",
   "metadata": {},
   "source": [
    "이번 시간에는 앞서 배운 자연어처리 모델, 알고리즘을 사용할 여러 도전 과제/데이터들을 소개하겠습니다.\n",
    "\n",
    "NLP에서는 아직 풀리지 않은 문제들이 많습니다.\n",
    "\n",
    "대표적으로 Turing test가 있습니다.\n",
    "\n",
    "Alan Turing이 제안한 해당 과제는 원래 기계가 생각한다는 것이 무엇인지를 정의하기 위해 제안된 것입니다."
   ]
  },
  {
   "cell_type": "markdown",
   "id": "88a2dae6",
   "metadata": {},
   "source": [
    "<img src=\"img/Turing_test_diagram.png\" width=\"50%\" height=\"50%\" title=\"Turing_test_diagram\" alt=\"Turing_test_diagram\"></img>\n",
    "\n",
    "출처: https://en.wikipedia.org/wiki/Turing_test"
   ]
  },
  {
   "cell_type": "markdown",
   "id": "0745c809",
   "metadata": {},
   "source": [
    "컴퓨터인 A와 사람 B는 서로 대화를 진행합니다.\n",
    "\n",
    "이런 대화를 다른 사람인 C가 중간자 역할을 하여 둘 사이의 대화를 서로 전달합니다.\n",
    "\n",
    "컴퓨터나 사람 모두 메시지를 적어 제출하고 C는 그것을 보고 상대방에게 전달하는 것이지요.\n",
    "\n",
    "그러면서 C는 어느 쪽이 사람인지 컴퓨터인지 판단합니다.\n",
    "\n",
    "이 때 C가 제대로 된 판단을 내리기 어렵게 된다면 컴퓨터 A는 지능을 가졌다고 주장할 수 있다는 것입니다.\n",
    "\n",
    "이것이 Turning Test입니다."
   ]
  },
  {
   "cell_type": "markdown",
   "id": "dd0e639e",
   "metadata": {},
   "source": [
    "1950년대에 제안된 이 실험은 현재 많은 NLP 연구자들이 풀고자 하는 도전 과제입니다.\n",
    "\n",
    "하지만 아직도 완벽하게 정복하지 않았다는 것은 이 글을 읽는 여러분들이 쓰는 대화 모델들(Google Assistant, Apple Siri, Naver Clova 등)을 사용하셨을 때 아실 수 있습니다."
   ]
  },
  {
   "cell_type": "markdown",
   "id": "e8c724e3",
   "metadata": {},
   "source": [
    "NLP 분야에는 이러한 여러 도전 과제들이 많습니다.\n",
    "\n",
    "이번 시간에는 이런 도전 과제들 중 유명한 것 세 개를 소개하도록 하겠습니다.\n",
    "\n",
    "어떤 과제들이 있는지 그리고 어떻게 풀 수 있을지를 한 번 고민해보시는 것을 추천 드립니다."
   ]
  },
  {
   "cell_type": "markdown",
   "id": "29518e9c",
   "metadata": {},
   "source": [
    " "
   ]
  },
  {
   "cell_type": "markdown",
   "id": "c20b4746",
   "metadata": {},
   "source": [
    " "
   ]
  },
  {
   "cell_type": "markdown",
   "id": "503a5f0f",
   "metadata": {},
   "source": [
    "### 2. SQuAD"
   ]
  },
  {
   "cell_type": "markdown",
   "id": "c01c8a74",
   "metadata": {},
   "source": [
    "처음으로 소개시켜드릴 도전 과제는 Question and Answering(Q&A) 분야에서 쓰이는 데이터인 SQuAD(The Stanford Question Answering Dataset)입니다."
   ]
  },
  {
   "cell_type": "markdown",
   "id": "0c45c574",
   "metadata": {},
   "source": [
    "<img src=\"img/SquAD1.jpg\" width=\"50%\" height=\"50%\" title=\"SquAD1\" alt=\"SquAD1\"></img>\n",
    "\n",
    "출처: SQuAD 논문"
   ]
  },
  {
   "cell_type": "markdown",
   "id": "c22b57eb",
   "metadata": {},
   "source": [
    "Q&A란 주어진 지문을 읽고 질문에 대한 올바른 답을 하는 시스템을 뜻합니다.\n",
    "\n",
    "아마 여러분들은 이것이 매우 익숙하실 것입니다.\n",
    "\n",
    "대학수학능력시험과 같은 시험에서 질문에 적합한 답을 지문에서 찾아 답하는 문제와 유사하기 때문입니다.\n",
    "\n",
    "지문을 읽고 이해하여 질문에 답을 하기에 'Machine Reading Comprehension'이라고도 불립니다.\n",
    "\n",
    "SQuAD는 이처럼 지문, 질문 그리고 답을 위키피디아와 사람들을 통해 만든 데이터입니다.\n",
    "\n",
    "홈페이지: https://rajpurkar.github.io/SQuAD-explorer/"
   ]
  },
  {
   "cell_type": "markdown",
   "id": "75f09f16",
   "metadata": {},
   "source": [
    "질문에 대한 답이 지문에 있기에 SQuAD는 답을 단어로 가지지 않고 지문 속 답의 위치로 가지고 있습니다.\n",
    "\n",
    "이러한 영역을 span이라고 불립니다.\n",
    "\n",
    "위의 그림에서 첫 번째 질문에 대한 답이 gravity이지만 그 단어가 지문 내 어디에 있는지를 SQuAD는 가지고 있습니다.\n",
    "\n",
    "즉, SQuAD를 푼다는 것은 주어진 지문을 읽고 질문에 맞는 답을 지문 속 위치를 찾아내야하는 것과 같습니다."
   ]
  },
  {
   "cell_type": "markdown",
   "id": "dda18ae1",
   "metadata": {},
   "source": [
    "<img src=\"img/SQuAD2.jpg\" width=\"50%\" height=\"50%\" title=\"SQuAD2\" alt=\"SQuAD2\"></img>\n",
    "\n",
    "출처: SQuAD 논문"
   ]
  },
  {
   "cell_type": "markdown",
   "id": "1e940fdd",
   "metadata": {},
   "source": [
    "SQuAD 1.1 버전이 나온 후에 많은 사람들이 도전하였고 사람이 풀어낸 실력보다 더 높은 AI 모델들이 나왔습니다.\n",
    "\n",
    "그러면서 좀 더 어려운 문제들을 요구하게 되었고 다음으로 나온 것이 SQuAD 2.0입니다.\n",
    "\n",
    "새로운 버전에서의 가장 큰 차이점은 지문에 답이 없는 경우입니다.\n",
    "\n",
    "위 그림에서 주어진 지문에 질문이 있지만 해당 질문은 지문에서 찾아 답을 할 수 없습니다. 다만 그럴싸해보이는 답이 존재하고 있죠.\n",
    "\n",
    "이처럼 문제에 대한 답이 좀 더 다양해졌고 그만큼 문제가 어려워졌습니다."
   ]
  },
  {
   "cell_type": "markdown",
   "id": "55d18bb3",
   "metadata": {},
   "source": [
    "<img src=\"img/SQuAD_Result.jpg\" width=\"50%\" height=\"50%\" title=\"SQuAD_Result\" alt=\"SQuAD_Result\"></img>\n",
    "\n",
    "출처: https://rajpurkar.github.io/SQuAD-explorer/"
   ]
  },
  {
   "cell_type": "markdown",
   "id": "f604b943",
   "metadata": {},
   "source": [
    "그럼에도 여러 사람들은 도전하였고 현재 사람이 풀어내는 실력보다 더 우수한 AI 모델들이 나왔습니다.\n",
    "\n",
    "이처럼 인공지능 자연어처리 모델의 발전이 상당히 빠르고 높다는 것을 알 수 있습니다."
   ]
  },
  {
   "cell_type": "markdown",
   "id": "e66a8ff2",
   "metadata": {},
   "source": [
    "이미 이렇게 높은 성능을 내는 모델이 있지만 Q&A 분야가 완전히 정복된 것은 아닙니다.\n",
    "\n",
    "SQuAD는 Q&A 분야에서 기본적인 문제인 것이고 이보다 더 복잡한 문제/데이터도 많습니다.\n",
    "\n",
    "여러분들에게는 그러한 도전에 시작점이 될 수 있는 도전과제를 소개시켜드립니다.\n",
    "\n",
    "관심있으신 분들은 좀 더 어려운 도전에 도전하시리라 믿습니다."
   ]
  },
  {
   "cell_type": "markdown",
   "id": "a784f056",
   "metadata": {},
   "source": [
    " "
   ]
  },
  {
   "cell_type": "markdown",
   "id": "bf40cd4a",
   "metadata": {},
   "source": [
    " "
   ]
  },
  {
   "cell_type": "markdown",
   "id": "3837e9cf",
   "metadata": {},
   "source": [
    "### 3. FEVER"
   ]
  },
  {
   "cell_type": "markdown",
   "id": "51d7a4ac",
   "metadata": {},
   "source": [
    "다음으로 소개해드리는 도전과제는 FEVER(Fact Extraction and Verification)입니다.\n",
    "\n",
    "이번 과제는 앞서 살펴본 SQuAD와 유사하게 주어진 텍스트로부터 질문에 대한 답을 찾습니다.\n",
    "\n",
    "하지만 차이점은 주어진 텍스트는 지문이 아니라 위키피디아 문서들이라는 점과 질문은 주어진 문장의 참/거짓을 판별하는 것입니다."
   ]
  },
  {
   "cell_type": "markdown",
   "id": "60d13160",
   "metadata": {},
   "source": [
    "주어진 문장이 참인지 거짓인지 판별하는 것은 상당히 중요한 문제입니다.\n",
    "\n",
    "가장 대표적인 활용 분야로 가짜 뉴스 판별입니다.\n",
    "\n",
    "기사 혹은 온라인 소셜 네트워크에서 나오는 글이 가짜인 경우 그 정보가 퍼짐으로써 나타나는 파급력은 상당합니다.\n",
    "\n",
    "그렇기에 글의 참/거짓 판별은 상당히 중요합니다."
   ]
  },
  {
   "cell_type": "markdown",
   "id": "7f18fc40",
   "metadata": {},
   "source": [
    "참/거짓 여부 판별에 있어 중요한 것은 관련 문서를 찾는 것입니다.\n",
    "\n",
    "해당 문장의 참/거짓 여부를 판별한 증거를 찾는다고 볼 수 있죠.\n",
    "\n",
    "우리는 대체로 사실이 적혀있다고 가정하는 백과사전, 논문 등을 참고 문서 데이터로 삼은 후 주어진 문장과 관련 있는 문서를 찾아 이를 비교하여 참/거짓을 판별합니다."
   ]
  },
  {
   "cell_type": "markdown",
   "id": "7c5554c6",
   "metadata": {},
   "source": [
    "<img src=\"img/FEVER1.jpg\" width=\"50%\" height=\"50%\" title=\"FEVER1\" alt=\"FEVER1\"></img>\n",
    "\n",
    "<img src=\"img/FEVER2.jpg\" width=\"50%\" height=\"50%\" title=\"FEVER2\" alt=\"FEVER2\"></img>\n",
    "\n",
    "출처: FEVER 논문"
   ]
  },
  {
   "cell_type": "markdown",
   "id": "059a2889",
   "metadata": {},
   "source": [
    "FEVER는 위키피디아를 참고 문서로 삼습니다.\n",
    "\n",
    "이를 통해 주어진 문장(Claim)에 대해 참/거짓 여부를 판별해야하빈다.\n",
    "\n",
    "레이블은 다음과 같습니다.\n",
    "\n",
    "- Supported: 참\n",
    "- Refuted: 거짓\n",
    "- NonEnoghInfo: 정보 부족\n",
    "\n",
    "홈페이지: https://fever.ai/"
   ]
  },
  {
   "cell_type": "markdown",
   "id": "3d555e90",
   "metadata": {},
   "source": [
    "해당 데이터를 만드는 사람들은 Shared task를 통해 팀들 간에 경쟁을 하게 합니다.\n",
    "\n",
    "그래서 두 번째 shared task (FEVER 2.0)에서는 기존의 참/거짓 여부 판별에 추가로 다른 팀을 공격할 수 있도록 adversarial attack을 만드는 것까지 추가하였습니다.\n",
    "\n",
    "홈페이지: https://fever.ai/2019/task.html\n",
    "\n",
    "여러분도 해당 데이터를 이용하여 참가할 수 있기에 한 번 도전해보시는 것을 추천합니다."
   ]
  },
  {
   "cell_type": "markdown",
   "id": "2114de02",
   "metadata": {},
   "source": [
    " "
   ]
  },
  {
   "cell_type": "markdown",
   "id": "a0178aac",
   "metadata": {},
   "source": [
    "### 4. GLUE"
   ]
  },
  {
   "cell_type": "markdown",
   "id": "3b35fa23",
   "metadata": {},
   "source": [
    "다음으로 소개시켜드릴 도전과제는 General Language Understanding Evaluation(GLUE)입니다.\n",
    "\n",
    "해당 데이터는 Natural Language Understanding(NLU)이라는 기계가 자연어를 이해하는 작업을 수행할 수 있는 데이터 셋을 뜻합니다.\n",
    "\n",
    "해당 데이터에는 앞서 소개드린 Question Answering을 비롯하여 Sentiment Anlaysis, Textual Entailment 등이 포함된 데이터입니다.\n",
    "\n",
    "홈페이지: https://gluebenchmark.com"
   ]
  },
  {
   "cell_type": "markdown",
   "id": "64bed740",
   "metadata": {},
   "source": [
    "<img src=\"img/NLP.jpg\" width=\"50%\" height=\"50%\" title=\"NLP\" alt=\"NLP\"></img>"
   ]
  },
  {
   "cell_type": "markdown",
   "id": "8664c125",
   "metadata": {},
   "source": [
    "이전 시간에 NLP에 대한 전반적인 도식으로 위의 그림을 소개하였습니다.\n",
    "\n",
    "이 중 Anlaysis에 해당하는 부분의 작업이라고 보시면 되겠습니다."
   ]
  },
  {
   "cell_type": "markdown",
   "id": "06c09c80",
   "metadata": {},
   "source": [
    "GLUE에 있는 과제들은 다음과 같습니다.\n",
    "\n",
    "- The Corpus of Linguistic Acceptability\n",
    "- The Stanford Sentiment Treebank\n",
    "- Microsoft Research Paraphrase Corpus\n",
    "- Semantic Textual Similarity Benchmark\n",
    "- Quora Question Pairs\n",
    "- MultiNLI Matched\n",
    "- MultiNLI Mismatched\n",
    "- Question NLI\n",
    "- Recognizing Textual Entailment\n",
    "- Winograd NLI\n",
    "- Diagnostics Main\n",
    "\n",
    "https://gluebenchmark.com/tasks"
   ]
  },
  {
   "cell_type": "markdown",
   "id": "e2a9dd4f",
   "metadata": {},
   "source": [
    "모두 다 NLU 작업을 함에 있어 상당히 중요한 데이터입니다.\n",
    "\n",
    "그렇기에 여러분들이 NLU 나아가서 NLP 실력을 가지고 있음을 알리고 싶다면 위의 과제에 도전해보시고 본인의 이름을 Leaderboard에 올려보시는 것을 권장합니다."
   ]
  },
  {
   "cell_type": "markdown",
   "id": "a5dbd5f1",
   "metadata": {},
   "source": [
    "이 외에도 다양한 NLP 분야 도전 과제들이 많습니다.\n",
    "\n",
    "간단히 이들을 소개하는 것으로 이번 시간을 마치겠습니다.\n",
    "\n",
    "- Alexa Prize: https://developer.amazon.com/alexaprize\n",
    "- Implicit Emotion: http://implicitemotions.wassa2018.com/\n",
    "- Kaggle Competitions: https://www.kaggle.com/competitions"
   ]
  },
  {
   "cell_type": "markdown",
   "id": "fba94475",
   "metadata": {},
   "source": [
    " "
   ]
  },
  {
   "cell_type": "markdown",
   "id": "8c60bbe5",
   "metadata": {},
   "source": [
    " "
   ]
  },
  {
   "cell_type": "markdown",
   "id": "56e02ec2",
   "metadata": {},
   "source": [
    "---"
   ]
  },
  {
   "cell_type": "markdown",
   "id": "e121667a",
   "metadata": {},
   "source": [
    "<span style=\"color:rgb(120, 120, 120)\">본 학습 자료를 포함한 사이트 내 모든 자료의 저작권은 엘리스에 있으며 외부로의 무단 복제, 배포 및 전송을 불허합니다.\n",
    "\n",
    "Copyright @ elice all rights reserved</span>"
   ]
  }
 ],
 "metadata": {
  "kernelspec": {
   "display_name": "Python 3",
   "language": "python",
   "name": "python3"
  },
  "language_info": {
   "codemirror_mode": {
    "name": "ipython",
    "version": 3
   },
   "file_extension": ".py",
   "mimetype": "text/x-python",
   "name": "python",
   "nbconvert_exporter": "python",
   "pygments_lexer": "ipython3",
   "version": "3.8.8"
  }
 },
 "nbformat": 4,
 "nbformat_minor": 5
}
